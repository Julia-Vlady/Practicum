{
  "cells": [
    {
      "cell_type": "markdown",
      "metadata": {
        "id": "K5Ewry4RLS5J"
      },
      "source": [
        "## Прогноз оттока клиентов для Оператора связи «Ниединогоразрыва.ком»"
      ]
    },
    {
      "cell_type": "markdown",
      "metadata": {
        "id": "FzvJbBivVNKD"
      },
      "source": [
        "Оператор связи «Ниединогоразрыва.ком» хочет научиться прогнозировать отток клиентов. Если выяснится, что пользователь планирует уйти, ему будут предложены промокоды и специальные условия. Команда оператора собрала персональные данные о некоторых клиентах, информацию об их тарифах и договорах.\n",
        "\n",
        "### Описание услуг\n",
        "\n",
        "Оператор предоставляет два основных типа услуг: \n",
        "\n",
        "1. Стационарную телефонную связь. Возможно подключение телефонного аппарата к нескольким линиям одновременно.\n",
        "2. Интернет. Подключение может быть двух типов: через телефонную линию (DSL*,* от англ. *digital subscriber line*, «цифровая абонентская линия») или оптоволоконный кабель (*Fiber optic*).  \n",
        "\n",
        "Также доступны такие услуги:\n",
        "\n",
        "- Интернет-безопасность: антивирус (*DeviceProtection*) и блокировка небезопасных сайтов (*OnlineSecurity*);\n",
        "- Выделенная линия технической поддержки (*TechSupport*);\n",
        "- Облачное хранилище файлов для резервного копирования данных (*OnlineBackup*);\n",
        "- Стриминговое телевидение (*StreamingTV*) и каталог фильмов (*StreamingMovies*).\n",
        "\n",
        "За услуги клиенты могут платить каждый месяц или заключить договор на 1–2 года. Доступны различные способы расчёта и возможность получения электронного чека.\n",
        "\n",
        "### Описание данных\n",
        "\n",
        "Данные состоят из файлов, полученных из разных источников:\n",
        "\n",
        "- `contract.csv` — информация о договоре;\n",
        "- `personal.csv` — персональные данные клиента;\n",
        "- `internet.csv` — информация об интернет-услугах;\n",
        "- `phone.csv` — информация об услугах телефонии.\n",
        "\n",
        "Во всех файлах столбец `customerID` содержит код клиента.\n",
        "\n",
        "Информация о договорах актуальна на 1 февраля 2020.\n",
        "\n",
        "### Расшифровка колонок\n",
        "\n",
        "    customerID - уникальный номер клиента;\n",
        "\n",
        "contract.csv:\n",
        "    \n",
        "    BeginDate – дата начала пользования услугами,\n",
        "    EndDate – дата окончания пользования услугами,\n",
        "    Type – тип оплаты: ежемесячный, годовой и тд,\n",
        "    PaperlessBilling – электронный документ об оплате,\n",
        "    PaymentMethod – способ оплаты,\n",
        "    MonthlyCharges – ежемесячные траты на услуги,\n",
        "    TotalCharges – всего потрачено денег на услуги\n",
        "\n",
        "personal.csv:\n",
        "\n",
        "    gender - пол\n",
        "    Senior Citizen – наличие пенсионного статуса по возрасту \n",
        "    Partner – наличие супруга(и)\n",
        "    Dependents – наличие иждивенцев \n",
        "\n",
        "phone.csv:\n",
        "\n",
        "    MultipleLines – наличие возможности ведения параллельных линий во время звонка\n",
        "\n",
        "internet.csv (подключение услуг - yes/no):\n",
        "\n",
        "    InternetService - тип подключения интернета,\n",
        "    OnlineSecurity - блокировка небезопасных сайтов,\n",
        "    OnlineBackup - облако для хранения файлов,\n",
        "    DeviceProtection - антивирус,\n",
        "    TechSupport - выделенная линия тех.поддержки,\n",
        "    StreamingTV - стриминг-tv,\n",
        "    StreamingMovies - стриминг-кино. \n",
        "\n"
      ]
    },
    {
      "cell_type": "markdown",
      "metadata": {
        "id": "1TLiqPYTLePq"
      },
      "source": [
        "## План выполнения данного проекта:"
      ]
    },
    {
      "cell_type": "markdown",
      "metadata": {
        "id": "2pJKbygZYS7j"
      },
      "source": [
        "1. Подготовка к проекту (загрузка библиотек, загрузка данных и проверка файлов, что они открываются без проблем).\n",
        "\n",
        "2. Исследование данных (визуальное знакомство с данными и корректность типов данных, знакомство со статистической информацией, проверка на наличие явных дубликатов и пропусков в данных).\n",
        "\n",
        "3. Проработка данных и подготовка к МО (объединение таблиц, при необходимости смена типов данных, обработка пропусков, подготовка  признаков и добавление новых на основе имеющейся информации [при необходимости], изменение целевого признака на бинарные данные [ушел или не ушел: 1 или 0] и пр.).\n",
        "\n",
        "4. МО и подбор гиперпараметров (разбивка данных на обучающую и тестовую выборки 75%/25%, обучение моделей, подбор гиперпараметров для лучшего результата на основе оценки метрик roc-auc, выбор лучшей модели, проверка результатов на тестовой выборке).\n",
        "\n",
        "5. Подготовка отчета, выводов.\n",
        "\n",
        "\n",
        "\n"
      ]
    },
    {
      "cell_type": "markdown",
      "metadata": {
        "id": "st7044HBVYae"
      },
      "source": [
        "## Подготовка к проекту "
      ]
    },
    {
      "cell_type": "markdown",
      "metadata": {
        "id": "zEs2knDyeGC8"
      },
      "source": [
        "Загрузка библиотек и данных"
      ]
    },
    {
      "cell_type": "code",
      "execution_count": 1,
      "metadata": {
        "id": "DgOKUsAt5N6H"
      },
      "outputs": [],
      "source": [
        "import pandas as pd\n",
        "import numpy as np\n",
        "import matplotlib.pyplot as plt\n",
        "import seaborn as sns\n",
        "import itertools\n",
        "import warnings\n",
        "warnings.filterwarnings(\"ignore\")\n",
        "\n",
        "from sklearn.model_selection import train_test_split\n",
        "from sklearn.pipeline import Pipeline\n",
        "from sklearn.model_selection import GridSearchCV\n",
        "from sklearn.model_selection import cross_val_score\n",
        "from sklearn.preprocessing import StandardScaler\n",
        "import lightgbm as lgb\n",
        "from lightgbm import LGBMClassifier\n",
        "from sklearn.ensemble import RandomForestClassifier\n",
        "from sklearn.metrics import roc_auc_score\n",
        "from sklearn.metrics import roc_curve\n",
        "from sklearn.metrics import accuracy_score\n",
        "from sklearn.metrics import make_scorer\n",
        "\n",
        "pd.set_option('display.max_columns', None)"
      ]
    },
    {
      "cell_type": "code",
      "execution_count": 2,
      "metadata": {
        "id": "W1TjIKI_1OD6"
      },
      "outputs": [],
      "source": [
        "try:\n",
        "    con = pd.read_csv('/datasets/final_provider/contract.csv')\n",
        "    ine = pd.read_csv('/datasets/final_provider/internet.csv')\n",
        "    per = pd.read_csv('/datasets/final_provider/personal.csv')\n",
        "    pho = pd.read_csv('/datasets/final_provider/phone.csv')\n",
        "    \n",
        "except:\n",
        "    con = pd.read_csv('/content/contract.csv')\n",
        "    ine = pd.read_csv('/content/internet.csv')\n",
        "    per = pd.read_csv('/content/personal.csv')  \n",
        "    pho = pd.read_csv('/content/phone.csv')"
      ]
    },
    {
      "cell_type": "code",
      "execution_count": 3,
      "metadata": {
        "colab": {
          "base_uri": "https://localhost:8080/",
          "height": 204
        },
        "id": "Z7dlZWC62NOy",
        "outputId": "f7e5a46f-049d-4ff6-bf2f-ac26e2627104"
      },
      "outputs": [
        {
          "output_type": "execute_result",
          "data": {
            "text/plain": [
              "   customerID   BeginDate              EndDate            Type  \\\n",
              "0  7590-VHVEG  2020-01-01                   No  Month-to-month   \n",
              "1  5575-GNVDE  2017-04-01                   No        One year   \n",
              "2  3668-QPYBK  2019-10-01  2019-12-01 00:00:00  Month-to-month   \n",
              "3  7795-CFOCW  2016-05-01                   No        One year   \n",
              "4  9237-HQITU  2019-09-01  2019-11-01 00:00:00  Month-to-month   \n",
              "\n",
              "  PaperlessBilling              PaymentMethod  MonthlyCharges TotalCharges  \n",
              "0              Yes           Electronic check           29.85        29.85  \n",
              "1               No               Mailed check           56.95       1889.5  \n",
              "2              Yes               Mailed check           53.85       108.15  \n",
              "3               No  Bank transfer (automatic)           42.30      1840.75  \n",
              "4              Yes           Electronic check           70.70       151.65  "
            ],
            "text/html": [
              "\n",
              "  <div id=\"df-5532d53c-676e-44a0-8c6b-73414fbbe437\">\n",
              "    <div class=\"colab-df-container\">\n",
              "      <div>\n",
              "<style scoped>\n",
              "    .dataframe tbody tr th:only-of-type {\n",
              "        vertical-align: middle;\n",
              "    }\n",
              "\n",
              "    .dataframe tbody tr th {\n",
              "        vertical-align: top;\n",
              "    }\n",
              "\n",
              "    .dataframe thead th {\n",
              "        text-align: right;\n",
              "    }\n",
              "</style>\n",
              "<table border=\"1\" class=\"dataframe\">\n",
              "  <thead>\n",
              "    <tr style=\"text-align: right;\">\n",
              "      <th></th>\n",
              "      <th>customerID</th>\n",
              "      <th>BeginDate</th>\n",
              "      <th>EndDate</th>\n",
              "      <th>Type</th>\n",
              "      <th>PaperlessBilling</th>\n",
              "      <th>PaymentMethod</th>\n",
              "      <th>MonthlyCharges</th>\n",
              "      <th>TotalCharges</th>\n",
              "    </tr>\n",
              "  </thead>\n",
              "  <tbody>\n",
              "    <tr>\n",
              "      <th>0</th>\n",
              "      <td>7590-VHVEG</td>\n",
              "      <td>2020-01-01</td>\n",
              "      <td>No</td>\n",
              "      <td>Month-to-month</td>\n",
              "      <td>Yes</td>\n",
              "      <td>Electronic check</td>\n",
              "      <td>29.85</td>\n",
              "      <td>29.85</td>\n",
              "    </tr>\n",
              "    <tr>\n",
              "      <th>1</th>\n",
              "      <td>5575-GNVDE</td>\n",
              "      <td>2017-04-01</td>\n",
              "      <td>No</td>\n",
              "      <td>One year</td>\n",
              "      <td>No</td>\n",
              "      <td>Mailed check</td>\n",
              "      <td>56.95</td>\n",
              "      <td>1889.5</td>\n",
              "    </tr>\n",
              "    <tr>\n",
              "      <th>2</th>\n",
              "      <td>3668-QPYBK</td>\n",
              "      <td>2019-10-01</td>\n",
              "      <td>2019-12-01 00:00:00</td>\n",
              "      <td>Month-to-month</td>\n",
              "      <td>Yes</td>\n",
              "      <td>Mailed check</td>\n",
              "      <td>53.85</td>\n",
              "      <td>108.15</td>\n",
              "    </tr>\n",
              "    <tr>\n",
              "      <th>3</th>\n",
              "      <td>7795-CFOCW</td>\n",
              "      <td>2016-05-01</td>\n",
              "      <td>No</td>\n",
              "      <td>One year</td>\n",
              "      <td>No</td>\n",
              "      <td>Bank transfer (automatic)</td>\n",
              "      <td>42.30</td>\n",
              "      <td>1840.75</td>\n",
              "    </tr>\n",
              "    <tr>\n",
              "      <th>4</th>\n",
              "      <td>9237-HQITU</td>\n",
              "      <td>2019-09-01</td>\n",
              "      <td>2019-11-01 00:00:00</td>\n",
              "      <td>Month-to-month</td>\n",
              "      <td>Yes</td>\n",
              "      <td>Electronic check</td>\n",
              "      <td>70.70</td>\n",
              "      <td>151.65</td>\n",
              "    </tr>\n",
              "  </tbody>\n",
              "</table>\n",
              "</div>\n",
              "      <button class=\"colab-df-convert\" onclick=\"convertToInteractive('df-5532d53c-676e-44a0-8c6b-73414fbbe437')\"\n",
              "              title=\"Convert this dataframe to an interactive table.\"\n",
              "              style=\"display:none;\">\n",
              "        \n",
              "  <svg xmlns=\"http://www.w3.org/2000/svg\" height=\"24px\"viewBox=\"0 0 24 24\"\n",
              "       width=\"24px\">\n",
              "    <path d=\"M0 0h24v24H0V0z\" fill=\"none\"/>\n",
              "    <path d=\"M18.56 5.44l.94 2.06.94-2.06 2.06-.94-2.06-.94-.94-2.06-.94 2.06-2.06.94zm-11 1L8.5 8.5l.94-2.06 2.06-.94-2.06-.94L8.5 2.5l-.94 2.06-2.06.94zm10 10l.94 2.06.94-2.06 2.06-.94-2.06-.94-.94-2.06-.94 2.06-2.06.94z\"/><path d=\"M17.41 7.96l-1.37-1.37c-.4-.4-.92-.59-1.43-.59-.52 0-1.04.2-1.43.59L10.3 9.45l-7.72 7.72c-.78.78-.78 2.05 0 2.83L4 21.41c.39.39.9.59 1.41.59.51 0 1.02-.2 1.41-.59l7.78-7.78 2.81-2.81c.8-.78.8-2.07 0-2.86zM5.41 20L4 18.59l7.72-7.72 1.47 1.35L5.41 20z\"/>\n",
              "  </svg>\n",
              "      </button>\n",
              "      \n",
              "  <style>\n",
              "    .colab-df-container {\n",
              "      display:flex;\n",
              "      flex-wrap:wrap;\n",
              "      gap: 12px;\n",
              "    }\n",
              "\n",
              "    .colab-df-convert {\n",
              "      background-color: #E8F0FE;\n",
              "      border: none;\n",
              "      border-radius: 50%;\n",
              "      cursor: pointer;\n",
              "      display: none;\n",
              "      fill: #1967D2;\n",
              "      height: 32px;\n",
              "      padding: 0 0 0 0;\n",
              "      width: 32px;\n",
              "    }\n",
              "\n",
              "    .colab-df-convert:hover {\n",
              "      background-color: #E2EBFA;\n",
              "      box-shadow: 0px 1px 2px rgba(60, 64, 67, 0.3), 0px 1px 3px 1px rgba(60, 64, 67, 0.15);\n",
              "      fill: #174EA6;\n",
              "    }\n",
              "\n",
              "    [theme=dark] .colab-df-convert {\n",
              "      background-color: #3B4455;\n",
              "      fill: #D2E3FC;\n",
              "    }\n",
              "\n",
              "    [theme=dark] .colab-df-convert:hover {\n",
              "      background-color: #434B5C;\n",
              "      box-shadow: 0px 1px 3px 1px rgba(0, 0, 0, 0.15);\n",
              "      filter: drop-shadow(0px 1px 2px rgba(0, 0, 0, 0.3));\n",
              "      fill: #FFFFFF;\n",
              "    }\n",
              "  </style>\n",
              "\n",
              "      <script>\n",
              "        const buttonEl =\n",
              "          document.querySelector('#df-5532d53c-676e-44a0-8c6b-73414fbbe437 button.colab-df-convert');\n",
              "        buttonEl.style.display =\n",
              "          google.colab.kernel.accessAllowed ? 'block' : 'none';\n",
              "\n",
              "        async function convertToInteractive(key) {\n",
              "          const element = document.querySelector('#df-5532d53c-676e-44a0-8c6b-73414fbbe437');\n",
              "          const dataTable =\n",
              "            await google.colab.kernel.invokeFunction('convertToInteractive',\n",
              "                                                     [key], {});\n",
              "          if (!dataTable) return;\n",
              "\n",
              "          const docLinkHtml = 'Like what you see? Visit the ' +\n",
              "            '<a target=\"_blank\" href=https://colab.research.google.com/notebooks/data_table.ipynb>data table notebook</a>'\n",
              "            + ' to learn more about interactive tables.';\n",
              "          element.innerHTML = '';\n",
              "          dataTable['output_type'] = 'display_data';\n",
              "          await google.colab.output.renderOutput(dataTable, element);\n",
              "          const docLink = document.createElement('div');\n",
              "          docLink.innerHTML = docLinkHtml;\n",
              "          element.appendChild(docLink);\n",
              "        }\n",
              "      </script>\n",
              "    </div>\n",
              "  </div>\n",
              "  "
            ]
          },
          "metadata": {},
          "execution_count": 3
        }
      ],
      "source": [
        "con.head()"
      ]
    },
    {
      "cell_type": "code",
      "execution_count": 4,
      "metadata": {
        "colab": {
          "base_uri": "https://localhost:8080/",
          "height": 204
        },
        "id": "fTQPaU6O2dTX",
        "outputId": "c32eca1a-8353-43f4-b707-8451e785ea5d"
      },
      "outputs": [
        {
          "output_type": "execute_result",
          "data": {
            "text/plain": [
              "   customerID InternetService OnlineSecurity OnlineBackup DeviceProtection  \\\n",
              "0  7590-VHVEG             DSL             No          Yes               No   \n",
              "1  5575-GNVDE             DSL            Yes           No              Yes   \n",
              "2  3668-QPYBK             DSL            Yes          Yes               No   \n",
              "3  7795-CFOCW             DSL            Yes           No              Yes   \n",
              "4  9237-HQITU     Fiber optic             No           No               No   \n",
              "\n",
              "  TechSupport StreamingTV StreamingMovies  \n",
              "0          No          No              No  \n",
              "1          No          No              No  \n",
              "2          No          No              No  \n",
              "3         Yes          No              No  \n",
              "4          No          No              No  "
            ],
            "text/html": [
              "\n",
              "  <div id=\"df-4cab6355-a9ee-49aa-abb2-93f193193cab\">\n",
              "    <div class=\"colab-df-container\">\n",
              "      <div>\n",
              "<style scoped>\n",
              "    .dataframe tbody tr th:only-of-type {\n",
              "        vertical-align: middle;\n",
              "    }\n",
              "\n",
              "    .dataframe tbody tr th {\n",
              "        vertical-align: top;\n",
              "    }\n",
              "\n",
              "    .dataframe thead th {\n",
              "        text-align: right;\n",
              "    }\n",
              "</style>\n",
              "<table border=\"1\" class=\"dataframe\">\n",
              "  <thead>\n",
              "    <tr style=\"text-align: right;\">\n",
              "      <th></th>\n",
              "      <th>customerID</th>\n",
              "      <th>InternetService</th>\n",
              "      <th>OnlineSecurity</th>\n",
              "      <th>OnlineBackup</th>\n",
              "      <th>DeviceProtection</th>\n",
              "      <th>TechSupport</th>\n",
              "      <th>StreamingTV</th>\n",
              "      <th>StreamingMovies</th>\n",
              "    </tr>\n",
              "  </thead>\n",
              "  <tbody>\n",
              "    <tr>\n",
              "      <th>0</th>\n",
              "      <td>7590-VHVEG</td>\n",
              "      <td>DSL</td>\n",
              "      <td>No</td>\n",
              "      <td>Yes</td>\n",
              "      <td>No</td>\n",
              "      <td>No</td>\n",
              "      <td>No</td>\n",
              "      <td>No</td>\n",
              "    </tr>\n",
              "    <tr>\n",
              "      <th>1</th>\n",
              "      <td>5575-GNVDE</td>\n",
              "      <td>DSL</td>\n",
              "      <td>Yes</td>\n",
              "      <td>No</td>\n",
              "      <td>Yes</td>\n",
              "      <td>No</td>\n",
              "      <td>No</td>\n",
              "      <td>No</td>\n",
              "    </tr>\n",
              "    <tr>\n",
              "      <th>2</th>\n",
              "      <td>3668-QPYBK</td>\n",
              "      <td>DSL</td>\n",
              "      <td>Yes</td>\n",
              "      <td>Yes</td>\n",
              "      <td>No</td>\n",
              "      <td>No</td>\n",
              "      <td>No</td>\n",
              "      <td>No</td>\n",
              "    </tr>\n",
              "    <tr>\n",
              "      <th>3</th>\n",
              "      <td>7795-CFOCW</td>\n",
              "      <td>DSL</td>\n",
              "      <td>Yes</td>\n",
              "      <td>No</td>\n",
              "      <td>Yes</td>\n",
              "      <td>Yes</td>\n",
              "      <td>No</td>\n",
              "      <td>No</td>\n",
              "    </tr>\n",
              "    <tr>\n",
              "      <th>4</th>\n",
              "      <td>9237-HQITU</td>\n",
              "      <td>Fiber optic</td>\n",
              "      <td>No</td>\n",
              "      <td>No</td>\n",
              "      <td>No</td>\n",
              "      <td>No</td>\n",
              "      <td>No</td>\n",
              "      <td>No</td>\n",
              "    </tr>\n",
              "  </tbody>\n",
              "</table>\n",
              "</div>\n",
              "      <button class=\"colab-df-convert\" onclick=\"convertToInteractive('df-4cab6355-a9ee-49aa-abb2-93f193193cab')\"\n",
              "              title=\"Convert this dataframe to an interactive table.\"\n",
              "              style=\"display:none;\">\n",
              "        \n",
              "  <svg xmlns=\"http://www.w3.org/2000/svg\" height=\"24px\"viewBox=\"0 0 24 24\"\n",
              "       width=\"24px\">\n",
              "    <path d=\"M0 0h24v24H0V0z\" fill=\"none\"/>\n",
              "    <path d=\"M18.56 5.44l.94 2.06.94-2.06 2.06-.94-2.06-.94-.94-2.06-.94 2.06-2.06.94zm-11 1L8.5 8.5l.94-2.06 2.06-.94-2.06-.94L8.5 2.5l-.94 2.06-2.06.94zm10 10l.94 2.06.94-2.06 2.06-.94-2.06-.94-.94-2.06-.94 2.06-2.06.94z\"/><path d=\"M17.41 7.96l-1.37-1.37c-.4-.4-.92-.59-1.43-.59-.52 0-1.04.2-1.43.59L10.3 9.45l-7.72 7.72c-.78.78-.78 2.05 0 2.83L4 21.41c.39.39.9.59 1.41.59.51 0 1.02-.2 1.41-.59l7.78-7.78 2.81-2.81c.8-.78.8-2.07 0-2.86zM5.41 20L4 18.59l7.72-7.72 1.47 1.35L5.41 20z\"/>\n",
              "  </svg>\n",
              "      </button>\n",
              "      \n",
              "  <style>\n",
              "    .colab-df-container {\n",
              "      display:flex;\n",
              "      flex-wrap:wrap;\n",
              "      gap: 12px;\n",
              "    }\n",
              "\n",
              "    .colab-df-convert {\n",
              "      background-color: #E8F0FE;\n",
              "      border: none;\n",
              "      border-radius: 50%;\n",
              "      cursor: pointer;\n",
              "      display: none;\n",
              "      fill: #1967D2;\n",
              "      height: 32px;\n",
              "      padding: 0 0 0 0;\n",
              "      width: 32px;\n",
              "    }\n",
              "\n",
              "    .colab-df-convert:hover {\n",
              "      background-color: #E2EBFA;\n",
              "      box-shadow: 0px 1px 2px rgba(60, 64, 67, 0.3), 0px 1px 3px 1px rgba(60, 64, 67, 0.15);\n",
              "      fill: #174EA6;\n",
              "    }\n",
              "\n",
              "    [theme=dark] .colab-df-convert {\n",
              "      background-color: #3B4455;\n",
              "      fill: #D2E3FC;\n",
              "    }\n",
              "\n",
              "    [theme=dark] .colab-df-convert:hover {\n",
              "      background-color: #434B5C;\n",
              "      box-shadow: 0px 1px 3px 1px rgba(0, 0, 0, 0.15);\n",
              "      filter: drop-shadow(0px 1px 2px rgba(0, 0, 0, 0.3));\n",
              "      fill: #FFFFFF;\n",
              "    }\n",
              "  </style>\n",
              "\n",
              "      <script>\n",
              "        const buttonEl =\n",
              "          document.querySelector('#df-4cab6355-a9ee-49aa-abb2-93f193193cab button.colab-df-convert');\n",
              "        buttonEl.style.display =\n",
              "          google.colab.kernel.accessAllowed ? 'block' : 'none';\n",
              "\n",
              "        async function convertToInteractive(key) {\n",
              "          const element = document.querySelector('#df-4cab6355-a9ee-49aa-abb2-93f193193cab');\n",
              "          const dataTable =\n",
              "            await google.colab.kernel.invokeFunction('convertToInteractive',\n",
              "                                                     [key], {});\n",
              "          if (!dataTable) return;\n",
              "\n",
              "          const docLinkHtml = 'Like what you see? Visit the ' +\n",
              "            '<a target=\"_blank\" href=https://colab.research.google.com/notebooks/data_table.ipynb>data table notebook</a>'\n",
              "            + ' to learn more about interactive tables.';\n",
              "          element.innerHTML = '';\n",
              "          dataTable['output_type'] = 'display_data';\n",
              "          await google.colab.output.renderOutput(dataTable, element);\n",
              "          const docLink = document.createElement('div');\n",
              "          docLink.innerHTML = docLinkHtml;\n",
              "          element.appendChild(docLink);\n",
              "        }\n",
              "      </script>\n",
              "    </div>\n",
              "  </div>\n",
              "  "
            ]
          },
          "metadata": {},
          "execution_count": 4
        }
      ],
      "source": [
        "ine.head()"
      ]
    },
    {
      "cell_type": "code",
      "execution_count": 5,
      "metadata": {
        "colab": {
          "base_uri": "https://localhost:8080/",
          "height": 204
        },
        "id": "urIWbopy2frt",
        "outputId": "2510985b-2f0d-48fb-f23b-308ba98a7bf8"
      },
      "outputs": [
        {
          "output_type": "execute_result",
          "data": {
            "text/plain": [
              "   customerID  gender  SeniorCitizen Partner Dependents\n",
              "0  7590-VHVEG  Female              0     Yes         No\n",
              "1  5575-GNVDE    Male              0      No         No\n",
              "2  3668-QPYBK    Male              0      No         No\n",
              "3  7795-CFOCW    Male              0      No         No\n",
              "4  9237-HQITU  Female              0      No         No"
            ],
            "text/html": [
              "\n",
              "  <div id=\"df-5dcf27cb-857d-4522-9554-ab2f6419f905\">\n",
              "    <div class=\"colab-df-container\">\n",
              "      <div>\n",
              "<style scoped>\n",
              "    .dataframe tbody tr th:only-of-type {\n",
              "        vertical-align: middle;\n",
              "    }\n",
              "\n",
              "    .dataframe tbody tr th {\n",
              "        vertical-align: top;\n",
              "    }\n",
              "\n",
              "    .dataframe thead th {\n",
              "        text-align: right;\n",
              "    }\n",
              "</style>\n",
              "<table border=\"1\" class=\"dataframe\">\n",
              "  <thead>\n",
              "    <tr style=\"text-align: right;\">\n",
              "      <th></th>\n",
              "      <th>customerID</th>\n",
              "      <th>gender</th>\n",
              "      <th>SeniorCitizen</th>\n",
              "      <th>Partner</th>\n",
              "      <th>Dependents</th>\n",
              "    </tr>\n",
              "  </thead>\n",
              "  <tbody>\n",
              "    <tr>\n",
              "      <th>0</th>\n",
              "      <td>7590-VHVEG</td>\n",
              "      <td>Female</td>\n",
              "      <td>0</td>\n",
              "      <td>Yes</td>\n",
              "      <td>No</td>\n",
              "    </tr>\n",
              "    <tr>\n",
              "      <th>1</th>\n",
              "      <td>5575-GNVDE</td>\n",
              "      <td>Male</td>\n",
              "      <td>0</td>\n",
              "      <td>No</td>\n",
              "      <td>No</td>\n",
              "    </tr>\n",
              "    <tr>\n",
              "      <th>2</th>\n",
              "      <td>3668-QPYBK</td>\n",
              "      <td>Male</td>\n",
              "      <td>0</td>\n",
              "      <td>No</td>\n",
              "      <td>No</td>\n",
              "    </tr>\n",
              "    <tr>\n",
              "      <th>3</th>\n",
              "      <td>7795-CFOCW</td>\n",
              "      <td>Male</td>\n",
              "      <td>0</td>\n",
              "      <td>No</td>\n",
              "      <td>No</td>\n",
              "    </tr>\n",
              "    <tr>\n",
              "      <th>4</th>\n",
              "      <td>9237-HQITU</td>\n",
              "      <td>Female</td>\n",
              "      <td>0</td>\n",
              "      <td>No</td>\n",
              "      <td>No</td>\n",
              "    </tr>\n",
              "  </tbody>\n",
              "</table>\n",
              "</div>\n",
              "      <button class=\"colab-df-convert\" onclick=\"convertToInteractive('df-5dcf27cb-857d-4522-9554-ab2f6419f905')\"\n",
              "              title=\"Convert this dataframe to an interactive table.\"\n",
              "              style=\"display:none;\">\n",
              "        \n",
              "  <svg xmlns=\"http://www.w3.org/2000/svg\" height=\"24px\"viewBox=\"0 0 24 24\"\n",
              "       width=\"24px\">\n",
              "    <path d=\"M0 0h24v24H0V0z\" fill=\"none\"/>\n",
              "    <path d=\"M18.56 5.44l.94 2.06.94-2.06 2.06-.94-2.06-.94-.94-2.06-.94 2.06-2.06.94zm-11 1L8.5 8.5l.94-2.06 2.06-.94-2.06-.94L8.5 2.5l-.94 2.06-2.06.94zm10 10l.94 2.06.94-2.06 2.06-.94-2.06-.94-.94-2.06-.94 2.06-2.06.94z\"/><path d=\"M17.41 7.96l-1.37-1.37c-.4-.4-.92-.59-1.43-.59-.52 0-1.04.2-1.43.59L10.3 9.45l-7.72 7.72c-.78.78-.78 2.05 0 2.83L4 21.41c.39.39.9.59 1.41.59.51 0 1.02-.2 1.41-.59l7.78-7.78 2.81-2.81c.8-.78.8-2.07 0-2.86zM5.41 20L4 18.59l7.72-7.72 1.47 1.35L5.41 20z\"/>\n",
              "  </svg>\n",
              "      </button>\n",
              "      \n",
              "  <style>\n",
              "    .colab-df-container {\n",
              "      display:flex;\n",
              "      flex-wrap:wrap;\n",
              "      gap: 12px;\n",
              "    }\n",
              "\n",
              "    .colab-df-convert {\n",
              "      background-color: #E8F0FE;\n",
              "      border: none;\n",
              "      border-radius: 50%;\n",
              "      cursor: pointer;\n",
              "      display: none;\n",
              "      fill: #1967D2;\n",
              "      height: 32px;\n",
              "      padding: 0 0 0 0;\n",
              "      width: 32px;\n",
              "    }\n",
              "\n",
              "    .colab-df-convert:hover {\n",
              "      background-color: #E2EBFA;\n",
              "      box-shadow: 0px 1px 2px rgba(60, 64, 67, 0.3), 0px 1px 3px 1px rgba(60, 64, 67, 0.15);\n",
              "      fill: #174EA6;\n",
              "    }\n",
              "\n",
              "    [theme=dark] .colab-df-convert {\n",
              "      background-color: #3B4455;\n",
              "      fill: #D2E3FC;\n",
              "    }\n",
              "\n",
              "    [theme=dark] .colab-df-convert:hover {\n",
              "      background-color: #434B5C;\n",
              "      box-shadow: 0px 1px 3px 1px rgba(0, 0, 0, 0.15);\n",
              "      filter: drop-shadow(0px 1px 2px rgba(0, 0, 0, 0.3));\n",
              "      fill: #FFFFFF;\n",
              "    }\n",
              "  </style>\n",
              "\n",
              "      <script>\n",
              "        const buttonEl =\n",
              "          document.querySelector('#df-5dcf27cb-857d-4522-9554-ab2f6419f905 button.colab-df-convert');\n",
              "        buttonEl.style.display =\n",
              "          google.colab.kernel.accessAllowed ? 'block' : 'none';\n",
              "\n",
              "        async function convertToInteractive(key) {\n",
              "          const element = document.querySelector('#df-5dcf27cb-857d-4522-9554-ab2f6419f905');\n",
              "          const dataTable =\n",
              "            await google.colab.kernel.invokeFunction('convertToInteractive',\n",
              "                                                     [key], {});\n",
              "          if (!dataTable) return;\n",
              "\n",
              "          const docLinkHtml = 'Like what you see? Visit the ' +\n",
              "            '<a target=\"_blank\" href=https://colab.research.google.com/notebooks/data_table.ipynb>data table notebook</a>'\n",
              "            + ' to learn more about interactive tables.';\n",
              "          element.innerHTML = '';\n",
              "          dataTable['output_type'] = 'display_data';\n",
              "          await google.colab.output.renderOutput(dataTable, element);\n",
              "          const docLink = document.createElement('div');\n",
              "          docLink.innerHTML = docLinkHtml;\n",
              "          element.appendChild(docLink);\n",
              "        }\n",
              "      </script>\n",
              "    </div>\n",
              "  </div>\n",
              "  "
            ]
          },
          "metadata": {},
          "execution_count": 5
        }
      ],
      "source": [
        "per.head()"
      ]
    },
    {
      "cell_type": "code",
      "execution_count": 6,
      "metadata": {
        "colab": {
          "base_uri": "https://localhost:8080/",
          "height": 204
        },
        "id": "IjivH18D2imJ",
        "outputId": "02c70304-3c92-4b6e-f27d-881ab70b5f2d"
      },
      "outputs": [
        {
          "output_type": "execute_result",
          "data": {
            "text/plain": [
              "   customerID MultipleLines\n",
              "0  5575-GNVDE            No\n",
              "1  3668-QPYBK            No\n",
              "2  9237-HQITU            No\n",
              "3  9305-CDSKC           Yes\n",
              "4  1452-KIOVK           Yes"
            ],
            "text/html": [
              "\n",
              "  <div id=\"df-88245af3-84dd-42bf-97f1-2c02d3a71949\">\n",
              "    <div class=\"colab-df-container\">\n",
              "      <div>\n",
              "<style scoped>\n",
              "    .dataframe tbody tr th:only-of-type {\n",
              "        vertical-align: middle;\n",
              "    }\n",
              "\n",
              "    .dataframe tbody tr th {\n",
              "        vertical-align: top;\n",
              "    }\n",
              "\n",
              "    .dataframe thead th {\n",
              "        text-align: right;\n",
              "    }\n",
              "</style>\n",
              "<table border=\"1\" class=\"dataframe\">\n",
              "  <thead>\n",
              "    <tr style=\"text-align: right;\">\n",
              "      <th></th>\n",
              "      <th>customerID</th>\n",
              "      <th>MultipleLines</th>\n",
              "    </tr>\n",
              "  </thead>\n",
              "  <tbody>\n",
              "    <tr>\n",
              "      <th>0</th>\n",
              "      <td>5575-GNVDE</td>\n",
              "      <td>No</td>\n",
              "    </tr>\n",
              "    <tr>\n",
              "      <th>1</th>\n",
              "      <td>3668-QPYBK</td>\n",
              "      <td>No</td>\n",
              "    </tr>\n",
              "    <tr>\n",
              "      <th>2</th>\n",
              "      <td>9237-HQITU</td>\n",
              "      <td>No</td>\n",
              "    </tr>\n",
              "    <tr>\n",
              "      <th>3</th>\n",
              "      <td>9305-CDSKC</td>\n",
              "      <td>Yes</td>\n",
              "    </tr>\n",
              "    <tr>\n",
              "      <th>4</th>\n",
              "      <td>1452-KIOVK</td>\n",
              "      <td>Yes</td>\n",
              "    </tr>\n",
              "  </tbody>\n",
              "</table>\n",
              "</div>\n",
              "      <button class=\"colab-df-convert\" onclick=\"convertToInteractive('df-88245af3-84dd-42bf-97f1-2c02d3a71949')\"\n",
              "              title=\"Convert this dataframe to an interactive table.\"\n",
              "              style=\"display:none;\">\n",
              "        \n",
              "  <svg xmlns=\"http://www.w3.org/2000/svg\" height=\"24px\"viewBox=\"0 0 24 24\"\n",
              "       width=\"24px\">\n",
              "    <path d=\"M0 0h24v24H0V0z\" fill=\"none\"/>\n",
              "    <path d=\"M18.56 5.44l.94 2.06.94-2.06 2.06-.94-2.06-.94-.94-2.06-.94 2.06-2.06.94zm-11 1L8.5 8.5l.94-2.06 2.06-.94-2.06-.94L8.5 2.5l-.94 2.06-2.06.94zm10 10l.94 2.06.94-2.06 2.06-.94-2.06-.94-.94-2.06-.94 2.06-2.06.94z\"/><path d=\"M17.41 7.96l-1.37-1.37c-.4-.4-.92-.59-1.43-.59-.52 0-1.04.2-1.43.59L10.3 9.45l-7.72 7.72c-.78.78-.78 2.05 0 2.83L4 21.41c.39.39.9.59 1.41.59.51 0 1.02-.2 1.41-.59l7.78-7.78 2.81-2.81c.8-.78.8-2.07 0-2.86zM5.41 20L4 18.59l7.72-7.72 1.47 1.35L5.41 20z\"/>\n",
              "  </svg>\n",
              "      </button>\n",
              "      \n",
              "  <style>\n",
              "    .colab-df-container {\n",
              "      display:flex;\n",
              "      flex-wrap:wrap;\n",
              "      gap: 12px;\n",
              "    }\n",
              "\n",
              "    .colab-df-convert {\n",
              "      background-color: #E8F0FE;\n",
              "      border: none;\n",
              "      border-radius: 50%;\n",
              "      cursor: pointer;\n",
              "      display: none;\n",
              "      fill: #1967D2;\n",
              "      height: 32px;\n",
              "      padding: 0 0 0 0;\n",
              "      width: 32px;\n",
              "    }\n",
              "\n",
              "    .colab-df-convert:hover {\n",
              "      background-color: #E2EBFA;\n",
              "      box-shadow: 0px 1px 2px rgba(60, 64, 67, 0.3), 0px 1px 3px 1px rgba(60, 64, 67, 0.15);\n",
              "      fill: #174EA6;\n",
              "    }\n",
              "\n",
              "    [theme=dark] .colab-df-convert {\n",
              "      background-color: #3B4455;\n",
              "      fill: #D2E3FC;\n",
              "    }\n",
              "\n",
              "    [theme=dark] .colab-df-convert:hover {\n",
              "      background-color: #434B5C;\n",
              "      box-shadow: 0px 1px 3px 1px rgba(0, 0, 0, 0.15);\n",
              "      filter: drop-shadow(0px 1px 2px rgba(0, 0, 0, 0.3));\n",
              "      fill: #FFFFFF;\n",
              "    }\n",
              "  </style>\n",
              "\n",
              "      <script>\n",
              "        const buttonEl =\n",
              "          document.querySelector('#df-88245af3-84dd-42bf-97f1-2c02d3a71949 button.colab-df-convert');\n",
              "        buttonEl.style.display =\n",
              "          google.colab.kernel.accessAllowed ? 'block' : 'none';\n",
              "\n",
              "        async function convertToInteractive(key) {\n",
              "          const element = document.querySelector('#df-88245af3-84dd-42bf-97f1-2c02d3a71949');\n",
              "          const dataTable =\n",
              "            await google.colab.kernel.invokeFunction('convertToInteractive',\n",
              "                                                     [key], {});\n",
              "          if (!dataTable) return;\n",
              "\n",
              "          const docLinkHtml = 'Like what you see? Visit the ' +\n",
              "            '<a target=\"_blank\" href=https://colab.research.google.com/notebooks/data_table.ipynb>data table notebook</a>'\n",
              "            + ' to learn more about interactive tables.';\n",
              "          element.innerHTML = '';\n",
              "          dataTable['output_type'] = 'display_data';\n",
              "          await google.colab.output.renderOutput(dataTable, element);\n",
              "          const docLink = document.createElement('div');\n",
              "          docLink.innerHTML = docLinkHtml;\n",
              "          element.appendChild(docLink);\n",
              "        }\n",
              "      </script>\n",
              "    </div>\n",
              "  </div>\n",
              "  "
            ]
          },
          "metadata": {},
          "execution_count": 6
        }
      ],
      "source": [
        "pho.head()"
      ]
    },
    {
      "cell_type": "markdown",
      "metadata": {
        "id": "5U1GKrw8qUei"
      },
      "source": [
        "ВЫВОД: данные загружены и открываются."
      ]
    },
    {
      "cell_type": "markdown",
      "metadata": {
        "id": "_ZmvheUIeUpp"
      },
      "source": [
        "## Исследование данных"
      ]
    },
    {
      "cell_type": "markdown",
      "metadata": {
        "id": "MTAj2wx2e6nj"
      },
      "source": [
        "Краткая статистическая сводка данных"
      ]
    },
    {
      "cell_type": "code",
      "execution_count": 7,
      "metadata": {
        "colab": {
          "base_uri": "https://localhost:8080/"
        },
        "id": "trAm2S132ymV",
        "outputId": "d9322b01-66c0-4805-db28-1048ab42d815"
      },
      "outputs": [
        {
          "output_type": "stream",
          "name": "stdout",
          "text": [
            "<class 'pandas.core.frame.DataFrame'>\n",
            "RangeIndex: 7043 entries, 0 to 7042\n",
            "Data columns (total 8 columns):\n",
            " #   Column            Non-Null Count  Dtype  \n",
            "---  ------            --------------  -----  \n",
            " 0   customerID        7043 non-null   object \n",
            " 1   BeginDate         7043 non-null   object \n",
            " 2   EndDate           7043 non-null   object \n",
            " 3   Type              7043 non-null   object \n",
            " 4   PaperlessBilling  7043 non-null   object \n",
            " 5   PaymentMethod     7043 non-null   object \n",
            " 6   MonthlyCharges    7043 non-null   float64\n",
            " 7   TotalCharges      7043 non-null   object \n",
            "dtypes: float64(1), object(7)\n",
            "memory usage: 440.3+ KB\n"
          ]
        }
      ],
      "source": [
        "con.info()"
      ]
    },
    {
      "cell_type": "code",
      "execution_count": 8,
      "metadata": {
        "colab": {
          "base_uri": "https://localhost:8080/"
        },
        "id": "K3Of19KH3XsJ",
        "outputId": "904b39db-0e6e-43ea-f344-ccf1b39befd0"
      },
      "outputs": [
        {
          "output_type": "stream",
          "name": "stdout",
          "text": [
            "<class 'pandas.core.frame.DataFrame'>\n",
            "RangeIndex: 5517 entries, 0 to 5516\n",
            "Data columns (total 8 columns):\n",
            " #   Column            Non-Null Count  Dtype \n",
            "---  ------            --------------  ----- \n",
            " 0   customerID        5517 non-null   object\n",
            " 1   InternetService   5517 non-null   object\n",
            " 2   OnlineSecurity    5517 non-null   object\n",
            " 3   OnlineBackup      5517 non-null   object\n",
            " 4   DeviceProtection  5517 non-null   object\n",
            " 5   TechSupport       5517 non-null   object\n",
            " 6   StreamingTV       5517 non-null   object\n",
            " 7   StreamingMovies   5517 non-null   object\n",
            "dtypes: object(8)\n",
            "memory usage: 344.9+ KB\n"
          ]
        }
      ],
      "source": [
        "ine.info()"
      ]
    },
    {
      "cell_type": "code",
      "execution_count": 9,
      "metadata": {
        "colab": {
          "base_uri": "https://localhost:8080/"
        },
        "id": "hY4RoKuS3a9v",
        "outputId": "985e4fe2-bd23-4611-a260-3c652411bd2b"
      },
      "outputs": [
        {
          "output_type": "stream",
          "name": "stdout",
          "text": [
            "<class 'pandas.core.frame.DataFrame'>\n",
            "RangeIndex: 7043 entries, 0 to 7042\n",
            "Data columns (total 5 columns):\n",
            " #   Column         Non-Null Count  Dtype \n",
            "---  ------         --------------  ----- \n",
            " 0   customerID     7043 non-null   object\n",
            " 1   gender         7043 non-null   object\n",
            " 2   SeniorCitizen  7043 non-null   int64 \n",
            " 3   Partner        7043 non-null   object\n",
            " 4   Dependents     7043 non-null   object\n",
            "dtypes: int64(1), object(4)\n",
            "memory usage: 275.2+ KB\n"
          ]
        }
      ],
      "source": [
        "per.info()"
      ]
    },
    {
      "cell_type": "code",
      "execution_count": 10,
      "metadata": {
        "colab": {
          "base_uri": "https://localhost:8080/"
        },
        "id": "7VOogBS33gsZ",
        "outputId": "e8471aba-9a96-488a-ffee-53ab8e0e967f"
      },
      "outputs": [
        {
          "output_type": "stream",
          "name": "stdout",
          "text": [
            "<class 'pandas.core.frame.DataFrame'>\n",
            "RangeIndex: 6361 entries, 0 to 6360\n",
            "Data columns (total 2 columns):\n",
            " #   Column         Non-Null Count  Dtype \n",
            "---  ------         --------------  ----- \n",
            " 0   customerID     6361 non-null   object\n",
            " 1   MultipleLines  6361 non-null   object\n",
            "dtypes: object(2)\n",
            "memory usage: 99.5+ KB\n"
          ]
        }
      ],
      "source": [
        "pho.info()"
      ]
    },
    {
      "cell_type": "code",
      "execution_count": 11,
      "metadata": {
        "colab": {
          "base_uri": "https://localhost:8080/",
          "height": 390
        },
        "id": "tlmsqwIk3mTv",
        "outputId": "89006755-1ca4-46bb-f471-d493fa4529c5"
      },
      "outputs": [
        {
          "output_type": "execute_result",
          "data": {
            "text/plain": [
              "        customerID   BeginDate EndDate            Type PaperlessBilling  \\\n",
              "count         7043        7043    7043            7043             7043   \n",
              "unique        7043          77       5               3                2   \n",
              "top     7590-VHVEG  2014-02-01      No  Month-to-month              Yes   \n",
              "freq             1         366    5174            3875             4171   \n",
              "mean           NaN         NaN     NaN             NaN              NaN   \n",
              "std            NaN         NaN     NaN             NaN              NaN   \n",
              "min            NaN         NaN     NaN             NaN              NaN   \n",
              "25%            NaN         NaN     NaN             NaN              NaN   \n",
              "50%            NaN         NaN     NaN             NaN              NaN   \n",
              "75%            NaN         NaN     NaN             NaN              NaN   \n",
              "max            NaN         NaN     NaN             NaN              NaN   \n",
              "\n",
              "           PaymentMethod  MonthlyCharges TotalCharges  \n",
              "count               7043     7043.000000         7043  \n",
              "unique                 4             NaN         6531  \n",
              "top     Electronic check             NaN               \n",
              "freq                2365             NaN           11  \n",
              "mean                 NaN       64.761692          NaN  \n",
              "std                  NaN       30.090047          NaN  \n",
              "min                  NaN       18.250000          NaN  \n",
              "25%                  NaN       35.500000          NaN  \n",
              "50%                  NaN       70.350000          NaN  \n",
              "75%                  NaN       89.850000          NaN  \n",
              "max                  NaN      118.750000          NaN  "
            ],
            "text/html": [
              "\n",
              "  <div id=\"df-92794c9e-c108-4bb6-b648-936fdd207946\">\n",
              "    <div class=\"colab-df-container\">\n",
              "      <div>\n",
              "<style scoped>\n",
              "    .dataframe tbody tr th:only-of-type {\n",
              "        vertical-align: middle;\n",
              "    }\n",
              "\n",
              "    .dataframe tbody tr th {\n",
              "        vertical-align: top;\n",
              "    }\n",
              "\n",
              "    .dataframe thead th {\n",
              "        text-align: right;\n",
              "    }\n",
              "</style>\n",
              "<table border=\"1\" class=\"dataframe\">\n",
              "  <thead>\n",
              "    <tr style=\"text-align: right;\">\n",
              "      <th></th>\n",
              "      <th>customerID</th>\n",
              "      <th>BeginDate</th>\n",
              "      <th>EndDate</th>\n",
              "      <th>Type</th>\n",
              "      <th>PaperlessBilling</th>\n",
              "      <th>PaymentMethod</th>\n",
              "      <th>MonthlyCharges</th>\n",
              "      <th>TotalCharges</th>\n",
              "    </tr>\n",
              "  </thead>\n",
              "  <tbody>\n",
              "    <tr>\n",
              "      <th>count</th>\n",
              "      <td>7043</td>\n",
              "      <td>7043</td>\n",
              "      <td>7043</td>\n",
              "      <td>7043</td>\n",
              "      <td>7043</td>\n",
              "      <td>7043</td>\n",
              "      <td>7043.000000</td>\n",
              "      <td>7043</td>\n",
              "    </tr>\n",
              "    <tr>\n",
              "      <th>unique</th>\n",
              "      <td>7043</td>\n",
              "      <td>77</td>\n",
              "      <td>5</td>\n",
              "      <td>3</td>\n",
              "      <td>2</td>\n",
              "      <td>4</td>\n",
              "      <td>NaN</td>\n",
              "      <td>6531</td>\n",
              "    </tr>\n",
              "    <tr>\n",
              "      <th>top</th>\n",
              "      <td>7590-VHVEG</td>\n",
              "      <td>2014-02-01</td>\n",
              "      <td>No</td>\n",
              "      <td>Month-to-month</td>\n",
              "      <td>Yes</td>\n",
              "      <td>Electronic check</td>\n",
              "      <td>NaN</td>\n",
              "      <td></td>\n",
              "    </tr>\n",
              "    <tr>\n",
              "      <th>freq</th>\n",
              "      <td>1</td>\n",
              "      <td>366</td>\n",
              "      <td>5174</td>\n",
              "      <td>3875</td>\n",
              "      <td>4171</td>\n",
              "      <td>2365</td>\n",
              "      <td>NaN</td>\n",
              "      <td>11</td>\n",
              "    </tr>\n",
              "    <tr>\n",
              "      <th>mean</th>\n",
              "      <td>NaN</td>\n",
              "      <td>NaN</td>\n",
              "      <td>NaN</td>\n",
              "      <td>NaN</td>\n",
              "      <td>NaN</td>\n",
              "      <td>NaN</td>\n",
              "      <td>64.761692</td>\n",
              "      <td>NaN</td>\n",
              "    </tr>\n",
              "    <tr>\n",
              "      <th>std</th>\n",
              "      <td>NaN</td>\n",
              "      <td>NaN</td>\n",
              "      <td>NaN</td>\n",
              "      <td>NaN</td>\n",
              "      <td>NaN</td>\n",
              "      <td>NaN</td>\n",
              "      <td>30.090047</td>\n",
              "      <td>NaN</td>\n",
              "    </tr>\n",
              "    <tr>\n",
              "      <th>min</th>\n",
              "      <td>NaN</td>\n",
              "      <td>NaN</td>\n",
              "      <td>NaN</td>\n",
              "      <td>NaN</td>\n",
              "      <td>NaN</td>\n",
              "      <td>NaN</td>\n",
              "      <td>18.250000</td>\n",
              "      <td>NaN</td>\n",
              "    </tr>\n",
              "    <tr>\n",
              "      <th>25%</th>\n",
              "      <td>NaN</td>\n",
              "      <td>NaN</td>\n",
              "      <td>NaN</td>\n",
              "      <td>NaN</td>\n",
              "      <td>NaN</td>\n",
              "      <td>NaN</td>\n",
              "      <td>35.500000</td>\n",
              "      <td>NaN</td>\n",
              "    </tr>\n",
              "    <tr>\n",
              "      <th>50%</th>\n",
              "      <td>NaN</td>\n",
              "      <td>NaN</td>\n",
              "      <td>NaN</td>\n",
              "      <td>NaN</td>\n",
              "      <td>NaN</td>\n",
              "      <td>NaN</td>\n",
              "      <td>70.350000</td>\n",
              "      <td>NaN</td>\n",
              "    </tr>\n",
              "    <tr>\n",
              "      <th>75%</th>\n",
              "      <td>NaN</td>\n",
              "      <td>NaN</td>\n",
              "      <td>NaN</td>\n",
              "      <td>NaN</td>\n",
              "      <td>NaN</td>\n",
              "      <td>NaN</td>\n",
              "      <td>89.850000</td>\n",
              "      <td>NaN</td>\n",
              "    </tr>\n",
              "    <tr>\n",
              "      <th>max</th>\n",
              "      <td>NaN</td>\n",
              "      <td>NaN</td>\n",
              "      <td>NaN</td>\n",
              "      <td>NaN</td>\n",
              "      <td>NaN</td>\n",
              "      <td>NaN</td>\n",
              "      <td>118.750000</td>\n",
              "      <td>NaN</td>\n",
              "    </tr>\n",
              "  </tbody>\n",
              "</table>\n",
              "</div>\n",
              "      <button class=\"colab-df-convert\" onclick=\"convertToInteractive('df-92794c9e-c108-4bb6-b648-936fdd207946')\"\n",
              "              title=\"Convert this dataframe to an interactive table.\"\n",
              "              style=\"display:none;\">\n",
              "        \n",
              "  <svg xmlns=\"http://www.w3.org/2000/svg\" height=\"24px\"viewBox=\"0 0 24 24\"\n",
              "       width=\"24px\">\n",
              "    <path d=\"M0 0h24v24H0V0z\" fill=\"none\"/>\n",
              "    <path d=\"M18.56 5.44l.94 2.06.94-2.06 2.06-.94-2.06-.94-.94-2.06-.94 2.06-2.06.94zm-11 1L8.5 8.5l.94-2.06 2.06-.94-2.06-.94L8.5 2.5l-.94 2.06-2.06.94zm10 10l.94 2.06.94-2.06 2.06-.94-2.06-.94-.94-2.06-.94 2.06-2.06.94z\"/><path d=\"M17.41 7.96l-1.37-1.37c-.4-.4-.92-.59-1.43-.59-.52 0-1.04.2-1.43.59L10.3 9.45l-7.72 7.72c-.78.78-.78 2.05 0 2.83L4 21.41c.39.39.9.59 1.41.59.51 0 1.02-.2 1.41-.59l7.78-7.78 2.81-2.81c.8-.78.8-2.07 0-2.86zM5.41 20L4 18.59l7.72-7.72 1.47 1.35L5.41 20z\"/>\n",
              "  </svg>\n",
              "      </button>\n",
              "      \n",
              "  <style>\n",
              "    .colab-df-container {\n",
              "      display:flex;\n",
              "      flex-wrap:wrap;\n",
              "      gap: 12px;\n",
              "    }\n",
              "\n",
              "    .colab-df-convert {\n",
              "      background-color: #E8F0FE;\n",
              "      border: none;\n",
              "      border-radius: 50%;\n",
              "      cursor: pointer;\n",
              "      display: none;\n",
              "      fill: #1967D2;\n",
              "      height: 32px;\n",
              "      padding: 0 0 0 0;\n",
              "      width: 32px;\n",
              "    }\n",
              "\n",
              "    .colab-df-convert:hover {\n",
              "      background-color: #E2EBFA;\n",
              "      box-shadow: 0px 1px 2px rgba(60, 64, 67, 0.3), 0px 1px 3px 1px rgba(60, 64, 67, 0.15);\n",
              "      fill: #174EA6;\n",
              "    }\n",
              "\n",
              "    [theme=dark] .colab-df-convert {\n",
              "      background-color: #3B4455;\n",
              "      fill: #D2E3FC;\n",
              "    }\n",
              "\n",
              "    [theme=dark] .colab-df-convert:hover {\n",
              "      background-color: #434B5C;\n",
              "      box-shadow: 0px 1px 3px 1px rgba(0, 0, 0, 0.15);\n",
              "      filter: drop-shadow(0px 1px 2px rgba(0, 0, 0, 0.3));\n",
              "      fill: #FFFFFF;\n",
              "    }\n",
              "  </style>\n",
              "\n",
              "      <script>\n",
              "        const buttonEl =\n",
              "          document.querySelector('#df-92794c9e-c108-4bb6-b648-936fdd207946 button.colab-df-convert');\n",
              "        buttonEl.style.display =\n",
              "          google.colab.kernel.accessAllowed ? 'block' : 'none';\n",
              "\n",
              "        async function convertToInteractive(key) {\n",
              "          const element = document.querySelector('#df-92794c9e-c108-4bb6-b648-936fdd207946');\n",
              "          const dataTable =\n",
              "            await google.colab.kernel.invokeFunction('convertToInteractive',\n",
              "                                                     [key], {});\n",
              "          if (!dataTable) return;\n",
              "\n",
              "          const docLinkHtml = 'Like what you see? Visit the ' +\n",
              "            '<a target=\"_blank\" href=https://colab.research.google.com/notebooks/data_table.ipynb>data table notebook</a>'\n",
              "            + ' to learn more about interactive tables.';\n",
              "          element.innerHTML = '';\n",
              "          dataTable['output_type'] = 'display_data';\n",
              "          await google.colab.output.renderOutput(dataTable, element);\n",
              "          const docLink = document.createElement('div');\n",
              "          docLink.innerHTML = docLinkHtml;\n",
              "          element.appendChild(docLink);\n",
              "        }\n",
              "      </script>\n",
              "    </div>\n",
              "  </div>\n",
              "  "
            ]
          },
          "metadata": {},
          "execution_count": 11
        }
      ],
      "source": [
        "con.describe(include='all')"
      ]
    },
    {
      "cell_type": "code",
      "execution_count": 12,
      "metadata": {
        "colab": {
          "base_uri": "https://localhost:8080/",
          "height": 173
        },
        "id": "ZGUH_fR0qe7e",
        "outputId": "244c9266-fdf7-4731-fbbe-ae990826d49e"
      },
      "outputs": [
        {
          "output_type": "execute_result",
          "data": {
            "text/plain": [
              "        customerID InternetService OnlineSecurity OnlineBackup  \\\n",
              "count         5517            5517           5517         5517   \n",
              "unique        5517               2              2            2   \n",
              "top     7590-VHVEG     Fiber optic             No           No   \n",
              "freq             1            3096           3498         3088   \n",
              "\n",
              "       DeviceProtection TechSupport StreamingTV StreamingMovies  \n",
              "count              5517        5517        5517            5517  \n",
              "unique                2           2           2               2  \n",
              "top                  No          No          No              No  \n",
              "freq               3095        3473        2810            2785  "
            ],
            "text/html": [
              "\n",
              "  <div id=\"df-731a8627-ec6d-4fc8-8514-fea742d989d2\">\n",
              "    <div class=\"colab-df-container\">\n",
              "      <div>\n",
              "<style scoped>\n",
              "    .dataframe tbody tr th:only-of-type {\n",
              "        vertical-align: middle;\n",
              "    }\n",
              "\n",
              "    .dataframe tbody tr th {\n",
              "        vertical-align: top;\n",
              "    }\n",
              "\n",
              "    .dataframe thead th {\n",
              "        text-align: right;\n",
              "    }\n",
              "</style>\n",
              "<table border=\"1\" class=\"dataframe\">\n",
              "  <thead>\n",
              "    <tr style=\"text-align: right;\">\n",
              "      <th></th>\n",
              "      <th>customerID</th>\n",
              "      <th>InternetService</th>\n",
              "      <th>OnlineSecurity</th>\n",
              "      <th>OnlineBackup</th>\n",
              "      <th>DeviceProtection</th>\n",
              "      <th>TechSupport</th>\n",
              "      <th>StreamingTV</th>\n",
              "      <th>StreamingMovies</th>\n",
              "    </tr>\n",
              "  </thead>\n",
              "  <tbody>\n",
              "    <tr>\n",
              "      <th>count</th>\n",
              "      <td>5517</td>\n",
              "      <td>5517</td>\n",
              "      <td>5517</td>\n",
              "      <td>5517</td>\n",
              "      <td>5517</td>\n",
              "      <td>5517</td>\n",
              "      <td>5517</td>\n",
              "      <td>5517</td>\n",
              "    </tr>\n",
              "    <tr>\n",
              "      <th>unique</th>\n",
              "      <td>5517</td>\n",
              "      <td>2</td>\n",
              "      <td>2</td>\n",
              "      <td>2</td>\n",
              "      <td>2</td>\n",
              "      <td>2</td>\n",
              "      <td>2</td>\n",
              "      <td>2</td>\n",
              "    </tr>\n",
              "    <tr>\n",
              "      <th>top</th>\n",
              "      <td>7590-VHVEG</td>\n",
              "      <td>Fiber optic</td>\n",
              "      <td>No</td>\n",
              "      <td>No</td>\n",
              "      <td>No</td>\n",
              "      <td>No</td>\n",
              "      <td>No</td>\n",
              "      <td>No</td>\n",
              "    </tr>\n",
              "    <tr>\n",
              "      <th>freq</th>\n",
              "      <td>1</td>\n",
              "      <td>3096</td>\n",
              "      <td>3498</td>\n",
              "      <td>3088</td>\n",
              "      <td>3095</td>\n",
              "      <td>3473</td>\n",
              "      <td>2810</td>\n",
              "      <td>2785</td>\n",
              "    </tr>\n",
              "  </tbody>\n",
              "</table>\n",
              "</div>\n",
              "      <button class=\"colab-df-convert\" onclick=\"convertToInteractive('df-731a8627-ec6d-4fc8-8514-fea742d989d2')\"\n",
              "              title=\"Convert this dataframe to an interactive table.\"\n",
              "              style=\"display:none;\">\n",
              "        \n",
              "  <svg xmlns=\"http://www.w3.org/2000/svg\" height=\"24px\"viewBox=\"0 0 24 24\"\n",
              "       width=\"24px\">\n",
              "    <path d=\"M0 0h24v24H0V0z\" fill=\"none\"/>\n",
              "    <path d=\"M18.56 5.44l.94 2.06.94-2.06 2.06-.94-2.06-.94-.94-2.06-.94 2.06-2.06.94zm-11 1L8.5 8.5l.94-2.06 2.06-.94-2.06-.94L8.5 2.5l-.94 2.06-2.06.94zm10 10l.94 2.06.94-2.06 2.06-.94-2.06-.94-.94-2.06-.94 2.06-2.06.94z\"/><path d=\"M17.41 7.96l-1.37-1.37c-.4-.4-.92-.59-1.43-.59-.52 0-1.04.2-1.43.59L10.3 9.45l-7.72 7.72c-.78.78-.78 2.05 0 2.83L4 21.41c.39.39.9.59 1.41.59.51 0 1.02-.2 1.41-.59l7.78-7.78 2.81-2.81c.8-.78.8-2.07 0-2.86zM5.41 20L4 18.59l7.72-7.72 1.47 1.35L5.41 20z\"/>\n",
              "  </svg>\n",
              "      </button>\n",
              "      \n",
              "  <style>\n",
              "    .colab-df-container {\n",
              "      display:flex;\n",
              "      flex-wrap:wrap;\n",
              "      gap: 12px;\n",
              "    }\n",
              "\n",
              "    .colab-df-convert {\n",
              "      background-color: #E8F0FE;\n",
              "      border: none;\n",
              "      border-radius: 50%;\n",
              "      cursor: pointer;\n",
              "      display: none;\n",
              "      fill: #1967D2;\n",
              "      height: 32px;\n",
              "      padding: 0 0 0 0;\n",
              "      width: 32px;\n",
              "    }\n",
              "\n",
              "    .colab-df-convert:hover {\n",
              "      background-color: #E2EBFA;\n",
              "      box-shadow: 0px 1px 2px rgba(60, 64, 67, 0.3), 0px 1px 3px 1px rgba(60, 64, 67, 0.15);\n",
              "      fill: #174EA6;\n",
              "    }\n",
              "\n",
              "    [theme=dark] .colab-df-convert {\n",
              "      background-color: #3B4455;\n",
              "      fill: #D2E3FC;\n",
              "    }\n",
              "\n",
              "    [theme=dark] .colab-df-convert:hover {\n",
              "      background-color: #434B5C;\n",
              "      box-shadow: 0px 1px 3px 1px rgba(0, 0, 0, 0.15);\n",
              "      filter: drop-shadow(0px 1px 2px rgba(0, 0, 0, 0.3));\n",
              "      fill: #FFFFFF;\n",
              "    }\n",
              "  </style>\n",
              "\n",
              "      <script>\n",
              "        const buttonEl =\n",
              "          document.querySelector('#df-731a8627-ec6d-4fc8-8514-fea742d989d2 button.colab-df-convert');\n",
              "        buttonEl.style.display =\n",
              "          google.colab.kernel.accessAllowed ? 'block' : 'none';\n",
              "\n",
              "        async function convertToInteractive(key) {\n",
              "          const element = document.querySelector('#df-731a8627-ec6d-4fc8-8514-fea742d989d2');\n",
              "          const dataTable =\n",
              "            await google.colab.kernel.invokeFunction('convertToInteractive',\n",
              "                                                     [key], {});\n",
              "          if (!dataTable) return;\n",
              "\n",
              "          const docLinkHtml = 'Like what you see? Visit the ' +\n",
              "            '<a target=\"_blank\" href=https://colab.research.google.com/notebooks/data_table.ipynb>data table notebook</a>'\n",
              "            + ' to learn more about interactive tables.';\n",
              "          element.innerHTML = '';\n",
              "          dataTable['output_type'] = 'display_data';\n",
              "          await google.colab.output.renderOutput(dataTable, element);\n",
              "          const docLink = document.createElement('div');\n",
              "          docLink.innerHTML = docLinkHtml;\n",
              "          element.appendChild(docLink);\n",
              "        }\n",
              "      </script>\n",
              "    </div>\n",
              "  </div>\n",
              "  "
            ]
          },
          "metadata": {},
          "execution_count": 12
        }
      ],
      "source": [
        "ine.describe(include='all')"
      ]
    },
    {
      "cell_type": "code",
      "execution_count": 13,
      "metadata": {
        "colab": {
          "base_uri": "https://localhost:8080/",
          "height": 390
        },
        "id": "bmQJp4VE4E72",
        "outputId": "90ecebb0-6f18-45bc-ff3f-f5f78609c3bf"
      },
      "outputs": [
        {
          "output_type": "execute_result",
          "data": {
            "text/plain": [
              "        customerID gender  SeniorCitizen Partner Dependents\n",
              "count         7043   7043    7043.000000    7043       7043\n",
              "unique        7043      2            NaN       2          2\n",
              "top     7590-VHVEG   Male            NaN      No         No\n",
              "freq             1   3555            NaN    3641       4933\n",
              "mean           NaN    NaN       0.162147     NaN        NaN\n",
              "std            NaN    NaN       0.368612     NaN        NaN\n",
              "min            NaN    NaN       0.000000     NaN        NaN\n",
              "25%            NaN    NaN       0.000000     NaN        NaN\n",
              "50%            NaN    NaN       0.000000     NaN        NaN\n",
              "75%            NaN    NaN       0.000000     NaN        NaN\n",
              "max            NaN    NaN       1.000000     NaN        NaN"
            ],
            "text/html": [
              "\n",
              "  <div id=\"df-1a2e01cc-8f09-4b53-80be-65544cccecab\">\n",
              "    <div class=\"colab-df-container\">\n",
              "      <div>\n",
              "<style scoped>\n",
              "    .dataframe tbody tr th:only-of-type {\n",
              "        vertical-align: middle;\n",
              "    }\n",
              "\n",
              "    .dataframe tbody tr th {\n",
              "        vertical-align: top;\n",
              "    }\n",
              "\n",
              "    .dataframe thead th {\n",
              "        text-align: right;\n",
              "    }\n",
              "</style>\n",
              "<table border=\"1\" class=\"dataframe\">\n",
              "  <thead>\n",
              "    <tr style=\"text-align: right;\">\n",
              "      <th></th>\n",
              "      <th>customerID</th>\n",
              "      <th>gender</th>\n",
              "      <th>SeniorCitizen</th>\n",
              "      <th>Partner</th>\n",
              "      <th>Dependents</th>\n",
              "    </tr>\n",
              "  </thead>\n",
              "  <tbody>\n",
              "    <tr>\n",
              "      <th>count</th>\n",
              "      <td>7043</td>\n",
              "      <td>7043</td>\n",
              "      <td>7043.000000</td>\n",
              "      <td>7043</td>\n",
              "      <td>7043</td>\n",
              "    </tr>\n",
              "    <tr>\n",
              "      <th>unique</th>\n",
              "      <td>7043</td>\n",
              "      <td>2</td>\n",
              "      <td>NaN</td>\n",
              "      <td>2</td>\n",
              "      <td>2</td>\n",
              "    </tr>\n",
              "    <tr>\n",
              "      <th>top</th>\n",
              "      <td>7590-VHVEG</td>\n",
              "      <td>Male</td>\n",
              "      <td>NaN</td>\n",
              "      <td>No</td>\n",
              "      <td>No</td>\n",
              "    </tr>\n",
              "    <tr>\n",
              "      <th>freq</th>\n",
              "      <td>1</td>\n",
              "      <td>3555</td>\n",
              "      <td>NaN</td>\n",
              "      <td>3641</td>\n",
              "      <td>4933</td>\n",
              "    </tr>\n",
              "    <tr>\n",
              "      <th>mean</th>\n",
              "      <td>NaN</td>\n",
              "      <td>NaN</td>\n",
              "      <td>0.162147</td>\n",
              "      <td>NaN</td>\n",
              "      <td>NaN</td>\n",
              "    </tr>\n",
              "    <tr>\n",
              "      <th>std</th>\n",
              "      <td>NaN</td>\n",
              "      <td>NaN</td>\n",
              "      <td>0.368612</td>\n",
              "      <td>NaN</td>\n",
              "      <td>NaN</td>\n",
              "    </tr>\n",
              "    <tr>\n",
              "      <th>min</th>\n",
              "      <td>NaN</td>\n",
              "      <td>NaN</td>\n",
              "      <td>0.000000</td>\n",
              "      <td>NaN</td>\n",
              "      <td>NaN</td>\n",
              "    </tr>\n",
              "    <tr>\n",
              "      <th>25%</th>\n",
              "      <td>NaN</td>\n",
              "      <td>NaN</td>\n",
              "      <td>0.000000</td>\n",
              "      <td>NaN</td>\n",
              "      <td>NaN</td>\n",
              "    </tr>\n",
              "    <tr>\n",
              "      <th>50%</th>\n",
              "      <td>NaN</td>\n",
              "      <td>NaN</td>\n",
              "      <td>0.000000</td>\n",
              "      <td>NaN</td>\n",
              "      <td>NaN</td>\n",
              "    </tr>\n",
              "    <tr>\n",
              "      <th>75%</th>\n",
              "      <td>NaN</td>\n",
              "      <td>NaN</td>\n",
              "      <td>0.000000</td>\n",
              "      <td>NaN</td>\n",
              "      <td>NaN</td>\n",
              "    </tr>\n",
              "    <tr>\n",
              "      <th>max</th>\n",
              "      <td>NaN</td>\n",
              "      <td>NaN</td>\n",
              "      <td>1.000000</td>\n",
              "      <td>NaN</td>\n",
              "      <td>NaN</td>\n",
              "    </tr>\n",
              "  </tbody>\n",
              "</table>\n",
              "</div>\n",
              "      <button class=\"colab-df-convert\" onclick=\"convertToInteractive('df-1a2e01cc-8f09-4b53-80be-65544cccecab')\"\n",
              "              title=\"Convert this dataframe to an interactive table.\"\n",
              "              style=\"display:none;\">\n",
              "        \n",
              "  <svg xmlns=\"http://www.w3.org/2000/svg\" height=\"24px\"viewBox=\"0 0 24 24\"\n",
              "       width=\"24px\">\n",
              "    <path d=\"M0 0h24v24H0V0z\" fill=\"none\"/>\n",
              "    <path d=\"M18.56 5.44l.94 2.06.94-2.06 2.06-.94-2.06-.94-.94-2.06-.94 2.06-2.06.94zm-11 1L8.5 8.5l.94-2.06 2.06-.94-2.06-.94L8.5 2.5l-.94 2.06-2.06.94zm10 10l.94 2.06.94-2.06 2.06-.94-2.06-.94-.94-2.06-.94 2.06-2.06.94z\"/><path d=\"M17.41 7.96l-1.37-1.37c-.4-.4-.92-.59-1.43-.59-.52 0-1.04.2-1.43.59L10.3 9.45l-7.72 7.72c-.78.78-.78 2.05 0 2.83L4 21.41c.39.39.9.59 1.41.59.51 0 1.02-.2 1.41-.59l7.78-7.78 2.81-2.81c.8-.78.8-2.07 0-2.86zM5.41 20L4 18.59l7.72-7.72 1.47 1.35L5.41 20z\"/>\n",
              "  </svg>\n",
              "      </button>\n",
              "      \n",
              "  <style>\n",
              "    .colab-df-container {\n",
              "      display:flex;\n",
              "      flex-wrap:wrap;\n",
              "      gap: 12px;\n",
              "    }\n",
              "\n",
              "    .colab-df-convert {\n",
              "      background-color: #E8F0FE;\n",
              "      border: none;\n",
              "      border-radius: 50%;\n",
              "      cursor: pointer;\n",
              "      display: none;\n",
              "      fill: #1967D2;\n",
              "      height: 32px;\n",
              "      padding: 0 0 0 0;\n",
              "      width: 32px;\n",
              "    }\n",
              "\n",
              "    .colab-df-convert:hover {\n",
              "      background-color: #E2EBFA;\n",
              "      box-shadow: 0px 1px 2px rgba(60, 64, 67, 0.3), 0px 1px 3px 1px rgba(60, 64, 67, 0.15);\n",
              "      fill: #174EA6;\n",
              "    }\n",
              "\n",
              "    [theme=dark] .colab-df-convert {\n",
              "      background-color: #3B4455;\n",
              "      fill: #D2E3FC;\n",
              "    }\n",
              "\n",
              "    [theme=dark] .colab-df-convert:hover {\n",
              "      background-color: #434B5C;\n",
              "      box-shadow: 0px 1px 3px 1px rgba(0, 0, 0, 0.15);\n",
              "      filter: drop-shadow(0px 1px 2px rgba(0, 0, 0, 0.3));\n",
              "      fill: #FFFFFF;\n",
              "    }\n",
              "  </style>\n",
              "\n",
              "      <script>\n",
              "        const buttonEl =\n",
              "          document.querySelector('#df-1a2e01cc-8f09-4b53-80be-65544cccecab button.colab-df-convert');\n",
              "        buttonEl.style.display =\n",
              "          google.colab.kernel.accessAllowed ? 'block' : 'none';\n",
              "\n",
              "        async function convertToInteractive(key) {\n",
              "          const element = document.querySelector('#df-1a2e01cc-8f09-4b53-80be-65544cccecab');\n",
              "          const dataTable =\n",
              "            await google.colab.kernel.invokeFunction('convertToInteractive',\n",
              "                                                     [key], {});\n",
              "          if (!dataTable) return;\n",
              "\n",
              "          const docLinkHtml = 'Like what you see? Visit the ' +\n",
              "            '<a target=\"_blank\" href=https://colab.research.google.com/notebooks/data_table.ipynb>data table notebook</a>'\n",
              "            + ' to learn more about interactive tables.';\n",
              "          element.innerHTML = '';\n",
              "          dataTable['output_type'] = 'display_data';\n",
              "          await google.colab.output.renderOutput(dataTable, element);\n",
              "          const docLink = document.createElement('div');\n",
              "          docLink.innerHTML = docLinkHtml;\n",
              "          element.appendChild(docLink);\n",
              "        }\n",
              "      </script>\n",
              "    </div>\n",
              "  </div>\n",
              "  "
            ]
          },
          "metadata": {},
          "execution_count": 13
        }
      ],
      "source": [
        "per.describe(include='all')"
      ]
    },
    {
      "cell_type": "code",
      "execution_count": 14,
      "metadata": {
        "colab": {
          "base_uri": "https://localhost:8080/",
          "height": 173
        },
        "id": "-zWbQjXCqlex",
        "outputId": "e76c6538-e73b-4c47-8351-5b4811d2924e"
      },
      "outputs": [
        {
          "output_type": "execute_result",
          "data": {
            "text/plain": [
              "        customerID MultipleLines\n",
              "count         6361          6361\n",
              "unique        6361             2\n",
              "top     5575-GNVDE            No\n",
              "freq             1          3390"
            ],
            "text/html": [
              "\n",
              "  <div id=\"df-1828b013-47b9-4e3d-a5be-c48e46fa55ea\">\n",
              "    <div class=\"colab-df-container\">\n",
              "      <div>\n",
              "<style scoped>\n",
              "    .dataframe tbody tr th:only-of-type {\n",
              "        vertical-align: middle;\n",
              "    }\n",
              "\n",
              "    .dataframe tbody tr th {\n",
              "        vertical-align: top;\n",
              "    }\n",
              "\n",
              "    .dataframe thead th {\n",
              "        text-align: right;\n",
              "    }\n",
              "</style>\n",
              "<table border=\"1\" class=\"dataframe\">\n",
              "  <thead>\n",
              "    <tr style=\"text-align: right;\">\n",
              "      <th></th>\n",
              "      <th>customerID</th>\n",
              "      <th>MultipleLines</th>\n",
              "    </tr>\n",
              "  </thead>\n",
              "  <tbody>\n",
              "    <tr>\n",
              "      <th>count</th>\n",
              "      <td>6361</td>\n",
              "      <td>6361</td>\n",
              "    </tr>\n",
              "    <tr>\n",
              "      <th>unique</th>\n",
              "      <td>6361</td>\n",
              "      <td>2</td>\n",
              "    </tr>\n",
              "    <tr>\n",
              "      <th>top</th>\n",
              "      <td>5575-GNVDE</td>\n",
              "      <td>No</td>\n",
              "    </tr>\n",
              "    <tr>\n",
              "      <th>freq</th>\n",
              "      <td>1</td>\n",
              "      <td>3390</td>\n",
              "    </tr>\n",
              "  </tbody>\n",
              "</table>\n",
              "</div>\n",
              "      <button class=\"colab-df-convert\" onclick=\"convertToInteractive('df-1828b013-47b9-4e3d-a5be-c48e46fa55ea')\"\n",
              "              title=\"Convert this dataframe to an interactive table.\"\n",
              "              style=\"display:none;\">\n",
              "        \n",
              "  <svg xmlns=\"http://www.w3.org/2000/svg\" height=\"24px\"viewBox=\"0 0 24 24\"\n",
              "       width=\"24px\">\n",
              "    <path d=\"M0 0h24v24H0V0z\" fill=\"none\"/>\n",
              "    <path d=\"M18.56 5.44l.94 2.06.94-2.06 2.06-.94-2.06-.94-.94-2.06-.94 2.06-2.06.94zm-11 1L8.5 8.5l.94-2.06 2.06-.94-2.06-.94L8.5 2.5l-.94 2.06-2.06.94zm10 10l.94 2.06.94-2.06 2.06-.94-2.06-.94-.94-2.06-.94 2.06-2.06.94z\"/><path d=\"M17.41 7.96l-1.37-1.37c-.4-.4-.92-.59-1.43-.59-.52 0-1.04.2-1.43.59L10.3 9.45l-7.72 7.72c-.78.78-.78 2.05 0 2.83L4 21.41c.39.39.9.59 1.41.59.51 0 1.02-.2 1.41-.59l7.78-7.78 2.81-2.81c.8-.78.8-2.07 0-2.86zM5.41 20L4 18.59l7.72-7.72 1.47 1.35L5.41 20z\"/>\n",
              "  </svg>\n",
              "      </button>\n",
              "      \n",
              "  <style>\n",
              "    .colab-df-container {\n",
              "      display:flex;\n",
              "      flex-wrap:wrap;\n",
              "      gap: 12px;\n",
              "    }\n",
              "\n",
              "    .colab-df-convert {\n",
              "      background-color: #E8F0FE;\n",
              "      border: none;\n",
              "      border-radius: 50%;\n",
              "      cursor: pointer;\n",
              "      display: none;\n",
              "      fill: #1967D2;\n",
              "      height: 32px;\n",
              "      padding: 0 0 0 0;\n",
              "      width: 32px;\n",
              "    }\n",
              "\n",
              "    .colab-df-convert:hover {\n",
              "      background-color: #E2EBFA;\n",
              "      box-shadow: 0px 1px 2px rgba(60, 64, 67, 0.3), 0px 1px 3px 1px rgba(60, 64, 67, 0.15);\n",
              "      fill: #174EA6;\n",
              "    }\n",
              "\n",
              "    [theme=dark] .colab-df-convert {\n",
              "      background-color: #3B4455;\n",
              "      fill: #D2E3FC;\n",
              "    }\n",
              "\n",
              "    [theme=dark] .colab-df-convert:hover {\n",
              "      background-color: #434B5C;\n",
              "      box-shadow: 0px 1px 3px 1px rgba(0, 0, 0, 0.15);\n",
              "      filter: drop-shadow(0px 1px 2px rgba(0, 0, 0, 0.3));\n",
              "      fill: #FFFFFF;\n",
              "    }\n",
              "  </style>\n",
              "\n",
              "      <script>\n",
              "        const buttonEl =\n",
              "          document.querySelector('#df-1828b013-47b9-4e3d-a5be-c48e46fa55ea button.colab-df-convert');\n",
              "        buttonEl.style.display =\n",
              "          google.colab.kernel.accessAllowed ? 'block' : 'none';\n",
              "\n",
              "        async function convertToInteractive(key) {\n",
              "          const element = document.querySelector('#df-1828b013-47b9-4e3d-a5be-c48e46fa55ea');\n",
              "          const dataTable =\n",
              "            await google.colab.kernel.invokeFunction('convertToInteractive',\n",
              "                                                     [key], {});\n",
              "          if (!dataTable) return;\n",
              "\n",
              "          const docLinkHtml = 'Like what you see? Visit the ' +\n",
              "            '<a target=\"_blank\" href=https://colab.research.google.com/notebooks/data_table.ipynb>data table notebook</a>'\n",
              "            + ' to learn more about interactive tables.';\n",
              "          element.innerHTML = '';\n",
              "          dataTable['output_type'] = 'display_data';\n",
              "          await google.colab.output.renderOutput(dataTable, element);\n",
              "          const docLink = document.createElement('div');\n",
              "          docLink.innerHTML = docLinkHtml;\n",
              "          element.appendChild(docLink);\n",
              "        }\n",
              "      </script>\n",
              "    </div>\n",
              "  </div>\n",
              "  "
            ]
          },
          "metadata": {},
          "execution_count": 14
        }
      ],
      "source": [
        "pho.describe(include='all')"
      ]
    },
    {
      "cell_type": "markdown",
      "metadata": {
        "id": "hi3oxtoRfDKJ"
      },
      "source": [
        "Проверка на наличие явных дубликатов"
      ]
    },
    {
      "cell_type": "code",
      "execution_count": 15,
      "metadata": {
        "colab": {
          "base_uri": "https://localhost:8080/"
        },
        "id": "728k1grV4Iph",
        "outputId": "342f062a-f786-44c7-ac73-5388df28733c"
      },
      "outputs": [
        {
          "output_type": "execute_result",
          "data": {
            "text/plain": [
              "0"
            ]
          },
          "metadata": {},
          "execution_count": 15
        }
      ],
      "source": [
        "con.duplicated().sum()"
      ]
    },
    {
      "cell_type": "code",
      "execution_count": 16,
      "metadata": {
        "colab": {
          "base_uri": "https://localhost:8080/"
        },
        "id": "qdP_fau94ZKA",
        "outputId": "871c1c8f-9979-4751-81f3-b3c3f2eec43e"
      },
      "outputs": [
        {
          "output_type": "execute_result",
          "data": {
            "text/plain": [
              "0"
            ]
          },
          "metadata": {},
          "execution_count": 16
        }
      ],
      "source": [
        "ine.duplicated().sum()"
      ]
    },
    {
      "cell_type": "code",
      "execution_count": 17,
      "metadata": {
        "colab": {
          "base_uri": "https://localhost:8080/"
        },
        "id": "ZEQhfyyC4cUx",
        "outputId": "532e71e5-bec5-40cb-f1a4-502bd8b2bb79"
      },
      "outputs": [
        {
          "output_type": "execute_result",
          "data": {
            "text/plain": [
              "0"
            ]
          },
          "metadata": {},
          "execution_count": 17
        }
      ],
      "source": [
        "per.duplicated().sum()"
      ]
    },
    {
      "cell_type": "code",
      "execution_count": 18,
      "metadata": {
        "colab": {
          "base_uri": "https://localhost:8080/"
        },
        "id": "VltqjaiL4fPf",
        "outputId": "5c1863d2-37ce-463b-f84b-4c86bfcf0333"
      },
      "outputs": [
        {
          "output_type": "execute_result",
          "data": {
            "text/plain": [
              "0"
            ]
          },
          "metadata": {},
          "execution_count": 18
        }
      ],
      "source": [
        "pho.duplicated().sum()"
      ]
    },
    {
      "cell_type": "markdown",
      "metadata": {
        "id": "5RXiAzwtfI6A"
      },
      "source": [
        "Проверка на наличие пропусков"
      ]
    },
    {
      "cell_type": "code",
      "execution_count": 19,
      "metadata": {
        "colab": {
          "base_uri": "https://localhost:8080/"
        },
        "id": "YRM-rtfs4iS_",
        "outputId": "e579b100-3190-48cb-9512-7b9d19b47438"
      },
      "outputs": [
        {
          "output_type": "execute_result",
          "data": {
            "text/plain": [
              "customerID          0\n",
              "BeginDate           0\n",
              "EndDate             0\n",
              "Type                0\n",
              "PaperlessBilling    0\n",
              "PaymentMethod       0\n",
              "MonthlyCharges      0\n",
              "TotalCharges        0\n",
              "dtype: int64"
            ]
          },
          "metadata": {},
          "execution_count": 19
        }
      ],
      "source": [
        "con.isna().sum()"
      ]
    },
    {
      "cell_type": "code",
      "execution_count": 20,
      "metadata": {
        "colab": {
          "base_uri": "https://localhost:8080/"
        },
        "id": "JRZlWZ6S5KnX",
        "outputId": "6787b9e4-383b-46e2-806e-631722edd786"
      },
      "outputs": [
        {
          "output_type": "execute_result",
          "data": {
            "text/plain": [
              "customerID          0\n",
              "InternetService     0\n",
              "OnlineSecurity      0\n",
              "OnlineBackup        0\n",
              "DeviceProtection    0\n",
              "TechSupport         0\n",
              "StreamingTV         0\n",
              "StreamingMovies     0\n",
              "dtype: int64"
            ]
          },
          "metadata": {},
          "execution_count": 20
        }
      ],
      "source": [
        "ine.isna().sum()"
      ]
    },
    {
      "cell_type": "code",
      "execution_count": 21,
      "metadata": {
        "colab": {
          "base_uri": "https://localhost:8080/"
        },
        "id": "Wy-kwQUp5Kvg",
        "outputId": "9644325f-5cf2-4b05-8b93-360f8e5daf49"
      },
      "outputs": [
        {
          "output_type": "execute_result",
          "data": {
            "text/plain": [
              "customerID       0\n",
              "gender           0\n",
              "SeniorCitizen    0\n",
              "Partner          0\n",
              "Dependents       0\n",
              "dtype: int64"
            ]
          },
          "metadata": {},
          "execution_count": 21
        }
      ],
      "source": [
        "per.isna().sum()"
      ]
    },
    {
      "cell_type": "code",
      "execution_count": 22,
      "metadata": {
        "colab": {
          "base_uri": "https://localhost:8080/"
        },
        "id": "81eAlUmn5K4E",
        "outputId": "7c4be2f9-f8ca-49f6-b317-23812ea767bf"
      },
      "outputs": [
        {
          "output_type": "execute_result",
          "data": {
            "text/plain": [
              "customerID       0\n",
              "MultipleLines    0\n",
              "dtype: int64"
            ]
          },
          "metadata": {},
          "execution_count": 22
        }
      ],
      "source": [
        "pho.isna().sum()"
      ]
    },
    {
      "cell_type": "markdown",
      "metadata": {
        "id": "CcD4Qv5TVL7-"
      },
      "source": [
        "Вывод: в данных нет явных дубликатов и пропусков, но при объединении таблиц пропуски появятся и необходимо будет их заполнить. Пропуски могут появиться в виду того, что клиенты могут пользоваться не всеми услугами, или просто не проводили оплату, поэтому записи в каких то столбцах о них может отсутствовать, И при объединении могут появиться пропуски. \n",
        "\n",
        "У столбца total charges надо будет изменить тип данных на float. Столбец EndDate в таком виде не подходит для работы и его надо будет заменить на бинарный вариант ответа 1/0 (ушел/не ушел)."
      ]
    },
    {
      "cell_type": "markdown",
      "metadata": {
        "id": "_7_gbdqwqwXt"
      },
      "source": [
        "## Проработка и подготовка данных к МО"
      ]
    },
    {
      "cell_type": "markdown",
      "metadata": {
        "id": "enXP7Tznojl3"
      },
      "source": [
        "Объеденим таблицы по номеру ID:"
      ]
    },
    {
      "cell_type": "code",
      "execution_count": 23,
      "metadata": {
        "id": "KnKaGHFXfTJ-"
      },
      "outputs": [],
      "source": [
        "df = con.merge(per, how='left', on = 'customerID')"
      ]
    },
    {
      "cell_type": "code",
      "execution_count": 24,
      "metadata": {
        "id": "z3zKoitSndcF"
      },
      "outputs": [],
      "source": [
        "df = df.merge(pho, how='left', on = 'customerID')"
      ]
    },
    {
      "cell_type": "code",
      "execution_count": 25,
      "metadata": {
        "id": "7CyiL8ZQoSaG"
      },
      "outputs": [],
      "source": [
        "df = df.merge(ine, how='left', on = 'customerID')"
      ]
    },
    {
      "cell_type": "code",
      "execution_count": 26,
      "metadata": {
        "colab": {
          "base_uri": "https://localhost:8080/",
          "height": 404
        },
        "id": "eusfFJ7HldcN",
        "outputId": "be31fadd-abc1-4656-f429-8b4ebe3c65f7"
      },
      "outputs": [
        {
          "output_type": "execute_result",
          "data": {
            "text/plain": [
              "   customerID   BeginDate              EndDate            Type  \\\n",
              "0  7590-VHVEG  2020-01-01                   No  Month-to-month   \n",
              "1  5575-GNVDE  2017-04-01                   No        One year   \n",
              "2  3668-QPYBK  2019-10-01  2019-12-01 00:00:00  Month-to-month   \n",
              "3  7795-CFOCW  2016-05-01                   No        One year   \n",
              "4  9237-HQITU  2019-09-01  2019-11-01 00:00:00  Month-to-month   \n",
              "\n",
              "  PaperlessBilling              PaymentMethod  MonthlyCharges TotalCharges  \\\n",
              "0              Yes           Electronic check           29.85        29.85   \n",
              "1               No               Mailed check           56.95       1889.5   \n",
              "2              Yes               Mailed check           53.85       108.15   \n",
              "3               No  Bank transfer (automatic)           42.30      1840.75   \n",
              "4              Yes           Electronic check           70.70       151.65   \n",
              "\n",
              "   gender  SeniorCitizen Partner Dependents MultipleLines InternetService  \\\n",
              "0  Female              0     Yes         No           NaN             DSL   \n",
              "1    Male              0      No         No            No             DSL   \n",
              "2    Male              0      No         No            No             DSL   \n",
              "3    Male              0      No         No           NaN             DSL   \n",
              "4  Female              0      No         No            No     Fiber optic   \n",
              "\n",
              "  OnlineSecurity OnlineBackup DeviceProtection TechSupport StreamingTV  \\\n",
              "0             No          Yes               No          No          No   \n",
              "1            Yes           No              Yes          No          No   \n",
              "2            Yes          Yes               No          No          No   \n",
              "3            Yes           No              Yes         Yes          No   \n",
              "4             No           No               No          No          No   \n",
              "\n",
              "  StreamingMovies  \n",
              "0              No  \n",
              "1              No  \n",
              "2              No  \n",
              "3              No  \n",
              "4              No  "
            ],
            "text/html": [
              "\n",
              "  <div id=\"df-109af69c-26ca-46de-b1c1-defe3fca029a\">\n",
              "    <div class=\"colab-df-container\">\n",
              "      <div>\n",
              "<style scoped>\n",
              "    .dataframe tbody tr th:only-of-type {\n",
              "        vertical-align: middle;\n",
              "    }\n",
              "\n",
              "    .dataframe tbody tr th {\n",
              "        vertical-align: top;\n",
              "    }\n",
              "\n",
              "    .dataframe thead th {\n",
              "        text-align: right;\n",
              "    }\n",
              "</style>\n",
              "<table border=\"1\" class=\"dataframe\">\n",
              "  <thead>\n",
              "    <tr style=\"text-align: right;\">\n",
              "      <th></th>\n",
              "      <th>customerID</th>\n",
              "      <th>BeginDate</th>\n",
              "      <th>EndDate</th>\n",
              "      <th>Type</th>\n",
              "      <th>PaperlessBilling</th>\n",
              "      <th>PaymentMethod</th>\n",
              "      <th>MonthlyCharges</th>\n",
              "      <th>TotalCharges</th>\n",
              "      <th>gender</th>\n",
              "      <th>SeniorCitizen</th>\n",
              "      <th>Partner</th>\n",
              "      <th>Dependents</th>\n",
              "      <th>MultipleLines</th>\n",
              "      <th>InternetService</th>\n",
              "      <th>OnlineSecurity</th>\n",
              "      <th>OnlineBackup</th>\n",
              "      <th>DeviceProtection</th>\n",
              "      <th>TechSupport</th>\n",
              "      <th>StreamingTV</th>\n",
              "      <th>StreamingMovies</th>\n",
              "    </tr>\n",
              "  </thead>\n",
              "  <tbody>\n",
              "    <tr>\n",
              "      <th>0</th>\n",
              "      <td>7590-VHVEG</td>\n",
              "      <td>2020-01-01</td>\n",
              "      <td>No</td>\n",
              "      <td>Month-to-month</td>\n",
              "      <td>Yes</td>\n",
              "      <td>Electronic check</td>\n",
              "      <td>29.85</td>\n",
              "      <td>29.85</td>\n",
              "      <td>Female</td>\n",
              "      <td>0</td>\n",
              "      <td>Yes</td>\n",
              "      <td>No</td>\n",
              "      <td>NaN</td>\n",
              "      <td>DSL</td>\n",
              "      <td>No</td>\n",
              "      <td>Yes</td>\n",
              "      <td>No</td>\n",
              "      <td>No</td>\n",
              "      <td>No</td>\n",
              "      <td>No</td>\n",
              "    </tr>\n",
              "    <tr>\n",
              "      <th>1</th>\n",
              "      <td>5575-GNVDE</td>\n",
              "      <td>2017-04-01</td>\n",
              "      <td>No</td>\n",
              "      <td>One year</td>\n",
              "      <td>No</td>\n",
              "      <td>Mailed check</td>\n",
              "      <td>56.95</td>\n",
              "      <td>1889.5</td>\n",
              "      <td>Male</td>\n",
              "      <td>0</td>\n",
              "      <td>No</td>\n",
              "      <td>No</td>\n",
              "      <td>No</td>\n",
              "      <td>DSL</td>\n",
              "      <td>Yes</td>\n",
              "      <td>No</td>\n",
              "      <td>Yes</td>\n",
              "      <td>No</td>\n",
              "      <td>No</td>\n",
              "      <td>No</td>\n",
              "    </tr>\n",
              "    <tr>\n",
              "      <th>2</th>\n",
              "      <td>3668-QPYBK</td>\n",
              "      <td>2019-10-01</td>\n",
              "      <td>2019-12-01 00:00:00</td>\n",
              "      <td>Month-to-month</td>\n",
              "      <td>Yes</td>\n",
              "      <td>Mailed check</td>\n",
              "      <td>53.85</td>\n",
              "      <td>108.15</td>\n",
              "      <td>Male</td>\n",
              "      <td>0</td>\n",
              "      <td>No</td>\n",
              "      <td>No</td>\n",
              "      <td>No</td>\n",
              "      <td>DSL</td>\n",
              "      <td>Yes</td>\n",
              "      <td>Yes</td>\n",
              "      <td>No</td>\n",
              "      <td>No</td>\n",
              "      <td>No</td>\n",
              "      <td>No</td>\n",
              "    </tr>\n",
              "    <tr>\n",
              "      <th>3</th>\n",
              "      <td>7795-CFOCW</td>\n",
              "      <td>2016-05-01</td>\n",
              "      <td>No</td>\n",
              "      <td>One year</td>\n",
              "      <td>No</td>\n",
              "      <td>Bank transfer (automatic)</td>\n",
              "      <td>42.30</td>\n",
              "      <td>1840.75</td>\n",
              "      <td>Male</td>\n",
              "      <td>0</td>\n",
              "      <td>No</td>\n",
              "      <td>No</td>\n",
              "      <td>NaN</td>\n",
              "      <td>DSL</td>\n",
              "      <td>Yes</td>\n",
              "      <td>No</td>\n",
              "      <td>Yes</td>\n",
              "      <td>Yes</td>\n",
              "      <td>No</td>\n",
              "      <td>No</td>\n",
              "    </tr>\n",
              "    <tr>\n",
              "      <th>4</th>\n",
              "      <td>9237-HQITU</td>\n",
              "      <td>2019-09-01</td>\n",
              "      <td>2019-11-01 00:00:00</td>\n",
              "      <td>Month-to-month</td>\n",
              "      <td>Yes</td>\n",
              "      <td>Electronic check</td>\n",
              "      <td>70.70</td>\n",
              "      <td>151.65</td>\n",
              "      <td>Female</td>\n",
              "      <td>0</td>\n",
              "      <td>No</td>\n",
              "      <td>No</td>\n",
              "      <td>No</td>\n",
              "      <td>Fiber optic</td>\n",
              "      <td>No</td>\n",
              "      <td>No</td>\n",
              "      <td>No</td>\n",
              "      <td>No</td>\n",
              "      <td>No</td>\n",
              "      <td>No</td>\n",
              "    </tr>\n",
              "  </tbody>\n",
              "</table>\n",
              "</div>\n",
              "      <button class=\"colab-df-convert\" onclick=\"convertToInteractive('df-109af69c-26ca-46de-b1c1-defe3fca029a')\"\n",
              "              title=\"Convert this dataframe to an interactive table.\"\n",
              "              style=\"display:none;\">\n",
              "        \n",
              "  <svg xmlns=\"http://www.w3.org/2000/svg\" height=\"24px\"viewBox=\"0 0 24 24\"\n",
              "       width=\"24px\">\n",
              "    <path d=\"M0 0h24v24H0V0z\" fill=\"none\"/>\n",
              "    <path d=\"M18.56 5.44l.94 2.06.94-2.06 2.06-.94-2.06-.94-.94-2.06-.94 2.06-2.06.94zm-11 1L8.5 8.5l.94-2.06 2.06-.94-2.06-.94L8.5 2.5l-.94 2.06-2.06.94zm10 10l.94 2.06.94-2.06 2.06-.94-2.06-.94-.94-2.06-.94 2.06-2.06.94z\"/><path d=\"M17.41 7.96l-1.37-1.37c-.4-.4-.92-.59-1.43-.59-.52 0-1.04.2-1.43.59L10.3 9.45l-7.72 7.72c-.78.78-.78 2.05 0 2.83L4 21.41c.39.39.9.59 1.41.59.51 0 1.02-.2 1.41-.59l7.78-7.78 2.81-2.81c.8-.78.8-2.07 0-2.86zM5.41 20L4 18.59l7.72-7.72 1.47 1.35L5.41 20z\"/>\n",
              "  </svg>\n",
              "      </button>\n",
              "      \n",
              "  <style>\n",
              "    .colab-df-container {\n",
              "      display:flex;\n",
              "      flex-wrap:wrap;\n",
              "      gap: 12px;\n",
              "    }\n",
              "\n",
              "    .colab-df-convert {\n",
              "      background-color: #E8F0FE;\n",
              "      border: none;\n",
              "      border-radius: 50%;\n",
              "      cursor: pointer;\n",
              "      display: none;\n",
              "      fill: #1967D2;\n",
              "      height: 32px;\n",
              "      padding: 0 0 0 0;\n",
              "      width: 32px;\n",
              "    }\n",
              "\n",
              "    .colab-df-convert:hover {\n",
              "      background-color: #E2EBFA;\n",
              "      box-shadow: 0px 1px 2px rgba(60, 64, 67, 0.3), 0px 1px 3px 1px rgba(60, 64, 67, 0.15);\n",
              "      fill: #174EA6;\n",
              "    }\n",
              "\n",
              "    [theme=dark] .colab-df-convert {\n",
              "      background-color: #3B4455;\n",
              "      fill: #D2E3FC;\n",
              "    }\n",
              "\n",
              "    [theme=dark] .colab-df-convert:hover {\n",
              "      background-color: #434B5C;\n",
              "      box-shadow: 0px 1px 3px 1px rgba(0, 0, 0, 0.15);\n",
              "      filter: drop-shadow(0px 1px 2px rgba(0, 0, 0, 0.3));\n",
              "      fill: #FFFFFF;\n",
              "    }\n",
              "  </style>\n",
              "\n",
              "      <script>\n",
              "        const buttonEl =\n",
              "          document.querySelector('#df-109af69c-26ca-46de-b1c1-defe3fca029a button.colab-df-convert');\n",
              "        buttonEl.style.display =\n",
              "          google.colab.kernel.accessAllowed ? 'block' : 'none';\n",
              "\n",
              "        async function convertToInteractive(key) {\n",
              "          const element = document.querySelector('#df-109af69c-26ca-46de-b1c1-defe3fca029a');\n",
              "          const dataTable =\n",
              "            await google.colab.kernel.invokeFunction('convertToInteractive',\n",
              "                                                     [key], {});\n",
              "          if (!dataTable) return;\n",
              "\n",
              "          const docLinkHtml = 'Like what you see? Visit the ' +\n",
              "            '<a target=\"_blank\" href=https://colab.research.google.com/notebooks/data_table.ipynb>data table notebook</a>'\n",
              "            + ' to learn more about interactive tables.';\n",
              "          element.innerHTML = '';\n",
              "          dataTable['output_type'] = 'display_data';\n",
              "          await google.colab.output.renderOutput(dataTable, element);\n",
              "          const docLink = document.createElement('div');\n",
              "          docLink.innerHTML = docLinkHtml;\n",
              "          element.appendChild(docLink);\n",
              "        }\n",
              "      </script>\n",
              "    </div>\n",
              "  </div>\n",
              "  "
            ]
          },
          "metadata": {},
          "execution_count": 26
        }
      ],
      "source": [
        "df.head()"
      ]
    },
    {
      "cell_type": "code",
      "execution_count": 27,
      "metadata": {
        "colab": {
          "base_uri": "https://localhost:8080/"
        },
        "id": "1DCa9SmmrG0E",
        "outputId": "2586409b-3472-4efb-eb25-74db87bae044"
      },
      "outputs": [
        {
          "output_type": "stream",
          "name": "stdout",
          "text": [
            "<class 'pandas.core.frame.DataFrame'>\n",
            "Int64Index: 7043 entries, 0 to 7042\n",
            "Data columns (total 20 columns):\n",
            " #   Column            Non-Null Count  Dtype  \n",
            "---  ------            --------------  -----  \n",
            " 0   customerID        7043 non-null   object \n",
            " 1   BeginDate         7043 non-null   object \n",
            " 2   EndDate           7043 non-null   object \n",
            " 3   Type              7043 non-null   object \n",
            " 4   PaperlessBilling  7043 non-null   object \n",
            " 5   PaymentMethod     7043 non-null   object \n",
            " 6   MonthlyCharges    7043 non-null   float64\n",
            " 7   TotalCharges      7043 non-null   object \n",
            " 8   gender            7043 non-null   object \n",
            " 9   SeniorCitizen     7043 non-null   int64  \n",
            " 10  Partner           7043 non-null   object \n",
            " 11  Dependents        7043 non-null   object \n",
            " 12  MultipleLines     6361 non-null   object \n",
            " 13  InternetService   5517 non-null   object \n",
            " 14  OnlineSecurity    5517 non-null   object \n",
            " 15  OnlineBackup      5517 non-null   object \n",
            " 16  DeviceProtection  5517 non-null   object \n",
            " 17  TechSupport       5517 non-null   object \n",
            " 18  StreamingTV       5517 non-null   object \n",
            " 19  StreamingMovies   5517 non-null   object \n",
            "dtypes: float64(1), int64(1), object(18)\n",
            "memory usage: 1.1+ MB\n"
          ]
        }
      ],
      "source": [
        "df.info()"
      ]
    },
    {
      "cell_type": "markdown",
      "metadata": {
        "id": "cuCgEt8zpMP0"
      },
      "source": [
        "Пропуски показывают что данные услуги у определенных клиентов отсутствуют, поэтому заменим пропуски на No."
      ]
    },
    {
      "cell_type": "code",
      "execution_count": 28,
      "metadata": {
        "id": "pcEDNbBZozUu"
      },
      "outputs": [],
      "source": [
        "df[['MultipleLines', 'InternetService', 'OnlineSecurity', \n",
        "    'OnlineBackup', 'DeviceProtection', 'TechSupport', \n",
        "    'StreamingTV', 'StreamingMovies']] = df[['MultipleLines', 'InternetService', 'OnlineSecurity', \n",
        "                                             'OnlineBackup', 'DeviceProtection', 'TechSupport', \n",
        "                                             'StreamingTV', 'StreamingMovies']].fillna('No')"
      ]
    },
    {
      "cell_type": "code",
      "execution_count": 29,
      "metadata": {
        "colab": {
          "base_uri": "https://localhost:8080/"
        },
        "id": "0dOQXYBpt74D",
        "outputId": "64386917-549f-4814-8bdd-257f569ba9ec"
      },
      "outputs": [
        {
          "output_type": "stream",
          "name": "stdout",
          "text": [
            "<class 'pandas.core.frame.DataFrame'>\n",
            "Int64Index: 7043 entries, 0 to 7042\n",
            "Data columns (total 20 columns):\n",
            " #   Column            Non-Null Count  Dtype  \n",
            "---  ------            --------------  -----  \n",
            " 0   customerID        7043 non-null   object \n",
            " 1   BeginDate         7043 non-null   object \n",
            " 2   EndDate           7043 non-null   object \n",
            " 3   Type              7043 non-null   object \n",
            " 4   PaperlessBilling  7043 non-null   object \n",
            " 5   PaymentMethod     7043 non-null   object \n",
            " 6   MonthlyCharges    7043 non-null   float64\n",
            " 7   TotalCharges      7043 non-null   object \n",
            " 8   gender            7043 non-null   object \n",
            " 9   SeniorCitizen     7043 non-null   int64  \n",
            " 10  Partner           7043 non-null   object \n",
            " 11  Dependents        7043 non-null   object \n",
            " 12  MultipleLines     7043 non-null   object \n",
            " 13  InternetService   7043 non-null   object \n",
            " 14  OnlineSecurity    7043 non-null   object \n",
            " 15  OnlineBackup      7043 non-null   object \n",
            " 16  DeviceProtection  7043 non-null   object \n",
            " 17  TechSupport       7043 non-null   object \n",
            " 18  StreamingTV       7043 non-null   object \n",
            " 19  StreamingMovies   7043 non-null   object \n",
            "dtypes: float64(1), int64(1), object(18)\n",
            "memory usage: 1.1+ MB\n"
          ]
        }
      ],
      "source": [
        "df.info()"
      ]
    },
    {
      "cell_type": "code",
      "execution_count": 30,
      "metadata": {
        "colab": {
          "base_uri": "https://localhost:8080/"
        },
        "id": "Z9i-hx8mshM6",
        "outputId": "d96062e9-1d1a-4689-df80-3fdc173c3e83"
      },
      "outputs": [
        {
          "output_type": "execute_result",
          "data": {
            "text/plain": [
              "array(['No', 'Yes'], dtype=object)"
            ]
          },
          "metadata": {},
          "execution_count": 30
        }
      ],
      "source": [
        "df['MultipleLines'].unique()"
      ]
    },
    {
      "cell_type": "code",
      "execution_count": 31,
      "metadata": {
        "colab": {
          "base_uri": "https://localhost:8080/"
        },
        "id": "X_t_EO0Etvyl",
        "outputId": "2990e032-cd3a-486d-e6a1-be6451290c55"
      },
      "outputs": [
        {
          "output_type": "execute_result",
          "data": {
            "text/plain": [
              "array(['DSL', 'Fiber optic', 'No'], dtype=object)"
            ]
          },
          "metadata": {},
          "execution_count": 31
        }
      ],
      "source": [
        "df['InternetService'].unique()"
      ]
    },
    {
      "cell_type": "code",
      "execution_count": 32,
      "metadata": {
        "colab": {
          "base_uri": "https://localhost:8080/"
        },
        "id": "55EuFTzftv_B",
        "outputId": "62773049-c377-407f-c318-01a90916b321"
      },
      "outputs": [
        {
          "output_type": "execute_result",
          "data": {
            "text/plain": [
              "array(['No', 'Yes'], dtype=object)"
            ]
          },
          "metadata": {},
          "execution_count": 32
        }
      ],
      "source": [
        "df['DeviceProtection'].unique()"
      ]
    },
    {
      "cell_type": "code",
      "execution_count": 33,
      "metadata": {
        "colab": {
          "base_uri": "https://localhost:8080/"
        },
        "id": "qEQf-obuuEA7",
        "outputId": "b0c071e6-a5ca-4f49-9826-c989b65ec7ad"
      },
      "outputs": [
        {
          "output_type": "execute_result",
          "data": {
            "text/plain": [
              "array(['No', 'Yes'], dtype=object)"
            ]
          },
          "metadata": {},
          "execution_count": 33
        }
      ],
      "source": [
        "df['StreamingMovies'].unique()"
      ]
    },
    {
      "cell_type": "code",
      "execution_count": 34,
      "metadata": {
        "colab": {
          "base_uri": "https://localhost:8080/"
        },
        "id": "HEx4w2i30jtj",
        "outputId": "a0be5ea4-52b8-49a7-d5d3-df66ef1d2129"
      },
      "outputs": [
        {
          "output_type": "execute_result",
          "data": {
            "text/plain": [
              "7043"
            ]
          },
          "metadata": {},
          "execution_count": 34
        }
      ],
      "source": [
        "len(df['customerID'].unique())"
      ]
    },
    {
      "cell_type": "markdown",
      "metadata": {
        "id": "kHVQVvLiwN0Q"
      },
      "source": [
        "Поменяем тип "
      ]
    },
    {
      "cell_type": "code",
      "execution_count": 35,
      "metadata": {
        "colab": {
          "base_uri": "https://localhost:8080/"
        },
        "id": "iO8ElVA3yC1d",
        "outputId": "40f2fa94-dace-453d-ed43-7d3623a71f89"
      },
      "outputs": [
        {
          "output_type": "execute_result",
          "data": {
            "text/plain": [
              "936            \n",
              "3826           \n",
              "4380           \n",
              "753            \n",
              "5218           \n",
              "3331           \n",
              "6754           \n",
              "6670           \n",
              "1340           \n",
              "488            \n",
              "1082           \n",
              "105       100.2\n",
              "4459     100.25\n",
              "1723     100.35\n",
              "2124      100.4\n",
              "2208      100.8\n",
              "460       100.9\n",
              "3883     1001.2\n",
              "2799     1001.5\n",
              "5337    1003.05\n",
              "Name: TotalCharges, dtype: object"
            ]
          },
          "metadata": {},
          "execution_count": 35
        }
      ],
      "source": [
        "df['TotalCharges'].sort_values().head(20)"
      ]
    },
    {
      "cell_type": "code",
      "execution_count": 36,
      "metadata": {
        "colab": {
          "base_uri": "https://localhost:8080/",
          "height": 641
        },
        "id": "bL1gk9hK1H-X",
        "outputId": "0712bdaa-7608-43ef-ab26-77da2f444c04"
      },
      "outputs": [
        {
          "output_type": "execute_result",
          "data": {
            "text/plain": [
              "      customerID   BeginDate EndDate      Type PaperlessBilling  \\\n",
              "488   4472-LVYGI  2020-02-01      No  Two year              Yes   \n",
              "753   3115-CZMZD  2020-02-01      No  Two year               No   \n",
              "936   5709-LVOEQ  2020-02-01      No  Two year               No   \n",
              "1082  4367-NUYAO  2020-02-01      No  Two year               No   \n",
              "1340  1371-DWPAZ  2020-02-01      No  Two year               No   \n",
              "3331  7644-OMVMY  2020-02-01      No  Two year               No   \n",
              "3826  3213-VVOLG  2020-02-01      No  Two year               No   \n",
              "4380  2520-SGTTA  2020-02-01      No  Two year               No   \n",
              "5218  2923-ARZLG  2020-02-01      No  One year              Yes   \n",
              "6670  4075-WKNIU  2020-02-01      No  Two year               No   \n",
              "6754  2775-SEFEE  2020-02-01      No  Two year              Yes   \n",
              "\n",
              "                  PaymentMethod  MonthlyCharges TotalCharges  gender  \\\n",
              "488   Bank transfer (automatic)           52.55               Female   \n",
              "753                Mailed check           20.25                 Male   \n",
              "936                Mailed check           80.85               Female   \n",
              "1082               Mailed check           25.75                 Male   \n",
              "1340    Credit card (automatic)           56.05               Female   \n",
              "3331               Mailed check           19.85                 Male   \n",
              "3826               Mailed check           25.35                 Male   \n",
              "4380               Mailed check           20.00               Female   \n",
              "5218               Mailed check           19.70                 Male   \n",
              "6670               Mailed check           73.35               Female   \n",
              "6754  Bank transfer (automatic)           61.90                 Male   \n",
              "\n",
              "      SeniorCitizen Partner Dependents MultipleLines InternetService  \\\n",
              "488               0     Yes        Yes            No             DSL   \n",
              "753               0      No        Yes            No              No   \n",
              "936               0     Yes        Yes            No             DSL   \n",
              "1082              0     Yes        Yes           Yes              No   \n",
              "1340              0     Yes        Yes            No             DSL   \n",
              "3331              0     Yes        Yes            No              No   \n",
              "3826              0     Yes        Yes           Yes              No   \n",
              "4380              0     Yes        Yes            No              No   \n",
              "5218              0     Yes        Yes            No              No   \n",
              "6670              0     Yes        Yes           Yes             DSL   \n",
              "6754              0      No        Yes           Yes             DSL   \n",
              "\n",
              "     OnlineSecurity OnlineBackup DeviceProtection TechSupport StreamingTV  \\\n",
              "488             Yes           No              Yes         Yes         Yes   \n",
              "753              No           No               No          No          No   \n",
              "936             Yes          Yes              Yes          No         Yes   \n",
              "1082             No           No               No          No          No   \n",
              "1340            Yes          Yes              Yes         Yes         Yes   \n",
              "3331             No           No               No          No          No   \n",
              "3826             No           No               No          No          No   \n",
              "4380             No           No               No          No          No   \n",
              "5218             No           No               No          No          No   \n",
              "6670             No          Yes              Yes         Yes         Yes   \n",
              "6754            Yes          Yes               No         Yes          No   \n",
              "\n",
              "     StreamingMovies  \n",
              "488               No  \n",
              "753               No  \n",
              "936              Yes  \n",
              "1082              No  \n",
              "1340              No  \n",
              "3331              No  \n",
              "3826              No  \n",
              "4380              No  \n",
              "5218              No  \n",
              "6670              No  \n",
              "6754              No  "
            ],
            "text/html": [
              "\n",
              "  <div id=\"df-36fe4c7b-3404-4f6e-87d6-d5603c9b4288\">\n",
              "    <div class=\"colab-df-container\">\n",
              "      <div>\n",
              "<style scoped>\n",
              "    .dataframe tbody tr th:only-of-type {\n",
              "        vertical-align: middle;\n",
              "    }\n",
              "\n",
              "    .dataframe tbody tr th {\n",
              "        vertical-align: top;\n",
              "    }\n",
              "\n",
              "    .dataframe thead th {\n",
              "        text-align: right;\n",
              "    }\n",
              "</style>\n",
              "<table border=\"1\" class=\"dataframe\">\n",
              "  <thead>\n",
              "    <tr style=\"text-align: right;\">\n",
              "      <th></th>\n",
              "      <th>customerID</th>\n",
              "      <th>BeginDate</th>\n",
              "      <th>EndDate</th>\n",
              "      <th>Type</th>\n",
              "      <th>PaperlessBilling</th>\n",
              "      <th>PaymentMethod</th>\n",
              "      <th>MonthlyCharges</th>\n",
              "      <th>TotalCharges</th>\n",
              "      <th>gender</th>\n",
              "      <th>SeniorCitizen</th>\n",
              "      <th>Partner</th>\n",
              "      <th>Dependents</th>\n",
              "      <th>MultipleLines</th>\n",
              "      <th>InternetService</th>\n",
              "      <th>OnlineSecurity</th>\n",
              "      <th>OnlineBackup</th>\n",
              "      <th>DeviceProtection</th>\n",
              "      <th>TechSupport</th>\n",
              "      <th>StreamingTV</th>\n",
              "      <th>StreamingMovies</th>\n",
              "    </tr>\n",
              "  </thead>\n",
              "  <tbody>\n",
              "    <tr>\n",
              "      <th>488</th>\n",
              "      <td>4472-LVYGI</td>\n",
              "      <td>2020-02-01</td>\n",
              "      <td>No</td>\n",
              "      <td>Two year</td>\n",
              "      <td>Yes</td>\n",
              "      <td>Bank transfer (automatic)</td>\n",
              "      <td>52.55</td>\n",
              "      <td></td>\n",
              "      <td>Female</td>\n",
              "      <td>0</td>\n",
              "      <td>Yes</td>\n",
              "      <td>Yes</td>\n",
              "      <td>No</td>\n",
              "      <td>DSL</td>\n",
              "      <td>Yes</td>\n",
              "      <td>No</td>\n",
              "      <td>Yes</td>\n",
              "      <td>Yes</td>\n",
              "      <td>Yes</td>\n",
              "      <td>No</td>\n",
              "    </tr>\n",
              "    <tr>\n",
              "      <th>753</th>\n",
              "      <td>3115-CZMZD</td>\n",
              "      <td>2020-02-01</td>\n",
              "      <td>No</td>\n",
              "      <td>Two year</td>\n",
              "      <td>No</td>\n",
              "      <td>Mailed check</td>\n",
              "      <td>20.25</td>\n",
              "      <td></td>\n",
              "      <td>Male</td>\n",
              "      <td>0</td>\n",
              "      <td>No</td>\n",
              "      <td>Yes</td>\n",
              "      <td>No</td>\n",
              "      <td>No</td>\n",
              "      <td>No</td>\n",
              "      <td>No</td>\n",
              "      <td>No</td>\n",
              "      <td>No</td>\n",
              "      <td>No</td>\n",
              "      <td>No</td>\n",
              "    </tr>\n",
              "    <tr>\n",
              "      <th>936</th>\n",
              "      <td>5709-LVOEQ</td>\n",
              "      <td>2020-02-01</td>\n",
              "      <td>No</td>\n",
              "      <td>Two year</td>\n",
              "      <td>No</td>\n",
              "      <td>Mailed check</td>\n",
              "      <td>80.85</td>\n",
              "      <td></td>\n",
              "      <td>Female</td>\n",
              "      <td>0</td>\n",
              "      <td>Yes</td>\n",
              "      <td>Yes</td>\n",
              "      <td>No</td>\n",
              "      <td>DSL</td>\n",
              "      <td>Yes</td>\n",
              "      <td>Yes</td>\n",
              "      <td>Yes</td>\n",
              "      <td>No</td>\n",
              "      <td>Yes</td>\n",
              "      <td>Yes</td>\n",
              "    </tr>\n",
              "    <tr>\n",
              "      <th>1082</th>\n",
              "      <td>4367-NUYAO</td>\n",
              "      <td>2020-02-01</td>\n",
              "      <td>No</td>\n",
              "      <td>Two year</td>\n",
              "      <td>No</td>\n",
              "      <td>Mailed check</td>\n",
              "      <td>25.75</td>\n",
              "      <td></td>\n",
              "      <td>Male</td>\n",
              "      <td>0</td>\n",
              "      <td>Yes</td>\n",
              "      <td>Yes</td>\n",
              "      <td>Yes</td>\n",
              "      <td>No</td>\n",
              "      <td>No</td>\n",
              "      <td>No</td>\n",
              "      <td>No</td>\n",
              "      <td>No</td>\n",
              "      <td>No</td>\n",
              "      <td>No</td>\n",
              "    </tr>\n",
              "    <tr>\n",
              "      <th>1340</th>\n",
              "      <td>1371-DWPAZ</td>\n",
              "      <td>2020-02-01</td>\n",
              "      <td>No</td>\n",
              "      <td>Two year</td>\n",
              "      <td>No</td>\n",
              "      <td>Credit card (automatic)</td>\n",
              "      <td>56.05</td>\n",
              "      <td></td>\n",
              "      <td>Female</td>\n",
              "      <td>0</td>\n",
              "      <td>Yes</td>\n",
              "      <td>Yes</td>\n",
              "      <td>No</td>\n",
              "      <td>DSL</td>\n",
              "      <td>Yes</td>\n",
              "      <td>Yes</td>\n",
              "      <td>Yes</td>\n",
              "      <td>Yes</td>\n",
              "      <td>Yes</td>\n",
              "      <td>No</td>\n",
              "    </tr>\n",
              "    <tr>\n",
              "      <th>3331</th>\n",
              "      <td>7644-OMVMY</td>\n",
              "      <td>2020-02-01</td>\n",
              "      <td>No</td>\n",
              "      <td>Two year</td>\n",
              "      <td>No</td>\n",
              "      <td>Mailed check</td>\n",
              "      <td>19.85</td>\n",
              "      <td></td>\n",
              "      <td>Male</td>\n",
              "      <td>0</td>\n",
              "      <td>Yes</td>\n",
              "      <td>Yes</td>\n",
              "      <td>No</td>\n",
              "      <td>No</td>\n",
              "      <td>No</td>\n",
              "      <td>No</td>\n",
              "      <td>No</td>\n",
              "      <td>No</td>\n",
              "      <td>No</td>\n",
              "      <td>No</td>\n",
              "    </tr>\n",
              "    <tr>\n",
              "      <th>3826</th>\n",
              "      <td>3213-VVOLG</td>\n",
              "      <td>2020-02-01</td>\n",
              "      <td>No</td>\n",
              "      <td>Two year</td>\n",
              "      <td>No</td>\n",
              "      <td>Mailed check</td>\n",
              "      <td>25.35</td>\n",
              "      <td></td>\n",
              "      <td>Male</td>\n",
              "      <td>0</td>\n",
              "      <td>Yes</td>\n",
              "      <td>Yes</td>\n",
              "      <td>Yes</td>\n",
              "      <td>No</td>\n",
              "      <td>No</td>\n",
              "      <td>No</td>\n",
              "      <td>No</td>\n",
              "      <td>No</td>\n",
              "      <td>No</td>\n",
              "      <td>No</td>\n",
              "    </tr>\n",
              "    <tr>\n",
              "      <th>4380</th>\n",
              "      <td>2520-SGTTA</td>\n",
              "      <td>2020-02-01</td>\n",
              "      <td>No</td>\n",
              "      <td>Two year</td>\n",
              "      <td>No</td>\n",
              "      <td>Mailed check</td>\n",
              "      <td>20.00</td>\n",
              "      <td></td>\n",
              "      <td>Female</td>\n",
              "      <td>0</td>\n",
              "      <td>Yes</td>\n",
              "      <td>Yes</td>\n",
              "      <td>No</td>\n",
              "      <td>No</td>\n",
              "      <td>No</td>\n",
              "      <td>No</td>\n",
              "      <td>No</td>\n",
              "      <td>No</td>\n",
              "      <td>No</td>\n",
              "      <td>No</td>\n",
              "    </tr>\n",
              "    <tr>\n",
              "      <th>5218</th>\n",
              "      <td>2923-ARZLG</td>\n",
              "      <td>2020-02-01</td>\n",
              "      <td>No</td>\n",
              "      <td>One year</td>\n",
              "      <td>Yes</td>\n",
              "      <td>Mailed check</td>\n",
              "      <td>19.70</td>\n",
              "      <td></td>\n",
              "      <td>Male</td>\n",
              "      <td>0</td>\n",
              "      <td>Yes</td>\n",
              "      <td>Yes</td>\n",
              "      <td>No</td>\n",
              "      <td>No</td>\n",
              "      <td>No</td>\n",
              "      <td>No</td>\n",
              "      <td>No</td>\n",
              "      <td>No</td>\n",
              "      <td>No</td>\n",
              "      <td>No</td>\n",
              "    </tr>\n",
              "    <tr>\n",
              "      <th>6670</th>\n",
              "      <td>4075-WKNIU</td>\n",
              "      <td>2020-02-01</td>\n",
              "      <td>No</td>\n",
              "      <td>Two year</td>\n",
              "      <td>No</td>\n",
              "      <td>Mailed check</td>\n",
              "      <td>73.35</td>\n",
              "      <td></td>\n",
              "      <td>Female</td>\n",
              "      <td>0</td>\n",
              "      <td>Yes</td>\n",
              "      <td>Yes</td>\n",
              "      <td>Yes</td>\n",
              "      <td>DSL</td>\n",
              "      <td>No</td>\n",
              "      <td>Yes</td>\n",
              "      <td>Yes</td>\n",
              "      <td>Yes</td>\n",
              "      <td>Yes</td>\n",
              "      <td>No</td>\n",
              "    </tr>\n",
              "    <tr>\n",
              "      <th>6754</th>\n",
              "      <td>2775-SEFEE</td>\n",
              "      <td>2020-02-01</td>\n",
              "      <td>No</td>\n",
              "      <td>Two year</td>\n",
              "      <td>Yes</td>\n",
              "      <td>Bank transfer (automatic)</td>\n",
              "      <td>61.90</td>\n",
              "      <td></td>\n",
              "      <td>Male</td>\n",
              "      <td>0</td>\n",
              "      <td>No</td>\n",
              "      <td>Yes</td>\n",
              "      <td>Yes</td>\n",
              "      <td>DSL</td>\n",
              "      <td>Yes</td>\n",
              "      <td>Yes</td>\n",
              "      <td>No</td>\n",
              "      <td>Yes</td>\n",
              "      <td>No</td>\n",
              "      <td>No</td>\n",
              "    </tr>\n",
              "  </tbody>\n",
              "</table>\n",
              "</div>\n",
              "      <button class=\"colab-df-convert\" onclick=\"convertToInteractive('df-36fe4c7b-3404-4f6e-87d6-d5603c9b4288')\"\n",
              "              title=\"Convert this dataframe to an interactive table.\"\n",
              "              style=\"display:none;\">\n",
              "        \n",
              "  <svg xmlns=\"http://www.w3.org/2000/svg\" height=\"24px\"viewBox=\"0 0 24 24\"\n",
              "       width=\"24px\">\n",
              "    <path d=\"M0 0h24v24H0V0z\" fill=\"none\"/>\n",
              "    <path d=\"M18.56 5.44l.94 2.06.94-2.06 2.06-.94-2.06-.94-.94-2.06-.94 2.06-2.06.94zm-11 1L8.5 8.5l.94-2.06 2.06-.94-2.06-.94L8.5 2.5l-.94 2.06-2.06.94zm10 10l.94 2.06.94-2.06 2.06-.94-2.06-.94-.94-2.06-.94 2.06-2.06.94z\"/><path d=\"M17.41 7.96l-1.37-1.37c-.4-.4-.92-.59-1.43-.59-.52 0-1.04.2-1.43.59L10.3 9.45l-7.72 7.72c-.78.78-.78 2.05 0 2.83L4 21.41c.39.39.9.59 1.41.59.51 0 1.02-.2 1.41-.59l7.78-7.78 2.81-2.81c.8-.78.8-2.07 0-2.86zM5.41 20L4 18.59l7.72-7.72 1.47 1.35L5.41 20z\"/>\n",
              "  </svg>\n",
              "      </button>\n",
              "      \n",
              "  <style>\n",
              "    .colab-df-container {\n",
              "      display:flex;\n",
              "      flex-wrap:wrap;\n",
              "      gap: 12px;\n",
              "    }\n",
              "\n",
              "    .colab-df-convert {\n",
              "      background-color: #E8F0FE;\n",
              "      border: none;\n",
              "      border-radius: 50%;\n",
              "      cursor: pointer;\n",
              "      display: none;\n",
              "      fill: #1967D2;\n",
              "      height: 32px;\n",
              "      padding: 0 0 0 0;\n",
              "      width: 32px;\n",
              "    }\n",
              "\n",
              "    .colab-df-convert:hover {\n",
              "      background-color: #E2EBFA;\n",
              "      box-shadow: 0px 1px 2px rgba(60, 64, 67, 0.3), 0px 1px 3px 1px rgba(60, 64, 67, 0.15);\n",
              "      fill: #174EA6;\n",
              "    }\n",
              "\n",
              "    [theme=dark] .colab-df-convert {\n",
              "      background-color: #3B4455;\n",
              "      fill: #D2E3FC;\n",
              "    }\n",
              "\n",
              "    [theme=dark] .colab-df-convert:hover {\n",
              "      background-color: #434B5C;\n",
              "      box-shadow: 0px 1px 3px 1px rgba(0, 0, 0, 0.15);\n",
              "      filter: drop-shadow(0px 1px 2px rgba(0, 0, 0, 0.3));\n",
              "      fill: #FFFFFF;\n",
              "    }\n",
              "  </style>\n",
              "\n",
              "      <script>\n",
              "        const buttonEl =\n",
              "          document.querySelector('#df-36fe4c7b-3404-4f6e-87d6-d5603c9b4288 button.colab-df-convert');\n",
              "        buttonEl.style.display =\n",
              "          google.colab.kernel.accessAllowed ? 'block' : 'none';\n",
              "\n",
              "        async function convertToInteractive(key) {\n",
              "          const element = document.querySelector('#df-36fe4c7b-3404-4f6e-87d6-d5603c9b4288');\n",
              "          const dataTable =\n",
              "            await google.colab.kernel.invokeFunction('convertToInteractive',\n",
              "                                                     [key], {});\n",
              "          if (!dataTable) return;\n",
              "\n",
              "          const docLinkHtml = 'Like what you see? Visit the ' +\n",
              "            '<a target=\"_blank\" href=https://colab.research.google.com/notebooks/data_table.ipynb>data table notebook</a>'\n",
              "            + ' to learn more about interactive tables.';\n",
              "          element.innerHTML = '';\n",
              "          dataTable['output_type'] = 'display_data';\n",
              "          await google.colab.output.renderOutput(dataTable, element);\n",
              "          const docLink = document.createElement('div');\n",
              "          docLink.innerHTML = docLinkHtml;\n",
              "          element.appendChild(docLink);\n",
              "        }\n",
              "      </script>\n",
              "    </div>\n",
              "  </div>\n",
              "  "
            ]
          },
          "metadata": {},
          "execution_count": 36
        }
      ],
      "source": [
        "df.loc[df['TotalCharges']==' ']"
      ]
    },
    {
      "cell_type": "markdown",
      "metadata": {
        "id": "ea4uwU381VGP"
      },
      "source": [
        "Так как пропущенных данных всего 11 строк и это те клиенты, которые только заключили договор и не успели заплатить за услуги, то я решила их удалить. Не ясно какими в итоге клиентами они станут, поэтому считаю их не информативными. \n",
        "\n",
        "Для начала превратим все строки, которые невозможно было преобразовать в числовые значения, в NaN. Потом изменим тип данных и далее уже удалим строки с пропусками."
      ]
    },
    {
      "cell_type": "code",
      "execution_count": 37,
      "metadata": {
        "id": "AfvFMTRIzA5B"
      },
      "outputs": [],
      "source": [
        "df['TotalCharges'] = pd.to_numeric(df['TotalCharges'],errors='coerce')"
      ]
    },
    {
      "cell_type": "code",
      "execution_count": 38,
      "metadata": {
        "colab": {
          "base_uri": "https://localhost:8080/"
        },
        "id": "UgUi7-Gd8AEM",
        "outputId": "efc4e0c2-c307-41a3-a9b0-be7544ffc48f"
      },
      "outputs": [
        {
          "output_type": "execute_result",
          "data": {
            "text/plain": [
              "1654    18.80\n",
              "6489    18.85\n",
              "1151    18.85\n",
              "4939    18.90\n",
              "583     19.00\n",
              "1733    19.05\n",
              "3110    19.10\n",
              "4348    19.10\n",
              "5336    19.10\n",
              "367     19.15\n",
              "Name: TotalCharges, dtype: float64"
            ]
          },
          "metadata": {},
          "execution_count": 38
        }
      ],
      "source": [
        "df['TotalCharges'].sort_values().head(10)"
      ]
    },
    {
      "cell_type": "code",
      "execution_count": 39,
      "metadata": {
        "id": "A1D8kJFFuEkm"
      },
      "outputs": [],
      "source": [
        "df['TotalCharges'] = df['TotalCharges'].astype('float32')"
      ]
    },
    {
      "cell_type": "code",
      "execution_count": 40,
      "metadata": {
        "colab": {
          "base_uri": "https://localhost:8080/"
        },
        "id": "aIVZ-7228tqm",
        "outputId": "bdfabcd4-7fc5-47fc-f817-c9f1ab427aaa"
      },
      "outputs": [
        {
          "output_type": "stream",
          "name": "stdout",
          "text": [
            "<class 'pandas.core.frame.DataFrame'>\n",
            "Int64Index: 7043 entries, 0 to 7042\n",
            "Data columns (total 20 columns):\n",
            " #   Column            Non-Null Count  Dtype  \n",
            "---  ------            --------------  -----  \n",
            " 0   customerID        7043 non-null   object \n",
            " 1   BeginDate         7043 non-null   object \n",
            " 2   EndDate           7043 non-null   object \n",
            " 3   Type              7043 non-null   object \n",
            " 4   PaperlessBilling  7043 non-null   object \n",
            " 5   PaymentMethod     7043 non-null   object \n",
            " 6   MonthlyCharges    7043 non-null   float64\n",
            " 7   TotalCharges      7032 non-null   float32\n",
            " 8   gender            7043 non-null   object \n",
            " 9   SeniorCitizen     7043 non-null   int64  \n",
            " 10  Partner           7043 non-null   object \n",
            " 11  Dependents        7043 non-null   object \n",
            " 12  MultipleLines     7043 non-null   object \n",
            " 13  InternetService   7043 non-null   object \n",
            " 14  OnlineSecurity    7043 non-null   object \n",
            " 15  OnlineBackup      7043 non-null   object \n",
            " 16  DeviceProtection  7043 non-null   object \n",
            " 17  TechSupport       7043 non-null   object \n",
            " 18  StreamingTV       7043 non-null   object \n",
            " 19  StreamingMovies   7043 non-null   object \n",
            "dtypes: float32(1), float64(1), int64(1), object(17)\n",
            "memory usage: 1.1+ MB\n"
          ]
        }
      ],
      "source": [
        "df.info()"
      ]
    },
    {
      "cell_type": "code",
      "execution_count": 41,
      "metadata": {
        "id": "AXn69hZ48zlh"
      },
      "outputs": [],
      "source": [
        "df = df.dropna(subset=['TotalCharges'])"
      ]
    },
    {
      "cell_type": "code",
      "execution_count": 42,
      "metadata": {
        "colab": {
          "base_uri": "https://localhost:8080/"
        },
        "id": "tLlTW0QMp_79",
        "outputId": "8e59a9d6-5aae-4a2a-9265-94fa4126728f"
      },
      "outputs": [
        {
          "output_type": "stream",
          "name": "stdout",
          "text": [
            "<class 'pandas.core.frame.DataFrame'>\n",
            "Int64Index: 7032 entries, 0 to 7042\n",
            "Data columns (total 20 columns):\n",
            " #   Column            Non-Null Count  Dtype  \n",
            "---  ------            --------------  -----  \n",
            " 0   customerID        7032 non-null   object \n",
            " 1   BeginDate         7032 non-null   object \n",
            " 2   EndDate           7032 non-null   object \n",
            " 3   Type              7032 non-null   object \n",
            " 4   PaperlessBilling  7032 non-null   object \n",
            " 5   PaymentMethod     7032 non-null   object \n",
            " 6   MonthlyCharges    7032 non-null   float64\n",
            " 7   TotalCharges      7032 non-null   float32\n",
            " 8   gender            7032 non-null   object \n",
            " 9   SeniorCitizen     7032 non-null   int64  \n",
            " 10  Partner           7032 non-null   object \n",
            " 11  Dependents        7032 non-null   object \n",
            " 12  MultipleLines     7032 non-null   object \n",
            " 13  InternetService   7032 non-null   object \n",
            " 14  OnlineSecurity    7032 non-null   object \n",
            " 15  OnlineBackup      7032 non-null   object \n",
            " 16  DeviceProtection  7032 non-null   object \n",
            " 17  TechSupport       7032 non-null   object \n",
            " 18  StreamingTV       7032 non-null   object \n",
            " 19  StreamingMovies   7032 non-null   object \n",
            "dtypes: float32(1), float64(1), int64(1), object(17)\n",
            "memory usage: 1.1+ MB\n"
          ]
        }
      ],
      "source": [
        "df.info()"
      ]
    },
    {
      "cell_type": "markdown",
      "metadata": {
        "id": "qJN141y49GqW"
      },
      "source": [
        "Теперь в данных 7032 строк. Для. проверки запустили команду shape .\n",
        "\n",
        "Далее заменим целевой признак на бинарный вариант ушел ли клиент или нет."
      ]
    },
    {
      "cell_type": "code",
      "execution_count": 43,
      "metadata": {
        "id": "675J7KPrfDIn"
      },
      "outputs": [],
      "source": [
        "def TheEnd (left):\n",
        "    if left == 'No':\n",
        "        return 0\n",
        "    if left != 'No':\n",
        "        return 1\n",
        "df['TheEnd'] = df['EndDate'].apply(TheEnd)"
      ]
    },
    {
      "cell_type": "code",
      "execution_count": 44,
      "metadata": {
        "colab": {
          "base_uri": "https://localhost:8080/"
        },
        "id": "7Bv6-HSekWq0",
        "outputId": "9b84bbc4-4565-4a1c-be35-ee27ce04c86b"
      },
      "outputs": [
        {
          "output_type": "execute_result",
          "data": {
            "text/plain": [
              "array([0, 1])"
            ]
          },
          "metadata": {},
          "execution_count": 44
        }
      ],
      "source": [
        "df['TheEnd'].unique()"
      ]
    },
    {
      "cell_type": "code",
      "execution_count": 45,
      "metadata": {
        "colab": {
          "base_uri": "https://localhost:8080/",
          "height": 712
        },
        "id": "csq8tpMnkb60",
        "outputId": "0aa61e31-302a-47df-d009-b3974452b9f1"
      },
      "outputs": [
        {
          "output_type": "execute_result",
          "data": {
            "text/plain": [
              "   customerID   BeginDate              EndDate            Type  \\\n",
              "0  7590-VHVEG  2020-01-01                   No  Month-to-month   \n",
              "1  5575-GNVDE  2017-04-01                   No        One year   \n",
              "2  3668-QPYBK  2019-10-01  2019-12-01 00:00:00  Month-to-month   \n",
              "3  7795-CFOCW  2016-05-01                   No        One year   \n",
              "4  9237-HQITU  2019-09-01  2019-11-01 00:00:00  Month-to-month   \n",
              "5  9305-CDSKC  2019-03-01  2019-11-01 00:00:00  Month-to-month   \n",
              "6  1452-KIOVK  2018-04-01                   No  Month-to-month   \n",
              "7  6713-OKOMC  2019-04-01                   No  Month-to-month   \n",
              "8  7892-POOKP  2017-07-01  2019-11-01 00:00:00  Month-to-month   \n",
              "9  6388-TABGU  2014-12-01                   No        One year   \n",
              "\n",
              "  PaperlessBilling              PaymentMethod  MonthlyCharges  TotalCharges  \\\n",
              "0              Yes           Electronic check           29.85     29.850000   \n",
              "1               No               Mailed check           56.95   1889.500000   \n",
              "2              Yes               Mailed check           53.85    108.150002   \n",
              "3               No  Bank transfer (automatic)           42.30   1840.750000   \n",
              "4              Yes           Electronic check           70.70    151.649994   \n",
              "5              Yes           Electronic check           99.65    820.500000   \n",
              "6              Yes    Credit card (automatic)           89.10   1949.400024   \n",
              "7               No               Mailed check           29.75    301.899994   \n",
              "8              Yes           Electronic check          104.80   3046.050049   \n",
              "9               No  Bank transfer (automatic)           56.15   3487.949951   \n",
              "\n",
              "   gender  SeniorCitizen Partner Dependents MultipleLines InternetService  \\\n",
              "0  Female              0     Yes         No            No             DSL   \n",
              "1    Male              0      No         No            No             DSL   \n",
              "2    Male              0      No         No            No             DSL   \n",
              "3    Male              0      No         No            No             DSL   \n",
              "4  Female              0      No         No            No     Fiber optic   \n",
              "5  Female              0      No         No           Yes     Fiber optic   \n",
              "6    Male              0      No        Yes           Yes     Fiber optic   \n",
              "7  Female              0      No         No            No             DSL   \n",
              "8  Female              0     Yes         No           Yes     Fiber optic   \n",
              "9    Male              0      No        Yes            No             DSL   \n",
              "\n",
              "  OnlineSecurity OnlineBackup DeviceProtection TechSupport StreamingTV  \\\n",
              "0             No          Yes               No          No          No   \n",
              "1            Yes           No              Yes          No          No   \n",
              "2            Yes          Yes               No          No          No   \n",
              "3            Yes           No              Yes         Yes          No   \n",
              "4             No           No               No          No          No   \n",
              "5             No           No              Yes          No         Yes   \n",
              "6             No          Yes               No          No         Yes   \n",
              "7            Yes           No               No          No          No   \n",
              "8             No           No              Yes         Yes         Yes   \n",
              "9            Yes          Yes               No          No          No   \n",
              "\n",
              "  StreamingMovies  TheEnd  \n",
              "0              No       0  \n",
              "1              No       0  \n",
              "2              No       1  \n",
              "3              No       0  \n",
              "4              No       1  \n",
              "5             Yes       1  \n",
              "6              No       0  \n",
              "7              No       0  \n",
              "8             Yes       1  \n",
              "9              No       0  "
            ],
            "text/html": [
              "\n",
              "  <div id=\"df-1bade2ef-9fce-48b0-84fe-d8617f2962b2\">\n",
              "    <div class=\"colab-df-container\">\n",
              "      <div>\n",
              "<style scoped>\n",
              "    .dataframe tbody tr th:only-of-type {\n",
              "        vertical-align: middle;\n",
              "    }\n",
              "\n",
              "    .dataframe tbody tr th {\n",
              "        vertical-align: top;\n",
              "    }\n",
              "\n",
              "    .dataframe thead th {\n",
              "        text-align: right;\n",
              "    }\n",
              "</style>\n",
              "<table border=\"1\" class=\"dataframe\">\n",
              "  <thead>\n",
              "    <tr style=\"text-align: right;\">\n",
              "      <th></th>\n",
              "      <th>customerID</th>\n",
              "      <th>BeginDate</th>\n",
              "      <th>EndDate</th>\n",
              "      <th>Type</th>\n",
              "      <th>PaperlessBilling</th>\n",
              "      <th>PaymentMethod</th>\n",
              "      <th>MonthlyCharges</th>\n",
              "      <th>TotalCharges</th>\n",
              "      <th>gender</th>\n",
              "      <th>SeniorCitizen</th>\n",
              "      <th>Partner</th>\n",
              "      <th>Dependents</th>\n",
              "      <th>MultipleLines</th>\n",
              "      <th>InternetService</th>\n",
              "      <th>OnlineSecurity</th>\n",
              "      <th>OnlineBackup</th>\n",
              "      <th>DeviceProtection</th>\n",
              "      <th>TechSupport</th>\n",
              "      <th>StreamingTV</th>\n",
              "      <th>StreamingMovies</th>\n",
              "      <th>TheEnd</th>\n",
              "    </tr>\n",
              "  </thead>\n",
              "  <tbody>\n",
              "    <tr>\n",
              "      <th>0</th>\n",
              "      <td>7590-VHVEG</td>\n",
              "      <td>2020-01-01</td>\n",
              "      <td>No</td>\n",
              "      <td>Month-to-month</td>\n",
              "      <td>Yes</td>\n",
              "      <td>Electronic check</td>\n",
              "      <td>29.85</td>\n",
              "      <td>29.850000</td>\n",
              "      <td>Female</td>\n",
              "      <td>0</td>\n",
              "      <td>Yes</td>\n",
              "      <td>No</td>\n",
              "      <td>No</td>\n",
              "      <td>DSL</td>\n",
              "      <td>No</td>\n",
              "      <td>Yes</td>\n",
              "      <td>No</td>\n",
              "      <td>No</td>\n",
              "      <td>No</td>\n",
              "      <td>No</td>\n",
              "      <td>0</td>\n",
              "    </tr>\n",
              "    <tr>\n",
              "      <th>1</th>\n",
              "      <td>5575-GNVDE</td>\n",
              "      <td>2017-04-01</td>\n",
              "      <td>No</td>\n",
              "      <td>One year</td>\n",
              "      <td>No</td>\n",
              "      <td>Mailed check</td>\n",
              "      <td>56.95</td>\n",
              "      <td>1889.500000</td>\n",
              "      <td>Male</td>\n",
              "      <td>0</td>\n",
              "      <td>No</td>\n",
              "      <td>No</td>\n",
              "      <td>No</td>\n",
              "      <td>DSL</td>\n",
              "      <td>Yes</td>\n",
              "      <td>No</td>\n",
              "      <td>Yes</td>\n",
              "      <td>No</td>\n",
              "      <td>No</td>\n",
              "      <td>No</td>\n",
              "      <td>0</td>\n",
              "    </tr>\n",
              "    <tr>\n",
              "      <th>2</th>\n",
              "      <td>3668-QPYBK</td>\n",
              "      <td>2019-10-01</td>\n",
              "      <td>2019-12-01 00:00:00</td>\n",
              "      <td>Month-to-month</td>\n",
              "      <td>Yes</td>\n",
              "      <td>Mailed check</td>\n",
              "      <td>53.85</td>\n",
              "      <td>108.150002</td>\n",
              "      <td>Male</td>\n",
              "      <td>0</td>\n",
              "      <td>No</td>\n",
              "      <td>No</td>\n",
              "      <td>No</td>\n",
              "      <td>DSL</td>\n",
              "      <td>Yes</td>\n",
              "      <td>Yes</td>\n",
              "      <td>No</td>\n",
              "      <td>No</td>\n",
              "      <td>No</td>\n",
              "      <td>No</td>\n",
              "      <td>1</td>\n",
              "    </tr>\n",
              "    <tr>\n",
              "      <th>3</th>\n",
              "      <td>7795-CFOCW</td>\n",
              "      <td>2016-05-01</td>\n",
              "      <td>No</td>\n",
              "      <td>One year</td>\n",
              "      <td>No</td>\n",
              "      <td>Bank transfer (automatic)</td>\n",
              "      <td>42.30</td>\n",
              "      <td>1840.750000</td>\n",
              "      <td>Male</td>\n",
              "      <td>0</td>\n",
              "      <td>No</td>\n",
              "      <td>No</td>\n",
              "      <td>No</td>\n",
              "      <td>DSL</td>\n",
              "      <td>Yes</td>\n",
              "      <td>No</td>\n",
              "      <td>Yes</td>\n",
              "      <td>Yes</td>\n",
              "      <td>No</td>\n",
              "      <td>No</td>\n",
              "      <td>0</td>\n",
              "    </tr>\n",
              "    <tr>\n",
              "      <th>4</th>\n",
              "      <td>9237-HQITU</td>\n",
              "      <td>2019-09-01</td>\n",
              "      <td>2019-11-01 00:00:00</td>\n",
              "      <td>Month-to-month</td>\n",
              "      <td>Yes</td>\n",
              "      <td>Electronic check</td>\n",
              "      <td>70.70</td>\n",
              "      <td>151.649994</td>\n",
              "      <td>Female</td>\n",
              "      <td>0</td>\n",
              "      <td>No</td>\n",
              "      <td>No</td>\n",
              "      <td>No</td>\n",
              "      <td>Fiber optic</td>\n",
              "      <td>No</td>\n",
              "      <td>No</td>\n",
              "      <td>No</td>\n",
              "      <td>No</td>\n",
              "      <td>No</td>\n",
              "      <td>No</td>\n",
              "      <td>1</td>\n",
              "    </tr>\n",
              "    <tr>\n",
              "      <th>5</th>\n",
              "      <td>9305-CDSKC</td>\n",
              "      <td>2019-03-01</td>\n",
              "      <td>2019-11-01 00:00:00</td>\n",
              "      <td>Month-to-month</td>\n",
              "      <td>Yes</td>\n",
              "      <td>Electronic check</td>\n",
              "      <td>99.65</td>\n",
              "      <td>820.500000</td>\n",
              "      <td>Female</td>\n",
              "      <td>0</td>\n",
              "      <td>No</td>\n",
              "      <td>No</td>\n",
              "      <td>Yes</td>\n",
              "      <td>Fiber optic</td>\n",
              "      <td>No</td>\n",
              "      <td>No</td>\n",
              "      <td>Yes</td>\n",
              "      <td>No</td>\n",
              "      <td>Yes</td>\n",
              "      <td>Yes</td>\n",
              "      <td>1</td>\n",
              "    </tr>\n",
              "    <tr>\n",
              "      <th>6</th>\n",
              "      <td>1452-KIOVK</td>\n",
              "      <td>2018-04-01</td>\n",
              "      <td>No</td>\n",
              "      <td>Month-to-month</td>\n",
              "      <td>Yes</td>\n",
              "      <td>Credit card (automatic)</td>\n",
              "      <td>89.10</td>\n",
              "      <td>1949.400024</td>\n",
              "      <td>Male</td>\n",
              "      <td>0</td>\n",
              "      <td>No</td>\n",
              "      <td>Yes</td>\n",
              "      <td>Yes</td>\n",
              "      <td>Fiber optic</td>\n",
              "      <td>No</td>\n",
              "      <td>Yes</td>\n",
              "      <td>No</td>\n",
              "      <td>No</td>\n",
              "      <td>Yes</td>\n",
              "      <td>No</td>\n",
              "      <td>0</td>\n",
              "    </tr>\n",
              "    <tr>\n",
              "      <th>7</th>\n",
              "      <td>6713-OKOMC</td>\n",
              "      <td>2019-04-01</td>\n",
              "      <td>No</td>\n",
              "      <td>Month-to-month</td>\n",
              "      <td>No</td>\n",
              "      <td>Mailed check</td>\n",
              "      <td>29.75</td>\n",
              "      <td>301.899994</td>\n",
              "      <td>Female</td>\n",
              "      <td>0</td>\n",
              "      <td>No</td>\n",
              "      <td>No</td>\n",
              "      <td>No</td>\n",
              "      <td>DSL</td>\n",
              "      <td>Yes</td>\n",
              "      <td>No</td>\n",
              "      <td>No</td>\n",
              "      <td>No</td>\n",
              "      <td>No</td>\n",
              "      <td>No</td>\n",
              "      <td>0</td>\n",
              "    </tr>\n",
              "    <tr>\n",
              "      <th>8</th>\n",
              "      <td>7892-POOKP</td>\n",
              "      <td>2017-07-01</td>\n",
              "      <td>2019-11-01 00:00:00</td>\n",
              "      <td>Month-to-month</td>\n",
              "      <td>Yes</td>\n",
              "      <td>Electronic check</td>\n",
              "      <td>104.80</td>\n",
              "      <td>3046.050049</td>\n",
              "      <td>Female</td>\n",
              "      <td>0</td>\n",
              "      <td>Yes</td>\n",
              "      <td>No</td>\n",
              "      <td>Yes</td>\n",
              "      <td>Fiber optic</td>\n",
              "      <td>No</td>\n",
              "      <td>No</td>\n",
              "      <td>Yes</td>\n",
              "      <td>Yes</td>\n",
              "      <td>Yes</td>\n",
              "      <td>Yes</td>\n",
              "      <td>1</td>\n",
              "    </tr>\n",
              "    <tr>\n",
              "      <th>9</th>\n",
              "      <td>6388-TABGU</td>\n",
              "      <td>2014-12-01</td>\n",
              "      <td>No</td>\n",
              "      <td>One year</td>\n",
              "      <td>No</td>\n",
              "      <td>Bank transfer (automatic)</td>\n",
              "      <td>56.15</td>\n",
              "      <td>3487.949951</td>\n",
              "      <td>Male</td>\n",
              "      <td>0</td>\n",
              "      <td>No</td>\n",
              "      <td>Yes</td>\n",
              "      <td>No</td>\n",
              "      <td>DSL</td>\n",
              "      <td>Yes</td>\n",
              "      <td>Yes</td>\n",
              "      <td>No</td>\n",
              "      <td>No</td>\n",
              "      <td>No</td>\n",
              "      <td>No</td>\n",
              "      <td>0</td>\n",
              "    </tr>\n",
              "  </tbody>\n",
              "</table>\n",
              "</div>\n",
              "      <button class=\"colab-df-convert\" onclick=\"convertToInteractive('df-1bade2ef-9fce-48b0-84fe-d8617f2962b2')\"\n",
              "              title=\"Convert this dataframe to an interactive table.\"\n",
              "              style=\"display:none;\">\n",
              "        \n",
              "  <svg xmlns=\"http://www.w3.org/2000/svg\" height=\"24px\"viewBox=\"0 0 24 24\"\n",
              "       width=\"24px\">\n",
              "    <path d=\"M0 0h24v24H0V0z\" fill=\"none\"/>\n",
              "    <path d=\"M18.56 5.44l.94 2.06.94-2.06 2.06-.94-2.06-.94-.94-2.06-.94 2.06-2.06.94zm-11 1L8.5 8.5l.94-2.06 2.06-.94-2.06-.94L8.5 2.5l-.94 2.06-2.06.94zm10 10l.94 2.06.94-2.06 2.06-.94-2.06-.94-.94-2.06-.94 2.06-2.06.94z\"/><path d=\"M17.41 7.96l-1.37-1.37c-.4-.4-.92-.59-1.43-.59-.52 0-1.04.2-1.43.59L10.3 9.45l-7.72 7.72c-.78.78-.78 2.05 0 2.83L4 21.41c.39.39.9.59 1.41.59.51 0 1.02-.2 1.41-.59l7.78-7.78 2.81-2.81c.8-.78.8-2.07 0-2.86zM5.41 20L4 18.59l7.72-7.72 1.47 1.35L5.41 20z\"/>\n",
              "  </svg>\n",
              "      </button>\n",
              "      \n",
              "  <style>\n",
              "    .colab-df-container {\n",
              "      display:flex;\n",
              "      flex-wrap:wrap;\n",
              "      gap: 12px;\n",
              "    }\n",
              "\n",
              "    .colab-df-convert {\n",
              "      background-color: #E8F0FE;\n",
              "      border: none;\n",
              "      border-radius: 50%;\n",
              "      cursor: pointer;\n",
              "      display: none;\n",
              "      fill: #1967D2;\n",
              "      height: 32px;\n",
              "      padding: 0 0 0 0;\n",
              "      width: 32px;\n",
              "    }\n",
              "\n",
              "    .colab-df-convert:hover {\n",
              "      background-color: #E2EBFA;\n",
              "      box-shadow: 0px 1px 2px rgba(60, 64, 67, 0.3), 0px 1px 3px 1px rgba(60, 64, 67, 0.15);\n",
              "      fill: #174EA6;\n",
              "    }\n",
              "\n",
              "    [theme=dark] .colab-df-convert {\n",
              "      background-color: #3B4455;\n",
              "      fill: #D2E3FC;\n",
              "    }\n",
              "\n",
              "    [theme=dark] .colab-df-convert:hover {\n",
              "      background-color: #434B5C;\n",
              "      box-shadow: 0px 1px 3px 1px rgba(0, 0, 0, 0.15);\n",
              "      filter: drop-shadow(0px 1px 2px rgba(0, 0, 0, 0.3));\n",
              "      fill: #FFFFFF;\n",
              "    }\n",
              "  </style>\n",
              "\n",
              "      <script>\n",
              "        const buttonEl =\n",
              "          document.querySelector('#df-1bade2ef-9fce-48b0-84fe-d8617f2962b2 button.colab-df-convert');\n",
              "        buttonEl.style.display =\n",
              "          google.colab.kernel.accessAllowed ? 'block' : 'none';\n",
              "\n",
              "        async function convertToInteractive(key) {\n",
              "          const element = document.querySelector('#df-1bade2ef-9fce-48b0-84fe-d8617f2962b2');\n",
              "          const dataTable =\n",
              "            await google.colab.kernel.invokeFunction('convertToInteractive',\n",
              "                                                     [key], {});\n",
              "          if (!dataTable) return;\n",
              "\n",
              "          const docLinkHtml = 'Like what you see? Visit the ' +\n",
              "            '<a target=\"_blank\" href=https://colab.research.google.com/notebooks/data_table.ipynb>data table notebook</a>'\n",
              "            + ' to learn more about interactive tables.';\n",
              "          element.innerHTML = '';\n",
              "          dataTable['output_type'] = 'display_data';\n",
              "          await google.colab.output.renderOutput(dataTable, element);\n",
              "          const docLink = document.createElement('div');\n",
              "          docLink.innerHTML = docLinkHtml;\n",
              "          element.appendChild(docLink);\n",
              "        }\n",
              "      </script>\n",
              "    </div>\n",
              "  </div>\n",
              "  "
            ]
          },
          "metadata": {},
          "execution_count": 45
        }
      ],
      "source": [
        "df.head(10)"
      ]
    },
    {
      "cell_type": "markdown",
      "metadata": {
        "id": "0zHUDF8xjouT"
      },
      "source": [
        "Для полноты счастья переведем все столбцы с бинарными ответами Да или Нет к значению 1 или 0 посредством функции выше:"
      ]
    },
    {
      "cell_type": "code",
      "execution_count": 46,
      "metadata": {
        "colab": {
          "base_uri": "https://localhost:8080/"
        },
        "id": "aEdED-YCfDQf",
        "outputId": "da32119f-dd8f-4be0-eea0-640f0e53ef18"
      },
      "outputs": [
        {
          "output_type": "stream",
          "name": "stdout",
          "text": [
            "['Yes' 'No']\n"
          ]
        }
      ],
      "source": [
        "print(df['PaperlessBilling'].unique())"
      ]
    },
    {
      "cell_type": "code",
      "execution_count": 47,
      "metadata": {
        "colab": {
          "base_uri": "https://localhost:8080/"
        },
        "id": "JFyxpbBq0LP1",
        "outputId": "0e699b47-c07a-4e3a-9b67-09e39eee03e7"
      },
      "outputs": [
        {
          "output_type": "stream",
          "name": "stdout",
          "text": [
            "['Yes' 'No']\n"
          ]
        }
      ],
      "source": [
        "print(df['Partner'].unique())"
      ]
    },
    {
      "cell_type": "code",
      "execution_count": 48,
      "metadata": {
        "colab": {
          "base_uri": "https://localhost:8080/"
        },
        "id": "mXtRxOq30LZG",
        "outputId": "8bb2f9ab-b73f-49e3-ebef-4b3804907e42"
      },
      "outputs": [
        {
          "output_type": "stream",
          "name": "stdout",
          "text": [
            "['No' 'Yes']\n"
          ]
        }
      ],
      "source": [
        "print(df['Dependents'].unique())"
      ]
    },
    {
      "cell_type": "code",
      "execution_count": 49,
      "metadata": {
        "colab": {
          "base_uri": "https://localhost:8080/"
        },
        "id": "dFpyICjU0Lh7",
        "outputId": "2cde8652-4776-40b8-d4b0-e78cb8b0d841"
      },
      "outputs": [
        {
          "output_type": "stream",
          "name": "stdout",
          "text": [
            "['No' 'Yes']\n"
          ]
        }
      ],
      "source": [
        "print(df['MultipleLines'].unique())"
      ]
    },
    {
      "cell_type": "code",
      "execution_count": 50,
      "metadata": {
        "colab": {
          "base_uri": "https://localhost:8080/"
        },
        "id": "IQHMpFnz0LqP",
        "outputId": "cb3e38fe-119d-4c12-a883-d4ba51d09f35"
      },
      "outputs": [
        {
          "output_type": "stream",
          "name": "stdout",
          "text": [
            "['No' 'Yes']\n"
          ]
        }
      ],
      "source": [
        "print(df['OnlineSecurity'].unique())"
      ]
    },
    {
      "cell_type": "code",
      "execution_count": 51,
      "metadata": {
        "colab": {
          "base_uri": "https://localhost:8080/"
        },
        "id": "bcjaYvLe0LyW",
        "outputId": "9040dcf6-ec14-4342-f6f9-ada7d2adbdce"
      },
      "outputs": [
        {
          "output_type": "stream",
          "name": "stdout",
          "text": [
            "['Yes' 'No']\n"
          ]
        }
      ],
      "source": [
        "print(df['OnlineBackup'].unique())"
      ]
    },
    {
      "cell_type": "code",
      "execution_count": 52,
      "metadata": {
        "colab": {
          "base_uri": "https://localhost:8080/"
        },
        "id": "upoheZ8Z0L6Z",
        "outputId": "342e4d65-422e-4093-8d3c-bc640b802361"
      },
      "outputs": [
        {
          "output_type": "stream",
          "name": "stdout",
          "text": [
            "['No' 'Yes']\n"
          ]
        }
      ],
      "source": [
        "print(df['DeviceProtection'].unique())"
      ]
    },
    {
      "cell_type": "code",
      "execution_count": 53,
      "metadata": {
        "colab": {
          "base_uri": "https://localhost:8080/"
        },
        "id": "5BxcE6Ev0MBK",
        "outputId": "53bfc66e-2eef-4afe-a68d-8392732f3e9e"
      },
      "outputs": [
        {
          "output_type": "stream",
          "name": "stdout",
          "text": [
            "['No' 'Yes']\n"
          ]
        }
      ],
      "source": [
        "print(df['TechSupport'].unique())"
      ]
    },
    {
      "cell_type": "code",
      "execution_count": 54,
      "metadata": {
        "colab": {
          "base_uri": "https://localhost:8080/"
        },
        "id": "TE_uCHzX0T7d",
        "outputId": "9ac71857-f215-43d0-c28e-e9d3c9d27c77"
      },
      "outputs": [
        {
          "output_type": "stream",
          "name": "stdout",
          "text": [
            "['No' 'Yes']\n"
          ]
        }
      ],
      "source": [
        "print(df['StreamingTV'].unique())"
      ]
    },
    {
      "cell_type": "code",
      "execution_count": 55,
      "metadata": {
        "colab": {
          "base_uri": "https://localhost:8080/"
        },
        "id": "jMIh1V160UFT",
        "outputId": "41dd7751-15b2-4ab3-cc46-51d6f530a176"
      },
      "outputs": [
        {
          "output_type": "stream",
          "name": "stdout",
          "text": [
            "['No' 'Yes']\n"
          ]
        }
      ],
      "source": [
        "print(df['StreamingMovies'].unique())"
      ]
    },
    {
      "cell_type": "code",
      "execution_count": 56,
      "metadata": {
        "id": "7Vt5qvDnlCjc"
      },
      "outputs": [],
      "source": [
        "df['PaperlessBilling'] = df['PaperlessBilling'].apply(TheEnd)"
      ]
    },
    {
      "cell_type": "code",
      "execution_count": 57,
      "metadata": {
        "id": "7Vv2xq7Plksd"
      },
      "outputs": [],
      "source": [
        "df['Partner'] = df['Partner'].apply(TheEnd)"
      ]
    },
    {
      "cell_type": "code",
      "execution_count": 58,
      "metadata": {
        "id": "7xAV9wfelk7x"
      },
      "outputs": [],
      "source": [
        "df['Dependents'] = df['Dependents'].apply(TheEnd)"
      ]
    },
    {
      "cell_type": "code",
      "execution_count": 59,
      "metadata": {
        "id": "vFEDDdqImVzZ"
      },
      "outputs": [],
      "source": [
        "df['MultipleLines'] = df['MultipleLines'].apply(TheEnd)"
      ]
    },
    {
      "cell_type": "code",
      "execution_count": 60,
      "metadata": {
        "id": "6Zf9r45wmd-p"
      },
      "outputs": [],
      "source": [
        "df['OnlineSecurity'] = df['OnlineSecurity'].apply(TheEnd)"
      ]
    },
    {
      "cell_type": "code",
      "execution_count": 61,
      "metadata": {
        "id": "uJQhHE-WmeIH"
      },
      "outputs": [],
      "source": [
        "df['OnlineBackup'] = df['OnlineBackup'].apply(TheEnd)"
      ]
    },
    {
      "cell_type": "code",
      "execution_count": 62,
      "metadata": {
        "id": "VgdhQiJWmeKg"
      },
      "outputs": [],
      "source": [
        "df['DeviceProtection'] = df['DeviceProtection'].apply(TheEnd)"
      ]
    },
    {
      "cell_type": "code",
      "execution_count": 63,
      "metadata": {
        "id": "8rwwkh-zoz1W"
      },
      "outputs": [],
      "source": [
        "df['TechSupport'] = df['TechSupport'].apply(TheEnd)"
      ]
    },
    {
      "cell_type": "code",
      "execution_count": 64,
      "metadata": {
        "id": "i9tri8_6oz9Q"
      },
      "outputs": [],
      "source": [
        "df['StreamingTV'] = df['StreamingTV'].apply(TheEnd)"
      ]
    },
    {
      "cell_type": "code",
      "execution_count": 65,
      "metadata": {
        "id": "r9ppx6ruqHFs"
      },
      "outputs": [],
      "source": [
        "df['StreamingMovies'] = df['StreamingMovies'].apply(TheEnd)"
      ]
    },
    {
      "cell_type": "markdown",
      "metadata": {
        "id": "CYyCfIK1uWSJ"
      },
      "source": [
        "Посмотрим результаты преобразования:"
      ]
    },
    {
      "cell_type": "code",
      "execution_count": 66,
      "metadata": {
        "colab": {
          "base_uri": "https://localhost:8080/"
        },
        "id": "eOfiCB9YqXdE",
        "outputId": "879162f8-e052-4b4c-9e00-163992112c1d"
      },
      "outputs": [
        {
          "output_type": "stream",
          "name": "stdout",
          "text": [
            "[1 0]\n"
          ]
        }
      ],
      "source": [
        "print(df['PaperlessBilling'].unique())"
      ]
    },
    {
      "cell_type": "code",
      "execution_count": 67,
      "metadata": {
        "colab": {
          "base_uri": "https://localhost:8080/"
        },
        "id": "Ux2f34eQy12M",
        "outputId": "6ea3acff-ae1f-403f-cd44-d28409450f29"
      },
      "outputs": [
        {
          "output_type": "stream",
          "name": "stdout",
          "text": [
            "[1 0]\n"
          ]
        }
      ],
      "source": [
        "print(df['Partner'].unique())"
      ]
    },
    {
      "cell_type": "code",
      "execution_count": 68,
      "metadata": {
        "colab": {
          "base_uri": "https://localhost:8080/"
        },
        "id": "-BDOn-73y2AI",
        "outputId": "e8413f11-eec9-48f1-f0ed-664bf0a2d450"
      },
      "outputs": [
        {
          "output_type": "stream",
          "name": "stdout",
          "text": [
            "[0 1]\n"
          ]
        }
      ],
      "source": [
        "print(df['Dependents'].unique())"
      ]
    },
    {
      "cell_type": "code",
      "execution_count": 69,
      "metadata": {
        "colab": {
          "base_uri": "https://localhost:8080/"
        },
        "id": "_gI6Pd3KzDYT",
        "outputId": "4ed1c078-abaf-41e6-9832-84ca35221d43"
      },
      "outputs": [
        {
          "output_type": "stream",
          "name": "stdout",
          "text": [
            "[0 1]\n"
          ]
        }
      ],
      "source": [
        "print(df['MultipleLines'].unique())"
      ]
    },
    {
      "cell_type": "code",
      "execution_count": 70,
      "metadata": {
        "colab": {
          "base_uri": "https://localhost:8080/"
        },
        "id": "5ILCFXy0zDiz",
        "outputId": "5970677a-2d5a-4ee0-a5ba-259eaddc9c93"
      },
      "outputs": [
        {
          "output_type": "stream",
          "name": "stdout",
          "text": [
            "[0 1]\n"
          ]
        }
      ],
      "source": [
        "print(df['OnlineSecurity'].unique())"
      ]
    },
    {
      "cell_type": "code",
      "execution_count": 71,
      "metadata": {
        "colab": {
          "base_uri": "https://localhost:8080/"
        },
        "id": "FtvOdXd9zDtY",
        "outputId": "b12547e8-410f-4e57-bbce-2c81e05c74a9"
      },
      "outputs": [
        {
          "output_type": "stream",
          "name": "stdout",
          "text": [
            "[1 0]\n"
          ]
        }
      ],
      "source": [
        "print(df['OnlineBackup'].unique())"
      ]
    },
    {
      "cell_type": "code",
      "execution_count": 72,
      "metadata": {
        "colab": {
          "base_uri": "https://localhost:8080/"
        },
        "id": "zTD7yUfTzD2c",
        "outputId": "fd6a655a-cc7f-47f5-b7dd-b7b6577c9b53"
      },
      "outputs": [
        {
          "output_type": "stream",
          "name": "stdout",
          "text": [
            "[0 1]\n"
          ]
        }
      ],
      "source": [
        "print(df['DeviceProtection'].unique())"
      ]
    },
    {
      "cell_type": "code",
      "execution_count": 73,
      "metadata": {
        "colab": {
          "base_uri": "https://localhost:8080/"
        },
        "id": "aW7592GTzEAV",
        "outputId": "79f45c88-8c8b-4fac-82a3-f09b6fe9e491"
      },
      "outputs": [
        {
          "output_type": "stream",
          "name": "stdout",
          "text": [
            "[0 1]\n"
          ]
        }
      ],
      "source": [
        "print(df['TechSupport'].unique())"
      ]
    },
    {
      "cell_type": "code",
      "execution_count": 74,
      "metadata": {
        "colab": {
          "base_uri": "https://localhost:8080/"
        },
        "id": "UUDQ77wLzEJA",
        "outputId": "f1a0318c-b779-42d0-af1e-1cf8e5eb1c32"
      },
      "outputs": [
        {
          "output_type": "stream",
          "name": "stdout",
          "text": [
            "[0 1]\n"
          ]
        }
      ],
      "source": [
        "print(df['StreamingTV'].unique())"
      ]
    },
    {
      "cell_type": "code",
      "execution_count": 75,
      "metadata": {
        "colab": {
          "base_uri": "https://localhost:8080/"
        },
        "id": "msA_GOanznQM",
        "outputId": "3f97d697-369e-4753-cf4a-69c09578cd0a"
      },
      "outputs": [
        {
          "output_type": "stream",
          "name": "stdout",
          "text": [
            "[0 1]\n"
          ]
        }
      ],
      "source": [
        "print(df['StreamingMovies'].unique())"
      ]
    },
    {
      "cell_type": "code",
      "execution_count": 76,
      "metadata": {
        "id": "e3aU-nMDqzNs"
      },
      "outputs": [],
      "source": [
        "#for j in df:\n",
        "    #print(df[j].unique()) "
      ]
    },
    {
      "cell_type": "markdown",
      "metadata": {
        "id": "1rxJRBpCrFaw"
      },
      "source": [
        "На данном эпате все бинарные значения преобразованы, далее добавим колонку, которая нам покажет сколько врмени клиент пользуется или пользовался услугами данной компании. Посмотрим какие клиенты чаще уходят: те, кто давно польтуется услугами или новички. Для начала поменяем тип данных у дат.\n",
        "\n",
        "Начнем с даты подписания контракта:"
      ]
    },
    {
      "cell_type": "code",
      "execution_count": 77,
      "metadata": {
        "id": "VS3EI_GTs55k"
      },
      "outputs": [],
      "source": [
        "df['BeginDate'] = pd.to_datetime(df['BeginDate'], format=\"%Y-%m-%d\")"
      ]
    },
    {
      "cell_type": "markdown",
      "metadata": {
        "id": "YMadWlyvtWai"
      },
      "source": [
        "Далее в столбце с датой окончания заменим ответы \"No\" на дату \"2020-02-01\", что быы потом у столбца поменять тип данных и в итоге посчитать время пользования услугами."
      ]
    },
    {
      "cell_type": "code",
      "execution_count": 78,
      "metadata": {
        "id": "sKwOko2Ys6EN"
      },
      "outputs": [],
      "source": [
        "df.loc[df['EndDate'] == 'No', 'EndDate'] = '2020-02-01'"
      ]
    },
    {
      "cell_type": "code",
      "execution_count": 79,
      "metadata": {
        "id": "E8Ku3xgis6Hj"
      },
      "outputs": [],
      "source": [
        "df['EndDate'] = pd.to_datetime(df['EndDate'], format=\"%Y-%m-%d\")"
      ]
    },
    {
      "cell_type": "code",
      "execution_count": 80,
      "metadata": {
        "colab": {
          "base_uri": "https://localhost:8080/"
        },
        "id": "Uodb9ykPs6Ba",
        "outputId": "8545e727-95c9-4066-85b1-b38cc311a130"
      },
      "outputs": [
        {
          "output_type": "stream",
          "name": "stdout",
          "text": [
            "<class 'pandas.core.frame.DataFrame'>\n",
            "Int64Index: 7032 entries, 0 to 7042\n",
            "Data columns (total 21 columns):\n",
            " #   Column            Non-Null Count  Dtype         \n",
            "---  ------            --------------  -----         \n",
            " 0   customerID        7032 non-null   object        \n",
            " 1   BeginDate         7032 non-null   datetime64[ns]\n",
            " 2   EndDate           7032 non-null   datetime64[ns]\n",
            " 3   Type              7032 non-null   object        \n",
            " 4   PaperlessBilling  7032 non-null   int64         \n",
            " 5   PaymentMethod     7032 non-null   object        \n",
            " 6   MonthlyCharges    7032 non-null   float64       \n",
            " 7   TotalCharges      7032 non-null   float32       \n",
            " 8   gender            7032 non-null   object        \n",
            " 9   SeniorCitizen     7032 non-null   int64         \n",
            " 10  Partner           7032 non-null   int64         \n",
            " 11  Dependents        7032 non-null   int64         \n",
            " 12  MultipleLines     7032 non-null   int64         \n",
            " 13  InternetService   7032 non-null   object        \n",
            " 14  OnlineSecurity    7032 non-null   int64         \n",
            " 15  OnlineBackup      7032 non-null   int64         \n",
            " 16  DeviceProtection  7032 non-null   int64         \n",
            " 17  TechSupport       7032 non-null   int64         \n",
            " 18  StreamingTV       7032 non-null   int64         \n",
            " 19  StreamingMovies   7032 non-null   int64         \n",
            " 20  TheEnd            7032 non-null   int64         \n",
            "dtypes: datetime64[ns](2), float32(1), float64(1), int64(12), object(5)\n",
            "memory usage: 1.2+ MB\n"
          ]
        }
      ],
      "source": [
        "df.info()"
      ]
    },
    {
      "cell_type": "code",
      "execution_count": 81,
      "metadata": {
        "id": "5y7Z_gx9uSTO"
      },
      "outputs": [],
      "source": [
        "df['SumDays'] = (df['EndDate'] - df['BeginDate']).dt.days"
      ]
    },
    {
      "cell_type": "code",
      "execution_count": 82,
      "metadata": {
        "colab": {
          "base_uri": "https://localhost:8080/"
        },
        "id": "VvUpMbbfuTPz",
        "outputId": "5a50ca06-6feb-4ec2-b53e-6c32f4c22388"
      },
      "outputs": [
        {
          "output_type": "execute_result",
          "data": {
            "text/plain": [
              "2133      30\n",
              "6623      30\n",
              "3310      30\n",
              "6633      30\n",
              "248       30\n",
              "        ... \n",
              "850     2191\n",
              "6778    2191\n",
              "2941    2191\n",
              "4513    2191\n",
              "932     2191\n",
              "Name: SumDays, Length: 7032, dtype: int64"
            ]
          },
          "metadata": {},
          "execution_count": 82
        }
      ],
      "source": [
        "df['SumDays'].sort_values()"
      ]
    },
    {
      "cell_type": "markdown",
      "metadata": {
        "id": "7auWJtoU9dJ3"
      },
      "source": [
        "Теперь посмотрим на данные и попробуем решить что повлияло на отток клиентов. "
      ]
    },
    {
      "cell_type": "code",
      "execution_count": 83,
      "metadata": {
        "colab": {
          "base_uri": "https://localhost:8080/",
          "height": 585
        },
        "id": "ekExR-zn-ptA",
        "outputId": "faeb2816-f76e-4332-f542-fa433cadfdbb"
      },
      "outputs": [
        {
          "output_type": "display_data",
          "data": {
            "text/plain": [
              "<Figure size 1152x576 with 1 Axes>"
            ],
            "image/png": "[encoded data removed]"
          },
          "metadata": {}
        }
      ],
      "source": [
        "df['TheEnd'].value_counts().plot(kind='pie', autopct='%1.1f%%', figsize=(16,8))\n",
        "plt.legend(['Не ушел', 'Ушел'])\n",
        "plt.title('Отток клиентов')\n",
        "plt.tight_layout()"
      ]
    },
    {
      "cell_type": "markdown",
      "metadata": {
        "id": "QAZ7XuTKBpBc"
      },
      "source": [
        "Как видно по диаграмме, ушло более 1/4 клиентов, что является большим показателем. Посмотрим теперь по сумме дней:"
      ]
    },
    {
      "cell_type": "code",
      "execution_count": 84,
      "metadata": {
        "colab": {
          "base_uri": "https://localhost:8080/",
          "height": 404
        },
        "id": "5d5SWCHyJlDt",
        "outputId": "31e88f4f-87dd-4392-e357-ec785960cb41"
      },
      "outputs": [
        {
          "output_type": "execute_result",
          "data": {
            "text/plain": [
              "   customerID  BeginDate    EndDate            Type  PaperlessBilling  \\\n",
              "0  7590-VHVEG 2020-01-01 2020-02-01  Month-to-month                 1   \n",
              "1  5575-GNVDE 2017-04-01 2020-02-01        One year                 0   \n",
              "2  3668-QPYBK 2019-10-01 2019-12-01  Month-to-month                 1   \n",
              "3  7795-CFOCW 2016-05-01 2020-02-01        One year                 0   \n",
              "4  9237-HQITU 2019-09-01 2019-11-01  Month-to-month                 1   \n",
              "\n",
              "               PaymentMethod  MonthlyCharges  TotalCharges  gender  \\\n",
              "0           Electronic check           29.85     29.850000  Female   \n",
              "1               Mailed check           56.95   1889.500000    Male   \n",
              "2               Mailed check           53.85    108.150002    Male   \n",
              "3  Bank transfer (automatic)           42.30   1840.750000    Male   \n",
              "4           Electronic check           70.70    151.649994  Female   \n",
              "\n",
              "   SeniorCitizen  Partner  Dependents  MultipleLines InternetService  \\\n",
              "0              0        1           0              0             DSL   \n",
              "1              0        0           0              0             DSL   \n",
              "2              0        0           0              0             DSL   \n",
              "3              0        0           0              0             DSL   \n",
              "4              0        0           0              0     Fiber optic   \n",
              "\n",
              "   OnlineSecurity  OnlineBackup  DeviceProtection  TechSupport  StreamingTV  \\\n",
              "0               0             1                 0            0            0   \n",
              "1               1             0                 1            0            0   \n",
              "2               1             1                 0            0            0   \n",
              "3               1             0                 1            1            0   \n",
              "4               0             0                 0            0            0   \n",
              "\n",
              "   StreamingMovies  TheEnd  SumDays  \n",
              "0                0       0       31  \n",
              "1                0       0     1036  \n",
              "2                0       1       61  \n",
              "3                0       0     1371  \n",
              "4                0       1       61  "
            ],
            "text/html": [
              "\n",
              "  <div id=\"df-fb422f04-6196-47ab-9523-fa0a589b60b8\">\n",
              "    <div class=\"colab-df-container\">\n",
              "      <div>\n",
              "<style scoped>\n",
              "    .dataframe tbody tr th:only-of-type {\n",
              "        vertical-align: middle;\n",
              "    }\n",
              "\n",
              "    .dataframe tbody tr th {\n",
              "        vertical-align: top;\n",
              "    }\n",
              "\n",
              "    .dataframe thead th {\n",
              "        text-align: right;\n",
              "    }\n",
              "</style>\n",
              "<table border=\"1\" class=\"dataframe\">\n",
              "  <thead>\n",
              "    <tr style=\"text-align: right;\">\n",
              "      <th></th>\n",
              "      <th>customerID</th>\n",
              "      <th>BeginDate</th>\n",
              "      <th>EndDate</th>\n",
              "      <th>Type</th>\n",
              "      <th>PaperlessBilling</th>\n",
              "      <th>PaymentMethod</th>\n",
              "      <th>MonthlyCharges</th>\n",
              "      <th>TotalCharges</th>\n",
              "      <th>gender</th>\n",
              "      <th>SeniorCitizen</th>\n",
              "      <th>Partner</th>\n",
              "      <th>Dependents</th>\n",
              "      <th>MultipleLines</th>\n",
              "      <th>InternetService</th>\n",
              "      <th>OnlineSecurity</th>\n",
              "      <th>OnlineBackup</th>\n",
              "      <th>DeviceProtection</th>\n",
              "      <th>TechSupport</th>\n",
              "      <th>StreamingTV</th>\n",
              "      <th>StreamingMovies</th>\n",
              "      <th>TheEnd</th>\n",
              "      <th>SumDays</th>\n",
              "    </tr>\n",
              "  </thead>\n",
              "  <tbody>\n",
              "    <tr>\n",
              "      <th>0</th>\n",
              "      <td>7590-VHVEG</td>\n",
              "      <td>2020-01-01</td>\n",
              "      <td>2020-02-01</td>\n",
              "      <td>Month-to-month</td>\n",
              "      <td>1</td>\n",
              "      <td>Electronic check</td>\n",
              "      <td>29.85</td>\n",
              "      <td>29.850000</td>\n",
              "      <td>Female</td>\n",
              "      <td>0</td>\n",
              "      <td>1</td>\n",
              "      <td>0</td>\n",
              "      <td>0</td>\n",
              "      <td>DSL</td>\n",
              "      <td>0</td>\n",
              "      <td>1</td>\n",
              "      <td>0</td>\n",
              "      <td>0</td>\n",
              "      <td>0</td>\n",
              "      <td>0</td>\n",
              "      <td>0</td>\n",
              "      <td>31</td>\n",
              "    </tr>\n",
              "    <tr>\n",
              "      <th>1</th>\n",
              "      <td>5575-GNVDE</td>\n",
              "      <td>2017-04-01</td>\n",
              "      <td>2020-02-01</td>\n",
              "      <td>One year</td>\n",
              "      <td>0</td>\n",
              "      <td>Mailed check</td>\n",
              "      <td>56.95</td>\n",
              "      <td>1889.500000</td>\n",
              "      <td>Male</td>\n",
              "      <td>0</td>\n",
              "      <td>0</td>\n",
              "      <td>0</td>\n",
              "      <td>0</td>\n",
              "      <td>DSL</td>\n",
              "      <td>1</td>\n",
              "      <td>0</td>\n",
              "      <td>1</td>\n",
              "      <td>0</td>\n",
              "      <td>0</td>\n",
              "      <td>0</td>\n",
              "      <td>0</td>\n",
              "      <td>1036</td>\n",
              "    </tr>\n",
              "    <tr>\n",
              "      <th>2</th>\n",
              "      <td>3668-QPYBK</td>\n",
              "      <td>2019-10-01</td>\n",
              "      <td>2019-12-01</td>\n",
              "      <td>Month-to-month</td>\n",
              "      <td>1</td>\n",
              "      <td>Mailed check</td>\n",
              "      <td>53.85</td>\n",
              "      <td>108.150002</td>\n",
              "      <td>Male</td>\n",
              "      <td>0</td>\n",
              "      <td>0</td>\n",
              "      <td>0</td>\n",
              "      <td>0</td>\n",
              "      <td>DSL</td>\n",
              "      <td>1</td>\n",
              "      <td>1</td>\n",
              "      <td>0</td>\n",
              "      <td>0</td>\n",
              "      <td>0</td>\n",
              "      <td>0</td>\n",
              "      <td>1</td>\n",
              "      <td>61</td>\n",
              "    </tr>\n",
              "    <tr>\n",
              "      <th>3</th>\n",
              "      <td>7795-CFOCW</td>\n",
              "      <td>2016-05-01</td>\n",
              "      <td>2020-02-01</td>\n",
              "      <td>One year</td>\n",
              "      <td>0</td>\n",
              "      <td>Bank transfer (automatic)</td>\n",
              "      <td>42.30</td>\n",
              "      <td>1840.750000</td>\n",
              "      <td>Male</td>\n",
              "      <td>0</td>\n",
              "      <td>0</td>\n",
              "      <td>0</td>\n",
              "      <td>0</td>\n",
              "      <td>DSL</td>\n",
              "      <td>1</td>\n",
              "      <td>0</td>\n",
              "      <td>1</td>\n",
              "      <td>1</td>\n",
              "      <td>0</td>\n",
              "      <td>0</td>\n",
              "      <td>0</td>\n",
              "      <td>1371</td>\n",
              "    </tr>\n",
              "    <tr>\n",
              "      <th>4</th>\n",
              "      <td>9237-HQITU</td>\n",
              "      <td>2019-09-01</td>\n",
              "      <td>2019-11-01</td>\n",
              "      <td>Month-to-month</td>\n",
              "      <td>1</td>\n",
              "      <td>Electronic check</td>\n",
              "      <td>70.70</td>\n",
              "      <td>151.649994</td>\n",
              "      <td>Female</td>\n",
              "      <td>0</td>\n",
              "      <td>0</td>\n",
              "      <td>0</td>\n",
              "      <td>0</td>\n",
              "      <td>Fiber optic</td>\n",
              "      <td>0</td>\n",
              "      <td>0</td>\n",
              "      <td>0</td>\n",
              "      <td>0</td>\n",
              "      <td>0</td>\n",
              "      <td>0</td>\n",
              "      <td>1</td>\n",
              "      <td>61</td>\n",
              "    </tr>\n",
              "  </tbody>\n",
              "</table>\n",
              "</div>\n",
              "      <button class=\"colab-df-convert\" onclick=\"convertToInteractive('df-fb422f04-6196-47ab-9523-fa0a589b60b8')\"\n",
              "              title=\"Convert this dataframe to an interactive table.\"\n",
              "              style=\"display:none;\">\n",
              "        \n",
              "  <svg xmlns=\"http://www.w3.org/2000/svg\" height=\"24px\"viewBox=\"0 0 24 24\"\n",
              "       width=\"24px\">\n",
              "    <path d=\"M0 0h24v24H0V0z\" fill=\"none\"/>\n",
              "    <path d=\"M18.56 5.44l.94 2.06.94-2.06 2.06-.94-2.06-.94-.94-2.06-.94 2.06-2.06.94zm-11 1L8.5 8.5l.94-2.06 2.06-.94-2.06-.94L8.5 2.5l-.94 2.06-2.06.94zm10 10l.94 2.06.94-2.06 2.06-.94-2.06-.94-.94-2.06-.94 2.06-2.06.94z\"/><path d=\"M17.41 7.96l-1.37-1.37c-.4-.4-.92-.59-1.43-.59-.52 0-1.04.2-1.43.59L10.3 9.45l-7.72 7.72c-.78.78-.78 2.05 0 2.83L4 21.41c.39.39.9.59 1.41.59.51 0 1.02-.2 1.41-.59l7.78-7.78 2.81-2.81c.8-.78.8-2.07 0-2.86zM5.41 20L4 18.59l7.72-7.72 1.47 1.35L5.41 20z\"/>\n",
              "  </svg>\n",
              "      </button>\n",
              "      \n",
              "  <style>\n",
              "    .colab-df-container {\n",
              "      display:flex;\n",
              "      flex-wrap:wrap;\n",
              "      gap: 12px;\n",
              "    }\n",
              "\n",
              "    .colab-df-convert {\n",
              "      background-color: #E8F0FE;\n",
              "      border: none;\n",
              "      border-radius: 50%;\n",
              "      cursor: pointer;\n",
              "      display: none;\n",
              "      fill: #1967D2;\n",
              "      height: 32px;\n",
              "      padding: 0 0 0 0;\n",
              "      width: 32px;\n",
              "    }\n",
              "\n",
              "    .colab-df-convert:hover {\n",
              "      background-color: #E2EBFA;\n",
              "      box-shadow: 0px 1px 2px rgba(60, 64, 67, 0.3), 0px 1px 3px 1px rgba(60, 64, 67, 0.15);\n",
              "      fill: #174EA6;\n",
              "    }\n",
              "\n",
              "    [theme=dark] .colab-df-convert {\n",
              "      background-color: #3B4455;\n",
              "      fill: #D2E3FC;\n",
              "    }\n",
              "\n",
              "    [theme=dark] .colab-df-convert:hover {\n",
              "      background-color: #434B5C;\n",
              "      box-shadow: 0px 1px 3px 1px rgba(0, 0, 0, 0.15);\n",
              "      filter: drop-shadow(0px 1px 2px rgba(0, 0, 0, 0.3));\n",
              "      fill: #FFFFFF;\n",
              "    }\n",
              "  </style>\n",
              "\n",
              "      <script>\n",
              "        const buttonEl =\n",
              "          document.querySelector('#df-fb422f04-6196-47ab-9523-fa0a589b60b8 button.colab-df-convert');\n",
              "        buttonEl.style.display =\n",
              "          google.colab.kernel.accessAllowed ? 'block' : 'none';\n",
              "\n",
              "        async function convertToInteractive(key) {\n",
              "          const element = document.querySelector('#df-fb422f04-6196-47ab-9523-fa0a589b60b8');\n",
              "          const dataTable =\n",
              "            await google.colab.kernel.invokeFunction('convertToInteractive',\n",
              "                                                     [key], {});\n",
              "          if (!dataTable) return;\n",
              "\n",
              "          const docLinkHtml = 'Like what you see? Visit the ' +\n",
              "            '<a target=\"_blank\" href=https://colab.research.google.com/notebooks/data_table.ipynb>data table notebook</a>'\n",
              "            + ' to learn more about interactive tables.';\n",
              "          element.innerHTML = '';\n",
              "          dataTable['output_type'] = 'display_data';\n",
              "          await google.colab.output.renderOutput(dataTable, element);\n",
              "          const docLink = document.createElement('div');\n",
              "          docLink.innerHTML = docLinkHtml;\n",
              "          element.appendChild(docLink);\n",
              "        }\n",
              "      </script>\n",
              "    </div>\n",
              "  </div>\n",
              "  "
            ]
          },
          "metadata": {},
          "execution_count": 84
        }
      ],
      "source": [
        "df.head()"
      ]
    },
    {
      "cell_type": "code",
      "execution_count": 85,
      "metadata": {
        "colab": {
          "base_uri": "https://localhost:8080/",
          "height": 730
        },
        "id": "jyrq0Jo8-p1t",
        "outputId": "fdd10f00-d0bb-464e-d0a4-5591aa5a1c1c",
        "scrolled": false
      },
      "outputs": [
        {
          "output_type": "display_data",
          "data": {
            "text/plain": [
              "<Figure size 1440x864 with 1 Axes>"
            ],
            "image/png": "[encoded data removed]"
          },
          "metadata": {
            "needs_background": "light"
          }
        }
      ],
      "source": [
        "df.query('TheEnd == 1')['SumDays'].plot(kind='hist', bins=100, grid=True, figsize=(20,12))\n",
        "plt.title('Отток клиентов по количеству дней пользования услугами')\n",
        "plt.xlabel('Количество дней')\n",
        "plt.ylabel('Количество ушедших клиентов')\n",
        "plt.show()"
      ]
    },
    {
      "cell_type": "markdown",
      "metadata": {
        "id": "aJeqc38ZFaIS"
      },
      "source": [
        "Как видно из графика, быстрее всех уходят те, кто пользуется услугами не более 2-3 месяцев, вероятно, тариф им не подошел и они решили сменить поставщика услуг. Посмотрим теперь к привязке к типу оплаты:"
      ]
    },
    {
      "cell_type": "code",
      "execution_count": 86,
      "metadata": {
        "colab": {
          "base_uri": "https://localhost:8080/"
        },
        "id": "gdxP5dxFKKvK",
        "outputId": "9191db85-f7a8-44fa-d9ba-312091996d83"
      },
      "outputs": [
        {
          "output_type": "execute_result",
          "data": {
            "text/plain": [
              "array(['Month-to-month', 'One year', 'Two year'], dtype=object)"
            ]
          },
          "metadata": {},
          "execution_count": 86
        }
      ],
      "source": [
        "df['Type'].unique()"
      ]
    },
    {
      "cell_type": "code",
      "execution_count": 87,
      "metadata": {
        "colab": {
          "base_uri": "https://localhost:8080/"
        },
        "id": "a77mZXjTM0Ul",
        "outputId": "a0b5ed14-ca91-4094-9d04-1b6e11b5d2a9"
      },
      "outputs": [
        {
          "output_type": "execute_result",
          "data": {
            "text/plain": [
              "Type\n",
              "Month-to-month    3875\n",
              "One year          1472\n",
              "Two year          1685\n",
              "Name: Type, dtype: int64"
            ]
          },
          "metadata": {},
          "execution_count": 87
        }
      ],
      "source": [
        "df.groupby('Type')['Type'].count()"
      ]
    },
    {
      "cell_type": "code",
      "execution_count": 88,
      "metadata": {
        "colab": {
          "base_uri": "https://localhost:8080/"
        },
        "id": "Wmg8cmKkQ_Ye",
        "outputId": "8bb103e3-3e0f-4b17-82dc-ed96cece0db0",
        "scrolled": true
      },
      "outputs": [
        {
          "output_type": "execute_result",
          "data": {
            "text/plain": [
              "Month-to-month    55.105233\n",
              "Two year          23.961889\n",
              "One year          20.932878\n",
              "Name: Type, dtype: float64"
            ]
          },
          "metadata": {},
          "execution_count": 88
        }
      ],
      "source": [
        "df['Type'].value_counts().div(len(df)).mul(100)"
      ]
    },
    {
      "cell_type": "code",
      "execution_count": 89,
      "metadata": {
        "colab": {
          "base_uri": "https://localhost:8080/",
          "height": 585
        },
        "id": "JJ-VfhapBy1n",
        "outputId": "4485fbe7-0234-4b7a-b13b-39dabd9b727c"
      },
      "outputs": [
        {
          "output_type": "display_data",
          "data": {
            "text/plain": [
              "<Figure size 1152x576 with 1 Axes>"
            ],
            "image/png": "[encoded data removed]"
          },
          "metadata": {}
        }
      ],
      "source": [
        "df.query('TheEnd == 1')['Type'].value_counts().plot(kind='pie', autopct='%1.1f%%', figsize=(16,8))\n",
        "plt.legend(['Месячный', 'Годовой', 'Двухлетний'])\n",
        "plt.title('Вид оплаты услуг клиентами, которые ушли')\n",
        "plt.tight_layout()"
      ]
    },
    {
      "cell_type": "code",
      "execution_count": 90,
      "metadata": {
        "colab": {
          "base_uri": "https://localhost:8080/",
          "height": 585
        },
        "id": "0l8sCzbL-p9X",
        "outputId": "408abeb0-d54c-4f0c-98e1-cb0f2c3168fa"
      },
      "outputs": [
        {
          "output_type": "display_data",
          "data": {
            "text/plain": [
              "<Figure size 1152x576 with 1 Axes>"
            ],
            "image/png": "[encoded data removed]"
          },
          "metadata": {}
        }
      ],
      "source": [
        "df.query('TheEnd == 0')['Type'].value_counts().plot(kind='pie', autopct='%1.1f%%', figsize=(16,8))\n",
        "plt.legend(['Месячный', 'Годовой', 'Двухлетний'])\n",
        "plt.title('Вид оплаты услуг клиентами, которые до сих пор пользуются услугами компании')\n",
        "plt.tight_layout()"
      ]
    },
    {
      "cell_type": "markdown",
      "metadata": {
        "id": "4C6bAA8DLtDk"
      },
      "source": [
        "Как видно по графику, почти 89 процентов клиентов которые перестают пользоваться услугами, находятся на оплате услуг помесячно. При этом постоянный клиенты преимущественно выбирают долгосрочные типы оплат (и это при условии что 55 процентов клиентов выбирают помесячную оплату). Возможно это хорошая идея для маркетинга привлечь клиентов, которые будут готовы оплатить сразу услуги за год или два."
      ]
    },
    {
      "cell_type": "markdown",
      "metadata": {
        "id": "46mV1xIp7jF-"
      },
      "source": [
        "Удалим столбцы с датами и ай ди которые не нужны для обучения модели. Для начала посмотрим на корреляцию признаков:"
      ]
    },
    {
      "cell_type": "code",
      "execution_count": 91,
      "metadata": {
        "id": "FKDSGhSJ7EAe"
      },
      "outputs": [],
      "source": [
        "df_corr = df[['MonthlyCharges', 'TotalCharges', 'SumDays']]"
      ]
    },
    {
      "cell_type": "code",
      "execution_count": 92,
      "metadata": {
        "colab": {
          "base_uri": "https://localhost:8080/",
          "height": 517
        },
        "id": "4vYLzGvEoqWR",
        "outputId": "bbaa20c2-118a-4358-fc07-3e9928ded0ae"
      },
      "outputs": [
        {
          "output_type": "execute_result",
          "data": {
            "text/plain": [
              "<matplotlib.axes._subplots.AxesSubplot at 0x7f8f45db5ed0>"
            ]
          },
          "metadata": {},
          "execution_count": 92
        },
        {
          "output_type": "display_data",
          "data": {
            "text/plain": [
              "<Figure size 600x600 with 2 Axes>"
            ],
            "image/png": "[encoded data removed]"
          },
          "metadata": {
            "needs_background": "light"
          }
        }
      ],
      "source": [
        "plt.figure(figsize=(10,10), dpi= 60)\n",
        "sns.heatmap(df_corr.corr(), center=0, annot=True, cmap='summer')"
      ]
    },
    {
      "cell_type": "markdown",
      "metadata": {
        "id": "iWgxqYfyvrd9"
      },
      "source": [
        "Большая корреляция между количеством дней пользования услугами и оплаченых средств, что логично: чем дольше клиент, тем больше денег заплатил. В остальном критического ничего нет, целевой признак ни с чем не коррелирует. Думаю, лучше один признак удалить."
      ]
    },
    {
      "cell_type": "markdown",
      "metadata": {
        "id": "TJcKjCSi6yQJ"
      },
      "source": [
        "Теперь удалим три столбца с датами и айти клиентов, т.к. для обучения данная информация не имеет ценности. и так же сильно коррелирующий признак TotalCharges лучше удалить."
      ]
    },
    {
      "cell_type": "code",
      "execution_count": 93,
      "metadata": {
        "id": "JBwsjRZj7se_"
      },
      "outputs": [],
      "source": [
        "df = df.drop(columns=['customerID', 'BeginDate', 'EndDate', 'TotalCharges'])"
      ]
    },
    {
      "cell_type": "code",
      "execution_count": 94,
      "metadata": {
        "colab": {
          "base_uri": "https://localhost:8080/"
        },
        "id": "tWfIzdsm7sm8",
        "outputId": "4c1f3b74-0eec-4e41-cb16-0a2f4a085519"
      },
      "outputs": [
        {
          "output_type": "stream",
          "name": "stdout",
          "text": [
            "<class 'pandas.core.frame.DataFrame'>\n",
            "Int64Index: 7032 entries, 0 to 7042\n",
            "Data columns (total 18 columns):\n",
            " #   Column            Non-Null Count  Dtype  \n",
            "---  ------            --------------  -----  \n",
            " 0   Type              7032 non-null   object \n",
            " 1   PaperlessBilling  7032 non-null   int64  \n",
            " 2   PaymentMethod     7032 non-null   object \n",
            " 3   MonthlyCharges    7032 non-null   float64\n",
            " 4   gender            7032 non-null   object \n",
            " 5   SeniorCitizen     7032 non-null   int64  \n",
            " 6   Partner           7032 non-null   int64  \n",
            " 7   Dependents        7032 non-null   int64  \n",
            " 8   MultipleLines     7032 non-null   int64  \n",
            " 9   InternetService   7032 non-null   object \n",
            " 10  OnlineSecurity    7032 non-null   int64  \n",
            " 11  OnlineBackup      7032 non-null   int64  \n",
            " 12  DeviceProtection  7032 non-null   int64  \n",
            " 13  TechSupport       7032 non-null   int64  \n",
            " 14  StreamingTV       7032 non-null   int64  \n",
            " 15  StreamingMovies   7032 non-null   int64  \n",
            " 16  TheEnd            7032 non-null   int64  \n",
            " 17  SumDays           7032 non-null   int64  \n",
            "dtypes: float64(1), int64(13), object(4)\n",
            "memory usage: 1.0+ MB\n"
          ]
        }
      ],
      "source": [
        "df.info()"
      ]
    },
    {
      "cell_type": "markdown",
      "metadata": {
        "id": "uvgR3m3OKd_R"
      },
      "source": [
        "### ВЫВОД: \n",
        "В данном разделе мы изучили данные, частично подготовили их для машинного обучения и проанализировали возможные причины оттока клиентов. \n",
        "\n",
        "Для начала я объединила таблицы по айди, далее получившиеся пропуски в услугах заполнила'No', т.к. если у клиента нет данной информации, то логично, что данными услугами он не пользовался.\n",
        "\n",
        "Далее, для изменения типа данных в столбце с целевым признаком, я заменила аномальные пустые значения на Nan т.к. они не давали провести замену типа. Потом после замены типа я удалила строки с пустыми значениями. Сохранять их не стала, т.к. их количество незначительно (11 сток) и это новые клиенты, подписавшие договор в день выгрузки данных и еще не успевшие оплатить услуги (может они их и не оплатят?).\n",
        "\n",
        "Для машинного обучения сразу заменила бинарные значения Yes/No в стобцах с услугами на числовые значения 1/0. После этого я перевела даты в формат дат и посчитала количество дней пользования услугами компании для каждого клиента.\n",
        "\n",
        "После работы с данными я проанализировала возможные причины оттока клиентов от пользования услугами. Т.к. чаще всего уходят клиенты которые недавно пользуются услугами и выбирают помесячную оплату , то скорее всего их не устраивает соотношение цены/качества (отток значительный 25%). Вероятно надо решить вопрос с тарифами и бонусами для новичков, где будет выгодным подключение с годовой (2годовой) оплатой услуг. \n",
        "\n",
        "В конце после анализа были удалены столбцы с датами и айти клиентов, т.к. для обучения данная информация не имеет ценности."
      ]
    },
    {
      "cell_type": "markdown",
      "metadata": {
        "id": "mclJCExEq5pq"
      },
      "source": [
        "## МО и подбор гиперпараметров"
      ]
    },
    {
      "cell_type": "markdown",
      "metadata": {
        "id": "wTnp7_LL6W1L"
      },
      "source": [
        "### Подготовка данных к машинному обучению"
      ]
    },
    {
      "cell_type": "markdown",
      "metadata": {
        "id": "Bv42et-9yZjS"
      },
      "source": [
        "Теперь преобразуем категориальные признаки в численные с помощью техники прямого кодирования OHE:"
      ]
    },
    {
      "cell_type": "code",
      "execution_count": 95,
      "metadata": {
        "colab": {
          "base_uri": "https://localhost:8080/",
          "height": 226
        },
        "id": "444_qOcuuSep",
        "outputId": "2cf14932-e47e-4a13-89d8-e324be9668f4"
      },
      "outputs": [
        {
          "output_type": "execute_result",
          "data": {
            "text/plain": [
              "             Type  PaperlessBilling     PaymentMethod  MonthlyCharges  gender  \\\n",
              "0  Month-to-month                 1  Electronic check           29.85  Female   \n",
              "1        One year                 0      Mailed check           56.95    Male   \n",
              "\n",
              "   SeniorCitizen  Partner  Dependents  MultipleLines InternetService  \\\n",
              "0              0        1           0              0             DSL   \n",
              "1              0        0           0              0             DSL   \n",
              "\n",
              "   OnlineSecurity  OnlineBackup  DeviceProtection  TechSupport  StreamingTV  \\\n",
              "0               0             1                 0            0            0   \n",
              "1               1             0                 1            0            0   \n",
              "\n",
              "   StreamingMovies  TheEnd  SumDays  \n",
              "0                0       0       31  \n",
              "1                0       0     1036  "
            ],
            "text/html": [
              "\n",
              "  <div id=\"df-53adf82d-059e-4993-b859-49db6cb59db3\">\n",
              "    <div class=\"colab-df-container\">\n",
              "      <div>\n",
              "<style scoped>\n",
              "    .dataframe tbody tr th:only-of-type {\n",
              "        vertical-align: middle;\n",
              "    }\n",
              "\n",
              "    .dataframe tbody tr th {\n",
              "        vertical-align: top;\n",
              "    }\n",
              "\n",
              "    .dataframe thead th {\n",
              "        text-align: right;\n",
              "    }\n",
              "</style>\n",
              "<table border=\"1\" class=\"dataframe\">\n",
              "  <thead>\n",
              "    <tr style=\"text-align: right;\">\n",
              "      <th></th>\n",
              "      <th>Type</th>\n",
              "      <th>PaperlessBilling</th>\n",
              "      <th>PaymentMethod</th>\n",
              "      <th>MonthlyCharges</th>\n",
              "      <th>gender</th>\n",
              "      <th>SeniorCitizen</th>\n",
              "      <th>Partner</th>\n",
              "      <th>Dependents</th>\n",
              "      <th>MultipleLines</th>\n",
              "      <th>InternetService</th>\n",
              "      <th>OnlineSecurity</th>\n",
              "      <th>OnlineBackup</th>\n",
              "      <th>DeviceProtection</th>\n",
              "      <th>TechSupport</th>\n",
              "      <th>StreamingTV</th>\n",
              "      <th>StreamingMovies</th>\n",
              "      <th>TheEnd</th>\n",
              "      <th>SumDays</th>\n",
              "    </tr>\n",
              "  </thead>\n",
              "  <tbody>\n",
              "    <tr>\n",
              "      <th>0</th>\n",
              "      <td>Month-to-month</td>\n",
              "      <td>1</td>\n",
              "      <td>Electronic check</td>\n",
              "      <td>29.85</td>\n",
              "      <td>Female</td>\n",
              "      <td>0</td>\n",
              "      <td>1</td>\n",
              "      <td>0</td>\n",
              "      <td>0</td>\n",
              "      <td>DSL</td>\n",
              "      <td>0</td>\n",
              "      <td>1</td>\n",
              "      <td>0</td>\n",
              "      <td>0</td>\n",
              "      <td>0</td>\n",
              "      <td>0</td>\n",
              "      <td>0</td>\n",
              "      <td>31</td>\n",
              "    </tr>\n",
              "    <tr>\n",
              "      <th>1</th>\n",
              "      <td>One year</td>\n",
              "      <td>0</td>\n",
              "      <td>Mailed check</td>\n",
              "      <td>56.95</td>\n",
              "      <td>Male</td>\n",
              "      <td>0</td>\n",
              "      <td>0</td>\n",
              "      <td>0</td>\n",
              "      <td>0</td>\n",
              "      <td>DSL</td>\n",
              "      <td>1</td>\n",
              "      <td>0</td>\n",
              "      <td>1</td>\n",
              "      <td>0</td>\n",
              "      <td>0</td>\n",
              "      <td>0</td>\n",
              "      <td>0</td>\n",
              "      <td>1036</td>\n",
              "    </tr>\n",
              "  </tbody>\n",
              "</table>\n",
              "</div>\n",
              "      <button class=\"colab-df-convert\" onclick=\"convertToInteractive('df-53adf82d-059e-4993-b859-49db6cb59db3')\"\n",
              "              title=\"Convert this dataframe to an interactive table.\"\n",
              "              style=\"display:none;\">\n",
              "        \n",
              "  <svg xmlns=\"http://www.w3.org/2000/svg\" height=\"24px\"viewBox=\"0 0 24 24\"\n",
              "       width=\"24px\">\n",
              "    <path d=\"M0 0h24v24H0V0z\" fill=\"none\"/>\n",
              "    <path d=\"M18.56 5.44l.94 2.06.94-2.06 2.06-.94-2.06-.94-.94-2.06-.94 2.06-2.06.94zm-11 1L8.5 8.5l.94-2.06 2.06-.94-2.06-.94L8.5 2.5l-.94 2.06-2.06.94zm10 10l.94 2.06.94-2.06 2.06-.94-2.06-.94-.94-2.06-.94 2.06-2.06.94z\"/><path d=\"M17.41 7.96l-1.37-1.37c-.4-.4-.92-.59-1.43-.59-.52 0-1.04.2-1.43.59L10.3 9.45l-7.72 7.72c-.78.78-.78 2.05 0 2.83L4 21.41c.39.39.9.59 1.41.59.51 0 1.02-.2 1.41-.59l7.78-7.78 2.81-2.81c.8-.78.8-2.07 0-2.86zM5.41 20L4 18.59l7.72-7.72 1.47 1.35L5.41 20z\"/>\n",
              "  </svg>\n",
              "      </button>\n",
              "      \n",
              "  <style>\n",
              "    .colab-df-container {\n",
              "      display:flex;\n",
              "      flex-wrap:wrap;\n",
              "      gap: 12px;\n",
              "    }\n",
              "\n",
              "    .colab-df-convert {\n",
              "      background-color: #E8F0FE;\n",
              "      border: none;\n",
              "      border-radius: 50%;\n",
              "      cursor: pointer;\n",
              "      display: none;\n",
              "      fill: #1967D2;\n",
              "      height: 32px;\n",
              "      padding: 0 0 0 0;\n",
              "      width: 32px;\n",
              "    }\n",
              "\n",
              "    .colab-df-convert:hover {\n",
              "      background-color: #E2EBFA;\n",
              "      box-shadow: 0px 1px 2px rgba(60, 64, 67, 0.3), 0px 1px 3px 1px rgba(60, 64, 67, 0.15);\n",
              "      fill: #174EA6;\n",
              "    }\n",
              "\n",
              "    [theme=dark] .colab-df-convert {\n",
              "      background-color: #3B4455;\n",
              "      fill: #D2E3FC;\n",
              "    }\n",
              "\n",
              "    [theme=dark] .colab-df-convert:hover {\n",
              "      background-color: #434B5C;\n",
              "      box-shadow: 0px 1px 3px 1px rgba(0, 0, 0, 0.15);\n",
              "      filter: drop-shadow(0px 1px 2px rgba(0, 0, 0, 0.3));\n",
              "      fill: #FFFFFF;\n",
              "    }\n",
              "  </style>\n",
              "\n",
              "      <script>\n",
              "        const buttonEl =\n",
              "          document.querySelector('#df-53adf82d-059e-4993-b859-49db6cb59db3 button.colab-df-convert');\n",
              "        buttonEl.style.display =\n",
              "          google.colab.kernel.accessAllowed ? 'block' : 'none';\n",
              "\n",
              "        async function convertToInteractive(key) {\n",
              "          const element = document.querySelector('#df-53adf82d-059e-4993-b859-49db6cb59db3');\n",
              "          const dataTable =\n",
              "            await google.colab.kernel.invokeFunction('convertToInteractive',\n",
              "                                                     [key], {});\n",
              "          if (!dataTable) return;\n",
              "\n",
              "          const docLinkHtml = 'Like what you see? Visit the ' +\n",
              "            '<a target=\"_blank\" href=https://colab.research.google.com/notebooks/data_table.ipynb>data table notebook</a>'\n",
              "            + ' to learn more about interactive tables.';\n",
              "          element.innerHTML = '';\n",
              "          dataTable['output_type'] = 'display_data';\n",
              "          await google.colab.output.renderOutput(dataTable, element);\n",
              "          const docLink = document.createElement('div');\n",
              "          docLink.innerHTML = docLinkHtml;\n",
              "          element.appendChild(docLink);\n",
              "        }\n",
              "      </script>\n",
              "    </div>\n",
              "  </div>\n",
              "  "
            ]
          },
          "metadata": {},
          "execution_count": 95
        }
      ],
      "source": [
        "df.head(2)"
      ]
    },
    {
      "cell_type": "code",
      "execution_count": 96,
      "metadata": {
        "colab": {
          "base_uri": "https://localhost:8080/"
        },
        "id": "DEOwXfef7hdu",
        "outputId": "fe467913-a27a-49ef-c240-4ffb2a2c5ae4"
      },
      "outputs": [
        {
          "output_type": "execute_result",
          "data": {
            "text/plain": [
              "array(['Month-to-month', 'One year', 'Two year'], dtype=object)"
            ]
          },
          "metadata": {},
          "execution_count": 96
        }
      ],
      "source": [
        "df['Type'].unique()"
      ]
    },
    {
      "cell_type": "code",
      "execution_count": 97,
      "metadata": {
        "colab": {
          "base_uri": "https://localhost:8080/"
        },
        "id": "zKd95kCT8Qqd",
        "outputId": "f0aecb10-27ab-4bb8-eb45-d39df1a49d6c"
      },
      "outputs": [
        {
          "output_type": "execute_result",
          "data": {
            "text/plain": [
              "array(['Electronic check', 'Mailed check', 'Bank transfer (automatic)',\n",
              "       'Credit card (automatic)'], dtype=object)"
            ]
          },
          "metadata": {},
          "execution_count": 97
        }
      ],
      "source": [
        "df['PaymentMethod'].unique()"
      ]
    },
    {
      "cell_type": "code",
      "execution_count": 98,
      "metadata": {
        "colab": {
          "base_uri": "https://localhost:8080/"
        },
        "id": "QmDTorIP7hmY",
        "outputId": "d61c2184-3280-41fb-e1b5-3d68f74e0eb4"
      },
      "outputs": [
        {
          "output_type": "execute_result",
          "data": {
            "text/plain": [
              "array(['Female', 'Male'], dtype=object)"
            ]
          },
          "metadata": {},
          "execution_count": 98
        }
      ],
      "source": [
        "df['gender'].unique()"
      ]
    },
    {
      "cell_type": "code",
      "execution_count": 99,
      "metadata": {
        "colab": {
          "base_uri": "https://localhost:8080/"
        },
        "id": "ulT3dkn57hqz",
        "outputId": "9ef6b240-b83a-4ac7-f8de-25295623de41"
      },
      "outputs": [
        {
          "output_type": "execute_result",
          "data": {
            "text/plain": [
              "array(['DSL', 'Fiber optic', 'No'], dtype=object)"
            ]
          },
          "metadata": {},
          "execution_count": 99
        }
      ],
      "source": [
        "df['InternetService'].unique()"
      ]
    },
    {
      "cell_type": "code",
      "execution_count": 100,
      "metadata": {
        "id": "kYWh3WBTq90c"
      },
      "outputs": [],
      "source": [
        "df_new = pd.get_dummies(df, columns=['Type', 'PaymentMethod', 'gender', 'InternetService'])"
      ]
    },
    {
      "cell_type": "code",
      "execution_count": 101,
      "metadata": {
        "colab": {
          "base_uri": "https://localhost:8080/",
          "height": 302
        },
        "id": "Ad0KEd6WrETk",
        "outputId": "4d3fa7b2-65f6-490b-ecb2-09fe095e72cc"
      },
      "outputs": [
        {
          "output_type": "execute_result",
          "data": {
            "text/plain": [
              "   PaperlessBilling  MonthlyCharges  SeniorCitizen  Partner  Dependents  \\\n",
              "0                 1           29.85              0        1           0   \n",
              "1                 0           56.95              0        0           0   \n",
              "2                 1           53.85              0        0           0   \n",
              "3                 0           42.30              0        0           0   \n",
              "4                 1           70.70              0        0           0   \n",
              "\n",
              "   MultipleLines  OnlineSecurity  OnlineBackup  DeviceProtection  TechSupport  \\\n",
              "0              0               0             1                 0            0   \n",
              "1              0               1             0                 1            0   \n",
              "2              0               1             1                 0            0   \n",
              "3              0               1             0                 1            1   \n",
              "4              0               0             0                 0            0   \n",
              "\n",
              "   StreamingTV  StreamingMovies  TheEnd  SumDays  Type_Month-to-month  \\\n",
              "0            0                0       0       31                    1   \n",
              "1            0                0       0     1036                    0   \n",
              "2            0                0       1       61                    1   \n",
              "3            0                0       0     1371                    0   \n",
              "4            0                0       1       61                    1   \n",
              "\n",
              "   Type_One year  Type_Two year  PaymentMethod_Bank transfer (automatic)  \\\n",
              "0              0              0                                        0   \n",
              "1              1              0                                        0   \n",
              "2              0              0                                        0   \n",
              "3              1              0                                        1   \n",
              "4              0              0                                        0   \n",
              "\n",
              "   PaymentMethod_Credit card (automatic)  PaymentMethod_Electronic check  \\\n",
              "0                                      0                               1   \n",
              "1                                      0                               0   \n",
              "2                                      0                               0   \n",
              "3                                      0                               0   \n",
              "4                                      0                               1   \n",
              "\n",
              "   PaymentMethod_Mailed check  gender_Female  gender_Male  \\\n",
              "0                           0              1            0   \n",
              "1                           1              0            1   \n",
              "2                           1              0            1   \n",
              "3                           0              0            1   \n",
              "4                           0              1            0   \n",
              "\n",
              "   InternetService_DSL  InternetService_Fiber optic  InternetService_No  \n",
              "0                    1                            0                   0  \n",
              "1                    1                            0                   0  \n",
              "2                    1                            0                   0  \n",
              "3                    1                            0                   0  \n",
              "4                    0                            1                   0  "
            ],
            "text/html": [
              "\n",
              "  <div id=\"df-400682c1-b9a4-48c7-8c0a-71582bb496b8\">\n",
              "    <div class=\"colab-df-container\">\n",
              "      <div>\n",
              "<style scoped>\n",
              "    .dataframe tbody tr th:only-of-type {\n",
              "        vertical-align: middle;\n",
              "    }\n",
              "\n",
              "    .dataframe tbody tr th {\n",
              "        vertical-align: top;\n",
              "    }\n",
              "\n",
              "    .dataframe thead th {\n",
              "        text-align: right;\n",
              "    }\n",
              "</style>\n",
              "<table border=\"1\" class=\"dataframe\">\n",
              "  <thead>\n",
              "    <tr style=\"text-align: right;\">\n",
              "      <th></th>\n",
              "      <th>PaperlessBilling</th>\n",
              "      <th>MonthlyCharges</th>\n",
              "      <th>SeniorCitizen</th>\n",
              "      <th>Partner</th>\n",
              "      <th>Dependents</th>\n",
              "      <th>MultipleLines</th>\n",
              "      <th>OnlineSecurity</th>\n",
              "      <th>OnlineBackup</th>\n",
              "      <th>DeviceProtection</th>\n",
              "      <th>TechSupport</th>\n",
              "      <th>StreamingTV</th>\n",
              "      <th>StreamingMovies</th>\n",
              "      <th>TheEnd</th>\n",
              "      <th>SumDays</th>\n",
              "      <th>Type_Month-to-month</th>\n",
              "      <th>Type_One year</th>\n",
              "      <th>Type_Two year</th>\n",
              "      <th>PaymentMethod_Bank transfer (automatic)</th>\n",
              "      <th>PaymentMethod_Credit card (automatic)</th>\n",
              "      <th>PaymentMethod_Electronic check</th>\n",
              "      <th>PaymentMethod_Mailed check</th>\n",
              "      <th>gender_Female</th>\n",
              "      <th>gender_Male</th>\n",
              "      <th>InternetService_DSL</th>\n",
              "      <th>InternetService_Fiber optic</th>\n",
              "      <th>InternetService_No</th>\n",
              "    </tr>\n",
              "  </thead>\n",
              "  <tbody>\n",
              "    <tr>\n",
              "      <th>0</th>\n",
              "      <td>1</td>\n",
              "      <td>29.85</td>\n",
              "      <td>0</td>\n",
              "      <td>1</td>\n",
              "      <td>0</td>\n",
              "      <td>0</td>\n",
              "      <td>0</td>\n",
              "      <td>1</td>\n",
              "      <td>0</td>\n",
              "      <td>0</td>\n",
              "      <td>0</td>\n",
              "      <td>0</td>\n",
              "      <td>0</td>\n",
              "      <td>31</td>\n",
              "      <td>1</td>\n",
              "      <td>0</td>\n",
              "      <td>0</td>\n",
              "      <td>0</td>\n",
              "      <td>0</td>\n",
              "      <td>1</td>\n",
              "      <td>0</td>\n",
              "      <td>1</td>\n",
              "      <td>0</td>\n",
              "      <td>1</td>\n",
              "      <td>0</td>\n",
              "      <td>0</td>\n",
              "    </tr>\n",
              "    <tr>\n",
              "      <th>1</th>\n",
              "      <td>0</td>\n",
              "      <td>56.95</td>\n",
              "      <td>0</td>\n",
              "      <td>0</td>\n",
              "      <td>0</td>\n",
              "      <td>0</td>\n",
              "      <td>1</td>\n",
              "      <td>0</td>\n",
              "      <td>1</td>\n",
              "      <td>0</td>\n",
              "      <td>0</td>\n",
              "      <td>0</td>\n",
              "      <td>0</td>\n",
              "      <td>1036</td>\n",
              "      <td>0</td>\n",
              "      <td>1</td>\n",
              "      <td>0</td>\n",
              "      <td>0</td>\n",
              "      <td>0</td>\n",
              "      <td>0</td>\n",
              "      <td>1</td>\n",
              "      <td>0</td>\n",
              "      <td>1</td>\n",
              "      <td>1</td>\n",
              "      <td>0</td>\n",
              "      <td>0</td>\n",
              "    </tr>\n",
              "    <tr>\n",
              "      <th>2</th>\n",
              "      <td>1</td>\n",
              "      <td>53.85</td>\n",
              "      <td>0</td>\n",
              "      <td>0</td>\n",
              "      <td>0</td>\n",
              "      <td>0</td>\n",
              "      <td>1</td>\n",
              "      <td>1</td>\n",
              "      <td>0</td>\n",
              "      <td>0</td>\n",
              "      <td>0</td>\n",
              "      <td>0</td>\n",
              "      <td>1</td>\n",
              "      <td>61</td>\n",
              "      <td>1</td>\n",
              "      <td>0</td>\n",
              "      <td>0</td>\n",
              "      <td>0</td>\n",
              "      <td>0</td>\n",
              "      <td>0</td>\n",
              "      <td>1</td>\n",
              "      <td>0</td>\n",
              "      <td>1</td>\n",
              "      <td>1</td>\n",
              "      <td>0</td>\n",
              "      <td>0</td>\n",
              "    </tr>\n",
              "    <tr>\n",
              "      <th>3</th>\n",
              "      <td>0</td>\n",
              "      <td>42.30</td>\n",
              "      <td>0</td>\n",
              "      <td>0</td>\n",
              "      <td>0</td>\n",
              "      <td>0</td>\n",
              "      <td>1</td>\n",
              "      <td>0</td>\n",
              "      <td>1</td>\n",
              "      <td>1</td>\n",
              "      <td>0</td>\n",
              "      <td>0</td>\n",
              "      <td>0</td>\n",
              "      <td>1371</td>\n",
              "      <td>0</td>\n",
              "      <td>1</td>\n",
              "      <td>0</td>\n",
              "      <td>1</td>\n",
              "      <td>0</td>\n",
              "      <td>0</td>\n",
              "      <td>0</td>\n",
              "      <td>0</td>\n",
              "      <td>1</td>\n",
              "      <td>1</td>\n",
              "      <td>0</td>\n",
              "      <td>0</td>\n",
              "    </tr>\n",
              "    <tr>\n",
              "      <th>4</th>\n",
              "      <td>1</td>\n",
              "      <td>70.70</td>\n",
              "      <td>0</td>\n",
              "      <td>0</td>\n",
              "      <td>0</td>\n",
              "      <td>0</td>\n",
              "      <td>0</td>\n",
              "      <td>0</td>\n",
              "      <td>0</td>\n",
              "      <td>0</td>\n",
              "      <td>0</td>\n",
              "      <td>0</td>\n",
              "      <td>1</td>\n",
              "      <td>61</td>\n",
              "      <td>1</td>\n",
              "      <td>0</td>\n",
              "      <td>0</td>\n",
              "      <td>0</td>\n",
              "      <td>0</td>\n",
              "      <td>1</td>\n",
              "      <td>0</td>\n",
              "      <td>1</td>\n",
              "      <td>0</td>\n",
              "      <td>0</td>\n",
              "      <td>1</td>\n",
              "      <td>0</td>\n",
              "    </tr>\n",
              "  </tbody>\n",
              "</table>\n",
              "</div>\n",
              "      <button class=\"colab-df-convert\" onclick=\"convertToInteractive('df-400682c1-b9a4-48c7-8c0a-71582bb496b8')\"\n",
              "              title=\"Convert this dataframe to an interactive table.\"\n",
              "              style=\"display:none;\">\n",
              "        \n",
              "  <svg xmlns=\"http://www.w3.org/2000/svg\" height=\"24px\"viewBox=\"0 0 24 24\"\n",
              "       width=\"24px\">\n",
              "    <path d=\"M0 0h24v24H0V0z\" fill=\"none\"/>\n",
              "    <path d=\"M18.56 5.44l.94 2.06.94-2.06 2.06-.94-2.06-.94-.94-2.06-.94 2.06-2.06.94zm-11 1L8.5 8.5l.94-2.06 2.06-.94-2.06-.94L8.5 2.5l-.94 2.06-2.06.94zm10 10l.94 2.06.94-2.06 2.06-.94-2.06-.94-.94-2.06-.94 2.06-2.06.94z\"/><path d=\"M17.41 7.96l-1.37-1.37c-.4-.4-.92-.59-1.43-.59-.52 0-1.04.2-1.43.59L10.3 9.45l-7.72 7.72c-.78.78-.78 2.05 0 2.83L4 21.41c.39.39.9.59 1.41.59.51 0 1.02-.2 1.41-.59l7.78-7.78 2.81-2.81c.8-.78.8-2.07 0-2.86zM5.41 20L4 18.59l7.72-7.72 1.47 1.35L5.41 20z\"/>\n",
              "  </svg>\n",
              "      </button>\n",
              "      \n",
              "  <style>\n",
              "    .colab-df-container {\n",
              "      display:flex;\n",
              "      flex-wrap:wrap;\n",
              "      gap: 12px;\n",
              "    }\n",
              "\n",
              "    .colab-df-convert {\n",
              "      background-color: #E8F0FE;\n",
              "      border: none;\n",
              "      border-radius: 50%;\n",
              "      cursor: pointer;\n",
              "      display: none;\n",
              "      fill: #1967D2;\n",
              "      height: 32px;\n",
              "      padding: 0 0 0 0;\n",
              "      width: 32px;\n",
              "    }\n",
              "\n",
              "    .colab-df-convert:hover {\n",
              "      background-color: #E2EBFA;\n",
              "      box-shadow: 0px 1px 2px rgba(60, 64, 67, 0.3), 0px 1px 3px 1px rgba(60, 64, 67, 0.15);\n",
              "      fill: #174EA6;\n",
              "    }\n",
              "\n",
              "    [theme=dark] .colab-df-convert {\n",
              "      background-color: #3B4455;\n",
              "      fill: #D2E3FC;\n",
              "    }\n",
              "\n",
              "    [theme=dark] .colab-df-convert:hover {\n",
              "      background-color: #434B5C;\n",
              "      box-shadow: 0px 1px 3px 1px rgba(0, 0, 0, 0.15);\n",
              "      filter: drop-shadow(0px 1px 2px rgba(0, 0, 0, 0.3));\n",
              "      fill: #FFFFFF;\n",
              "    }\n",
              "  </style>\n",
              "\n",
              "      <script>\n",
              "        const buttonEl =\n",
              "          document.querySelector('#df-400682c1-b9a4-48c7-8c0a-71582bb496b8 button.colab-df-convert');\n",
              "        buttonEl.style.display =\n",
              "          google.colab.kernel.accessAllowed ? 'block' : 'none';\n",
              "\n",
              "        async function convertToInteractive(key) {\n",
              "          const element = document.querySelector('#df-400682c1-b9a4-48c7-8c0a-71582bb496b8');\n",
              "          const dataTable =\n",
              "            await google.colab.kernel.invokeFunction('convertToInteractive',\n",
              "                                                     [key], {});\n",
              "          if (!dataTable) return;\n",
              "\n",
              "          const docLinkHtml = 'Like what you see? Visit the ' +\n",
              "            '<a target=\"_blank\" href=https://colab.research.google.com/notebooks/data_table.ipynb>data table notebook</a>'\n",
              "            + ' to learn more about interactive tables.';\n",
              "          element.innerHTML = '';\n",
              "          dataTable['output_type'] = 'display_data';\n",
              "          await google.colab.output.renderOutput(dataTable, element);\n",
              "          const docLink = document.createElement('div');\n",
              "          docLink.innerHTML = docLinkHtml;\n",
              "          element.appendChild(docLink);\n",
              "        }\n",
              "      </script>\n",
              "    </div>\n",
              "  </div>\n",
              "  "
            ]
          },
          "metadata": {},
          "execution_count": 101
        }
      ],
      "source": [
        "df_new.head()"
      ]
    },
    {
      "cell_type": "markdown",
      "metadata": {
        "id": "rWyq42OYAqwU"
      },
      "source": [
        "Теперь разобьем данные на признаки и целевой признак, а так же на обучающую и тестовую выборки:"
      ]
    },
    {
      "cell_type": "code",
      "execution_count": 102,
      "metadata": {
        "colab": {
          "base_uri": "https://localhost:8080/"
        },
        "id": "gLiozI9TFdNf",
        "outputId": "0f9abfbc-6063-4749-d5ca-64adb55d5e4e"
      },
      "outputs": [
        {
          "output_type": "execute_result",
          "data": {
            "text/plain": [
              "0    0.734215\n",
              "1    0.265785\n",
              "Name: TheEnd, dtype: float64"
            ]
          },
          "metadata": {},
          "execution_count": 102
        }
      ],
      "source": [
        "df_new['TheEnd'].value_counts(normalize=True)"
      ]
    },
    {
      "cell_type": "code",
      "execution_count": 103,
      "metadata": {
        "id": "Uu-nqcgcBHY8"
      },
      "outputs": [],
      "source": [
        "target = df_new['TheEnd']\n",
        "features = df_new.drop('TheEnd', axis=1)"
      ]
    },
    {
      "cell_type": "code",
      "execution_count": 104,
      "metadata": {
        "id": "6vtMKKKYAzG6"
      },
      "outputs": [],
      "source": [
        "features_train, features_test, target_train, target_test = train_test_split(features, target, \n",
        "                                                                            test_size=0.25, \n",
        "                                                                            random_state = 120922, \n",
        "                                                                            stratify = target)"
      ]
    },
    {
      "cell_type": "code",
      "execution_count": 105,
      "metadata": {
        "colab": {
          "base_uri": "https://localhost:8080/"
        },
        "id": "THjWOW_mBaYK",
        "outputId": "7a0a888b-9bab-4209-8bdc-b7db75a02b4e"
      },
      "outputs": [
        {
          "output_type": "stream",
          "name": "stdout",
          "text": [
            "(5274, 25) (1758, 25) (5274,) (1758,)\n"
          ]
        }
      ],
      "source": [
        "print(features_train.shape, \n",
        "      features_test.shape, \n",
        "      target_train.shape, \n",
        "      target_test.shape)"
      ]
    },
    {
      "cell_type": "markdown",
      "metadata": {
        "id": "0BS-cDd16Qki"
      },
      "source": [
        "### LGBMClassifier"
      ]
    },
    {
      "cell_type": "markdown",
      "metadata": {
        "id": "YBlbzIPHIrvU"
      },
      "source": [
        "Напишем для lgbm модели пайплайн и пропустим через GridSearchCV, потом прогоним через кросс-валидацию:"
      ]
    },
    {
      "cell_type": "code",
      "execution_count": 106,
      "metadata": {
        "id": "2DysyyTMHbWI"
      },
      "outputs": [],
      "source": [
        "pipe = Pipeline(steps=[('scaler', StandardScaler()),\n",
        "                       ('lgbm', LGBMClassifier(random_state=120922, objective='binary',\n",
        "                                               class_weight='balanced', silent=True))])"
      ]
    },
    {
      "cell_type": "code",
      "execution_count": 107,
      "metadata": {
        "id": "QlE59pMXJyyO"
      },
      "outputs": [],
      "source": [
        "params = {\n",
        " 'lgbm__max_depth': range (1, 21, 2),\n",
        " 'lgbm__n_estimators': range (1, 1001, 100),\n",
        " 'lgbm__learning_rate': [0.8]}"
      ]
    },
    {
      "cell_type": "code",
      "execution_count": 108,
      "metadata": {
        "id": "elep4GjzKPcY"
      },
      "outputs": [],
      "source": [
        "GS_lgbm = GridSearchCV(pipe, params, \n",
        "                       verbose=3, cv=8,\n",
        "                       n_jobs=-1, scoring='roc_auc')"
      ]
    },
    {
      "cell_type": "code",
      "execution_count": 109,
      "metadata": {
        "colab": {
          "base_uri": "https://localhost:8080/"
        },
        "id": "3_KoC097azLy",
        "outputId": "eb72ce76-7cc4-40eb-ee1a-639ffff3ead4"
      },
      "outputs": [
        {
          "output_type": "stream",
          "name": "stdout",
          "text": [
            "Fitting 8 folds for each of 100 candidates, totalling 800 fits\n"
          ]
        },
        {
          "output_type": "execute_result",
          "data": {
            "text/plain": [
              "GridSearchCV(cv=8,\n",
              "             estimator=Pipeline(steps=[('scaler', StandardScaler()),\n",
              "                                       ('lgbm',\n",
              "                                        LGBMClassifier(class_weight='balanced',\n",
              "                                                       objective='binary',\n",
              "                                                       random_state=120922))]),\n",
              "             n_jobs=-1,\n",
              "             param_grid={'lgbm__learning_rate': [0.8],\n",
              "                         'lgbm__max_depth': range(1, 21, 2),\n",
              "                         'lgbm__n_estimators': range(1, 1001, 100)},\n",
              "             scoring='roc_auc', verbose=3)"
            ]
          },
          "metadata": {},
          "execution_count": 109
        }
      ],
      "source": [
        "GS_lgbm.fit(features_train, target_train)"
      ]
    },
    {
      "cell_type": "code",
      "execution_count": 110,
      "metadata": {
        "colab": {
          "base_uri": "https://localhost:8080/"
        },
        "id": "A127FGLjKXJO",
        "outputId": "8b7614bb-462f-4c3e-c729-24ae6a01ae06"
      },
      "outputs": [
        {
          "output_type": "execute_result",
          "data": {
            "text/plain": [
              "0.8942736311983471"
            ]
          },
          "metadata": {},
          "execution_count": 110
        }
      ],
      "source": [
        "GS_lgbm.best_score_"
      ]
    },
    {
      "cell_type": "code",
      "execution_count": 111,
      "metadata": {
        "colab": {
          "base_uri": "https://localhost:8080/"
        },
        "id": "EY-ny5dndQrv",
        "outputId": "94645340-8c26-41f2-a1eb-a8a199f67f23"
      },
      "outputs": [
        {
          "output_type": "execute_result",
          "data": {
            "text/plain": [
              "{'lgbm__learning_rate': 0.8, 'lgbm__max_depth': 3, 'lgbm__n_estimators': 101}"
            ]
          },
          "metadata": {},
          "execution_count": 111
        }
      ],
      "source": [
        "GS_lgbm.best_params_"
      ]
    },
    {
      "cell_type": "code",
      "execution_count": 112,
      "metadata": {
        "colab": {
          "base_uri": "https://localhost:8080/"
        },
        "id": "JeRXP__rZGqA",
        "outputId": "510cddeb-fc07-4cea-86d9-ced6cb5505d4"
      },
      "outputs": [
        {
          "output_type": "execute_result",
          "data": {
            "text/plain": [
              "Pipeline(steps=[('scaler', StandardScaler()),\n",
              "                ('lgbm',\n",
              "                 LGBMClassifier(class_weight='balanced', learning_rate=0.8,\n",
              "                                max_depth=3, n_estimators=101,\n",
              "                                objective='binary', random_state=120922))])"
            ]
          },
          "metadata": {},
          "execution_count": 112
        }
      ],
      "source": [
        "GS_lgbm.best_estimator_"
      ]
    },
    {
      "cell_type": "markdown",
      "metadata": {
        "id": "NYFWekhgdOY7"
      },
      "source": [
        "Лучший рузультат практически 0.89 при параметрах: глубина: 3, число деревьев 101"
      ]
    },
    {
      "cell_type": "markdown",
      "metadata": {
        "id": "K1txgvoS6iL9"
      },
      "source": [
        "### RandomForestClassifier"
      ]
    },
    {
      "cell_type": "markdown",
      "metadata": {
        "id": "lKfNDf736v2i"
      },
      "source": [
        "Теперь попробуем обучить модель Случайного леса, воспользуемся GridSearch."
      ]
    },
    {
      "cell_type": "code",
      "execution_count": 113,
      "metadata": {
        "id": "40YLhBFadBiF"
      },
      "outputs": [],
      "source": [
        "params_rfc = {\n",
        " 'max_depth': range (1, 16, 3),\n",
        " 'n_estimators': range (1, 501, 50),\n",
        " 'random_state': [120922]}"
      ]
    },
    {
      "cell_type": "code",
      "execution_count": 114,
      "metadata": {
        "id": "dvf-DN9zbYij"
      },
      "outputs": [],
      "source": [
        "GS_rfc = GridSearchCV(RandomForestClassifier(), \n",
        "                      params_rfc, verbose=3, cv=8,\n",
        "                      n_jobs=-1, scoring='roc_auc')"
      ]
    },
    {
      "cell_type": "code",
      "execution_count": 115,
      "metadata": {
        "colab": {
          "base_uri": "https://localhost:8080/"
        },
        "id": "xrWcyA9UbfaG",
        "outputId": "398a59e1-805e-4c76-d085-5c182db5043f"
      },
      "outputs": [
        {
          "output_type": "stream",
          "name": "stdout",
          "text": [
            "Fitting 8 folds for each of 50 candidates, totalling 400 fits\n"
          ]
        },
        {
          "output_type": "execute_result",
          "data": {
            "text/plain": [
              "GridSearchCV(cv=8, estimator=RandomForestClassifier(), n_jobs=-1,\n",
              "             param_grid={'max_depth': range(1, 16, 3),\n",
              "                         'n_estimators': range(1, 501, 50),\n",
              "                         'random_state': [120922]},\n",
              "             scoring='roc_auc', verbose=3)"
            ]
          },
          "metadata": {},
          "execution_count": 115
        }
      ],
      "source": [
        "GS_rfc.fit(features_train, target_train)"
      ]
    },
    {
      "cell_type": "code",
      "execution_count": 116,
      "metadata": {
        "colab": {
          "base_uri": "https://localhost:8080/"
        },
        "id": "KuqC-W9Vb4qC",
        "outputId": "55f3d5b3-cedc-423a-dc15-91293aea6adf"
      },
      "outputs": [
        {
          "output_type": "execute_result",
          "data": {
            "text/plain": [
              "0.859845791798594"
            ]
          },
          "metadata": {},
          "execution_count": 116
        }
      ],
      "source": [
        "GS_rfc.best_score_"
      ]
    },
    {
      "cell_type": "code",
      "execution_count": 117,
      "metadata": {
        "colab": {
          "base_uri": "https://localhost:8080/"
        },
        "id": "91VPzdSQb44z",
        "outputId": "77b6f03b-d85a-4d65-a40a-197bf3e9ca4a"
      },
      "outputs": [
        {
          "output_type": "execute_result",
          "data": {
            "text/plain": [
              "{'max_depth': 7, 'n_estimators': 401, 'random_state': 120922}"
            ]
          },
          "metadata": {},
          "execution_count": 117
        }
      ],
      "source": [
        "GS_rfc.best_params_"
      ]
    },
    {
      "cell_type": "code",
      "execution_count": 118,
      "metadata": {
        "colab": {
          "base_uri": "https://localhost:8080/"
        },
        "id": "uDNXckQ2b5Bd",
        "outputId": "287d3506-f679-463d-9faf-afd59ec5681e"
      },
      "outputs": [
        {
          "output_type": "execute_result",
          "data": {
            "text/plain": [
              "RandomForestClassifier(max_depth=7, n_estimators=401, random_state=120922)"
            ]
          },
          "metadata": {},
          "execution_count": 118
        }
      ],
      "source": [
        "GS_rfc.best_estimator_"
      ]
    },
    {
      "cell_type": "markdown",
      "metadata": {
        "id": "jNPbO142PFZf"
      },
      "source": [
        "Результаты auc_roc у модели случайный лес равен 0.86 при глубине 7 и количестве деревьев 401."
      ]
    },
    {
      "cell_type": "markdown",
      "metadata": {
        "id": "sQitkafePYkp"
      },
      "source": [
        "### Тестироование лучшей модели"
      ]
    },
    {
      "cell_type": "markdown",
      "metadata": {
        "id": "6nrrbepZRF_s"
      },
      "source": [
        "Проверим модель lgbm, так как она показала лучший результат:"
      ]
    },
    {
      "cell_type": "code",
      "execution_count": 119,
      "metadata": {
        "colab": {
          "base_uri": "https://localhost:8080/"
        },
        "id": "S9hrnGcKg1gd",
        "outputId": "c455630b-3763-4abc-d57b-6ba0550732ab"
      },
      "outputs": [
        {
          "output_type": "stream",
          "name": "stdout",
          "text": [
            "ROC-AUC : 0.90\n"
          ]
        }
      ],
      "source": [
        "print('ROC-AUC : {:.2f}'.format(roc_auc_score(target_test,\n",
        "                                              GS_lgbm.best_estimator_.predict_proba(features_test)[:, 1])))"
      ]
    },
    {
      "cell_type": "markdown",
      "metadata": {
        "id": "psS8S16641o5"
      },
      "source": [
        "Результат на тестовой выборке auc_roc почти 0.89, что вполне неплохо. Далее дополнительно проверим результат предсказаний на другой метрике Accuracy:"
      ]
    },
    {
      "cell_type": "code",
      "execution_count": 120,
      "metadata": {
        "colab": {
          "base_uri": "https://localhost:8080/"
        },
        "id": "IYBE207O3NtK",
        "outputId": "b3c85fb7-fee3-41aa-ff57-09f715a66823"
      },
      "outputs": [
        {
          "output_type": "stream",
          "name": "stdout",
          "text": [
            "Accuracy : 82.25%\n"
          ]
        }
      ],
      "source": [
        "print('Accuracy : {:.2%}'.format(accuracy_score(target_test,\n",
        "                                                GS_lgbm.best_estimator_.predict(features_test))))"
      ]
    },
    {
      "cell_type": "markdown",
      "metadata": {
        "id": "4kBDBX87-wEj"
      },
      "source": [
        "Результат Accuracy почти 80, результат средний, но так как основная метрика ROC-AUC, то данный результат удовлетворителен. "
      ]
    },
    {
      "cell_type": "markdown",
      "metadata": {
        "id": "W1aZ7vXNPdJD"
      },
      "source": [
        "### Вывод\n",
        "\n",
        "В данном разделе была проведена подготовка данных к машинному обучению:\n",
        "\n",
        "  - преобразование категориальных признаков в численные с помощью техники прямого кодирования OHE;\n",
        "\n",
        "  - разобивка данных на признаки и целевой признак, а так же на обучающую и тестовую выборки;\n",
        "\n",
        "Далее были обучены две модели:\n",
        "\n",
        "  - LGBMClassifier сначала через паплайн с масштабированием и подбором параметров через GridSearchCV, далее с лучшими параметрами (глубина: 3, число деревьев 101, auc_roc 0.89) обучили модель и получили лучший результат с помощью кросс-валидации. \n",
        "\n",
        "  - RandomForestClassifier в простом варианте через цикл подобрали лучшие параметры и запустили через кросс-валидацию. Лучший результат auc_roc был при параметрах глубина 7 и  n_estimators равное 401 и равен почти 0.86. Что хуже , чем результат на LGBM модели. Поэтому проверку тестовой части данных провели на LGBM модели.\n",
        "\n",
        "  - Провели тестирование на LGBM модели. Результаты на тестовой выборке auc_roc ˜0.90, а метрика Accuracy показала результат 0.82.\n",
        "\n",
        "Результаты на тестовой выборке удовлетворительные. "
      ]
    },
    {
      "cell_type": "markdown",
      "metadata": {
        "id": "4OON9eLmrBGS"
      },
      "source": [
        "## Отчет о проделанной работе"
      ]
    },
    {
      "cell_type": "markdown",
      "metadata": {
        "id": "rYuN9tBWrE-i"
      },
      "source": [
        "В данном проекте были проведены работы поэтапно согласно составленному плану без отступлений. Основная трудность была в ожидании расчетов на GridSearch, так как даже с GPU расчеты велись долго. В остальном проблем ни с подготовокой данных, ни с обучением модели, не наблюдалось. \n",
        "\n",
        "В данной работе были следующие ключевые шаги :\n",
        "\n",
        "    - подготовка данных и работа с аномалиями\n",
        "    - создание дополнительных признаков;\n",
        "    - исследование данных и анализ влияния признаков на целевой признак (причины оттока клиентов);\n",
        "    - подготовка признаков и целевого признака для МО;\n",
        "    - обучение моделей и поиск наилучшей;\n",
        "    - тестирование лучшей модели.\n",
        "\n",
        "Теперь подробнее рассмотрим каждый пункт выполненного плана:\n",
        "\n",
        "1. Подготовка к проекту:\n",
        "\n",
        "Была произведена загрузка данных, проверка файлов на их работоспособность и отсутствие багов, а так же их визуальный осмотр.\n",
        "Проблем с открытием файлов данных нет.\n",
        "\n",
        "\n",
        "2. Исследование данных:\n",
        "\n",
        "В данном разделе была загружена краткая статистическая сводка данных, далее данные проверили на наличие явных дубликатов и пропусков, коих не оказалось.\n",
        "Но при объединении таблиц пропуски появятся дальше по ходу выполнения проекта, поэтому вся работа с ними будет проведена дальше.\n",
        "У столбца total charges так же надо будет изменить тип данных на float. Столбец EndDate в таком виде не подходит для работы и его надо будет заменить на бинарный вариант ответа 1/0 (ушел/не ушел).\n",
        "\n",
        "3. Проработка данных и подготовка к МО:\n",
        "\n",
        "Для начала были объеденены таблицы по номеру ID, появились пропуски там, где клиенты не пользовались какими либо услугами. Решено было заменить эти пропуски на \"No\". .\n",
        "\n",
        "Далее при попытке замены типа данных у столбца \"total charges\", выяснилось, что там имеются другие аномалии в виде пустых строк, поэтому для начала было принято решение удалить эти строки, т.к. их количество равно 11 и не критично для всего датасета, а так же это были те клиенты, которые только заключили договор и не успели заплатить за услуги и их дальнейшее поведение достаточно сложно идентифицировать (совершенно не ясно какими в итоге клиентами они станут, поэтому считаю их не информативными).\n",
        "\n",
        "Поэтому для начала были преобразованы все эти анамальные ячейки, которые невозможно было преобразовать в числовые значения, в NaN. Потом был изменен тип данных на float и в итоге были удалены строки с пропусками.\n",
        "\n",
        "В итоге после всех этих действий в датасете осталось 7032 строк (для проверки количества сток была запущена команда shape).\n",
        "\n",
        "Далее данном этапе целевой признак был разбит на бинарный вариант Ушел ли клиент\" - \"да\" или \"нет\" посредством создания функции.\n",
        "Далее все столбцы с бинарными ответами \"Да\" или \"Нет\" через эту же функцию были переведены к значению 1 или 0. На данном эпате все бинарные значения были преобразованы.\n",
        "Так же на этом этапе была добавлена колонка, которая содержит информацию по количеству часов сколько врмени клиент пользуется или пользовался услугами данной компании. \n",
        "\n",
        "На следующем шаге был проведен анализ и выяснено какие клиенты чаще уходят: те, кто давно польтуется услугами или новички. \n",
        "Сначала был изменен тип данных у дат. Для этого в столбце с датой окончания заменены ответы \"No\" на дату \"2020-02-01\", что бы потом у столбца поменять тип данных и в итоге посчитать время пользования услугами.\n",
        "После замены типа данных были посчитаны часы и результат был занесен в отдельный столбец \"SumDays\".\n",
        "После этого были изучены данные и был проведен анализ что бы решить что повлияло на отток клиентов.\n",
        "По графику видно, что ушло более 1/4 клиентов (26%), что является большим показателем. \n",
        "По сумме дней видно из графика, быстрее всех уходят те, кто пользуется услугами не более 2-3 месяцев, вероятно, тариф им не подошел и они решили сменить поставщика услуг. \n",
        "Посмотрев данные к привязке к типу оплаты видно по графику, что почти 89 процентов клиентов которые перестают пользоваться услугами, находятся на оплате услуг помесячно. При этом постоянные клиенты преимущественно выбирают долгосрочные типы оплат (и это при условии что 55 процентов клиентов выбирают помесячную оплату). Скорее всего это хорошая идея для маркетинга привлечь клиентов, которые будут готовы оплатить сразу услуги за год или два.\n",
        "\n",
        "После анализа была изучена корреляция линейных признаков:\n",
        "\n",
        "выявилась большая корреляция между количеством дней пользования услугами и оплаченых средств, что логично: чем дольше клиент пользуется услугами, тем больше денег заплатил компании. В остальном критического ничего нет, целевой признак ни с чем не коррелирует. Поэтому было принято решение один коррелирующий признак удалить.\n",
        "\n",
        "После анализа были удалены столбцы с датой начала контракта \"BeginDate\", датой окончания \"EndDate\" (если контракт разорван или отметка \"No\") и столбец \"customerID\", т.к. для обучения данная информация не имеет ценности. И так же сильно коррелирующий признак \"TotalCharges\" был удален. \n",
        "\n",
        "4. МО и подбор гиперпараметров:\n",
        "\n",
        "В данном разделе для начала были преобразованы категориальные признаки в численные с помощью техники прямого кодирования OHE.\n",
        "\n",
        "После преобразования были разобиты данные на признаки и целевой признак, а так же на обучающую и тестовую выборки.\n",
        "\n",
        "После подготовки и разбивки данных для lgbm-модели был создан пайплайн с маштабированием, который в итоге был добавлен в GridSearchCV. После расчетов были получены следующие результаты: лучший рузультат практически ROC-AUC = 0.89 при параметрах глубины = 3 и число деревьев = 101.\n",
        "\n",
        "Следующая модель для обучения была выбрана модель Случайного леса, которая так же была использована посредством расчета через GridSearch.\n",
        "\n",
        "После расчетов были получены следующие результаты: лучший рузультат практически ROC-AUC = 0.86 при глубине = 7 и количестве деревьев = 401.\n",
        "\n",
        "Следующим шагом было тестироование лучшей модели.\n",
        "Лучшее результаты показала модель lgbm, поэтому тестирование было проведено с ней. Для тестирования были взяты лучшие параметры GS_lgbm.best_estimator_ .\n",
        "В итоге результат на тестовой выборке ROC-AUC  был равен 0.90, что вполне неплохо. \n",
        "Далее дополнительно была проверен результат предсказаний на другой метрике Accuracy. И результат Accuracy был равен почти 82, результат средний, но так как основная метрика ROC-AUC, то данный результат удовлетворителен. Модель не переучена. \n",
        "\n",
        "5. Подготовка отчета, выводов.\n",
        "\n",
        "По каждому этапу были написаны выводы и так же в конце создан данный отчет. \n",
        "\n",
        "В целом, по проделанной работе , можно рекомендовать заказчику LGBMClassifier - модель, так как она показала лучшие результаты на тестовой выборке ROC-AUC = 0.90 и Accuracy = 82%. Она несомненно дольше проходит обучение и может переобучаться, поэтому необходим контроль, но зато у нее высокие показатели предсказывания событий."
      ]
    },
    {
      "cell_type": "code",
      "execution_count": 120,
      "metadata": {
        "id": "P0p-J-2GuWSR"
      },
      "outputs": [],
      "source": []
    }
  ],
  "metadata": {
    "ExecuteTimeLog": [
      {
        "duration": 1941,
        "start_time": "2022-09-22T04:26:27.210Z"
      },
      {
        "duration": 325,
        "start_time": "2022-09-22T04:26:29.921Z"
      },
      {
        "duration": 1535,
        "start_time": "2022-09-22T05:04:09.610Z"
      },
      {
        "duration": 112,
        "start_time": "2022-09-22T05:04:11.147Z"
      },
      {
        "duration": 15,
        "start_time": "2022-09-22T05:04:11.261Z"
      },
      {
        "duration": 10,
        "start_time": "2022-09-22T05:04:11.278Z"
      },
      {
        "duration": 10,
        "start_time": "2022-09-22T05:04:11.289Z"
      },
      {
        "duration": 8,
        "start_time": "2022-09-22T05:04:11.300Z"
      },
      {
        "duration": 14,
        "start_time": "2022-09-22T05:04:11.309Z"
      },
      {
        "duration": 10,
        "start_time": "2022-09-22T05:04:11.325Z"
      },
      {
        "duration": 41,
        "start_time": "2022-09-22T05:04:11.337Z"
      },
      {
        "duration": 10,
        "start_time": "2022-09-22T05:04:11.381Z"
      },
      {
        "duration": 36,
        "start_time": "2022-09-22T05:04:11.393Z"
      },
      {
        "duration": 48,
        "start_time": "2022-09-22T05:04:11.430Z"
      },
      {
        "duration": 29,
        "start_time": "2022-09-22T05:04:11.479Z"
      },
      {
        "duration": 14,
        "start_time": "2022-09-22T05:04:11.510Z"
      },
      {
        "duration": 22,
        "start_time": "2022-09-22T05:04:11.526Z"
      },
      {
        "duration": 30,
        "start_time": "2022-09-22T05:04:11.550Z"
      },
      {
        "duration": 9,
        "start_time": "2022-09-22T05:04:11.582Z"
      },
      {
        "duration": 8,
        "start_time": "2022-09-22T05:04:11.593Z"
      },
      {
        "duration": 9,
        "start_time": "2022-09-22T05:04:11.602Z"
      },
      {
        "duration": 8,
        "start_time": "2022-09-22T05:04:11.613Z"
      },
      {
        "duration": 8,
        "start_time": "2022-09-22T05:04:11.623Z"
      },
      {
        "duration": 7,
        "start_time": "2022-09-22T05:04:11.633Z"
      },
      {
        "duration": 39,
        "start_time": "2022-09-22T05:04:11.642Z"
      },
      {
        "duration": 10,
        "start_time": "2022-09-22T05:04:11.683Z"
      },
      {
        "duration": 11,
        "start_time": "2022-09-22T05:04:11.696Z"
      },
      {
        "duration": 16,
        "start_time": "2022-09-22T05:04:11.709Z"
      },
      {
        "duration": 16,
        "start_time": "2022-09-22T05:04:11.727Z"
      },
      {
        "duration": 10,
        "start_time": "2022-09-22T05:04:11.776Z"
      },
      {
        "duration": 14,
        "start_time": "2022-09-22T05:04:11.788Z"
      },
      {
        "duration": 4,
        "start_time": "2022-09-22T05:04:11.804Z"
      },
      {
        "duration": 9,
        "start_time": "2022-09-22T05:04:11.809Z"
      },
      {
        "duration": 8,
        "start_time": "2022-09-22T05:04:11.819Z"
      },
      {
        "duration": 7,
        "start_time": "2022-09-22T05:04:11.829Z"
      },
      {
        "duration": 10,
        "start_time": "2022-09-22T05:04:11.837Z"
      },
      {
        "duration": 29,
        "start_time": "2022-09-22T05:04:11.849Z"
      },
      {
        "duration": 28,
        "start_time": "2022-09-22T05:04:11.880Z"
      },
      {
        "duration": 9,
        "start_time": "2022-09-22T05:04:11.909Z"
      },
      {
        "duration": 9,
        "start_time": "2022-09-22T05:04:11.920Z"
      },
      {
        "duration": 5,
        "start_time": "2022-09-22T05:04:11.931Z"
      },
      {
        "duration": 16,
        "start_time": "2022-09-22T05:04:11.938Z"
      },
      {
        "duration": 23,
        "start_time": "2022-09-22T05:04:11.956Z"
      },
      {
        "duration": 11,
        "start_time": "2022-09-22T05:04:11.981Z"
      },
      {
        "duration": 12,
        "start_time": "2022-09-22T05:04:11.993Z"
      },
      {
        "duration": 12,
        "start_time": "2022-09-22T05:04:12.007Z"
      },
      {
        "duration": 25,
        "start_time": "2022-09-22T05:04:12.021Z"
      },
      {
        "duration": 10,
        "start_time": "2022-09-22T05:04:12.048Z"
      },
      {
        "duration": 5,
        "start_time": "2022-09-22T05:04:12.060Z"
      },
      {
        "duration": 12,
        "start_time": "2022-09-22T05:04:12.066Z"
      },
      {
        "duration": 11,
        "start_time": "2022-09-22T05:04:12.080Z"
      },
      {
        "duration": 8,
        "start_time": "2022-09-22T05:04:12.092Z"
      },
      {
        "duration": 7,
        "start_time": "2022-09-22T05:04:12.101Z"
      },
      {
        "duration": 6,
        "start_time": "2022-09-22T05:04:12.109Z"
      },
      {
        "duration": 8,
        "start_time": "2022-09-22T05:04:12.117Z"
      },
      {
        "duration": 5,
        "start_time": "2022-09-22T05:04:12.126Z"
      },
      {
        "duration": 7,
        "start_time": "2022-09-22T05:04:12.133Z"
      },
      {
        "duration": 9,
        "start_time": "2022-09-22T05:04:12.141Z"
      },
      {
        "duration": 24,
        "start_time": "2022-09-22T05:04:12.152Z"
      },
      {
        "duration": 6,
        "start_time": "2022-09-22T05:04:12.178Z"
      },
      {
        "duration": 15,
        "start_time": "2022-09-22T05:04:12.186Z"
      },
      {
        "duration": 7,
        "start_time": "2022-09-22T05:04:12.203Z"
      },
      {
        "duration": 8,
        "start_time": "2022-09-22T05:04:12.211Z"
      },
      {
        "duration": 8,
        "start_time": "2022-09-22T05:04:12.221Z"
      },
      {
        "duration": 8,
        "start_time": "2022-09-22T05:04:12.230Z"
      },
      {
        "duration": 10,
        "start_time": "2022-09-22T05:04:12.239Z"
      },
      {
        "duration": 11,
        "start_time": "2022-09-22T05:04:12.251Z"
      },
      {
        "duration": 22,
        "start_time": "2022-09-22T05:04:12.263Z"
      },
      {
        "duration": 5,
        "start_time": "2022-09-22T05:04:12.287Z"
      },
      {
        "duration": 7,
        "start_time": "2022-09-22T05:04:12.294Z"
      },
      {
        "duration": 8,
        "start_time": "2022-09-22T05:04:12.303Z"
      },
      {
        "duration": 5,
        "start_time": "2022-09-22T05:04:12.313Z"
      },
      {
        "duration": 7,
        "start_time": "2022-09-22T05:04:12.319Z"
      },
      {
        "duration": 5,
        "start_time": "2022-09-22T05:04:12.327Z"
      },
      {
        "duration": 7,
        "start_time": "2022-09-22T05:04:12.334Z"
      },
      {
        "duration": 5,
        "start_time": "2022-09-22T05:04:12.343Z"
      },
      {
        "duration": 5,
        "start_time": "2022-09-22T05:04:12.376Z"
      },
      {
        "duration": 7,
        "start_time": "2022-09-22T05:04:12.382Z"
      },
      {
        "duration": 19,
        "start_time": "2022-09-22T05:04:12.390Z"
      },
      {
        "duration": 11,
        "start_time": "2022-09-22T05:04:12.411Z"
      },
      {
        "duration": 9,
        "start_time": "2022-09-22T05:04:12.423Z"
      },
      {
        "duration": 21,
        "start_time": "2022-09-22T05:04:12.433Z"
      },
      {
        "duration": 21,
        "start_time": "2022-09-22T05:04:12.456Z"
      },
      {
        "duration": 8,
        "start_time": "2022-09-22T05:04:12.486Z"
      },
      {
        "duration": 349,
        "start_time": "2022-09-22T05:04:12.496Z"
      },
      {
        "duration": 16,
        "start_time": "2022-09-22T05:04:12.847Z"
      },
      {
        "duration": 343,
        "start_time": "2022-09-22T05:04:12.877Z"
      },
      {
        "duration": 4,
        "start_time": "2022-09-22T05:04:13.222Z"
      },
      {
        "duration": 8,
        "start_time": "2022-09-22T05:04:13.228Z"
      },
      {
        "duration": 6,
        "start_time": "2022-09-22T05:04:13.238Z"
      },
      {
        "duration": 434,
        "start_time": "2022-09-22T05:04:13.246Z"
      },
      {
        "duration": 304,
        "start_time": "2022-09-22T05:04:13.682Z"
      },
      {
        "duration": 5,
        "start_time": "2022-09-22T05:04:13.988Z"
      },
      {
        "duration": 1597,
        "start_time": "2022-09-22T05:04:13.995Z"
      },
      {
        "duration": 6,
        "start_time": "2022-09-22T05:04:15.594Z"
      },
      {
        "duration": 17,
        "start_time": "2022-09-22T05:04:15.602Z"
      },
      {
        "duration": 25,
        "start_time": "2022-09-22T05:04:15.621Z"
      },
      {
        "duration": 13,
        "start_time": "2022-09-22T05:04:15.647Z"
      },
      {
        "duration": 20,
        "start_time": "2022-09-22T05:04:15.661Z"
      },
      {
        "duration": 19,
        "start_time": "2022-09-22T05:04:15.683Z"
      },
      {
        "duration": 21,
        "start_time": "2022-09-22T05:04:15.704Z"
      },
      {
        "duration": 38,
        "start_time": "2022-09-22T05:04:15.726Z"
      },
      {
        "duration": 22,
        "start_time": "2022-09-22T05:04:15.766Z"
      },
      {
        "duration": 16,
        "start_time": "2022-09-22T05:04:15.790Z"
      },
      {
        "duration": 29,
        "start_time": "2022-09-22T05:04:15.807Z"
      },
      {
        "duration": 16,
        "start_time": "2022-09-22T05:04:15.837Z"
      },
      {
        "duration": 30,
        "start_time": "2022-09-22T05:04:15.855Z"
      },
      {
        "duration": 26,
        "start_time": "2022-09-22T05:04:15.887Z"
      },
      {
        "duration": 16,
        "start_time": "2022-09-22T05:04:15.915Z"
      },
      {
        "duration": 21,
        "start_time": "2022-09-22T05:04:15.932Z"
      },
      {
        "duration": 6682139,
        "start_time": "2022-09-22T05:04:15.954Z"
      },
      {
        "duration": 4,
        "start_time": "2022-09-22T06:55:38.094Z"
      },
      {
        "duration": 5,
        "start_time": "2022-09-22T06:55:38.100Z"
      },
      {
        "duration": 4,
        "start_time": "2022-09-22T06:55:38.107Z"
      },
      {
        "duration": 169,
        "start_time": "2022-09-22T06:55:38.113Z"
      },
      {
        "duration": 0,
        "start_time": "2022-09-22T06:55:38.283Z"
      },
      {
        "duration": 0,
        "start_time": "2022-09-22T06:55:38.285Z"
      },
      {
        "duration": 0,
        "start_time": "2022-09-22T06:55:38.285Z"
      },
      {
        "duration": 0,
        "start_time": "2022-09-22T06:55:38.286Z"
      },
      {
        "duration": 0,
        "start_time": "2022-09-22T06:55:38.287Z"
      },
      {
        "duration": 0,
        "start_time": "2022-09-22T06:55:38.288Z"
      },
      {
        "duration": 0,
        "start_time": "2022-09-22T06:55:38.289Z"
      },
      {
        "duration": 0,
        "start_time": "2022-09-22T06:55:38.290Z"
      },
      {
        "duration": 0,
        "start_time": "2022-09-22T06:55:38.291Z"
      },
      {
        "duration": 0,
        "start_time": "2022-09-22T06:55:38.292Z"
      },
      {
        "duration": 0,
        "start_time": "2022-09-22T06:55:38.294Z"
      },
      {
        "duration": 0,
        "start_time": "2022-09-22T06:55:38.294Z"
      },
      {
        "duration": 1670,
        "start_time": "2022-09-22T15:14:31.173Z"
      },
      {
        "duration": 308,
        "start_time": "2022-09-22T15:14:32.845Z"
      },
      {
        "duration": 19,
        "start_time": "2022-09-22T15:14:33.155Z"
      },
      {
        "duration": 18,
        "start_time": "2022-09-22T15:14:33.176Z"
      },
      {
        "duration": 24,
        "start_time": "2022-09-22T15:14:33.196Z"
      },
      {
        "duration": 21,
        "start_time": "2022-09-22T15:14:33.222Z"
      },
      {
        "duration": 39,
        "start_time": "2022-09-22T15:14:33.245Z"
      },
      {
        "duration": 17,
        "start_time": "2022-09-22T15:14:33.286Z"
      },
      {
        "duration": 37,
        "start_time": "2022-09-22T15:14:33.305Z"
      },
      {
        "duration": 29,
        "start_time": "2022-09-22T15:14:33.346Z"
      },
      {
        "duration": 61,
        "start_time": "2022-09-22T15:14:33.376Z"
      },
      {
        "duration": 27,
        "start_time": "2022-09-22T15:14:33.439Z"
      },
      {
        "duration": 34,
        "start_time": "2022-09-22T15:14:33.468Z"
      },
      {
        "duration": 28,
        "start_time": "2022-09-22T15:14:33.504Z"
      },
      {
        "duration": 31,
        "start_time": "2022-09-22T15:14:33.534Z"
      },
      {
        "duration": 27,
        "start_time": "2022-09-22T15:14:33.567Z"
      },
      {
        "duration": 23,
        "start_time": "2022-09-22T15:14:33.595Z"
      },
      {
        "duration": 28,
        "start_time": "2022-09-22T15:14:33.620Z"
      },
      {
        "duration": 31,
        "start_time": "2022-09-22T15:14:33.651Z"
      },
      {
        "duration": 42,
        "start_time": "2022-09-22T15:14:33.683Z"
      },
      {
        "duration": 28,
        "start_time": "2022-09-22T15:14:33.727Z"
      },
      {
        "duration": 13,
        "start_time": "2022-09-22T15:14:33.757Z"
      },
      {
        "duration": 19,
        "start_time": "2022-09-22T15:14:33.772Z"
      },
      {
        "duration": 19,
        "start_time": "2022-09-22T15:14:33.793Z"
      },
      {
        "duration": 28,
        "start_time": "2022-09-22T15:14:33.814Z"
      },
      {
        "duration": 23,
        "start_time": "2022-09-22T15:14:33.844Z"
      },
      {
        "duration": 22,
        "start_time": "2022-09-22T15:14:33.870Z"
      },
      {
        "duration": 11,
        "start_time": "2022-09-22T15:14:33.897Z"
      },
      {
        "duration": 17,
        "start_time": "2022-09-22T15:14:33.910Z"
      },
      {
        "duration": 6,
        "start_time": "2022-09-22T15:14:33.929Z"
      },
      {
        "duration": 22,
        "start_time": "2022-09-22T15:14:33.937Z"
      },
      {
        "duration": 11,
        "start_time": "2022-09-22T15:14:33.961Z"
      },
      {
        "duration": 11,
        "start_time": "2022-09-22T15:14:33.974Z"
      },
      {
        "duration": 25,
        "start_time": "2022-09-22T15:14:33.987Z"
      },
      {
        "duration": 54,
        "start_time": "2022-09-22T15:14:34.013Z"
      },
      {
        "duration": 31,
        "start_time": "2022-09-22T15:14:34.069Z"
      },
      {
        "duration": 17,
        "start_time": "2022-09-22T15:14:34.102Z"
      },
      {
        "duration": 36,
        "start_time": "2022-09-22T15:14:34.121Z"
      },
      {
        "duration": 19,
        "start_time": "2022-09-22T15:14:34.158Z"
      },
      {
        "duration": 28,
        "start_time": "2022-09-22T15:14:34.179Z"
      },
      {
        "duration": 6,
        "start_time": "2022-09-22T15:14:34.209Z"
      },
      {
        "duration": 30,
        "start_time": "2022-09-22T15:14:34.217Z"
      },
      {
        "duration": 8,
        "start_time": "2022-09-22T15:14:34.249Z"
      },
      {
        "duration": 15,
        "start_time": "2022-09-22T15:14:34.259Z"
      },
      {
        "duration": 32,
        "start_time": "2022-09-22T15:14:34.276Z"
      },
      {
        "duration": 6,
        "start_time": "2022-09-22T15:14:34.310Z"
      },
      {
        "duration": 9,
        "start_time": "2022-09-22T15:14:34.318Z"
      },
      {
        "duration": 10,
        "start_time": "2022-09-22T15:14:34.329Z"
      },
      {
        "duration": 9,
        "start_time": "2022-09-22T15:14:34.340Z"
      },
      {
        "duration": 9,
        "start_time": "2022-09-22T15:14:34.351Z"
      },
      {
        "duration": 9,
        "start_time": "2022-09-22T15:14:34.362Z"
      },
      {
        "duration": 15,
        "start_time": "2022-09-22T15:14:34.373Z"
      },
      {
        "duration": 7,
        "start_time": "2022-09-22T15:14:34.390Z"
      },
      {
        "duration": 4,
        "start_time": "2022-09-22T15:14:34.399Z"
      },
      {
        "duration": 17,
        "start_time": "2022-09-22T15:14:34.405Z"
      },
      {
        "duration": 6,
        "start_time": "2022-09-22T15:14:34.424Z"
      },
      {
        "duration": 10,
        "start_time": "2022-09-22T15:14:34.432Z"
      },
      {
        "duration": 12,
        "start_time": "2022-09-22T15:14:34.443Z"
      },
      {
        "duration": 11,
        "start_time": "2022-09-22T15:14:34.457Z"
      },
      {
        "duration": 10,
        "start_time": "2022-09-22T15:14:34.470Z"
      },
      {
        "duration": 9,
        "start_time": "2022-09-22T15:14:34.482Z"
      },
      {
        "duration": 14,
        "start_time": "2022-09-22T15:14:34.493Z"
      },
      {
        "duration": 14,
        "start_time": "2022-09-22T15:14:34.509Z"
      },
      {
        "duration": 12,
        "start_time": "2022-09-22T15:14:34.525Z"
      },
      {
        "duration": 13,
        "start_time": "2022-09-22T15:14:34.539Z"
      },
      {
        "duration": 5,
        "start_time": "2022-09-22T15:14:34.554Z"
      },
      {
        "duration": 13,
        "start_time": "2022-09-22T15:14:34.561Z"
      },
      {
        "duration": 10,
        "start_time": "2022-09-22T15:14:34.576Z"
      },
      {
        "duration": 11,
        "start_time": "2022-09-22T15:14:34.588Z"
      },
      {
        "duration": 6,
        "start_time": "2022-09-22T15:14:34.600Z"
      },
      {
        "duration": 5,
        "start_time": "2022-09-22T15:14:34.619Z"
      },
      {
        "duration": 7,
        "start_time": "2022-09-22T15:14:34.626Z"
      },
      {
        "duration": 8,
        "start_time": "2022-09-22T15:14:34.634Z"
      },
      {
        "duration": 9,
        "start_time": "2022-09-22T15:14:34.644Z"
      },
      {
        "duration": 8,
        "start_time": "2022-09-22T15:14:34.655Z"
      },
      {
        "duration": 8,
        "start_time": "2022-09-22T15:14:34.665Z"
      },
      {
        "duration": 9,
        "start_time": "2022-09-22T15:14:34.675Z"
      },
      {
        "duration": 9,
        "start_time": "2022-09-22T15:14:34.686Z"
      },
      {
        "duration": 25,
        "start_time": "2022-09-22T15:14:34.697Z"
      },
      {
        "duration": 20,
        "start_time": "2022-09-22T15:14:34.724Z"
      },
      {
        "duration": 5,
        "start_time": "2022-09-22T15:14:34.746Z"
      },
      {
        "duration": 10,
        "start_time": "2022-09-22T15:14:34.758Z"
      },
      {
        "duration": 382,
        "start_time": "2022-09-22T15:14:34.770Z"
      },
      {
        "duration": 21,
        "start_time": "2022-09-22T15:14:35.154Z"
      },
      {
        "duration": 448,
        "start_time": "2022-09-22T15:14:35.176Z"
      },
      {
        "duration": 6,
        "start_time": "2022-09-22T15:14:35.626Z"
      },
      {
        "duration": 13,
        "start_time": "2022-09-22T15:14:35.634Z"
      },
      {
        "duration": 12,
        "start_time": "2022-09-22T15:14:35.649Z"
      },
      {
        "duration": 387,
        "start_time": "2022-09-22T15:14:35.663Z"
      },
      {
        "duration": 366,
        "start_time": "2022-09-22T15:14:36.054Z"
      },
      {
        "duration": 4,
        "start_time": "2022-09-22T15:14:36.422Z"
      },
      {
        "duration": 1679,
        "start_time": "2022-09-22T15:14:36.428Z"
      },
      {
        "duration": 4,
        "start_time": "2022-09-22T15:14:38.109Z"
      },
      {
        "duration": 21,
        "start_time": "2022-09-22T15:14:38.115Z"
      },
      {
        "duration": 19,
        "start_time": "2022-09-22T15:14:38.138Z"
      },
      {
        "duration": 7,
        "start_time": "2022-09-22T15:14:38.159Z"
      },
      {
        "duration": 12,
        "start_time": "2022-09-22T15:14:38.168Z"
      },
      {
        "duration": 7,
        "start_time": "2022-09-22T15:14:38.183Z"
      },
      {
        "duration": 7,
        "start_time": "2022-09-22T15:14:38.192Z"
      },
      {
        "duration": 30,
        "start_time": "2022-09-22T15:14:38.201Z"
      },
      {
        "duration": 20,
        "start_time": "2022-09-22T15:14:38.234Z"
      },
      {
        "duration": 27,
        "start_time": "2022-09-22T15:14:38.256Z"
      },
      {
        "duration": 27,
        "start_time": "2022-09-22T15:14:38.285Z"
      },
      {
        "duration": 11,
        "start_time": "2022-09-22T15:14:38.315Z"
      },
      {
        "duration": 4,
        "start_time": "2022-09-22T15:14:38.328Z"
      },
      {
        "duration": 18,
        "start_time": "2022-09-22T15:14:38.334Z"
      },
      {
        "duration": 9,
        "start_time": "2022-09-22T15:14:38.354Z"
      },
      {
        "duration": 12,
        "start_time": "2022-09-22T15:14:38.365Z"
      }
    ],
    "accelerator": "GPU",
    "colab": {
      "collapsed_sections": [],
      "provenance": []
    },
    "kernelspec": {
      "display_name": "Python 3 (ipykernel)",
      "language": "python",
      "name": "python3"
    },
    "language_info": {
      "codemirror_mode": {
        "name": "ipython",
        "version": 3
      },
      "file_extension": ".py",
      "mimetype": "text/x-python",
      "name": "python",
      "nbconvert_exporter": "python",
      "pygments_lexer": "ipython3",
      "version": "3.9.12"
    },
    "toc": {
      "base_numbering": 1,
      "nav_menu": {},
      "number_sections": true,
      "sideBar": true,
      "skip_h1_title": true,
      "title_cell": "Table of Contents",
      "title_sidebar": "Contents",
      "toc_cell": false,
      "toc_position": {},
      "toc_section_display": true,
      "toc_window_display": false
    }
  },
  "nbformat": 4,
  "nbformat_minor": 0
}