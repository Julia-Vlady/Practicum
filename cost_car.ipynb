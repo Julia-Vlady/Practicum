{
 "cells": [
  {
   "cell_type": "markdown",
   "metadata": {
    "id": "ZRD487fQlCyH"
   },
   "source": [
    "Сервис по продаже автомобилей с пробегом «Не бит, не крашен» разрабатывает приложение для привлечения новых клиентов. В нём можно быстро узнать рыночную стоимость своего автомобиля. В распоряжении имеются исторические данные: технические характеристики, комплектации и цены автомобилей. Необходимо построить модель для определения стоимости.\n",
    "Заказчику важны:\n",
    "\n",
    " - качество предсказания;\n",
    " - скорость предсказания;\n",
    " - время обучения."
   ]
  },
  {
   "cell_type": "markdown",
   "metadata": {
    "id": "QTeVZj5nlZg9"
   },
   "source": [
    "## Загрузка и подготовка данных"
   ]
  },
  {
   "cell_type": "code",
   "execution_count": 1,
   "metadata": {
    "id": "drbxIO2rqUbo"
   },
   "outputs": [
    {
     "ename": "ModuleNotFoundError",
     "evalue": "No module named 'lightgbm'",
     "output_type": "error",
     "traceback": [
      "\u001b[0;31m---------------------------------------------------------------------------\u001b[0m",
      "\u001b[0;31mModuleNotFoundError\u001b[0m                       Traceback (most recent call last)",
      "Input \u001b[0;32mIn [1]\u001b[0m, in \u001b[0;36m<cell line: 21>\u001b[0;34m()\u001b[0m\n\u001b[1;32m     18\u001b[0m \u001b[38;5;28;01mfrom\u001b[39;00m \u001b[38;5;21;01msklearn\u001b[39;00m\u001b[38;5;21;01m.\u001b[39;00m\u001b[38;5;21;01mmodel_selection\u001b[39;00m \u001b[38;5;28;01mimport\u001b[39;00m cross_val_score\n\u001b[1;32m     19\u001b[0m \u001b[38;5;28;01mfrom\u001b[39;00m \u001b[38;5;21;01msklearn\u001b[39;00m\u001b[38;5;21;01m.\u001b[39;00m\u001b[38;5;21;01mmetrics\u001b[39;00m \u001b[38;5;28;01mimport\u001b[39;00m make_scorer\n\u001b[0;32m---> 21\u001b[0m \u001b[38;5;28;01mimport\u001b[39;00m \u001b[38;5;21;01mlightgbm\u001b[39;00m \u001b[38;5;28;01mas\u001b[39;00m \u001b[38;5;21;01mlgb\u001b[39;00m\n\u001b[1;32m     22\u001b[0m \u001b[38;5;28;01mfrom\u001b[39;00m \u001b[38;5;21;01mlightgbm\u001b[39;00m \u001b[38;5;28;01mimport\u001b[39;00m LGBMRegressor\n\u001b[1;32m     24\u001b[0m \u001b[38;5;28;01mfrom\u001b[39;00m \u001b[38;5;21;01msklearn\u001b[39;00m\u001b[38;5;21;01m.\u001b[39;00m\u001b[38;5;21;01mmetrics\u001b[39;00m \u001b[38;5;28;01mimport\u001b[39;00m accuracy_score\n",
      "\u001b[0;31mModuleNotFoundError\u001b[0m: No module named 'lightgbm'"
     ]
    }
   ],
   "source": [
    "import pandas as pd\n",
    "import numpy as np\n",
    "import warnings\n",
    "warnings.filterwarnings(\"ignore\")\n",
    "import seaborn as sns\n",
    "import matplotlib.pyplot as plt\n",
    "\n",
    "import itertools\n",
    "import math\n",
    "import time\n",
    "\n",
    "from sklearn.model_selection import train_test_split\n",
    "from sklearn.linear_model import LinearRegression\n",
    "from sklearn.ensemble import RandomForestRegressor\n",
    "from sklearn.preprocessing import StandardScaler\n",
    "from sklearn.preprocessing import OrdinalEncoder\n",
    "from sklearn.model_selection import GridSearchCV\n",
    "from sklearn.model_selection import cross_val_score\n",
    "from sklearn.metrics import make_scorer\n",
    "\n",
    "import lightgbm as lgb\n",
    "from lightgbm import LGBMRegressor\n",
    "\n",
    "from sklearn.metrics import accuracy_score\n",
    "from sklearn.metrics import mean_squared_error\n",
    "from sklearn.metrics import r2_score\n",
    "from sklearn.metrics import f1_score\n",
    "from sklearn.metrics import confusion_matrix\n",
    "from sklearn.metrics import precision_score\n",
    "from sklearn.metrics import recall_score\n",
    "from sklearn.datasets import make_spd_matrix\n",
    "\n",
    "from joblib import dump\n",
    "pd.options.mode.chained_assignment = None"
   ]
  },
  {
   "cell_type": "code",
   "execution_count": 99,
   "metadata": {
    "id": "d12XXN3Isl-2"
   },
   "outputs": [],
   "source": [
    "try:\n",
    "    df = pd.read_csv('/datasets/autos.csv')\n",
    "except:\n",
    "    df = pd.read_csv('/content/autos.csv')\n",
    "\n",
    "pd.set_option('display.max_columns', None)"
   ]
  },
  {
   "cell_type": "code",
   "execution_count": 100,
   "metadata": {
    "colab": {
     "base_uri": "https://localhost:8080/",
     "height": 357
    },
    "id": "qzkyYzXRsmax",
    "outputId": "b8acc3bd-fa9c-4cff-be5f-fd3577b49a38"
   },
   "outputs": [
    {
     "data": {
      "text/html": [
       "<div>\n",
       "<style scoped>\n",
       "    .dataframe tbody tr th:only-of-type {\n",
       "        vertical-align: middle;\n",
       "    }\n",
       "\n",
       "    .dataframe tbody tr th {\n",
       "        vertical-align: top;\n",
       "    }\n",
       "\n",
       "    .dataframe thead th {\n",
       "        text-align: right;\n",
       "    }\n",
       "</style>\n",
       "<table border=\"1\" class=\"dataframe\">\n",
       "  <thead>\n",
       "    <tr style=\"text-align: right;\">\n",
       "      <th></th>\n",
       "      <th>DateCrawled</th>\n",
       "      <th>Price</th>\n",
       "      <th>VehicleType</th>\n",
       "      <th>RegistrationYear</th>\n",
       "      <th>Gearbox</th>\n",
       "      <th>Power</th>\n",
       "      <th>Model</th>\n",
       "      <th>Kilometer</th>\n",
       "      <th>RegistrationMonth</th>\n",
       "      <th>FuelType</th>\n",
       "      <th>Brand</th>\n",
       "      <th>NotRepaired</th>\n",
       "      <th>DateCreated</th>\n",
       "      <th>NumberOfPictures</th>\n",
       "      <th>PostalCode</th>\n",
       "      <th>LastSeen</th>\n",
       "    </tr>\n",
       "  </thead>\n",
       "  <tbody>\n",
       "    <tr>\n",
       "      <th>0</th>\n",
       "      <td>2016-03-24 11:52:17</td>\n",
       "      <td>480</td>\n",
       "      <td>NaN</td>\n",
       "      <td>1993</td>\n",
       "      <td>manual</td>\n",
       "      <td>0</td>\n",
       "      <td>golf</td>\n",
       "      <td>150000</td>\n",
       "      <td>0</td>\n",
       "      <td>petrol</td>\n",
       "      <td>volkswagen</td>\n",
       "      <td>NaN</td>\n",
       "      <td>2016-03-24 00:00:00</td>\n",
       "      <td>0</td>\n",
       "      <td>70435</td>\n",
       "      <td>2016-04-07 03:16:57</td>\n",
       "    </tr>\n",
       "    <tr>\n",
       "      <th>1</th>\n",
       "      <td>2016-03-24 10:58:45</td>\n",
       "      <td>18300</td>\n",
       "      <td>coupe</td>\n",
       "      <td>2011</td>\n",
       "      <td>manual</td>\n",
       "      <td>190</td>\n",
       "      <td>NaN</td>\n",
       "      <td>125000</td>\n",
       "      <td>5</td>\n",
       "      <td>gasoline</td>\n",
       "      <td>audi</td>\n",
       "      <td>yes</td>\n",
       "      <td>2016-03-24 00:00:00</td>\n",
       "      <td>0</td>\n",
       "      <td>66954</td>\n",
       "      <td>2016-04-07 01:46:50</td>\n",
       "    </tr>\n",
       "    <tr>\n",
       "      <th>2</th>\n",
       "      <td>2016-03-14 12:52:21</td>\n",
       "      <td>9800</td>\n",
       "      <td>suv</td>\n",
       "      <td>2004</td>\n",
       "      <td>auto</td>\n",
       "      <td>163</td>\n",
       "      <td>grand</td>\n",
       "      <td>125000</td>\n",
       "      <td>8</td>\n",
       "      <td>gasoline</td>\n",
       "      <td>jeep</td>\n",
       "      <td>NaN</td>\n",
       "      <td>2016-03-14 00:00:00</td>\n",
       "      <td>0</td>\n",
       "      <td>90480</td>\n",
       "      <td>2016-04-05 12:47:46</td>\n",
       "    </tr>\n",
       "    <tr>\n",
       "      <th>3</th>\n",
       "      <td>2016-03-17 16:54:04</td>\n",
       "      <td>1500</td>\n",
       "      <td>small</td>\n",
       "      <td>2001</td>\n",
       "      <td>manual</td>\n",
       "      <td>75</td>\n",
       "      <td>golf</td>\n",
       "      <td>150000</td>\n",
       "      <td>6</td>\n",
       "      <td>petrol</td>\n",
       "      <td>volkswagen</td>\n",
       "      <td>no</td>\n",
       "      <td>2016-03-17 00:00:00</td>\n",
       "      <td>0</td>\n",
       "      <td>91074</td>\n",
       "      <td>2016-03-17 17:40:17</td>\n",
       "    </tr>\n",
       "    <tr>\n",
       "      <th>4</th>\n",
       "      <td>2016-03-31 17:25:20</td>\n",
       "      <td>3600</td>\n",
       "      <td>small</td>\n",
       "      <td>2008</td>\n",
       "      <td>manual</td>\n",
       "      <td>69</td>\n",
       "      <td>fabia</td>\n",
       "      <td>90000</td>\n",
       "      <td>7</td>\n",
       "      <td>gasoline</td>\n",
       "      <td>skoda</td>\n",
       "      <td>no</td>\n",
       "      <td>2016-03-31 00:00:00</td>\n",
       "      <td>0</td>\n",
       "      <td>60437</td>\n",
       "      <td>2016-04-06 10:17:21</td>\n",
       "    </tr>\n",
       "  </tbody>\n",
       "</table>\n",
       "</div>"
      ],
      "text/plain": [
       "           DateCrawled  Price VehicleType  RegistrationYear Gearbox  Power  \\\n",
       "0  2016-03-24 11:52:17    480         NaN              1993  manual      0   \n",
       "1  2016-03-24 10:58:45  18300       coupe              2011  manual    190   \n",
       "2  2016-03-14 12:52:21   9800         suv              2004    auto    163   \n",
       "3  2016-03-17 16:54:04   1500       small              2001  manual     75   \n",
       "4  2016-03-31 17:25:20   3600       small              2008  manual     69   \n",
       "\n",
       "   Model  Kilometer  RegistrationMonth  FuelType       Brand NotRepaired  \\\n",
       "0   golf     150000                  0    petrol  volkswagen         NaN   \n",
       "1    NaN     125000                  5  gasoline        audi         yes   \n",
       "2  grand     125000                  8  gasoline        jeep         NaN   \n",
       "3   golf     150000                  6    petrol  volkswagen          no   \n",
       "4  fabia      90000                  7  gasoline       skoda          no   \n",
       "\n",
       "           DateCreated  NumberOfPictures  PostalCode             LastSeen  \n",
       "0  2016-03-24 00:00:00                 0       70435  2016-04-07 03:16:57  \n",
       "1  2016-03-24 00:00:00                 0       66954  2016-04-07 01:46:50  \n",
       "2  2016-03-14 00:00:00                 0       90480  2016-04-05 12:47:46  \n",
       "3  2016-03-17 00:00:00                 0       91074  2016-03-17 17:40:17  \n",
       "4  2016-03-31 00:00:00                 0       60437  2016-04-06 10:17:21  "
      ]
     },
     "execution_count": 100,
     "metadata": {},
     "output_type": "execute_result"
    }
   ],
   "source": [
    "df.head()"
   ]
  },
  {
   "cell_type": "code",
   "execution_count": 101,
   "metadata": {
    "id": "oUa1eLg5riBZ"
   },
   "outputs": [],
   "source": [
    "df.columns = df.columns.str.lower()"
   ]
  },
  {
   "cell_type": "code",
   "execution_count": 102,
   "metadata": {
    "colab": {
     "base_uri": "https://localhost:8080/"
    },
    "id": "wINBohMblohK",
    "outputId": "c5c73f26-3f3c-4ef7-d429-db22bdc9bd9f"
   },
   "outputs": [
    {
     "data": {
      "text/plain": [
       "Index(['datecrawled', 'price', 'vehicletype', 'registrationyear', 'gearbox',\n",
       "       'power', 'model', 'kilometer', 'registrationmonth', 'fueltype', 'brand',\n",
       "       'notrepaired', 'datecreated', 'numberofpictures', 'postalcode',\n",
       "       'lastseen'],\n",
       "      dtype='object')"
      ]
     },
     "execution_count": 102,
     "metadata": {},
     "output_type": "execute_result"
    }
   ],
   "source": [
    "df.columns"
   ]
  },
  {
   "cell_type": "code",
   "execution_count": 103,
   "metadata": {
    "id": "uUJDZ3y0rY8K"
   },
   "outputs": [],
   "source": [
    "df = df.rename(columns={'datecrawled':'date_crawled', 'vehicletype':'vehicle_type', 'registrationyear':'registration_year', 'registrationmonth':'registration_month', 'fueltype':'fuel_type', 'notrepaired':'not_repaired', 'datecreated':'date_created', 'numberofpictures':'number_of_pic', 'postalcode':'postal_code', 'lastseen':'last_seen'})"
   ]
  },
  {
   "cell_type": "code",
   "execution_count": 104,
   "metadata": {
    "colab": {
     "base_uri": "https://localhost:8080/"
    },
    "id": "f34VlDs7smnZ",
    "outputId": "b3a72cb1-c9ed-4ce8-e3da-f0f27f2cbe58"
   },
   "outputs": [
    {
     "name": "stdout",
     "output_type": "stream",
     "text": [
      "<class 'pandas.core.frame.DataFrame'>\n",
      "RangeIndex: 354369 entries, 0 to 354368\n",
      "Data columns (total 16 columns):\n",
      " #   Column              Non-Null Count   Dtype \n",
      "---  ------              --------------   ----- \n",
      " 0   date_crawled        354369 non-null  object\n",
      " 1   price               354369 non-null  int64 \n",
      " 2   vehicle_type        316879 non-null  object\n",
      " 3   registration_year   354369 non-null  int64 \n",
      " 4   gearbox             334536 non-null  object\n",
      " 5   power               354369 non-null  int64 \n",
      " 6   model               334664 non-null  object\n",
      " 7   kilometer           354369 non-null  int64 \n",
      " 8   registration_month  354369 non-null  int64 \n",
      " 9   fuel_type           321474 non-null  object\n",
      " 10  brand               354369 non-null  object\n",
      " 11  not_repaired        283215 non-null  object\n",
      " 12  date_created        354369 non-null  object\n",
      " 13  number_of_pic       354369 non-null  int64 \n",
      " 14  postal_code         354369 non-null  int64 \n",
      " 15  last_seen           354369 non-null  object\n",
      "dtypes: int64(7), object(9)\n",
      "memory usage: 43.3+ MB\n"
     ]
    }
   ],
   "source": [
    "df.info()"
   ]
  },
  {
   "cell_type": "markdown",
   "metadata": {
    "id": "RpYVm3hdk-Yz"
   },
   "source": [
    "*Признаки:*\n",
    "\n",
    " - Date_crawled — дата скачивания анкеты из базы\n",
    " - Vehicle_Type — тип автомобильного кузова\n",
    " - Registration_Year — год регистрации автомобиля\n",
    " - Gearbox — тип коробки передач\n",
    " - Power — мощность (л. с.)\n",
    " - Model — модель автомобиля\n",
    " - Kilometer — пробег (км)\n",
    " - Registration_Month — месяц регистрации автомобиля\n",
    " - Fuel_Type — тип топлива\n",
    " - Brand — марка автомобиля\n",
    " - Not_Repaired — была машина в ремонте или нет\n",
    " - Date_Created — дата создания анкеты\n",
    " - Number_Of_Pictures — количество фотографий автомобиля\n",
    " - Postal_Code — почтовый индекс владельца анкеты (пользователя)\n",
    " - Last_Seen — дата последней активности пользователя\n",
    "\n",
    "*Целевой признак:*\n",
    "\n",
    " - Price — цена (евро)"
   ]
  },
  {
   "cell_type": "code",
   "execution_count": 105,
   "metadata": {
    "colab": {
     "base_uri": "https://localhost:8080/",
     "height": 300
    },
    "id": "KAxM_JsHm1fB",
    "outputId": "6d4aaf6d-17b3-459f-96d1-ff4fc8525c9d"
   },
   "outputs": [
    {
     "data": {
      "text/html": [
       "<div>\n",
       "<style scoped>\n",
       "    .dataframe tbody tr th:only-of-type {\n",
       "        vertical-align: middle;\n",
       "    }\n",
       "\n",
       "    .dataframe tbody tr th {\n",
       "        vertical-align: top;\n",
       "    }\n",
       "\n",
       "    .dataframe thead th {\n",
       "        text-align: right;\n",
       "    }\n",
       "</style>\n",
       "<table border=\"1\" class=\"dataframe\">\n",
       "  <thead>\n",
       "    <tr style=\"text-align: right;\">\n",
       "      <th></th>\n",
       "      <th>price</th>\n",
       "      <th>registration_year</th>\n",
       "      <th>power</th>\n",
       "      <th>kilometer</th>\n",
       "      <th>registration_month</th>\n",
       "      <th>number_of_pic</th>\n",
       "      <th>postal_code</th>\n",
       "    </tr>\n",
       "  </thead>\n",
       "  <tbody>\n",
       "    <tr>\n",
       "      <th>count</th>\n",
       "      <td>354369.000000</td>\n",
       "      <td>354369.000000</td>\n",
       "      <td>354369.000000</td>\n",
       "      <td>354369.000000</td>\n",
       "      <td>354369.000000</td>\n",
       "      <td>354369.0</td>\n",
       "      <td>354369.000000</td>\n",
       "    </tr>\n",
       "    <tr>\n",
       "      <th>mean</th>\n",
       "      <td>4416.656776</td>\n",
       "      <td>2004.234448</td>\n",
       "      <td>110.094337</td>\n",
       "      <td>128211.172535</td>\n",
       "      <td>5.714645</td>\n",
       "      <td>0.0</td>\n",
       "      <td>50508.689087</td>\n",
       "    </tr>\n",
       "    <tr>\n",
       "      <th>std</th>\n",
       "      <td>4514.158514</td>\n",
       "      <td>90.227958</td>\n",
       "      <td>189.850405</td>\n",
       "      <td>37905.341530</td>\n",
       "      <td>3.726421</td>\n",
       "      <td>0.0</td>\n",
       "      <td>25783.096248</td>\n",
       "    </tr>\n",
       "    <tr>\n",
       "      <th>min</th>\n",
       "      <td>0.000000</td>\n",
       "      <td>1000.000000</td>\n",
       "      <td>0.000000</td>\n",
       "      <td>5000.000000</td>\n",
       "      <td>0.000000</td>\n",
       "      <td>0.0</td>\n",
       "      <td>1067.000000</td>\n",
       "    </tr>\n",
       "    <tr>\n",
       "      <th>25%</th>\n",
       "      <td>1050.000000</td>\n",
       "      <td>1999.000000</td>\n",
       "      <td>69.000000</td>\n",
       "      <td>125000.000000</td>\n",
       "      <td>3.000000</td>\n",
       "      <td>0.0</td>\n",
       "      <td>30165.000000</td>\n",
       "    </tr>\n",
       "    <tr>\n",
       "      <th>50%</th>\n",
       "      <td>2700.000000</td>\n",
       "      <td>2003.000000</td>\n",
       "      <td>105.000000</td>\n",
       "      <td>150000.000000</td>\n",
       "      <td>6.000000</td>\n",
       "      <td>0.0</td>\n",
       "      <td>49413.000000</td>\n",
       "    </tr>\n",
       "    <tr>\n",
       "      <th>75%</th>\n",
       "      <td>6400.000000</td>\n",
       "      <td>2008.000000</td>\n",
       "      <td>143.000000</td>\n",
       "      <td>150000.000000</td>\n",
       "      <td>9.000000</td>\n",
       "      <td>0.0</td>\n",
       "      <td>71083.000000</td>\n",
       "    </tr>\n",
       "    <tr>\n",
       "      <th>max</th>\n",
       "      <td>20000.000000</td>\n",
       "      <td>9999.000000</td>\n",
       "      <td>20000.000000</td>\n",
       "      <td>150000.000000</td>\n",
       "      <td>12.000000</td>\n",
       "      <td>0.0</td>\n",
       "      <td>99998.000000</td>\n",
       "    </tr>\n",
       "  </tbody>\n",
       "</table>\n",
       "</div>"
      ],
      "text/plain": [
       "               price  registration_year          power      kilometer  \\\n",
       "count  354369.000000      354369.000000  354369.000000  354369.000000   \n",
       "mean     4416.656776        2004.234448     110.094337  128211.172535   \n",
       "std      4514.158514          90.227958     189.850405   37905.341530   \n",
       "min         0.000000        1000.000000       0.000000    5000.000000   \n",
       "25%      1050.000000        1999.000000      69.000000  125000.000000   \n",
       "50%      2700.000000        2003.000000     105.000000  150000.000000   \n",
       "75%      6400.000000        2008.000000     143.000000  150000.000000   \n",
       "max     20000.000000        9999.000000   20000.000000  150000.000000   \n",
       "\n",
       "       registration_month  number_of_pic    postal_code  \n",
       "count       354369.000000       354369.0  354369.000000  \n",
       "mean             5.714645            0.0   50508.689087  \n",
       "std              3.726421            0.0   25783.096248  \n",
       "min              0.000000            0.0    1067.000000  \n",
       "25%              3.000000            0.0   30165.000000  \n",
       "50%              6.000000            0.0   49413.000000  \n",
       "75%              9.000000            0.0   71083.000000  \n",
       "max             12.000000            0.0   99998.000000  "
      ]
     },
     "execution_count": 105,
     "metadata": {},
     "output_type": "execute_result"
    }
   ],
   "source": [
    "df.describe()"
   ]
  },
  {
   "cell_type": "code",
   "execution_count": 106,
   "metadata": {
    "colab": {
     "base_uri": "https://localhost:8080/",
     "height": 269
    },
    "id": "zz-Zj9-CgoUW",
    "outputId": "307653e2-f37e-4840-dead-62da8d0a976d"
   },
   "outputs": [
    {
     "data": {
      "text/html": [
       "<div>\n",
       "<style scoped>\n",
       "    .dataframe tbody tr th:only-of-type {\n",
       "        vertical-align: middle;\n",
       "    }\n",
       "\n",
       "    .dataframe tbody tr th {\n",
       "        vertical-align: top;\n",
       "    }\n",
       "\n",
       "    .dataframe thead th {\n",
       "        text-align: right;\n",
       "    }\n",
       "</style>\n",
       "<table border=\"1\" class=\"dataframe\">\n",
       "  <thead>\n",
       "    <tr style=\"text-align: right;\">\n",
       "      <th></th>\n",
       "      <th>price</th>\n",
       "      <th>registration_year</th>\n",
       "      <th>power</th>\n",
       "      <th>kilometer</th>\n",
       "      <th>registration_month</th>\n",
       "      <th>number_of_pic</th>\n",
       "      <th>postal_code</th>\n",
       "    </tr>\n",
       "  </thead>\n",
       "  <tbody>\n",
       "    <tr>\n",
       "      <th>price</th>\n",
       "      <td>1.000000</td>\n",
       "      <td>0.026916</td>\n",
       "      <td>0.158872</td>\n",
       "      <td>-0.333199</td>\n",
       "      <td>0.110581</td>\n",
       "      <td>NaN</td>\n",
       "      <td>0.076055</td>\n",
       "    </tr>\n",
       "    <tr>\n",
       "      <th>registration_year</th>\n",
       "      <td>0.026916</td>\n",
       "      <td>1.000000</td>\n",
       "      <td>-0.000828</td>\n",
       "      <td>-0.053447</td>\n",
       "      <td>-0.011619</td>\n",
       "      <td>NaN</td>\n",
       "      <td>-0.003459</td>\n",
       "    </tr>\n",
       "    <tr>\n",
       "      <th>power</th>\n",
       "      <td>0.158872</td>\n",
       "      <td>-0.000828</td>\n",
       "      <td>1.000000</td>\n",
       "      <td>0.024002</td>\n",
       "      <td>0.043380</td>\n",
       "      <td>NaN</td>\n",
       "      <td>0.021665</td>\n",
       "    </tr>\n",
       "    <tr>\n",
       "      <th>kilometer</th>\n",
       "      <td>-0.333199</td>\n",
       "      <td>-0.053447</td>\n",
       "      <td>0.024002</td>\n",
       "      <td>1.000000</td>\n",
       "      <td>0.009571</td>\n",
       "      <td>NaN</td>\n",
       "      <td>-0.007698</td>\n",
       "    </tr>\n",
       "    <tr>\n",
       "      <th>registration_month</th>\n",
       "      <td>0.110581</td>\n",
       "      <td>-0.011619</td>\n",
       "      <td>0.043380</td>\n",
       "      <td>0.009571</td>\n",
       "      <td>1.000000</td>\n",
       "      <td>NaN</td>\n",
       "      <td>0.013995</td>\n",
       "    </tr>\n",
       "    <tr>\n",
       "      <th>number_of_pic</th>\n",
       "      <td>NaN</td>\n",
       "      <td>NaN</td>\n",
       "      <td>NaN</td>\n",
       "      <td>NaN</td>\n",
       "      <td>NaN</td>\n",
       "      <td>NaN</td>\n",
       "      <td>NaN</td>\n",
       "    </tr>\n",
       "    <tr>\n",
       "      <th>postal_code</th>\n",
       "      <td>0.076055</td>\n",
       "      <td>-0.003459</td>\n",
       "      <td>0.021665</td>\n",
       "      <td>-0.007698</td>\n",
       "      <td>0.013995</td>\n",
       "      <td>NaN</td>\n",
       "      <td>1.000000</td>\n",
       "    </tr>\n",
       "  </tbody>\n",
       "</table>\n",
       "</div>"
      ],
      "text/plain": [
       "                       price  registration_year     power  kilometer  \\\n",
       "price               1.000000           0.026916  0.158872  -0.333199   \n",
       "registration_year   0.026916           1.000000 -0.000828  -0.053447   \n",
       "power               0.158872          -0.000828  1.000000   0.024002   \n",
       "kilometer          -0.333199          -0.053447  0.024002   1.000000   \n",
       "registration_month  0.110581          -0.011619  0.043380   0.009571   \n",
       "number_of_pic            NaN                NaN       NaN        NaN   \n",
       "postal_code         0.076055          -0.003459  0.021665  -0.007698   \n",
       "\n",
       "                    registration_month  number_of_pic  postal_code  \n",
       "price                         0.110581            NaN     0.076055  \n",
       "registration_year            -0.011619            NaN    -0.003459  \n",
       "power                         0.043380            NaN     0.021665  \n",
       "kilometer                     0.009571            NaN    -0.007698  \n",
       "registration_month            1.000000            NaN     0.013995  \n",
       "number_of_pic                      NaN            NaN          NaN  \n",
       "postal_code                   0.013995            NaN     1.000000  "
      ]
     },
     "execution_count": 106,
     "metadata": {},
     "output_type": "execute_result"
    }
   ],
   "source": [
    "df.corr()"
   ]
  },
  {
   "cell_type": "markdown",
   "metadata": {
    "id": "cU1c5R13nTUx"
   },
   "source": [
    "Явной корреляции между признаками нет. Но есть анамалии в данных, например максимальный год регистрации равен 9999, есть нули (незаполненные данные), но нет отрицательных значений. Много колонок \"object\", в том числе с датами и пока не ясно на сколько они нам нужны."
   ]
  },
  {
   "cell_type": "code",
   "execution_count": 107,
   "metadata": {
    "colab": {
     "base_uri": "https://localhost:8080/"
    },
    "id": "9mXubOFf9mpP",
    "outputId": "ad2bd95c-9618-400b-8819-f240b651997e"
   },
   "outputs": [
    {
     "data": {
      "text/plain": [
       "4"
      ]
     },
     "execution_count": 107,
     "metadata": {},
     "output_type": "execute_result"
    }
   ],
   "source": [
    "df.duplicated().sum()"
   ]
  },
  {
   "cell_type": "code",
   "execution_count": 108,
   "metadata": {
    "id": "iTn8BUSAHZL5"
   },
   "outputs": [],
   "source": [
    "df = df.drop_duplicates().reset_index(drop=True)"
   ]
  },
  {
   "cell_type": "code",
   "execution_count": 109,
   "metadata": {
    "colab": {
     "base_uri": "https://localhost:8080/"
    },
    "id": "9DoEuohLHjjl",
    "outputId": "bc389123-8930-4378-f2e2-3d817e75e099"
   },
   "outputs": [
    {
     "data": {
      "text/plain": [
       "0"
      ]
     },
     "execution_count": 109,
     "metadata": {},
     "output_type": "execute_result"
    }
   ],
   "source": [
    "df.duplicated().sum()"
   ]
  },
  {
   "cell_type": "markdown",
   "metadata": {
    "id": "PyJO1GI0HlbV"
   },
   "source": [
    "Были удалены 4 явных дубликата."
   ]
  },
  {
   "cell_type": "markdown",
   "metadata": {
    "id": "qILLiev7t-Pf"
   },
   "source": [
    "Посмотрим значения в столбцах и пропуски:"
   ]
  },
  {
   "cell_type": "code",
   "execution_count": 110,
   "metadata": {
    "colab": {
     "base_uri": "https://localhost:8080/"
    },
    "id": "tz8ExSEB1twQ",
    "outputId": "88418f30-52e8-448b-f7a3-046885817ff0"
   },
   "outputs": [
    {
     "data": {
      "text/plain": [
       "date_crawled              0\n",
       "price                     0\n",
       "vehicle_type          37490\n",
       "registration_year         0\n",
       "gearbox               19833\n",
       "power                     0\n",
       "model                 19705\n",
       "kilometer                 0\n",
       "registration_month        0\n",
       "fuel_type             32895\n",
       "brand                     0\n",
       "not_repaired          71154\n",
       "date_created              0\n",
       "number_of_pic             0\n",
       "postal_code               0\n",
       "last_seen                 0\n",
       "dtype: int64"
      ]
     },
     "execution_count": 110,
     "metadata": {},
     "output_type": "execute_result"
    }
   ],
   "source": [
    "df.isna().sum()"
   ]
  },
  {
   "cell_type": "code",
   "execution_count": 111,
   "metadata": {
    "colab": {
     "base_uri": "https://localhost:8080/"
    },
    "id": "_8ad29HdIXEK",
    "outputId": "d8be724f-5ee3-4175-8b9b-3cbe0abbe196"
   },
   "outputs": [
    {
     "data": {
      "text/plain": [
       "date_crawled           0.000000\n",
       "price                  0.000000\n",
       "vehicle_type          10.579487\n",
       "registration_year      0.000000\n",
       "gearbox                5.596772\n",
       "power                  0.000000\n",
       "model                  5.560651\n",
       "kilometer              0.000000\n",
       "registration_month     0.000000\n",
       "fuel_type              9.282802\n",
       "brand                  0.000000\n",
       "not_repaired          20.079297\n",
       "date_created           0.000000\n",
       "number_of_pic          0.000000\n",
       "postal_code            0.000000\n",
       "last_seen              0.000000\n",
       "dtype: float64"
      ]
     },
     "execution_count": 111,
     "metadata": {},
     "output_type": "execute_result"
    }
   ],
   "source": [
    "(df.isna().mean())*100"
   ]
  },
  {
   "cell_type": "code",
   "execution_count": 112,
   "metadata": {
    "colab": {
     "base_uri": "https://localhost:8080/"
    },
    "id": "nM4P_9obutjg",
    "outputId": "5852c8d1-d7c7-410d-8e3a-8ca8881f3039"
   },
   "outputs": [
    {
     "data": {
      "text/plain": [
       "array([nan, 'coupe', 'suv', 'small', 'sedan', 'convertible', 'bus',\n",
       "       'wagon', 'other'], dtype=object)"
      ]
     },
     "execution_count": 112,
     "metadata": {},
     "output_type": "execute_result"
    }
   ],
   "source": [
    "df['vehicle_type'].unique()"
   ]
  },
  {
   "cell_type": "code",
   "execution_count": 113,
   "metadata": {
    "id": "lvQc6vcWvuKy"
   },
   "outputs": [],
   "source": [
    "df['vehicle_type'] = df['vehicle_type'].fillna(value='other')"
   ]
  },
  {
   "cell_type": "code",
   "execution_count": 114,
   "metadata": {
    "colab": {
     "base_uri": "https://localhost:8080/"
    },
    "id": "J06KUGIYxtkj",
    "outputId": "08fc4517-640b-4893-d463-4e8aec00ca9f"
   },
   "outputs": [
    {
     "data": {
      "text/plain": [
       "array(['other', 'coupe', 'suv', 'small', 'sedan', 'convertible', 'bus',\n",
       "       'wagon'], dtype=object)"
      ]
     },
     "execution_count": 114,
     "metadata": {},
     "output_type": "execute_result"
    }
   ],
   "source": [
    "df['vehicle_type'].unique()"
   ]
  },
  {
   "cell_type": "markdown",
   "metadata": {
    "id": "AUOH42LCyYKq"
   },
   "source": [
    "В столбце 'vehicle_type' пропуски были заменены на \"other\"."
   ]
  },
  {
   "cell_type": "code",
   "execution_count": 115,
   "metadata": {
    "colab": {
     "base_uri": "https://localhost:8080/"
    },
    "id": "vcmn4J0izBPB",
    "outputId": "84240f04-50b9-4d78-9df9-5e3abb411c70"
   },
   "outputs": [
    {
     "data": {
      "text/plain": [
       "array(['manual', 'auto', nan], dtype=object)"
      ]
     },
     "execution_count": 115,
     "metadata": {},
     "output_type": "execute_result"
    }
   ],
   "source": [
    "df['gearbox'].unique()"
   ]
  },
  {
   "cell_type": "markdown",
   "metadata": {
    "id": "77FCmPA98co5"
   },
   "source": [
    "Пропусков 5,6%, поэтому принято решение удалить эти данные."
   ]
  },
  {
   "cell_type": "code",
   "execution_count": 116,
   "metadata": {
    "id": "Gih36DLM8oH0"
   },
   "outputs": [],
   "source": [
    "df = df.dropna(subset = ['gearbox'], axis = 0)"
   ]
  },
  {
   "cell_type": "code",
   "execution_count": 117,
   "metadata": {
    "colab": {
     "base_uri": "https://localhost:8080/"
    },
    "id": "1fYlxcmzJi4C",
    "outputId": "bc364285-8ef4-4212-a1eb-5c546ad64be2"
   },
   "outputs": [
    {
     "data": {
      "text/plain": [
       "array(['manual', 'auto'], dtype=object)"
      ]
     },
     "execution_count": 117,
     "metadata": {},
     "output_type": "execute_result"
    }
   ],
   "source": [
    "df['gearbox'].unique()"
   ]
  },
  {
   "cell_type": "code",
   "execution_count": 118,
   "metadata": {
    "colab": {
     "base_uri": "https://localhost:8080/"
    },
    "id": "0IKzGx_P4EZd",
    "outputId": "a8b9e5d7-7145-407e-dd0d-cde69e5401ee"
   },
   "outputs": [
    {
     "data": {
      "text/plain": [
       "array([    0,   190,   163,    75,    69,   102,   109,    50,   125,\n",
       "         101,   105,   140,   115,   131,   136,   160,   231,    90,\n",
       "         118,   193,    99,    60,   113,   218,   122,   129,    70,\n",
       "         306,    95,    61,   177,    80,   170,    55,   143,    64,\n",
       "         286,   232,   150,   156,    82,   155,    54,   185,    87,\n",
       "         180,    86,    84,   224,   235,   200,   178,   265,    77,\n",
       "         110,   144,   120,   116,   184,   126,   204,    88,   194,\n",
       "         305,   197,   179,   250,    45,   313,   165,    98,    41,\n",
       "         130,   114,   211,    56,   201,   213,    58,   107,   174,\n",
       "         100,   220,    85,    73,   192,    68,    66,    74,    52,\n",
       "         147,    65,   310,    71,    97,   239,   203,     5,   300,\n",
       "         103,   258,   320,    63,    81,   148,    44,    83,   145,\n",
       "         230,   280,   260,   104,   299,   188,   333,   186,   117,\n",
       "         141,    59,   132,   234,   158,    39,    92,    51,   135,\n",
       "          53,   209,    43,   146,    67,   106,   166,   276,   344,\n",
       "          72,   249,   237,   245,   111,   326,   279,    23,   138,\n",
       "         175,    96,   226,   301,   334,   128,   133,   124,    33,\n",
       "         219,   241,   167,    94,   182,   196,   238,  1398,   228,\n",
       "         112,    48,   272,   139,    40,   240,    79,   256,   360,\n",
       "         243,   375,   252,   396,   340,   108,   121,   345,   187,\n",
       "         289,   222,   198,   284,    37,   450,   233,   387,   152,\n",
       "         347,   172,    57,   137,   212,   476,   314,    30,    47,\n",
       "          26,   173,   290,   207,   205,   171,   750,    78,    91,\n",
       "          89,   349,    76,   151,   350,   953,    93,   142,   500,\n",
       "         343,   199,   119,   164,    16,   264,   367,   208,   210,\n",
       "          46,   435,  1001,   225,   127,   176,   161,   603,   307,\n",
       "         354,    35,   206,   771,   355,   273,   223,   255,   123,\n",
       "         154,   149,  7515,  1400,   268,   620,   169,   400,   275,\n",
       "          34,     2,   242,  1779,   285,   162,   328,  1753,   329,\n",
       "         134,   420,   247,   168, 10317,   215,    18,   330,   283,\n",
       "          62,    10,   325,   214,   183,   254,    15,   321,   322,\n",
       "         315,   952,   600,   181,   426,   599,   379,   999,    22,\n",
       "         157,    42,   195,   553,     4,   309,   507,   381,   271,\n",
       "         440,   189,   401,  1111,  2729,    21,   236,  1240,  1704,\n",
       "         521,     1,  1900,   270,    24,   159,   292,   808,   515,\n",
       "        1200,   303,    29,    38,  1993,    14,   216,   610,   504,\n",
       "         267,   331,   363,   261,   385,  1011,   253,   696, 10520,\n",
       "         376,   227,   311,    27,   217,    20,  1999,    11,  1056,\n",
       "          25,   394,    12,   298,   296,    49,  1659,   294,   551,\n",
       "        6920,   246,    17,  1625,   368,   390,   221,  1367,   259,\n",
       "         606,   327,  2017,  1597,   266,   374,     9,   405,    13,\n",
       "         262,   601,   295,     8,   411,   900,     7,   541,  7512,\n",
       "         382, 10218,  7544,  1102,   287,    19,   751,   297,  1090,\n",
       "         457,   282,   602,   388,     6,  1000,  5411,   335,  1360,\n",
       "         202,  3750,  1062,  1024, 11530,  1796,   269,   460,  1002,\n",
       "         288,  1780, 12012, 17932,   316,  2005,  1800,  1399,   191,\n",
       "         278,  1300,   380,   257,   449,  1256,   153,  1653,   520,\n",
       "         560,   281, 12510,     3,  1500,   386,    32,  1202,  2016,\n",
       "         430,  1436,  1405,   671,   274,  1288,  1055, 10912, 15016,\n",
       "        6226,  1115,   277,  1105,   341,  1223,   392,  2340,  8404,\n",
       "        1968,   338,   445,  1920,   370,   517,  4400, 10710, 10522,\n",
       "        9010,   431,  1164, 11509,   371,  1501,   428, 11635,    36,\n",
       "         304,   348,  1703,  1910,  1995,   579,   580,   408,    31,\n",
       "        1005,   358,  1403,   489,  5575, 19211,   585,   960,   365,\n",
       "         353,   490,   352,  1801,   346,   550,  3199,   800,  7508,\n",
       "        1312,   357,  1937,   950,  4700,  1600,  3454, 19208,   251,\n",
       "         850,   337,   700,  8011,  2331,  2789,   487,   519,  2461,\n",
       "        6006,  5815,  6018,  1781,  1503,   612,  1596,   229,  1506,\n",
       "        5809, 15020,  5867,  2172,  1598, 17410,  1363,   584,  1054,\n",
       "         851,  1339,   318,   510,   525,  1700,    28,  1151,   685,\n",
       "        6011,   317,   703,  1771, 15001,   514,   362,   332,  5000,\n",
       "         324,  6045,   530,   425,   308,  6010,   475,   903,   640,\n",
       "        2000,   248,   651,  2799, 17011,   505,  1521,   351, 16051,\n",
       "         398,  9000,  1998, 10311,   409,  1230, 17019, 12684,  8259,\n",
       "        1895,   901,  1317,   871,   909,  2201,  1595,   776, 17700,\n",
       "       11011,  1199,   459,  1162,  1120, 15033,  1896,   339,   361,\n",
       "        6512,   454,   650, 13616,   604, 16312,   336, 20000,   416,\n",
       "         678,  6012,  1401,  1021,  1870, 13636,  1250,  9710,   323,\n",
       "        1158,  2009,   902,  6062,  1275,   572,   244,   399,  1016,\n",
       "         743,  1221,  2402, 16011,  1362,   544,   645,   907,   702,\n",
       "       12512,  1986,  1003,   364,  1432,  9013,  9011,   442,  1017,\n",
       "        1394, 15017, 10910,  1992,   540,  2018, 11025,  1433,  1701,\n",
       "        2792,  1502,  1239,  1390, 14009,  1160,  1351,  1783,  9007,\n",
       "         923,  1149,   754,   402,  2004,  5420,  1793,  1324,   356,\n",
       "        7511,  1299,   293, 19312,  1079,  1689,   998,  1100,  9012,\n",
       "        1933,   508, 16311,   682,  1252,  7529,  2389,  3500,  2200,\n",
       "        1707,  1416,  8500,  1012,   485, 10110,   421,  4507,  1631,\n",
       "        7518,   377,  1004,  1799,  2007,  2598,  1548,  1241])"
      ]
     },
     "execution_count": 118,
     "metadata": {},
     "output_type": "execute_result"
    }
   ],
   "source": [
    "df['power'].unique()"
   ]
  },
  {
   "cell_type": "code",
   "execution_count": 119,
   "metadata": {
    "id": "SlUi0RGQ4Mi9"
   },
   "outputs": [],
   "source": [
    "df = df.drop(df[df['power'] == 0].index)"
   ]
  },
  {
   "cell_type": "code",
   "execution_count": 120,
   "metadata": {
    "id": "KEzhnJW1LpjY"
   },
   "outputs": [],
   "source": [
    "df = df.drop(df[df['power'] > 1500].index)"
   ]
  },
  {
   "cell_type": "code",
   "execution_count": 121,
   "metadata": {
    "colab": {
     "base_uri": "https://localhost:8080/"
    },
    "id": "rWyS0SCRKOOw",
    "outputId": "c23d517b-e0c4-487c-a835-781dd1b9b298"
   },
   "outputs": [
    {
     "data": {
      "text/plain": [
       "power\n",
       "75     23354\n",
       "60     15422\n",
       "150    14348\n",
       "101    13034\n",
       "140    12691\n",
       "       ...  \n",
       "640        1\n",
       "612        1\n",
       "610        1\n",
       "332        1\n",
       "550        1\n",
       "Name: power, Length: 551, dtype: int64"
      ]
     },
     "execution_count": 121,
     "metadata": {},
     "output_type": "execute_result"
    }
   ],
   "source": [
    "df.groupby('power')['power'].count().sort_values(ascending=False)"
   ]
  },
  {
   "cell_type": "code",
   "execution_count": 122,
   "metadata": {
    "colab": {
     "base_uri": "https://localhost:8080/"
    },
    "id": "rDG4BDbrJk0B",
    "outputId": "9da92e3e-58df-4f7b-899e-f5623ab0e880"
   },
   "outputs": [
    {
     "data": {
      "text/plain": [
       "(307426, 16)"
      ]
     },
     "execution_count": 122,
     "metadata": {},
     "output_type": "execute_result"
    }
   ],
   "source": [
    "df.shape"
   ]
  },
  {
   "cell_type": "markdown",
   "metadata": {
    "id": "37O0Hdd4K4_g"
   },
   "source": [
    "Так же были удалены данные где мощность равна нулю и больше 1500 л.с. считаю, что данные такого типа очень важны для оценки стоимости автомобиля. Ведь это сердце любой машины :) не может быть нуля, а по поводу максимума гугл выдает что то в районе 1400 л.с. поэтому удалила все, что больше 1500"
   ]
  },
  {
   "cell_type": "code",
   "execution_count": 123,
   "metadata": {
    "colab": {
     "base_uri": "https://localhost:8080/"
    },
    "id": "634QC643zBly",
    "outputId": "54b04551-6ec0-458b-ad90-d9358c47f8ac"
   },
   "outputs": [
    {
     "data": {
      "text/plain": [
       "array([nan, 'grand', 'golf', 'fabia', '3er', '2_reihe', 'other', 'c_max',\n",
       "       '3_reihe', 'passat', 'navara', 'twingo', 'a_klasse', 'scirocco',\n",
       "       '5er', 'meriva', 'arosa', 'c4', 'civic', 'transporter', 'punto',\n",
       "       'e_klasse', 'clio', 'kadett', 'one', 'fortwo', '1er', 'b_klasse',\n",
       "       'a8', 'jetta', 'astra', 'fiesta', 'c_klasse', 'micra', 'vito',\n",
       "       'sprinter', '156', 'escort', 'forester', 'xc_reihe', 'scenic',\n",
       "       'a1', 'focus', 'a4', 'tt', 'a6', 'jazz', 'omega', 'polo', 'slk',\n",
       "       '7er', 'combo', 'corsa', '80', '147', 'z_reihe', 'sportage',\n",
       "       'sorento', 'ibiza', 'mustang', 'eos', 'touran', 'getz', 'insignia',\n",
       "       'ka', 'almera', 'megane', 'a3', 'lupo', 'r19', 'caddy', 'mondeo',\n",
       "       'cordoba', 'colt', 'impreza', 'vectra', 'berlingo', 'tiguan',\n",
       "       'i_reihe', '6_reihe', 'panda', 'up', 'ceed', 'kangoo', '5_reihe',\n",
       "       'yeti', 'octavia', 'zafira', 'mii', 'rx_reihe', '6er', 'modus',\n",
       "       'fox', 'matiz', 'beetle', 'rio', 'touareg', 'logan', 'spider',\n",
       "       'cuore', 's_max', 'a2', 'galaxy', 'c3', 'viano', 's_klasse',\n",
       "       '1_reihe', 'sharan', 'avensis', 'roomster', 'sl', 'kaefer',\n",
       "       'santa', 'leon', 'cooper', '4_reihe', 'a5', 'laguna', 'ptcruiser',\n",
       "       'clk', 'primera', 'espace', 'exeo', '159', 'transit', 'juke',\n",
       "       'x_reihe', 'v40', 'carisma', 'accord', 'corolla', 'lanos',\n",
       "       'phaeton', 'verso', 'swift', 'rav', 'qashqai', 'picanto',\n",
       "       'boxster', 'stilo', 'alhambra', 'mx_reihe', 'roadster', 'ypsilon',\n",
       "       'galant', 'justy', '90', 'sirion', 'signum', 'crossfire', 'agila',\n",
       "       'duster', 'v50', '500', 'c_reihe', 'v_klasse', 'm_klasse', 'yaris',\n",
       "       'c5', 'aygo', 'seicento', 'cc', 'carnival', '911', 'bora',\n",
       "       'forfour', 'm_reihe', 'cl', 'tigra', '300c', '100', 'cr_reihe',\n",
       "       'spark', 'kuga', 'x_type', 'ducato', 's_type', 'x_trail', 'toledo',\n",
       "       'altea', 'voyager', 'calibra', 'v70', 'bravo', 'c1', 'citigo',\n",
       "       'jimny', 'cayenne', 'wrangler', 'lybra', 'lancer', 'captiva',\n",
       "       'fusion', 'c2', 'discovery', 'freelander', 'sandero', 'q7', 'note',\n",
       "       'antara', '900', 'cherokee', 'clubman', 'defender', '601',\n",
       "       'cx_reihe', 'legacy', 'pajero', 'auris', 'niva', 's60', 'nubira',\n",
       "       'vivaro', 'tucson', 'g_klasse', 'lodgy', 'superb', 'range_rover',\n",
       "       '850', 'q3', 'serie_2', 'glk', 'charade', 'croma', 'outlander',\n",
       "       'doblo', 'musa', '9000', 'kalos', 'v60', '200', '145', 'b_max',\n",
       "       'range_rover_sport', 'aveo', 'move', 'rangerover', 'q5',\n",
       "       'range_rover_evoque', 'materia', 'delta', 'terios', 'gl', 'kalina',\n",
       "       'elefantino', 'i3', 'samara', 'amarok', 'kappa', 'serie_3'],\n",
       "      dtype=object)"
      ]
     },
     "execution_count": 123,
     "metadata": {},
     "output_type": "execute_result"
    }
   ],
   "source": [
    "df['model'].unique()"
   ]
  },
  {
   "cell_type": "code",
   "execution_count": 124,
   "metadata": {
    "id": "699mFPmEM-XS"
   },
   "outputs": [],
   "source": [
    "df['model'] = df['model'].fillna(value='other')"
   ]
  },
  {
   "cell_type": "code",
   "execution_count": 125,
   "metadata": {
    "colab": {
     "base_uri": "https://localhost:8080/"
    },
    "id": "Frg6ToR8NIQt",
    "outputId": "48e34a39-de10-4d78-ac1e-ceda668e864e"
   },
   "outputs": [
    {
     "data": {
      "text/plain": [
       "array(['other', 'grand', 'golf', 'fabia', '3er', '2_reihe', 'c_max',\n",
       "       '3_reihe', 'passat', 'navara', 'twingo', 'a_klasse', 'scirocco',\n",
       "       '5er', 'meriva', 'arosa', 'c4', 'civic', 'transporter', 'punto',\n",
       "       'e_klasse', 'clio', 'kadett', 'one', 'fortwo', '1er', 'b_klasse',\n",
       "       'a8', 'jetta', 'astra', 'fiesta', 'c_klasse', 'micra', 'vito',\n",
       "       'sprinter', '156', 'escort', 'forester', 'xc_reihe', 'scenic',\n",
       "       'a1', 'focus', 'a4', 'tt', 'a6', 'jazz', 'omega', 'polo', 'slk',\n",
       "       '7er', 'combo', 'corsa', '80', '147', 'z_reihe', 'sportage',\n",
       "       'sorento', 'ibiza', 'mustang', 'eos', 'touran', 'getz', 'insignia',\n",
       "       'ka', 'almera', 'megane', 'a3', 'lupo', 'r19', 'caddy', 'mondeo',\n",
       "       'cordoba', 'colt', 'impreza', 'vectra', 'berlingo', 'tiguan',\n",
       "       'i_reihe', '6_reihe', 'panda', 'up', 'ceed', 'kangoo', '5_reihe',\n",
       "       'yeti', 'octavia', 'zafira', 'mii', 'rx_reihe', '6er', 'modus',\n",
       "       'fox', 'matiz', 'beetle', 'rio', 'touareg', 'logan', 'spider',\n",
       "       'cuore', 's_max', 'a2', 'galaxy', 'c3', 'viano', 's_klasse',\n",
       "       '1_reihe', 'sharan', 'avensis', 'roomster', 'sl', 'kaefer',\n",
       "       'santa', 'leon', 'cooper', '4_reihe', 'a5', 'laguna', 'ptcruiser',\n",
       "       'clk', 'primera', 'espace', 'exeo', '159', 'transit', 'juke',\n",
       "       'x_reihe', 'v40', 'carisma', 'accord', 'corolla', 'lanos',\n",
       "       'phaeton', 'verso', 'swift', 'rav', 'qashqai', 'picanto',\n",
       "       'boxster', 'stilo', 'alhambra', 'mx_reihe', 'roadster', 'ypsilon',\n",
       "       'galant', 'justy', '90', 'sirion', 'signum', 'crossfire', 'agila',\n",
       "       'duster', 'v50', '500', 'c_reihe', 'v_klasse', 'm_klasse', 'yaris',\n",
       "       'c5', 'aygo', 'seicento', 'cc', 'carnival', '911', 'bora',\n",
       "       'forfour', 'm_reihe', 'cl', 'tigra', '300c', '100', 'cr_reihe',\n",
       "       'spark', 'kuga', 'x_type', 'ducato', 's_type', 'x_trail', 'toledo',\n",
       "       'altea', 'voyager', 'calibra', 'v70', 'bravo', 'c1', 'citigo',\n",
       "       'jimny', 'cayenne', 'wrangler', 'lybra', 'lancer', 'captiva',\n",
       "       'fusion', 'c2', 'discovery', 'freelander', 'sandero', 'q7', 'note',\n",
       "       'antara', '900', 'cherokee', 'clubman', 'defender', '601',\n",
       "       'cx_reihe', 'legacy', 'pajero', 'auris', 'niva', 's60', 'nubira',\n",
       "       'vivaro', 'tucson', 'g_klasse', 'lodgy', 'superb', 'range_rover',\n",
       "       '850', 'q3', 'serie_2', 'glk', 'charade', 'croma', 'outlander',\n",
       "       'doblo', 'musa', '9000', 'kalos', 'v60', '200', '145', 'b_max',\n",
       "       'range_rover_sport', 'aveo', 'move', 'rangerover', 'q5',\n",
       "       'range_rover_evoque', 'materia', 'delta', 'terios', 'gl', 'kalina',\n",
       "       'elefantino', 'i3', 'samara', 'amarok', 'kappa', 'serie_3'],\n",
       "      dtype=object)"
      ]
     },
     "execution_count": 125,
     "metadata": {},
     "output_type": "execute_result"
    }
   ],
   "source": [
    "df['model'].unique()"
   ]
  },
  {
   "cell_type": "code",
   "execution_count": 126,
   "metadata": {
    "colab": {
     "base_uri": "https://localhost:8080/"
    },
    "id": "Jh-5SCuIzU_A",
    "outputId": "d9464e7d-1962-43b7-9ab1-cd36e3081494"
   },
   "outputs": [
    {
     "data": {
      "text/plain": [
       "array(['gasoline', 'petrol', nan, 'lpg', 'other', 'hybrid', 'cng',\n",
       "       'electric'], dtype=object)"
      ]
     },
     "execution_count": 126,
     "metadata": {},
     "output_type": "execute_result"
    }
   ],
   "source": [
    "df['fuel_type'].unique()"
   ]
  },
  {
   "cell_type": "code",
   "execution_count": 127,
   "metadata": {
    "id": "9FyBtEk5Nvba"
   },
   "outputs": [],
   "source": [
    "df['fuel_type'] = df['fuel_type'].fillna(value='other')"
   ]
  },
  {
   "cell_type": "code",
   "execution_count": 128,
   "metadata": {
    "colab": {
     "base_uri": "https://localhost:8080/"
    },
    "id": "qD79Q4hkOD_t",
    "outputId": "fb23a6b3-cd4d-4406-88b1-f827a2be3279"
   },
   "outputs": [
    {
     "data": {
      "text/plain": [
       "array(['gasoline', 'petrol', 'other', 'lpg', 'hybrid', 'cng', 'electric'],\n",
       "      dtype=object)"
      ]
     },
     "execution_count": 128,
     "metadata": {},
     "output_type": "execute_result"
    }
   ],
   "source": [
    "df['fuel_type'].unique()"
   ]
  },
  {
   "cell_type": "markdown",
   "metadata": {
    "id": "4TPYw7ODNSfO"
   },
   "source": [
    "В столбцах с моделями и типом топлива пустые строки были заменены на 'other' (по аналогии, т.к. в этих столбцах уже есть такие данные)."
   ]
  },
  {
   "cell_type": "code",
   "execution_count": 129,
   "metadata": {
    "colab": {
     "base_uri": "https://localhost:8080/"
    },
    "id": "zYIJcI52TCA2",
    "outputId": "7aee1ec4-79b8-411a-92bf-8d953cd8764e"
   },
   "outputs": [
    {
     "data": {
      "text/plain": [
       "array([ 5,  8,  6,  7, 10,  0, 12, 11,  2,  3,  1,  4,  9])"
      ]
     },
     "execution_count": 129,
     "metadata": {},
     "output_type": "execute_result"
    }
   ],
   "source": [
    "df['registration_month'].unique()"
   ]
  },
  {
   "cell_type": "code",
   "execution_count": 130,
   "metadata": {
    "colab": {
     "base_uri": "https://localhost:8080/"
    },
    "id": "Qhb7tBxPTRR1",
    "outputId": "84039e41-a75a-4c93-f53a-b026f86568dc"
   },
   "outputs": [
    {
     "data": {
      "text/plain": [
       "date_crawled          19878\n",
       "price                 19878\n",
       "vehicle_type          19878\n",
       "registration_year     19878\n",
       "gearbox               19878\n",
       "power                 19878\n",
       "model                 19878\n",
       "kilometer             19878\n",
       "registration_month    19878\n",
       "fuel_type             19878\n",
       "brand                 19878\n",
       "not_repaired          10521\n",
       "date_created          19878\n",
       "number_of_pic         19878\n",
       "postal_code           19878\n",
       "last_seen             19878\n",
       "dtype: int64"
      ]
     },
     "execution_count": 130,
     "metadata": {},
     "output_type": "execute_result"
    }
   ],
   "source": [
    "df[df['registration_month'] == 0].count()"
   ]
  },
  {
   "cell_type": "code",
   "execution_count": 133,
   "metadata": {},
   "outputs": [],
   "source": [
    "df = df.dropna(subset = ['registration_month'], axis = 0)"
   ]
  },
  {
   "cell_type": "markdown",
   "metadata": {
    "id": "Erdb3waJUsrn"
   },
   "source": [
    "Выбор был между тем что бы удалить данные с нулями или в принципе удалить данный столбец, т.к. мне почему то кажется что важен год регистрации автомобиля (постановка на учет) что бы понимать на сколько он старый. А месяц наверное не важно. И спросить не у кого, начальника нет :) Жду комментариев ревьюера по данному вопросу. Я пока удалила строки с нулями."
   ]
  },
  {
   "cell_type": "code",
   "execution_count": 134,
   "metadata": {
    "colab": {
     "base_uri": "https://localhost:8080/"
    },
    "id": "RFdR1ygGzpRU",
    "outputId": "18335d3b-3d0e-4adb-9775-11e06b711a47"
   },
   "outputs": [
    {
     "data": {
      "text/plain": [
       "array(['yes', nan, 'no'], dtype=object)"
      ]
     },
     "execution_count": 134,
     "metadata": {},
     "output_type": "execute_result"
    }
   ],
   "source": [
    "df['not_repaired'].unique()"
   ]
  },
  {
   "cell_type": "code",
   "execution_count": 135,
   "metadata": {
    "colab": {
     "base_uri": "https://localhost:8080/"
    },
    "id": "JyDf6rmYOuqq",
    "outputId": "fb6d60e1-27a9-4d25-9940-1f0869a1e129"
   },
   "outputs": [
    {
     "data": {
      "text/plain": [
       "not_repaired\n",
       "no     230375\n",
       "yes     30586\n",
       "Name: not_repaired, dtype: int64"
      ]
     },
     "execution_count": 135,
     "metadata": {},
     "output_type": "execute_result"
    }
   ],
   "source": [
    "df.groupby('not_repaired')['not_repaired'].count().sort_values(ascending=False)"
   ]
  },
  {
   "cell_type": "markdown",
   "metadata": {
    "id": "Gxc4wl8JRggu"
   },
   "source": [
    "Так как угадать нельзя была ли машина в ремонте, поэтому решила эти данные удалить."
   ]
  },
  {
   "cell_type": "code",
   "execution_count": 136,
   "metadata": {
    "id": "DCBmUShJRxFa"
   },
   "outputs": [],
   "source": [
    "df = df.dropna(subset = ['not_repaired'], axis = 0)"
   ]
  },
  {
   "cell_type": "markdown",
   "metadata": {
    "id": "fN8AzUS0PIrq"
   },
   "source": [
    "При вызове discribe в столбце с количеством картинок везде были нули. проверим этот столбец."
   ]
  },
  {
   "cell_type": "code",
   "execution_count": 137,
   "metadata": {
    "colab": {
     "base_uri": "https://localhost:8080/"
    },
    "id": "SQlre0gYzppg",
    "outputId": "c61b3249-f621-4642-9a67-b3ddd89de417"
   },
   "outputs": [
    {
     "data": {
      "text/plain": [
       "array([0])"
      ]
     },
     "execution_count": 137,
     "metadata": {},
     "output_type": "execute_result"
    }
   ],
   "source": [
    "df['number_of_pic'].unique()"
   ]
  },
  {
   "cell_type": "code",
   "execution_count": 138,
   "metadata": {
    "id": "lu0LCC1r0Ee1"
   },
   "outputs": [],
   "source": [
    "df = df.drop(columns = ['number_of_pic'],axis = 1)"
   ]
  },
  {
   "cell_type": "markdown",
   "metadata": {
    "id": "feCB1TYN0jMN"
   },
   "source": [
    "Столбец содержит только нули, поэтому удаляем!"
   ]
  },
  {
   "cell_type": "code",
   "execution_count": 139,
   "metadata": {
    "colab": {
     "base_uri": "https://localhost:8080/"
    },
    "id": "XCSIzCm7R1MI",
    "outputId": "077a66fc-3ff1-4838-ac28-c4eb5b971d73"
   },
   "outputs": [
    {
     "data": {
      "text/plain": [
       "(260961, 15)"
      ]
     },
     "execution_count": 139,
     "metadata": {},
     "output_type": "execute_result"
    }
   ],
   "source": [
    "df.shape"
   ]
  },
  {
   "cell_type": "code",
   "execution_count": 140,
   "metadata": {
    "colab": {
     "base_uri": "https://localhost:8080/"
    },
    "id": "Kp6aOvXgu4v2",
    "outputId": "4bc6d8e1-4754-4439-f6ea-6c9b95e4a3dc"
   },
   "outputs": [
    {
     "name": "stdout",
     "output_type": "stream",
     "text": [
      "<class 'pandas.core.frame.DataFrame'>\n",
      "Int64Index: 260961 entries, 1 to 354363\n",
      "Data columns (total 15 columns):\n",
      " #   Column              Non-Null Count   Dtype \n",
      "---  ------              --------------   ----- \n",
      " 0   date_crawled        260961 non-null  object\n",
      " 1   price               260961 non-null  int64 \n",
      " 2   vehicle_type        260961 non-null  object\n",
      " 3   registration_year   260961 non-null  int64 \n",
      " 4   gearbox             260961 non-null  object\n",
      " 5   power               260961 non-null  int64 \n",
      " 6   model               260961 non-null  object\n",
      " 7   kilometer           260961 non-null  int64 \n",
      " 8   registration_month  260961 non-null  int64 \n",
      " 9   fuel_type           260961 non-null  object\n",
      " 10  brand               260961 non-null  object\n",
      " 11  not_repaired        260961 non-null  object\n",
      " 12  date_created        260961 non-null  object\n",
      " 13  postal_code         260961 non-null  int64 \n",
      " 14  last_seen           260961 non-null  object\n",
      "dtypes: int64(6), object(9)\n",
      "memory usage: 31.9+ MB\n"
     ]
    }
   ],
   "source": [
    "df.info()"
   ]
  },
  {
   "cell_type": "markdown",
   "metadata": {
    "id": "Ry8gE_vCqYvp"
   },
   "source": [
    "Посмотрим что с пропусками в итоге:\n"
   ]
  },
  {
   "cell_type": "code",
   "execution_count": 141,
   "metadata": {
    "colab": {
     "base_uri": "https://localhost:8080/"
    },
    "id": "NjBGH9hIqXio",
    "outputId": "a572928c-68a8-421e-ec85-6f5c21740698"
   },
   "outputs": [
    {
     "data": {
      "text/plain": [
       "date_crawled          0\n",
       "price                 0\n",
       "vehicle_type          0\n",
       "registration_year     0\n",
       "gearbox               0\n",
       "power                 0\n",
       "model                 0\n",
       "kilometer             0\n",
       "registration_month    0\n",
       "fuel_type             0\n",
       "brand                 0\n",
       "not_repaired          0\n",
       "date_created          0\n",
       "postal_code           0\n",
       "last_seen             0\n",
       "dtype: int64"
      ]
     },
     "execution_count": 141,
     "metadata": {},
     "output_type": "execute_result"
    }
   ],
   "source": [
    "df.isna().sum()"
   ]
  },
  {
   "cell_type": "markdown",
   "metadata": {
    "id": "tINOKwhOSLDm"
   },
   "source": [
    "Пропусков нет! И данных достаточно для обучения!\n",
    "\n",
    "Теперь ниже изучим даты и подумаем, что с ними можно сделать."
   ]
  },
  {
   "cell_type": "code",
   "execution_count": 142,
   "metadata": {
    "colab": {
     "base_uri": "https://localhost:8080/",
     "height": 1000
    },
    "id": "E3Npr4iZqk9n",
    "outputId": "af6f411e-8d78-409a-a742-ee83ff2c9d03"
   },
   "outputs": [
    {
     "data": {
      "text/html": [
       "<div>\n",
       "<style scoped>\n",
       "    .dataframe tbody tr th:only-of-type {\n",
       "        vertical-align: middle;\n",
       "    }\n",
       "\n",
       "    .dataframe tbody tr th {\n",
       "        vertical-align: top;\n",
       "    }\n",
       "\n",
       "    .dataframe thead th {\n",
       "        text-align: right;\n",
       "    }\n",
       "</style>\n",
       "<table border=\"1\" class=\"dataframe\">\n",
       "  <thead>\n",
       "    <tr style=\"text-align: right;\">\n",
       "      <th></th>\n",
       "      <th>date_crawled</th>\n",
       "      <th>date_created</th>\n",
       "    </tr>\n",
       "  </thead>\n",
       "  <tbody>\n",
       "    <tr>\n",
       "      <th>1</th>\n",
       "      <td>2016-03-24 10:58:45</td>\n",
       "      <td>2016-03-24 00:00:00</td>\n",
       "    </tr>\n",
       "    <tr>\n",
       "      <th>3</th>\n",
       "      <td>2016-03-17 16:54:04</td>\n",
       "      <td>2016-03-17 00:00:00</td>\n",
       "    </tr>\n",
       "    <tr>\n",
       "      <th>4</th>\n",
       "      <td>2016-03-31 17:25:20</td>\n",
       "      <td>2016-03-31 00:00:00</td>\n",
       "    </tr>\n",
       "    <tr>\n",
       "      <th>5</th>\n",
       "      <td>2016-04-04 17:36:23</td>\n",
       "      <td>2016-04-04 00:00:00</td>\n",
       "    </tr>\n",
       "    <tr>\n",
       "      <th>6</th>\n",
       "      <td>2016-04-01 20:48:51</td>\n",
       "      <td>2016-04-01 00:00:00</td>\n",
       "    </tr>\n",
       "    <tr>\n",
       "      <th>7</th>\n",
       "      <td>2016-03-21 18:54:38</td>\n",
       "      <td>2016-03-21 00:00:00</td>\n",
       "    </tr>\n",
       "    <tr>\n",
       "      <th>10</th>\n",
       "      <td>2016-03-26 19:54:18</td>\n",
       "      <td>2016-03-26 00:00:00</td>\n",
       "    </tr>\n",
       "    <tr>\n",
       "      <th>11</th>\n",
       "      <td>2016-04-07 10:06:22</td>\n",
       "      <td>2016-04-07 00:00:00</td>\n",
       "    </tr>\n",
       "    <tr>\n",
       "      <th>13</th>\n",
       "      <td>2016-03-21 21:37:40</td>\n",
       "      <td>2016-03-21 00:00:00</td>\n",
       "    </tr>\n",
       "    <tr>\n",
       "      <th>14</th>\n",
       "      <td>2016-03-21 12:57:01</td>\n",
       "      <td>2016-03-21 00:00:00</td>\n",
       "    </tr>\n",
       "    <tr>\n",
       "      <th>17</th>\n",
       "      <td>2016-03-20 10:25:19</td>\n",
       "      <td>2016-03-20 00:00:00</td>\n",
       "    </tr>\n",
       "    <tr>\n",
       "      <th>18</th>\n",
       "      <td>2016-03-23 15:48:05</td>\n",
       "      <td>2016-03-23 00:00:00</td>\n",
       "    </tr>\n",
       "    <tr>\n",
       "      <th>19</th>\n",
       "      <td>2016-04-01 22:55:47</td>\n",
       "      <td>2016-04-01 00:00:00</td>\n",
       "    </tr>\n",
       "    <tr>\n",
       "      <th>20</th>\n",
       "      <td>2016-04-01 19:56:48</td>\n",
       "      <td>2016-04-01 00:00:00</td>\n",
       "    </tr>\n",
       "    <tr>\n",
       "      <th>21</th>\n",
       "      <td>2016-03-27 11:38:00</td>\n",
       "      <td>2016-03-27 00:00:00</td>\n",
       "    </tr>\n",
       "    <tr>\n",
       "      <th>22</th>\n",
       "      <td>2016-03-23 14:52:51</td>\n",
       "      <td>2016-03-23 00:00:00</td>\n",
       "    </tr>\n",
       "    <tr>\n",
       "      <th>23</th>\n",
       "      <td>2016-03-12 19:43:07</td>\n",
       "      <td>2016-03-12 00:00:00</td>\n",
       "    </tr>\n",
       "    <tr>\n",
       "      <th>24</th>\n",
       "      <td>2016-03-13 20:40:49</td>\n",
       "      <td>2016-03-13 00:00:00</td>\n",
       "    </tr>\n",
       "    <tr>\n",
       "      <th>25</th>\n",
       "      <td>2016-03-18 21:44:09</td>\n",
       "      <td>2016-03-18 00:00:00</td>\n",
       "    </tr>\n",
       "    <tr>\n",
       "      <th>26</th>\n",
       "      <td>2016-03-10 19:38:18</td>\n",
       "      <td>2016-03-10 00:00:00</td>\n",
       "    </tr>\n",
       "    <tr>\n",
       "      <th>27</th>\n",
       "      <td>2016-03-07 12:51:23</td>\n",
       "      <td>2016-03-07 00:00:00</td>\n",
       "    </tr>\n",
       "    <tr>\n",
       "      <th>28</th>\n",
       "      <td>2016-03-09 11:56:38</td>\n",
       "      <td>2016-03-09 00:00:00</td>\n",
       "    </tr>\n",
       "    <tr>\n",
       "      <th>29</th>\n",
       "      <td>2016-03-08 19:55:19</td>\n",
       "      <td>2016-03-08 00:00:00</td>\n",
       "    </tr>\n",
       "    <tr>\n",
       "      <th>30</th>\n",
       "      <td>2016-04-03 15:48:11</td>\n",
       "      <td>2016-04-03 00:00:00</td>\n",
       "    </tr>\n",
       "    <tr>\n",
       "      <th>33</th>\n",
       "      <td>2016-03-25 21:48:47</td>\n",
       "      <td>2016-03-25 00:00:00</td>\n",
       "    </tr>\n",
       "    <tr>\n",
       "      <th>34</th>\n",
       "      <td>2016-03-17 18:55:12</td>\n",
       "      <td>2016-03-17 00:00:00</td>\n",
       "    </tr>\n",
       "    <tr>\n",
       "      <th>35</th>\n",
       "      <td>2016-03-08 07:54:46</td>\n",
       "      <td>2016-03-08 00:00:00</td>\n",
       "    </tr>\n",
       "    <tr>\n",
       "      <th>38</th>\n",
       "      <td>2016-04-01 17:45:07</td>\n",
       "      <td>2016-04-01 00:00:00</td>\n",
       "    </tr>\n",
       "    <tr>\n",
       "      <th>39</th>\n",
       "      <td>2016-03-25 15:50:30</td>\n",
       "      <td>2016-03-25 00:00:00</td>\n",
       "    </tr>\n",
       "    <tr>\n",
       "      <th>43</th>\n",
       "      <td>2016-03-13 15:47:08</td>\n",
       "      <td>2016-03-13 00:00:00</td>\n",
       "    </tr>\n",
       "    <tr>\n",
       "      <th>45</th>\n",
       "      <td>2016-03-29 18:57:46</td>\n",
       "      <td>2016-03-29 00:00:00</td>\n",
       "    </tr>\n",
       "    <tr>\n",
       "      <th>46</th>\n",
       "      <td>2016-03-15 18:59:02</td>\n",
       "      <td>2016-03-15 00:00:00</td>\n",
       "    </tr>\n",
       "    <tr>\n",
       "      <th>47</th>\n",
       "      <td>2016-04-04 00:38:22</td>\n",
       "      <td>2016-04-03 00:00:00</td>\n",
       "    </tr>\n",
       "    <tr>\n",
       "      <th>49</th>\n",
       "      <td>2016-04-04 14:06:22</td>\n",
       "      <td>2016-04-04 00:00:00</td>\n",
       "    </tr>\n",
       "    <tr>\n",
       "      <th>51</th>\n",
       "      <td>2016-03-07 18:57:08</td>\n",
       "      <td>2016-03-07 00:00:00</td>\n",
       "    </tr>\n",
       "    <tr>\n",
       "      <th>56</th>\n",
       "      <td>2016-03-22 17:56:12</td>\n",
       "      <td>2016-03-22 00:00:00</td>\n",
       "    </tr>\n",
       "    <tr>\n",
       "      <th>57</th>\n",
       "      <td>2016-03-10 20:53:19</td>\n",
       "      <td>2016-03-10 00:00:00</td>\n",
       "    </tr>\n",
       "    <tr>\n",
       "      <th>58</th>\n",
       "      <td>2016-03-31 08:57:44</td>\n",
       "      <td>2016-03-31 00:00:00</td>\n",
       "    </tr>\n",
       "    <tr>\n",
       "      <th>61</th>\n",
       "      <td>2016-03-25 19:44:06</td>\n",
       "      <td>2016-03-25 00:00:00</td>\n",
       "    </tr>\n",
       "    <tr>\n",
       "      <th>62</th>\n",
       "      <td>2016-03-30 12:49:54</td>\n",
       "      <td>2016-03-30 00:00:00</td>\n",
       "    </tr>\n",
       "    <tr>\n",
       "      <th>63</th>\n",
       "      <td>2016-03-08 12:54:47</td>\n",
       "      <td>2016-03-08 00:00:00</td>\n",
       "    </tr>\n",
       "    <tr>\n",
       "      <th>64</th>\n",
       "      <td>2016-03-07 22:36:54</td>\n",
       "      <td>2016-03-07 00:00:00</td>\n",
       "    </tr>\n",
       "    <tr>\n",
       "      <th>65</th>\n",
       "      <td>2016-03-28 17:41:27</td>\n",
       "      <td>2016-03-28 00:00:00</td>\n",
       "    </tr>\n",
       "    <tr>\n",
       "      <th>66</th>\n",
       "      <td>2016-03-15 14:50:24</td>\n",
       "      <td>2016-03-15 00:00:00</td>\n",
       "    </tr>\n",
       "    <tr>\n",
       "      <th>67</th>\n",
       "      <td>2016-03-21 12:47:55</td>\n",
       "      <td>2016-02-09 00:00:00</td>\n",
       "    </tr>\n",
       "    <tr>\n",
       "      <th>71</th>\n",
       "      <td>2016-03-07 08:55:18</td>\n",
       "      <td>2016-03-07 00:00:00</td>\n",
       "    </tr>\n",
       "    <tr>\n",
       "      <th>72</th>\n",
       "      <td>2016-03-05 16:45:05</td>\n",
       "      <td>2016-03-05 00:00:00</td>\n",
       "    </tr>\n",
       "    <tr>\n",
       "      <th>73</th>\n",
       "      <td>2016-03-22 17:45:41</td>\n",
       "      <td>2016-03-22 00:00:00</td>\n",
       "    </tr>\n",
       "    <tr>\n",
       "      <th>74</th>\n",
       "      <td>2016-03-31 18:46:36</td>\n",
       "      <td>2016-03-31 00:00:00</td>\n",
       "    </tr>\n",
       "    <tr>\n",
       "      <th>75</th>\n",
       "      <td>2016-03-17 09:48:12</td>\n",
       "      <td>2016-03-17 00:00:00</td>\n",
       "    </tr>\n",
       "  </tbody>\n",
       "</table>\n",
       "</div>"
      ],
      "text/plain": [
       "           date_crawled         date_created\n",
       "1   2016-03-24 10:58:45  2016-03-24 00:00:00\n",
       "3   2016-03-17 16:54:04  2016-03-17 00:00:00\n",
       "4   2016-03-31 17:25:20  2016-03-31 00:00:00\n",
       "5   2016-04-04 17:36:23  2016-04-04 00:00:00\n",
       "6   2016-04-01 20:48:51  2016-04-01 00:00:00\n",
       "7   2016-03-21 18:54:38  2016-03-21 00:00:00\n",
       "10  2016-03-26 19:54:18  2016-03-26 00:00:00\n",
       "11  2016-04-07 10:06:22  2016-04-07 00:00:00\n",
       "13  2016-03-21 21:37:40  2016-03-21 00:00:00\n",
       "14  2016-03-21 12:57:01  2016-03-21 00:00:00\n",
       "17  2016-03-20 10:25:19  2016-03-20 00:00:00\n",
       "18  2016-03-23 15:48:05  2016-03-23 00:00:00\n",
       "19  2016-04-01 22:55:47  2016-04-01 00:00:00\n",
       "20  2016-04-01 19:56:48  2016-04-01 00:00:00\n",
       "21  2016-03-27 11:38:00  2016-03-27 00:00:00\n",
       "22  2016-03-23 14:52:51  2016-03-23 00:00:00\n",
       "23  2016-03-12 19:43:07  2016-03-12 00:00:00\n",
       "24  2016-03-13 20:40:49  2016-03-13 00:00:00\n",
       "25  2016-03-18 21:44:09  2016-03-18 00:00:00\n",
       "26  2016-03-10 19:38:18  2016-03-10 00:00:00\n",
       "27  2016-03-07 12:51:23  2016-03-07 00:00:00\n",
       "28  2016-03-09 11:56:38  2016-03-09 00:00:00\n",
       "29  2016-03-08 19:55:19  2016-03-08 00:00:00\n",
       "30  2016-04-03 15:48:11  2016-04-03 00:00:00\n",
       "33  2016-03-25 21:48:47  2016-03-25 00:00:00\n",
       "34  2016-03-17 18:55:12  2016-03-17 00:00:00\n",
       "35  2016-03-08 07:54:46  2016-03-08 00:00:00\n",
       "38  2016-04-01 17:45:07  2016-04-01 00:00:00\n",
       "39  2016-03-25 15:50:30  2016-03-25 00:00:00\n",
       "43  2016-03-13 15:47:08  2016-03-13 00:00:00\n",
       "45  2016-03-29 18:57:46  2016-03-29 00:00:00\n",
       "46  2016-03-15 18:59:02  2016-03-15 00:00:00\n",
       "47  2016-04-04 00:38:22  2016-04-03 00:00:00\n",
       "49  2016-04-04 14:06:22  2016-04-04 00:00:00\n",
       "51  2016-03-07 18:57:08  2016-03-07 00:00:00\n",
       "56  2016-03-22 17:56:12  2016-03-22 00:00:00\n",
       "57  2016-03-10 20:53:19  2016-03-10 00:00:00\n",
       "58  2016-03-31 08:57:44  2016-03-31 00:00:00\n",
       "61  2016-03-25 19:44:06  2016-03-25 00:00:00\n",
       "62  2016-03-30 12:49:54  2016-03-30 00:00:00\n",
       "63  2016-03-08 12:54:47  2016-03-08 00:00:00\n",
       "64  2016-03-07 22:36:54  2016-03-07 00:00:00\n",
       "65  2016-03-28 17:41:27  2016-03-28 00:00:00\n",
       "66  2016-03-15 14:50:24  2016-03-15 00:00:00\n",
       "67  2016-03-21 12:47:55  2016-02-09 00:00:00\n",
       "71  2016-03-07 08:55:18  2016-03-07 00:00:00\n",
       "72  2016-03-05 16:45:05  2016-03-05 00:00:00\n",
       "73  2016-03-22 17:45:41  2016-03-22 00:00:00\n",
       "74  2016-03-31 18:46:36  2016-03-31 00:00:00\n",
       "75  2016-03-17 09:48:12  2016-03-17 00:00:00"
      ]
     },
     "execution_count": 142,
     "metadata": {},
     "output_type": "execute_result"
    }
   ],
   "source": [
    "df[['date_crawled', 'date_created']].head(50)"
   ]
  },
  {
   "cell_type": "markdown",
   "metadata": {
    "id": "nYuP1Pr7V96o"
   },
   "source": [
    "Столбцы совпадают по дате, посмотрела с разны сторон, плюс не думаю, что дата скачивания в принципе важна, поэтому решила один столбец удалить."
   ]
  },
  {
   "cell_type": "code",
   "execution_count": 143,
   "metadata": {
    "id": "iKyq1glGqlIy"
   },
   "outputs": [],
   "source": [
    "df = df.drop(columns = ['date_crawled'],axis = 1)"
   ]
  },
  {
   "cell_type": "code",
   "execution_count": 144,
   "metadata": {
    "colab": {
     "base_uri": "https://localhost:8080/"
    },
    "id": "hKsrsbKZgokO",
    "outputId": "fba8a756-6234-45d1-8293-777a6864f1d9"
   },
   "outputs": [
    {
     "data": {
      "text/plain": [
       "(260961, 14)"
      ]
     },
     "execution_count": 144,
     "metadata": {},
     "output_type": "execute_result"
    }
   ],
   "source": [
    "df.shape"
   ]
  },
  {
   "cell_type": "markdown",
   "metadata": {
    "id": "Vm8YgH_oXOvW"
   },
   "source": [
    "Второй столбец переведем в дату и уже получим новые столбцы с месяцами и годами создания. Возможно , активность рынка в разные месяцы и года имеют значения для ценообразования, так как люди размещают обьявления в определенные сезоны, события и пр... Активность и спады имеют место быть. "
   ]
  },
  {
   "cell_type": "code",
   "execution_count": 145,
   "metadata": {
    "colab": {
     "base_uri": "https://localhost:8080/",
     "height": 211
    },
    "id": "UVgfbzcnXBwn",
    "outputId": "1bd42ab8-c210-4824-ad6c-359722f23aa8"
   },
   "outputs": [
    {
     "data": {
      "text/html": [
       "<div>\n",
       "<style scoped>\n",
       "    .dataframe tbody tr th:only-of-type {\n",
       "        vertical-align: middle;\n",
       "    }\n",
       "\n",
       "    .dataframe tbody tr th {\n",
       "        vertical-align: top;\n",
       "    }\n",
       "\n",
       "    .dataframe thead th {\n",
       "        text-align: right;\n",
       "    }\n",
       "</style>\n",
       "<table border=\"1\" class=\"dataframe\">\n",
       "  <thead>\n",
       "    <tr style=\"text-align: right;\">\n",
       "      <th></th>\n",
       "      <th>price</th>\n",
       "      <th>vehicle_type</th>\n",
       "      <th>registration_year</th>\n",
       "      <th>gearbox</th>\n",
       "      <th>power</th>\n",
       "      <th>model</th>\n",
       "      <th>kilometer</th>\n",
       "      <th>registration_month</th>\n",
       "      <th>fuel_type</th>\n",
       "      <th>brand</th>\n",
       "      <th>not_repaired</th>\n",
       "      <th>date_created</th>\n",
       "      <th>postal_code</th>\n",
       "      <th>last_seen</th>\n",
       "    </tr>\n",
       "  </thead>\n",
       "  <tbody>\n",
       "    <tr>\n",
       "      <th>1</th>\n",
       "      <td>18300</td>\n",
       "      <td>coupe</td>\n",
       "      <td>2011</td>\n",
       "      <td>manual</td>\n",
       "      <td>190</td>\n",
       "      <td>other</td>\n",
       "      <td>125000</td>\n",
       "      <td>5</td>\n",
       "      <td>gasoline</td>\n",
       "      <td>audi</td>\n",
       "      <td>yes</td>\n",
       "      <td>2016-03-24 00:00:00</td>\n",
       "      <td>66954</td>\n",
       "      <td>2016-04-07 01:46:50</td>\n",
       "    </tr>\n",
       "    <tr>\n",
       "      <th>3</th>\n",
       "      <td>1500</td>\n",
       "      <td>small</td>\n",
       "      <td>2001</td>\n",
       "      <td>manual</td>\n",
       "      <td>75</td>\n",
       "      <td>golf</td>\n",
       "      <td>150000</td>\n",
       "      <td>6</td>\n",
       "      <td>petrol</td>\n",
       "      <td>volkswagen</td>\n",
       "      <td>no</td>\n",
       "      <td>2016-03-17 00:00:00</td>\n",
       "      <td>91074</td>\n",
       "      <td>2016-03-17 17:40:17</td>\n",
       "    </tr>\n",
       "  </tbody>\n",
       "</table>\n",
       "</div>"
      ],
      "text/plain": [
       "   price vehicle_type  registration_year gearbox  power  model  kilometer  \\\n",
       "1  18300        coupe               2011  manual    190  other     125000   \n",
       "3   1500        small               2001  manual     75   golf     150000   \n",
       "\n",
       "   registration_month fuel_type       brand not_repaired         date_created  \\\n",
       "1                   5  gasoline        audi          yes  2016-03-24 00:00:00   \n",
       "3                   6    petrol  volkswagen           no  2016-03-17 00:00:00   \n",
       "\n",
       "   postal_code            last_seen  \n",
       "1        66954  2016-04-07 01:46:50  \n",
       "3        91074  2016-03-17 17:40:17  "
      ]
     },
     "execution_count": 145,
     "metadata": {},
     "output_type": "execute_result"
    }
   ],
   "source": [
    "df.head(2)"
   ]
  },
  {
   "cell_type": "code",
   "execution_count": 146,
   "metadata": {
    "id": "CboJRnuJirEy"
   },
   "outputs": [],
   "source": [
    "df['date_created'] = pd.to_datetime(df['date_created'], format='%Y-%m-%d %H:%M:%S')"
   ]
  },
  {
   "cell_type": "code",
   "execution_count": 147,
   "metadata": {
    "id": "LTMd_amggox5"
   },
   "outputs": [],
   "source": [
    "df['month_created'] = pd.DatetimeIndex(df['date_created']).month\n",
    "df['year_created'] = pd.DatetimeIndex(df['date_created']).year"
   ]
  },
  {
   "cell_type": "code",
   "execution_count": 148,
   "metadata": {
    "colab": {
     "base_uri": "https://localhost:8080/"
    },
    "id": "lVzU3RWHgo-G",
    "outputId": "869f8694-328e-488b-c152-8f1c95c42206"
   },
   "outputs": [
    {
     "data": {
      "text/plain": [
       "array([ 3,  4,  2,  1, 11, 12,  9,  8])"
      ]
     },
     "execution_count": 148,
     "metadata": {},
     "output_type": "execute_result"
    }
   ],
   "source": [
    "df['month_created'].unique()"
   ]
  },
  {
   "cell_type": "code",
   "execution_count": 149,
   "metadata": {
    "colab": {
     "base_uri": "https://localhost:8080/"
    },
    "id": "j1zAW5ZQgpJy",
    "outputId": "d4c8f9f5-0b36-450c-831a-d6e469db395d"
   },
   "outputs": [
    {
     "data": {
      "text/plain": [
       "array([2016, 2015])"
      ]
     },
     "execution_count": 149,
     "metadata": {},
     "output_type": "execute_result"
    }
   ],
   "source": [
    "df['year_created'].unique()"
   ]
  },
  {
   "cell_type": "code",
   "execution_count": 150,
   "metadata": {
    "id": "e_NS3k_4YiFz"
   },
   "outputs": [],
   "source": [
    "df = df.drop(columns = ['date_created'],axis = 1)"
   ]
  },
  {
   "cell_type": "markdown",
   "metadata": {
    "id": "Lipw7nh-YwPo"
   },
   "source": [
    "Думаю колонка с последним визитом так же не имеет значения, т.к. это не дает информацию о том продали ли автомобиль, или все таки нет. Наврядли это как то влияет на ценообразование."
   ]
  },
  {
   "cell_type": "code",
   "execution_count": 151,
   "metadata": {
    "id": "zd2Fqjt_aAer"
   },
   "outputs": [],
   "source": [
    "df = df.drop(columns = ['last_seen'],axis = 1)"
   ]
  },
  {
   "cell_type": "markdown",
   "metadata": {
    "id": "YIONUXy2ane1"
   },
   "source": [
    "Познакомимся с данными в столбце с датой регистрации автомобиля."
   ]
  },
  {
   "cell_type": "code",
   "execution_count": 152,
   "metadata": {
    "colab": {
     "base_uri": "https://localhost:8080/"
    },
    "id": "USnCOEhKago1",
    "outputId": "ba14c111-a9e7-4bf6-90c7-428311a926dc"
   },
   "outputs": [
    {
     "data": {
      "text/plain": [
       "array([1000, 1910, 1923, 1929, 1930, 1931, 1932, 1935, 1937, 1938, 1940,\n",
       "       1941, 1942, 1943, 1944, 1945, 1947, 1950, 1951, 1952, 1953, 1954,\n",
       "       1955, 1956, 1957, 1958, 1959, 1960, 1961, 1962, 1963, 1964, 1965,\n",
       "       1966, 1967, 1968, 1969, 1970, 1971, 1972, 1973, 1974, 1975, 1976,\n",
       "       1977, 1978, 1979, 1980, 1981, 1982, 1983, 1984, 1985, 1986, 1987,\n",
       "       1988, 1989, 1990, 1991, 1992, 1993, 1994, 1995, 1996, 1997, 1998,\n",
       "       1999, 2000, 2001, 2002, 2003, 2004, 2005, 2006, 2007, 2008, 2009,\n",
       "       2010, 2011, 2012, 2013, 2014, 2015, 2016, 2017, 2018, 2019, 4000,\n",
       "       5000, 6000, 6500, 9000])"
      ]
     },
     "execution_count": 152,
     "metadata": {},
     "output_type": "execute_result"
    }
   ],
   "source": [
    "df['registration_year'].sort_values().unique()"
   ]
  },
  {
   "cell_type": "markdown",
   "metadata": {
    "id": "5AqEaDK6bOjw"
   },
   "source": [
    "Думаю, надо удалить даты до 1970 года (слишкос старые, и количество их оч мало) и после 2016 года (так как скачивание было в 2016 году, поэтому не понятно, как туда попали данные за 2017 год и старше)."
   ]
  },
  {
   "cell_type": "code",
   "execution_count": 153,
   "metadata": {
    "colab": {
     "base_uri": "https://localhost:8080/"
    },
    "id": "U_CIMJw6eY_i",
    "outputId": "8402f832-2c1f-449d-b6c4-f8770124227e"
   },
   "outputs": [
    {
     "data": {
      "text/plain": [
       "price                 0.002537\n",
       "vehicle_type          0.002537\n",
       "registration_year     0.002537\n",
       "gearbox               0.002537\n",
       "power                 0.002537\n",
       "model                 0.002537\n",
       "kilometer             0.002537\n",
       "registration_month    0.002537\n",
       "fuel_type             0.002537\n",
       "brand                 0.002537\n",
       "not_repaired          0.002537\n",
       "postal_code           0.002537\n",
       "month_created         0.002537\n",
       "year_created          0.002537\n",
       "dtype: float64"
      ]
     },
     "execution_count": 153,
     "metadata": {},
     "output_type": "execute_result"
    }
   ],
   "source": [
    "(df[df['registration_year'] <= 1970].count())/len(df['registration_year'])"
   ]
  },
  {
   "cell_type": "code",
   "execution_count": 154,
   "metadata": {
    "id": "u7UGDTRDboee"
   },
   "outputs": [],
   "source": [
    "df = df.drop(df[df['registration_year'] <= 1970].index)"
   ]
  },
  {
   "cell_type": "code",
   "execution_count": 155,
   "metadata": {
    "id": "WyiK6FZ_cZW7"
   },
   "outputs": [],
   "source": [
    "df = df.drop(df[df['registration_year'] >= 2016].index)"
   ]
  },
  {
   "cell_type": "code",
   "execution_count": 156,
   "metadata": {
    "colab": {
     "base_uri": "https://localhost:8080/"
    },
    "id": "RyakHBBKaecY",
    "outputId": "92246f08-2ff0-4310-d5c5-be9e09af353b"
   },
   "outputs": [
    {
     "data": {
      "text/plain": [
       "(250294, 14)"
      ]
     },
     "execution_count": 156,
     "metadata": {},
     "output_type": "execute_result"
    }
   ],
   "source": [
    "df.shape"
   ]
  },
  {
   "cell_type": "markdown",
   "metadata": {
    "id": "Wags3hp-ddvo"
   },
   "source": [
    "Посмотрим на пробег, прайс и почтовый индекс (оставшиеся столбцы):"
   ]
  },
  {
   "cell_type": "code",
   "execution_count": 157,
   "metadata": {
    "colab": {
     "base_uri": "https://localhost:8080/",
     "height": 176
    },
    "id": "_F_nP87SYqwE",
    "outputId": "09049cef-11e5-43cb-981b-6bf6d159bfd7"
   },
   "outputs": [
    {
     "data": {
      "text/html": [
       "<div>\n",
       "<style scoped>\n",
       "    .dataframe tbody tr th:only-of-type {\n",
       "        vertical-align: middle;\n",
       "    }\n",
       "\n",
       "    .dataframe tbody tr th {\n",
       "        vertical-align: top;\n",
       "    }\n",
       "\n",
       "    .dataframe thead th {\n",
       "        text-align: right;\n",
       "    }\n",
       "</style>\n",
       "<table border=\"1\" class=\"dataframe\">\n",
       "  <thead>\n",
       "    <tr style=\"text-align: right;\">\n",
       "      <th></th>\n",
       "      <th>price</th>\n",
       "      <th>vehicle_type</th>\n",
       "      <th>registration_year</th>\n",
       "      <th>gearbox</th>\n",
       "      <th>power</th>\n",
       "      <th>model</th>\n",
       "      <th>kilometer</th>\n",
       "      <th>registration_month</th>\n",
       "      <th>fuel_type</th>\n",
       "      <th>brand</th>\n",
       "      <th>not_repaired</th>\n",
       "      <th>postal_code</th>\n",
       "      <th>month_created</th>\n",
       "      <th>year_created</th>\n",
       "    </tr>\n",
       "  </thead>\n",
       "  <tbody>\n",
       "    <tr>\n",
       "      <th>1</th>\n",
       "      <td>18300</td>\n",
       "      <td>coupe</td>\n",
       "      <td>2011</td>\n",
       "      <td>manual</td>\n",
       "      <td>190</td>\n",
       "      <td>other</td>\n",
       "      <td>125000</td>\n",
       "      <td>5</td>\n",
       "      <td>gasoline</td>\n",
       "      <td>audi</td>\n",
       "      <td>yes</td>\n",
       "      <td>66954</td>\n",
       "      <td>3</td>\n",
       "      <td>2016</td>\n",
       "    </tr>\n",
       "    <tr>\n",
       "      <th>3</th>\n",
       "      <td>1500</td>\n",
       "      <td>small</td>\n",
       "      <td>2001</td>\n",
       "      <td>manual</td>\n",
       "      <td>75</td>\n",
       "      <td>golf</td>\n",
       "      <td>150000</td>\n",
       "      <td>6</td>\n",
       "      <td>petrol</td>\n",
       "      <td>volkswagen</td>\n",
       "      <td>no</td>\n",
       "      <td>91074</td>\n",
       "      <td>3</td>\n",
       "      <td>2016</td>\n",
       "    </tr>\n",
       "  </tbody>\n",
       "</table>\n",
       "</div>"
      ],
      "text/plain": [
       "   price vehicle_type  registration_year gearbox  power  model  kilometer  \\\n",
       "1  18300        coupe               2011  manual    190  other     125000   \n",
       "3   1500        small               2001  manual     75   golf     150000   \n",
       "\n",
       "   registration_month fuel_type       brand not_repaired  postal_code  \\\n",
       "1                   5  gasoline        audi          yes        66954   \n",
       "3                   6    petrol  volkswagen           no        91074   \n",
       "\n",
       "   month_created  year_created  \n",
       "1              3          2016  \n",
       "3              3          2016  "
      ]
     },
     "execution_count": 157,
     "metadata": {},
     "output_type": "execute_result"
    }
   ],
   "source": [
    "df.head(2)"
   ]
  },
  {
   "cell_type": "code",
   "execution_count": 158,
   "metadata": {
    "colab": {
     "base_uri": "https://localhost:8080/"
    },
    "id": "hFwmIEv1dcxB",
    "outputId": "05e95856-5c7e-42cd-aa9f-e3558f1bdb75"
   },
   "outputs": [
    {
     "data": {
      "text/plain": [
       "array([  5000,  10000,  20000,  30000,  40000,  50000,  60000,  70000,\n",
       "        80000,  90000, 100000, 125000, 150000])"
      ]
     },
     "execution_count": 158,
     "metadata": {},
     "output_type": "execute_result"
    }
   ],
   "source": [
    "df['kilometer'].sort_values().unique()"
   ]
  },
  {
   "cell_type": "code",
   "execution_count": 159,
   "metadata": {
    "colab": {
     "base_uri": "https://localhost:8080/"
    },
    "id": "Gzyd60WDehch",
    "outputId": "30461731-6b19-4ee9-fd41-ff89ba01e288"
   },
   "outputs": [
    {
     "data": {
      "text/plain": [
       "array([ 1067,  1068,  1069, ..., 99994, 99996, 99998])"
      ]
     },
     "execution_count": 159,
     "metadata": {},
     "output_type": "execute_result"
    }
   ],
   "source": [
    "df['postal_code'].sort_values().unique()"
   ]
  },
  {
   "cell_type": "markdown",
   "metadata": {
    "id": "kIam7hBsD20t"
   },
   "source": [
    "Думаю, что 'postal_code' не имеет значения, поэтому лучше его удалить. Не всегда данный индекс имеет отношения к региону где машина использовалась или продается."
   ]
  },
  {
   "cell_type": "code",
   "execution_count": 160,
   "metadata": {
    "id": "tYQGOjrkEJn0"
   },
   "outputs": [],
   "source": [
    "df = df.drop(columns = ['postal_code'],axis = 1)"
   ]
  },
  {
   "cell_type": "code",
   "execution_count": 161,
   "metadata": {
    "colab": {
     "base_uri": "https://localhost:8080/"
    },
    "id": "Cu2Ej6hqd0-H",
    "outputId": "ba55120d-bc55-4ec0-a98e-22352ce04137"
   },
   "outputs": [
    {
     "data": {
      "text/plain": [
       "price                 4127\n",
       "vehicle_type          4127\n",
       "registration_year     4127\n",
       "gearbox               4127\n",
       "power                 4127\n",
       "model                 4127\n",
       "kilometer             4127\n",
       "registration_month    4127\n",
       "fuel_type             4127\n",
       "brand                 4127\n",
       "not_repaired          4127\n",
       "month_created         4127\n",
       "year_created          4127\n",
       "dtype: int64"
      ]
     },
     "execution_count": 161,
     "metadata": {},
     "output_type": "execute_result"
    }
   ],
   "source": [
    "df[df['price']<10].count()"
   ]
  },
  {
   "cell_type": "markdown",
   "metadata": {
    "id": "vtbRiQ8DeR0E"
   },
   "source": [
    "С пробегом вроде бы все отлично, с индексами не ясно, но скорее всего все ок, а вот цены местами слишком маленькие. Поэтому данные выбросы лучше удалить."
   ]
  },
  {
   "cell_type": "code",
   "execution_count": 162,
   "metadata": {
    "id": "PH97c61RiC38"
   },
   "outputs": [],
   "source": [
    "df = df.drop(df[df['price'] < 100].index)"
   ]
  },
  {
   "cell_type": "code",
   "execution_count": 163,
   "metadata": {
    "colab": {
     "base_uri": "https://localhost:8080/",
     "height": 616
    },
    "id": "ojo2YlZ5aYZm",
    "outputId": "5495deaf-dd0b-479f-8420-589154953a7e"
   },
   "outputs": [
    {
     "data": {
      "image/png": "[encoded data removed]",
      "text/plain": [
       "<Figure size 360x720 with 1 Axes>"
      ]
     },
     "metadata": {
      "needs_background": "light"
     },
     "output_type": "display_data"
    }
   ],
   "source": [
    "plt.figure(figsize=(5,10))\n",
    "sns.boxplot(data=df, y='price')\n",
    "plt.title('Диаграмма размаха')\n",
    "plt.xlabel('cars', fontsize=15)\n",
    "plt.ylabel('price', fontsize=15)\n",
    "plt.show()"
   ]
  },
  {
   "cell_type": "markdown",
   "metadata": {
    "id": "bA_vyEfqbTBQ"
   },
   "source": [
    "Так же удалим цены выше 17тыс. евро как выбросы."
   ]
  },
  {
   "cell_type": "code",
   "execution_count": 164,
   "metadata": {
    "id": "D73eCfxZbk0T"
   },
   "outputs": [],
   "source": [
    "df = df.drop(df[df['price'] > 17000].index)"
   ]
  },
  {
   "cell_type": "code",
   "execution_count": 165,
   "metadata": {
    "colab": {
     "base_uri": "https://localhost:8080/"
    },
    "id": "aUjlEoR7iTXO",
    "outputId": "9b302adf-4386-44b1-cfa1-ed65346d6898"
   },
   "outputs": [
    {
     "data": {
      "text/plain": [
       "array([  100,   101,   105, ..., 16998, 16999, 17000])"
      ]
     },
     "execution_count": 165,
     "metadata": {},
     "output_type": "execute_result"
    }
   ],
   "source": [
    "df['price'].sort_values().unique()"
   ]
  },
  {
   "cell_type": "code",
   "execution_count": 166,
   "metadata": {
    "colab": {
     "base_uri": "https://localhost:8080/"
    },
    "id": "w52evn6CiYd0",
    "outputId": "667fe682-e307-48a7-f74b-d7563b239872"
   },
   "outputs": [
    {
     "data": {
      "text/plain": [
       "(239024, 13)"
      ]
     },
     "execution_count": 166,
     "metadata": {},
     "output_type": "execute_result"
    }
   ],
   "source": [
    "df.shape"
   ]
  },
  {
   "cell_type": "code",
   "execution_count": 167,
   "metadata": {
    "colab": {
     "base_uri": "https://localhost:8080/"
    },
    "id": "TFvc7RSdcKK3",
    "outputId": "ffd6b342-1d5b-48bf-da01-ed547ab09394"
   },
   "outputs": [
    {
     "data": {
      "text/plain": [
       "price\n",
       "100      361\n",
       "101        3\n",
       "105        1\n",
       "110       11\n",
       "111        3\n",
       "        ... \n",
       "16990    177\n",
       "16995      8\n",
       "16998      3\n",
       "16999    224\n",
       "17000    253\n",
       "Name: price, Length: 3136, dtype: int64"
      ]
     },
     "execution_count": 167,
     "metadata": {},
     "output_type": "execute_result"
    }
   ],
   "source": [
    "df.groupby('price')['price'].count() "
   ]
  },
  {
   "cell_type": "markdown",
   "metadata": {
    "id": "Kju2SrDQdivv"
   },
   "source": [
    "Посмотрим на общие суммы которые хотят за автомобили выпущенные в разные года (зарегестрированные в разные года)."
   ]
  },
  {
   "cell_type": "code",
   "execution_count": 168,
   "metadata": {
    "colab": {
     "base_uri": "https://localhost:8080/",
     "height": 524
    },
    "id": "bt23Gd4scgQd",
    "outputId": "fa63d766-2b39-4920-9b49-13b0ec1ae4ef"
   },
   "outputs": [
    {
     "data": {
      "image/png": "[encoded data removed]",
      "text/plain": [
       "<Figure size 1152x576 with 1 Axes>"
      ]
     },
     "metadata": {
      "needs_background": "light"
     },
     "output_type": "display_data"
    }
   ],
   "source": [
    "df.groupby('registration_year')['price'].sum().plot(kind='bar', figsize=(16,8))\n",
    "plt.show()"
   ]
  },
  {
   "cell_type": "code",
   "execution_count": 169,
   "metadata": {
    "colab": {
     "base_uri": "https://localhost:8080/",
     "height": 404
    },
    "id": "2bwVKmc4-rYS",
    "outputId": "6d09a407-5638-4e93-ae44-3eb3d393170b"
   },
   "outputs": [
    {
     "data": {
      "image/png": "[encoded data removed]",
      "text/plain": [
       "<Figure size 1152x432 with 1 Axes>"
      ]
     },
     "metadata": {
      "needs_background": "light"
     },
     "output_type": "display_data"
    }
   ],
   "source": [
    "plt.figure(figsize=(16,6))\n",
    "sns.distplot(df['price'], bins=None, hist=True, color='blue')\n",
    "plt.legend(['Price'])\n",
    "plt.title('Price')\n",
    "plt.show()"
   ]
  },
  {
   "cell_type": "code",
   "execution_count": 170,
   "metadata": {
    "colab": {
     "base_uri": "https://localhost:8080/",
     "height": 269
    },
    "id": "rSx1Cr-Hdz-A",
    "outputId": "a1555182-2a12-4560-a9c0-a9ab22fdd84a",
    "scrolled": true
   },
   "outputs": [
    {
     "data": {
      "text/html": [
       "<div>\n",
       "<style scoped>\n",
       "    .dataframe tbody tr th:only-of-type {\n",
       "        vertical-align: middle;\n",
       "    }\n",
       "\n",
       "    .dataframe tbody tr th {\n",
       "        vertical-align: top;\n",
       "    }\n",
       "\n",
       "    .dataframe thead th {\n",
       "        text-align: right;\n",
       "    }\n",
       "</style>\n",
       "<table border=\"1\" class=\"dataframe\">\n",
       "  <thead>\n",
       "    <tr style=\"text-align: right;\">\n",
       "      <th></th>\n",
       "      <th>price</th>\n",
       "      <th>registration_year</th>\n",
       "      <th>power</th>\n",
       "      <th>kilometer</th>\n",
       "      <th>registration_month</th>\n",
       "      <th>month_created</th>\n",
       "      <th>year_created</th>\n",
       "    </tr>\n",
       "  </thead>\n",
       "  <tbody>\n",
       "    <tr>\n",
       "      <th>price</th>\n",
       "      <td>1.000000</td>\n",
       "      <td>0.586040</td>\n",
       "      <td>0.457561</td>\n",
       "      <td>-0.370011</td>\n",
       "      <td>0.047931</td>\n",
       "      <td>0.014555</td>\n",
       "      <td>-0.003052</td>\n",
       "    </tr>\n",
       "    <tr>\n",
       "      <th>registration_year</th>\n",
       "      <td>0.586040</td>\n",
       "      <td>1.000000</td>\n",
       "      <td>0.121216</td>\n",
       "      <td>-0.363770</td>\n",
       "      <td>0.034865</td>\n",
       "      <td>0.000176</td>\n",
       "      <td>-0.003134</td>\n",
       "    </tr>\n",
       "    <tr>\n",
       "      <th>power</th>\n",
       "      <td>0.457561</td>\n",
       "      <td>0.121216</td>\n",
       "      <td>1.000000</td>\n",
       "      <td>0.135959</td>\n",
       "      <td>0.028409</td>\n",
       "      <td>0.001560</td>\n",
       "      <td>-0.000312</td>\n",
       "    </tr>\n",
       "    <tr>\n",
       "      <th>kilometer</th>\n",
       "      <td>-0.370011</td>\n",
       "      <td>-0.363770</td>\n",
       "      <td>0.135959</td>\n",
       "      <td>1.000000</td>\n",
       "      <td>-0.009368</td>\n",
       "      <td>-0.001844</td>\n",
       "      <td>0.004564</td>\n",
       "    </tr>\n",
       "    <tr>\n",
       "      <th>registration_month</th>\n",
       "      <td>0.047931</td>\n",
       "      <td>0.034865</td>\n",
       "      <td>0.028409</td>\n",
       "      <td>-0.009368</td>\n",
       "      <td>1.000000</td>\n",
       "      <td>-0.002199</td>\n",
       "      <td>0.003250</td>\n",
       "    </tr>\n",
       "    <tr>\n",
       "      <th>month_created</th>\n",
       "      <td>0.014555</td>\n",
       "      <td>0.000176</td>\n",
       "      <td>0.001560</td>\n",
       "      <td>-0.001844</td>\n",
       "      <td>-0.002199</td>\n",
       "      <td>1.000000</td>\n",
       "      <td>-0.178764</td>\n",
       "    </tr>\n",
       "    <tr>\n",
       "      <th>year_created</th>\n",
       "      <td>-0.003052</td>\n",
       "      <td>-0.003134</td>\n",
       "      <td>-0.000312</td>\n",
       "      <td>0.004564</td>\n",
       "      <td>0.003250</td>\n",
       "      <td>-0.178764</td>\n",
       "      <td>1.000000</td>\n",
       "    </tr>\n",
       "  </tbody>\n",
       "</table>\n",
       "</div>"
      ],
      "text/plain": [
       "                       price  registration_year     power  kilometer  \\\n",
       "price               1.000000           0.586040  0.457561  -0.370011   \n",
       "registration_year   0.586040           1.000000  0.121216  -0.363770   \n",
       "power               0.457561           0.121216  1.000000   0.135959   \n",
       "kilometer          -0.370011          -0.363770  0.135959   1.000000   \n",
       "registration_month  0.047931           0.034865  0.028409  -0.009368   \n",
       "month_created       0.014555           0.000176  0.001560  -0.001844   \n",
       "year_created       -0.003052          -0.003134 -0.000312   0.004564   \n",
       "\n",
       "                    registration_month  month_created  year_created  \n",
       "price                         0.047931       0.014555     -0.003052  \n",
       "registration_year             0.034865       0.000176     -0.003134  \n",
       "power                         0.028409       0.001560     -0.000312  \n",
       "kilometer                    -0.009368      -0.001844      0.004564  \n",
       "registration_month            1.000000      -0.002199      0.003250  \n",
       "month_created                -0.002199       1.000000     -0.178764  \n",
       "year_created                  0.003250      -0.178764      1.000000  "
      ]
     },
     "execution_count": 170,
     "metadata": {},
     "output_type": "execute_result"
    }
   ],
   "source": [
    "df.corr()"
   ]
  },
  {
   "cell_type": "markdown",
   "metadata": {
    "id": "nLkY7iMRiRQj"
   },
   "source": [
    "## Обучение разных моделей с различными гиперпараметрами."
   ]
  },
  {
   "cell_type": "markdown",
   "metadata": {
    "id": "zbLlNr6I__Cz"
   },
   "source": [
    "Возмем две модели: модель градиентного бустинга LightGBM и Случайный лес.\n",
    "\n",
    "Для начала будет проведена обработка Ordinal Encoder, далее разобьем данные на признаки и целевой признак, а так же поделим на обучающую и тестовую выборки. И в конце масшабирование."
   ]
  },
  {
   "cell_type": "code",
   "execution_count": 171,
   "metadata": {
    "id": "8bRSYpiuoyHV"
   },
   "outputs": [],
   "source": [
    "numeric = ['vehicle_type', 'gearbox', 'model', 'fuel_type', 'brand', 'not_repaired']\n",
    "encoder = OrdinalEncoder()\n",
    "encoder.fit(df[numeric])\n",
    "df[numeric] = encoder.transform(df[numeric])"
   ]
  },
  {
   "cell_type": "code",
   "execution_count": 172,
   "metadata": {
    "colab": {
     "base_uri": "https://localhost:8080/",
     "height": 250
    },
    "id": "NM7wccCuqymu",
    "outputId": "29597a64-76f5-4bb8-b688-6ad4168f959e",
    "scrolled": true
   },
   "outputs": [
    {
     "data": {
      "text/html": [
       "<div>\n",
       "<style scoped>\n",
       "    .dataframe tbody tr th:only-of-type {\n",
       "        vertical-align: middle;\n",
       "    }\n",
       "\n",
       "    .dataframe tbody tr th {\n",
       "        vertical-align: top;\n",
       "    }\n",
       "\n",
       "    .dataframe thead th {\n",
       "        text-align: right;\n",
       "    }\n",
       "</style>\n",
       "<table border=\"1\" class=\"dataframe\">\n",
       "  <thead>\n",
       "    <tr style=\"text-align: right;\">\n",
       "      <th></th>\n",
       "      <th>price</th>\n",
       "      <th>vehicle_type</th>\n",
       "      <th>registration_year</th>\n",
       "      <th>gearbox</th>\n",
       "      <th>power</th>\n",
       "      <th>model</th>\n",
       "      <th>kilometer</th>\n",
       "      <th>registration_month</th>\n",
       "      <th>fuel_type</th>\n",
       "      <th>brand</th>\n",
       "      <th>not_repaired</th>\n",
       "      <th>month_created</th>\n",
       "      <th>year_created</th>\n",
       "    </tr>\n",
       "  </thead>\n",
       "  <tbody>\n",
       "    <tr>\n",
       "      <th>3</th>\n",
       "      <td>1500</td>\n",
       "      <td>5.0</td>\n",
       "      <td>2001</td>\n",
       "      <td>1.0</td>\n",
       "      <td>75</td>\n",
       "      <td>116.0</td>\n",
       "      <td>150000</td>\n",
       "      <td>6</td>\n",
       "      <td>6.0</td>\n",
       "      <td>38.0</td>\n",
       "      <td>0.0</td>\n",
       "      <td>3</td>\n",
       "      <td>2016</td>\n",
       "    </tr>\n",
       "    <tr>\n",
       "      <th>4</th>\n",
       "      <td>3600</td>\n",
       "      <td>5.0</td>\n",
       "      <td>2008</td>\n",
       "      <td>1.0</td>\n",
       "      <td>69</td>\n",
       "      <td>101.0</td>\n",
       "      <td>90000</td>\n",
       "      <td>7</td>\n",
       "      <td>2.0</td>\n",
       "      <td>31.0</td>\n",
       "      <td>0.0</td>\n",
       "      <td>3</td>\n",
       "      <td>2016</td>\n",
       "    </tr>\n",
       "    <tr>\n",
       "      <th>5</th>\n",
       "      <td>650</td>\n",
       "      <td>4.0</td>\n",
       "      <td>1995</td>\n",
       "      <td>1.0</td>\n",
       "      <td>102</td>\n",
       "      <td>11.0</td>\n",
       "      <td>150000</td>\n",
       "      <td>10</td>\n",
       "      <td>6.0</td>\n",
       "      <td>2.0</td>\n",
       "      <td>1.0</td>\n",
       "      <td>4</td>\n",
       "      <td>2016</td>\n",
       "    </tr>\n",
       "    <tr>\n",
       "      <th>6</th>\n",
       "      <td>2200</td>\n",
       "      <td>1.0</td>\n",
       "      <td>2004</td>\n",
       "      <td>1.0</td>\n",
       "      <td>109</td>\n",
       "      <td>8.0</td>\n",
       "      <td>150000</td>\n",
       "      <td>8</td>\n",
       "      <td>6.0</td>\n",
       "      <td>25.0</td>\n",
       "      <td>0.0</td>\n",
       "      <td>4</td>\n",
       "      <td>2016</td>\n",
       "    </tr>\n",
       "    <tr>\n",
       "      <th>10</th>\n",
       "      <td>2000</td>\n",
       "      <td>4.0</td>\n",
       "      <td>2004</td>\n",
       "      <td>1.0</td>\n",
       "      <td>105</td>\n",
       "      <td>10.0</td>\n",
       "      <td>150000</td>\n",
       "      <td>12</td>\n",
       "      <td>6.0</td>\n",
       "      <td>19.0</td>\n",
       "      <td>0.0</td>\n",
       "      <td>3</td>\n",
       "      <td>2016</td>\n",
       "    </tr>\n",
       "  </tbody>\n",
       "</table>\n",
       "</div>"
      ],
      "text/plain": [
       "    price  vehicle_type  registration_year  gearbox  power  model  kilometer  \\\n",
       "3    1500           5.0               2001      1.0     75  116.0     150000   \n",
       "4    3600           5.0               2008      1.0     69  101.0      90000   \n",
       "5     650           4.0               1995      1.0    102   11.0     150000   \n",
       "6    2200           1.0               2004      1.0    109    8.0     150000   \n",
       "10   2000           4.0               2004      1.0    105   10.0     150000   \n",
       "\n",
       "    registration_month  fuel_type  brand  not_repaired  month_created  \\\n",
       "3                    6        6.0   38.0           0.0              3   \n",
       "4                    7        2.0   31.0           0.0              3   \n",
       "5                   10        6.0    2.0           1.0              4   \n",
       "6                    8        6.0   25.0           0.0              4   \n",
       "10                  12        6.0   19.0           0.0              3   \n",
       "\n",
       "    year_created  \n",
       "3           2016  \n",
       "4           2016  \n",
       "5           2016  \n",
       "6           2016  \n",
       "10          2016  "
      ]
     },
     "execution_count": 172,
     "metadata": {},
     "output_type": "execute_result"
    }
   ],
   "source": [
    "df.head()"
   ]
  },
  {
   "cell_type": "code",
   "execution_count": 173,
   "metadata": {},
   "outputs": [
    {
     "data": {
      "text/html": [
       "<div>\n",
       "<style scoped>\n",
       "    .dataframe tbody tr th:only-of-type {\n",
       "        vertical-align: middle;\n",
       "    }\n",
       "\n",
       "    .dataframe tbody tr th {\n",
       "        vertical-align: top;\n",
       "    }\n",
       "\n",
       "    .dataframe thead th {\n",
       "        text-align: right;\n",
       "    }\n",
       "</style>\n",
       "<table border=\"1\" class=\"dataframe\">\n",
       "  <thead>\n",
       "    <tr style=\"text-align: right;\">\n",
       "      <th></th>\n",
       "      <th>price</th>\n",
       "      <th>vehicle_type</th>\n",
       "      <th>registration_year</th>\n",
       "      <th>gearbox</th>\n",
       "      <th>power</th>\n",
       "      <th>model</th>\n",
       "      <th>kilometer</th>\n",
       "      <th>registration_month</th>\n",
       "      <th>fuel_type</th>\n",
       "      <th>brand</th>\n",
       "      <th>not_repaired</th>\n",
       "      <th>month_created</th>\n",
       "      <th>year_created</th>\n",
       "    </tr>\n",
       "  </thead>\n",
       "  <tbody>\n",
       "    <tr>\n",
       "      <th>0</th>\n",
       "      <td>1500</td>\n",
       "      <td>5.0</td>\n",
       "      <td>2001</td>\n",
       "      <td>1.0</td>\n",
       "      <td>75</td>\n",
       "      <td>116.0</td>\n",
       "      <td>150000</td>\n",
       "      <td>6</td>\n",
       "      <td>6.0</td>\n",
       "      <td>38.0</td>\n",
       "      <td>0.0</td>\n",
       "      <td>3</td>\n",
       "      <td>2016</td>\n",
       "    </tr>\n",
       "    <tr>\n",
       "      <th>1</th>\n",
       "      <td>3600</td>\n",
       "      <td>5.0</td>\n",
       "      <td>2008</td>\n",
       "      <td>1.0</td>\n",
       "      <td>69</td>\n",
       "      <td>101.0</td>\n",
       "      <td>90000</td>\n",
       "      <td>7</td>\n",
       "      <td>2.0</td>\n",
       "      <td>31.0</td>\n",
       "      <td>0.0</td>\n",
       "      <td>3</td>\n",
       "      <td>2016</td>\n",
       "    </tr>\n",
       "    <tr>\n",
       "      <th>2</th>\n",
       "      <td>650</td>\n",
       "      <td>4.0</td>\n",
       "      <td>1995</td>\n",
       "      <td>1.0</td>\n",
       "      <td>102</td>\n",
       "      <td>11.0</td>\n",
       "      <td>150000</td>\n",
       "      <td>10</td>\n",
       "      <td>6.0</td>\n",
       "      <td>2.0</td>\n",
       "      <td>1.0</td>\n",
       "      <td>4</td>\n",
       "      <td>2016</td>\n",
       "    </tr>\n",
       "    <tr>\n",
       "      <th>3</th>\n",
       "      <td>2200</td>\n",
       "      <td>1.0</td>\n",
       "      <td>2004</td>\n",
       "      <td>1.0</td>\n",
       "      <td>109</td>\n",
       "      <td>8.0</td>\n",
       "      <td>150000</td>\n",
       "      <td>8</td>\n",
       "      <td>6.0</td>\n",
       "      <td>25.0</td>\n",
       "      <td>0.0</td>\n",
       "      <td>4</td>\n",
       "      <td>2016</td>\n",
       "    </tr>\n",
       "    <tr>\n",
       "      <th>4</th>\n",
       "      <td>2000</td>\n",
       "      <td>4.0</td>\n",
       "      <td>2004</td>\n",
       "      <td>1.0</td>\n",
       "      <td>105</td>\n",
       "      <td>10.0</td>\n",
       "      <td>150000</td>\n",
       "      <td>12</td>\n",
       "      <td>6.0</td>\n",
       "      <td>19.0</td>\n",
       "      <td>0.0</td>\n",
       "      <td>3</td>\n",
       "      <td>2016</td>\n",
       "    </tr>\n",
       "    <tr>\n",
       "      <th>5</th>\n",
       "      <td>2799</td>\n",
       "      <td>7.0</td>\n",
       "      <td>2005</td>\n",
       "      <td>1.0</td>\n",
       "      <td>140</td>\n",
       "      <td>170.0</td>\n",
       "      <td>150000</td>\n",
       "      <td>12</td>\n",
       "      <td>2.0</td>\n",
       "      <td>38.0</td>\n",
       "      <td>1.0</td>\n",
       "      <td>4</td>\n",
       "      <td>2016</td>\n",
       "    </tr>\n",
       "    <tr>\n",
       "      <th>6</th>\n",
       "      <td>2500</td>\n",
       "      <td>7.0</td>\n",
       "      <td>2004</td>\n",
       "      <td>1.0</td>\n",
       "      <td>131</td>\n",
       "      <td>170.0</td>\n",
       "      <td>150000</td>\n",
       "      <td>2</td>\n",
       "      <td>5.0</td>\n",
       "      <td>38.0</td>\n",
       "      <td>0.0</td>\n",
       "      <td>3</td>\n",
       "      <td>2016</td>\n",
       "    </tr>\n",
       "    <tr>\n",
       "      <th>7</th>\n",
       "      <td>1750</td>\n",
       "      <td>5.0</td>\n",
       "      <td>2004</td>\n",
       "      <td>0.0</td>\n",
       "      <td>75</td>\n",
       "      <td>226.0</td>\n",
       "      <td>150000</td>\n",
       "      <td>2</td>\n",
       "      <td>6.0</td>\n",
       "      <td>27.0</td>\n",
       "      <td>0.0</td>\n",
       "      <td>3</td>\n",
       "      <td>2016</td>\n",
       "    </tr>\n",
       "    <tr>\n",
       "      <th>8</th>\n",
       "      <td>7550</td>\n",
       "      <td>0.0</td>\n",
       "      <td>2007</td>\n",
       "      <td>1.0</td>\n",
       "      <td>136</td>\n",
       "      <td>60.0</td>\n",
       "      <td>150000</td>\n",
       "      <td>6</td>\n",
       "      <td>2.0</td>\n",
       "      <td>10.0</td>\n",
       "      <td>0.0</td>\n",
       "      <td>3</td>\n",
       "      <td>2016</td>\n",
       "    </tr>\n",
       "    <tr>\n",
       "      <th>9</th>\n",
       "      <td>1850</td>\n",
       "      <td>0.0</td>\n",
       "      <td>2004</td>\n",
       "      <td>1.0</td>\n",
       "      <td>102</td>\n",
       "      <td>33.0</td>\n",
       "      <td>150000</td>\n",
       "      <td>1</td>\n",
       "      <td>6.0</td>\n",
       "      <td>20.0</td>\n",
       "      <td>0.0</td>\n",
       "      <td>4</td>\n",
       "      <td>2016</td>\n",
       "    </tr>\n",
       "    <tr>\n",
       "      <th>10</th>\n",
       "      <td>10400</td>\n",
       "      <td>2.0</td>\n",
       "      <td>2009</td>\n",
       "      <td>1.0</td>\n",
       "      <td>160</td>\n",
       "      <td>199.0</td>\n",
       "      <td>100000</td>\n",
       "      <td>4</td>\n",
       "      <td>6.0</td>\n",
       "      <td>38.0</td>\n",
       "      <td>0.0</td>\n",
       "      <td>4</td>\n",
       "      <td>2016</td>\n",
       "    </tr>\n",
       "    <tr>\n",
       "      <th>11</th>\n",
       "      <td>3699</td>\n",
       "      <td>4.0</td>\n",
       "      <td>2002</td>\n",
       "      <td>0.0</td>\n",
       "      <td>231</td>\n",
       "      <td>15.0</td>\n",
       "      <td>150000</td>\n",
       "      <td>7</td>\n",
       "      <td>6.0</td>\n",
       "      <td>2.0</td>\n",
       "      <td>0.0</td>\n",
       "      <td>3</td>\n",
       "      <td>2016</td>\n",
       "    </tr>\n",
       "    <tr>\n",
       "      <th>12</th>\n",
       "      <td>450</td>\n",
       "      <td>5.0</td>\n",
       "      <td>1997</td>\n",
       "      <td>1.0</td>\n",
       "      <td>50</td>\n",
       "      <td>41.0</td>\n",
       "      <td>150000</td>\n",
       "      <td>5</td>\n",
       "      <td>6.0</td>\n",
       "      <td>30.0</td>\n",
       "      <td>0.0</td>\n",
       "      <td>3</td>\n",
       "      <td>2016</td>\n",
       "    </tr>\n",
       "    <tr>\n",
       "      <th>13</th>\n",
       "      <td>500</td>\n",
       "      <td>4.0</td>\n",
       "      <td>1990</td>\n",
       "      <td>1.0</td>\n",
       "      <td>118</td>\n",
       "      <td>166.0</td>\n",
       "      <td>150000</td>\n",
       "      <td>10</td>\n",
       "      <td>6.0</td>\n",
       "      <td>20.0</td>\n",
       "      <td>1.0</td>\n",
       "      <td>3</td>\n",
       "      <td>2016</td>\n",
       "    </tr>\n",
       "    <tr>\n",
       "      <th>14</th>\n",
       "      <td>2500</td>\n",
       "      <td>7.0</td>\n",
       "      <td>2002</td>\n",
       "      <td>0.0</td>\n",
       "      <td>193</td>\n",
       "      <td>15.0</td>\n",
       "      <td>150000</td>\n",
       "      <td>9</td>\n",
       "      <td>2.0</td>\n",
       "      <td>2.0</td>\n",
       "      <td>1.0</td>\n",
       "      <td>3</td>\n",
       "      <td>2016</td>\n",
       "    </tr>\n",
       "  </tbody>\n",
       "</table>\n",
       "</div>"
      ],
      "text/plain": [
       "    price  vehicle_type  registration_year  gearbox  power  model  kilometer  \\\n",
       "0    1500           5.0               2001      1.0     75  116.0     150000   \n",
       "1    3600           5.0               2008      1.0     69  101.0      90000   \n",
       "2     650           4.0               1995      1.0    102   11.0     150000   \n",
       "3    2200           1.0               2004      1.0    109    8.0     150000   \n",
       "4    2000           4.0               2004      1.0    105   10.0     150000   \n",
       "5    2799           7.0               2005      1.0    140  170.0     150000   \n",
       "6    2500           7.0               2004      1.0    131  170.0     150000   \n",
       "7    1750           5.0               2004      0.0     75  226.0     150000   \n",
       "8    7550           0.0               2007      1.0    136   60.0     150000   \n",
       "9    1850           0.0               2004      1.0    102   33.0     150000   \n",
       "10  10400           2.0               2009      1.0    160  199.0     100000   \n",
       "11   3699           4.0               2002      0.0    231   15.0     150000   \n",
       "12    450           5.0               1997      1.0     50   41.0     150000   \n",
       "13    500           4.0               1990      1.0    118  166.0     150000   \n",
       "14   2500           7.0               2002      0.0    193   15.0     150000   \n",
       "\n",
       "    registration_month  fuel_type  brand  not_repaired  month_created  \\\n",
       "0                    6        6.0   38.0           0.0              3   \n",
       "1                    7        2.0   31.0           0.0              3   \n",
       "2                   10        6.0    2.0           1.0              4   \n",
       "3                    8        6.0   25.0           0.0              4   \n",
       "4                   12        6.0   19.0           0.0              3   \n",
       "5                   12        2.0   38.0           1.0              4   \n",
       "6                    2        5.0   38.0           0.0              3   \n",
       "7                    2        6.0   27.0           0.0              3   \n",
       "8                    6        2.0   10.0           0.0              3   \n",
       "9                    1        6.0   20.0           0.0              4   \n",
       "10                   4        6.0   38.0           0.0              4   \n",
       "11                   7        6.0    2.0           0.0              3   \n",
       "12                   5        6.0   30.0           0.0              3   \n",
       "13                  10        6.0   20.0           1.0              3   \n",
       "14                   9        2.0    2.0           1.0              3   \n",
       "\n",
       "    year_created  \n",
       "0           2016  \n",
       "1           2016  \n",
       "2           2016  \n",
       "3           2016  \n",
       "4           2016  \n",
       "5           2016  \n",
       "6           2016  \n",
       "7           2016  \n",
       "8           2016  \n",
       "9           2016  \n",
       "10          2016  \n",
       "11          2016  \n",
       "12          2016  \n",
       "13          2016  \n",
       "14          2016  "
      ]
     },
     "execution_count": 173,
     "metadata": {},
     "output_type": "execute_result"
    }
   ],
   "source": [
    "df = df.reset_index(drop=True)\n",
    "df.head(15)"
   ]
  },
  {
   "cell_type": "code",
   "execution_count": 174,
   "metadata": {},
   "outputs": [
    {
     "data": {
      "text/plain": [
       "price                 0\n",
       "vehicle_type          0\n",
       "registration_year     0\n",
       "gearbox               0\n",
       "power                 0\n",
       "model                 0\n",
       "kilometer             0\n",
       "registration_month    0\n",
       "fuel_type             0\n",
       "brand                 0\n",
       "not_repaired          0\n",
       "month_created         0\n",
       "year_created          0\n",
       "dtype: int64"
      ]
     },
     "execution_count": 174,
     "metadata": {},
     "output_type": "execute_result"
    }
   ],
   "source": [
    "df.isna().sum()"
   ]
  },
  {
   "cell_type": "code",
   "execution_count": 175,
   "metadata": {},
   "outputs": [
    {
     "data": {
      "text/plain": [
       "(239024, 13)"
      ]
     },
     "execution_count": 175,
     "metadata": {},
     "output_type": "execute_result"
    }
   ],
   "source": [
    "df.shape"
   ]
  },
  {
   "cell_type": "code",
   "execution_count": 176,
   "metadata": {
    "id": "l76fQXub2jkx"
   },
   "outputs": [],
   "source": [
    "features = df.drop(['price'], axis=1)\n",
    "target = df['price']"
   ]
  },
  {
   "cell_type": "code",
   "execution_count": 177,
   "metadata": {
    "id": "NXHCKp69_eBU"
   },
   "outputs": [],
   "source": [
    "features_train, features_test, target_train, target_test = train_test_split(\n",
    "                       features, target, test_size=0.25, random_state=12345)"
   ]
  },
  {
   "cell_type": "code",
   "execution_count": 178,
   "metadata": {
    "colab": {
     "base_uri": "https://localhost:8080/"
    },
    "id": "iZRcKe_4_dv8",
    "outputId": "3e8ebc06-2d83-4c2f-fbcc-1ac1ddc1b8af"
   },
   "outputs": [
    {
     "name": "stdout",
     "output_type": "stream",
     "text": [
      "(179268, 12) (179268,) (59756, 12) (59756,)\n"
     ]
    }
   ],
   "source": [
    "print(\n",
    "features_train.shape,\n",
    "target_train.shape,\n",
    "features_test.shape,\n",
    "target_test.shape\n",
    ")"
   ]
  },
  {
   "cell_type": "code",
   "execution_count": 179,
   "metadata": {
    "id": "zTjGt-wknzYq"
   },
   "outputs": [],
   "source": [
    "numeric_col = ['registration_year', 'power', 'kilometer', 'year_created']\n",
    "scaler = StandardScaler()\n",
    "scaler.fit(features_train[numeric_col])\n",
    "features_train[numeric_col] = scaler.transform(features_train[numeric_col])\n",
    "features_test[numeric_col] = scaler.transform(features_test[numeric_col])"
   ]
  },
  {
   "cell_type": "code",
   "execution_count": 180,
   "metadata": {},
   "outputs": [
    {
     "data": {
      "text/plain": [
       "vehicle_type          0\n",
       "registration_year     0\n",
       "gearbox               0\n",
       "power                 0\n",
       "model                 0\n",
       "kilometer             0\n",
       "registration_month    0\n",
       "fuel_type             0\n",
       "brand                 0\n",
       "not_repaired          0\n",
       "month_created         0\n",
       "year_created          0\n",
       "dtype: int64"
      ]
     },
     "execution_count": 180,
     "metadata": {},
     "output_type": "execute_result"
    }
   ],
   "source": [
    "features_train.isna().sum()"
   ]
  },
  {
   "cell_type": "code",
   "execution_count": 181,
   "metadata": {
    "colab": {
     "base_uri": "https://localhost:8080/"
    },
    "id": "Hi9qY94uSDbc",
    "outputId": "0122ab37-6afa-4961-ff6b-6c8b2d8da373"
   },
   "outputs": [
    {
     "name": "stdout",
     "output_type": "stream",
     "text": [
      "(179268, 12) (179268,) (59756, 12) (59756,)\n"
     ]
    }
   ],
   "source": [
    "print(\n",
    "features_train.shape,\n",
    "target_train.shape,\n",
    "features_test.shape,\n",
    "target_test.shape\n",
    ")"
   ]
  },
  {
   "cell_type": "markdown",
   "metadata": {
    "id": "KV_gaN39z9O_"
   },
   "source": [
    "### Случайный лес"
   ]
  },
  {
   "cell_type": "markdown",
   "metadata": {
    "id": "pcsxSQOUxMzz"
   },
   "source": [
    "Данные готовы для обучения! Начнем со Случайного Леса.\n",
    "Для подбора лучших параметров воспользуемся GridSearchCV.\n",
    "\n"
   ]
  },
  {
   "cell_type": "code",
   "execution_count": 182,
   "metadata": {
    "id": "KnGuJAUxxfp-"
   },
   "outputs": [],
   "source": [
    "clf = RandomForestRegressor()\n",
    "grid_parametrs = { 'n_estimators': range (10, 61, 15),\n",
    "              'max_depth': range (0, 91, 30) }\n",
    "grid = GridSearchCV(clf, grid_parametrs, cv=5, scoring='neg_root_mean_squared_error')"
   ]
  },
  {
   "cell_type": "code",
   "execution_count": null,
   "metadata": {
    "id": "Swx0L3jRxf8T"
   },
   "outputs": [],
   "source": [
    "grid.fit(features_train, target_train)"
   ]
  },
  {
   "cell_type": "code",
   "execution_count": null,
   "metadata": {
    "id": "wiYGMnf4xgK7"
   },
   "outputs": [],
   "source": [
    "grid.best_params_"
   ]
  },
  {
   "cell_type": "code",
   "execution_count": null,
   "metadata": {
    "id": "KNWtPsrixgZ4"
   },
   "outputs": [],
   "source": [
    "grid.best_score_"
   ]
  },
  {
   "cell_type": "markdown",
   "metadata": {
    "id": "zIpyF5Mh0LVx"
   },
   "source": [
    "Теперь можно применить лучшие параметры {'max_depth': 90, 'n_estimators': 55, grid.best_score_ = -1468.937502869905}:"
   ]
  },
  {
   "cell_type": "code",
   "execution_count": null,
   "metadata": {
    "colab": {
     "base_uri": "https://localhost:8080/"
    },
    "id": "qKdXDKOl0HDf",
    "outputId": "fdf41d61-c12d-4ca0-c27d-facdb7d43e82"
   },
   "outputs": [],
   "source": [
    "model = RandomForestRegressor(n_estimators=55, max_depth=90, random_state=12345)\n",
    "start_time = time.time()\n",
    "model.fit(features_train, target_train)\n",
    "lirning_time = time.time() - start_time\n",
    "print('lirning_time:', lirning_time)"
   ]
  },
  {
   "cell_type": "code",
   "execution_count": null,
   "metadata": {
    "colab": {
     "base_uri": "https://localhost:8080/"
    },
    "id": "J91gZzh_0HbA",
    "outputId": "56efca5c-bcd7-4971-a5a4-07f7c5402911"
   },
   "outputs": [],
   "source": [
    "scores = cross_val_score(model, features_train, target_train, scoring = 'neg_mean_squared_error', cv = 5)"
   ]
  },
  {
   "cell_type": "code",
   "execution_count": null,
   "metadata": {
    "colab": {
     "base_uri": "https://localhost:8080/"
    },
    "id": "G523dXadKS5E",
    "outputId": "86883afd-1ffe-42df-f767-9cafc16809d9"
   },
   "outputs": [],
   "source": [
    "scores_mean = (scores.mean())"
   ]
  },
  {
   "cell_type": "code",
   "execution_count": null,
   "metadata": {},
   "outputs": [],
   "source": [
    "print('Средняя scores:', (scores_mean)**0.5)"
   ]
  },
  {
   "cell_type": "code",
   "execution_count": null,
   "metadata": {
    "colab": {
     "base_uri": "https://localhost:8080/"
    },
    "id": "WfNuUwqbZRBa",
    "outputId": "5717f302-e262-401f-dd73-96636c5f2a22"
   },
   "outputs": [],
   "source": [
    "start_time = time.time()\n",
    "predictions = model.predict(features_test)\n",
    "lirning_time = time.time() - start_time\n",
    "print('lirning_time:', lirning_time)\n",
    "rmse = math.sqrt(mean_squared_error(target_test, predictions))\n",
    "print('rmse:', rmse)"
   ]
  },
  {
   "cell_type": "markdown",
   "metadata": {
    "id": "IJ5GYYWoWLEr"
   },
   "source": [
    "Результаты:\n",
    "\n",
    "Время обучения 28.27 секунд, время предсказания 1.67. rmse = 1453"
   ]
  },
  {
   "cell_type": "markdown",
   "metadata": {
    "id": "RbeYtUe81WcP"
   },
   "source": [
    "### Модель градиентного бустинга LightGBM"
   ]
  },
  {
   "cell_type": "code",
   "execution_count": null,
   "metadata": {
    "colab": {
     "base_uri": "https://localhost:8080/"
    },
    "id": "9PaqWCZQaU6r",
    "outputId": "7305e33b-6d8b-4473-dc89-51539244479e"
   },
   "outputs": [],
   "source": [
    "lgbm_model = LGBMRegressor(num_leaves=55, max_depth=90, random_state=12345)\n",
    "start_time = time.time()\n",
    "lgbm_model.fit(features_train, target_train)\n",
    "lirning_time = time.time() - start_time\n",
    "print('lirning_time:', lirning_time)"
   ]
  },
  {
   "cell_type": "code",
   "execution_count": null,
   "metadata": {
    "colab": {
     "base_uri": "https://localhost:8080/"
    },
    "id": "F90SyCB_jE_X",
    "outputId": "1a0abc91-5eec-4f09-f132-d602c05aad41"
   },
   "outputs": [],
   "source": [
    "scores = cross_val_score(lgbm_model, features_train, target_train, scoring = 'neg_mean_squared_error', cv = 5)"
   ]
  },
  {
   "cell_type": "code",
   "execution_count": null,
   "metadata": {
    "colab": {
     "base_uri": "https://localhost:8080/"
    },
    "id": "n4zukVnvjWy9",
    "outputId": "e4ec7eeb-c881-4bd9-ab6d-e798092244f4"
   },
   "outputs": [],
   "source": [
    "scores_mean = abs(scores.mean()) ** 0.5\n",
    "print('Средняя scores:', scores_mean)"
   ]
  },
  {
   "cell_type": "code",
   "execution_count": null,
   "metadata": {
    "colab": {
     "base_uri": "https://localhost:8080/"
    },
    "id": "uVLR20RHgrTx",
    "outputId": "7de862be-c730-46b8-de81-2b66015e870a"
   },
   "outputs": [],
   "source": [
    "start_time = time.time()\n",
    "predictions = lgbm_model.predict(features_test)\n",
    "lirning_time = time.time() - start_time\n",
    "print('lirning_time:', lirning_time)\n",
    "rmse = math.sqrt(mean_squared_error(target_test, predictions))\n",
    "print('rmse:', rmse)"
   ]
  },
  {
   "cell_type": "markdown",
   "metadata": {},
   "source": [
    "Результаты:\n",
    "\n",
    "Время обучения 199.56 секунд, время предсказания 0.5. rmse = 1489"
   ]
  },
  {
   "cell_type": "markdown",
   "metadata": {
    "id": "NZu48XDRk9EQ"
   },
   "source": [
    "## Вывод"
   ]
  },
  {
   "cell_type": "markdown",
   "metadata": {
    "id": "hBX4wS4vlNzA"
   },
   "source": [
    "Лучший результат у Случайного леса. Лучшее время обучения тоже. Предсказания очень быстро выполнились там и там, не критично. Но это результаты на платформе Яндекса.  На сайте Гугл Колаб результаты по времени наоборот лучше у LightGBM, время обучение около 2 секунд, а у леса 42 секунды. Но rmse все равно лучше у Случайного Леса там и там."
   ]
  }
 ],
 "metadata": {
  "ExecuteTimeLog": [
   {
    "duration": 1788,
    "start_time": "2022-06-29T09:30:55.590Z"
   },
   {
    "duration": 2865,
    "start_time": "2022-06-29T09:30:57.380Z"
   },
   {
    "duration": 16,
    "start_time": "2022-06-29T09:31:00.247Z"
   },
   {
    "duration": 16,
    "start_time": "2022-06-29T09:31:00.265Z"
   },
   {
    "duration": 33,
    "start_time": "2022-06-29T09:31:00.282Z"
   },
   {
    "duration": 57,
    "start_time": "2022-06-29T09:31:00.316Z"
   },
   {
    "duration": 119,
    "start_time": "2022-06-29T09:31:00.375Z"
   },
   {
    "duration": 103,
    "start_time": "2022-06-29T09:31:00.495Z"
   },
   {
    "duration": 85,
    "start_time": "2022-06-29T09:31:00.599Z"
   },
   {
    "duration": 463,
    "start_time": "2022-06-29T09:31:00.686Z"
   },
   {
    "duration": 548,
    "start_time": "2022-06-29T09:31:01.152Z"
   },
   {
    "duration": 422,
    "start_time": "2022-06-29T09:31:01.702Z"
   },
   {
    "duration": 109,
    "start_time": "2022-06-29T09:31:02.125Z"
   },
   {
    "duration": 109,
    "start_time": "2022-06-29T09:31:02.236Z"
   },
   {
    "duration": 19,
    "start_time": "2022-06-29T09:31:02.347Z"
   },
   {
    "duration": 58,
    "start_time": "2022-06-29T09:31:02.368Z"
   },
   {
    "duration": 22,
    "start_time": "2022-06-29T09:31:02.428Z"
   },
   {
    "duration": 19,
    "start_time": "2022-06-29T09:31:02.452Z"
   },
   {
    "duration": 83,
    "start_time": "2022-06-29T09:31:02.472Z"
   },
   {
    "duration": 19,
    "start_time": "2022-06-29T09:31:02.557Z"
   },
   {
    "duration": 7,
    "start_time": "2022-06-29T09:31:02.578Z"
   },
   {
    "duration": 92,
    "start_time": "2022-06-29T09:31:02.586Z"
   },
   {
    "duration": 56,
    "start_time": "2022-06-29T09:31:02.679Z"
   },
   {
    "duration": 11,
    "start_time": "2022-06-29T09:31:02.737Z"
   },
   {
    "duration": 3,
    "start_time": "2022-06-29T09:31:02.750Z"
   },
   {
    "duration": 21,
    "start_time": "2022-06-29T09:31:02.755Z"
   },
   {
    "duration": 18,
    "start_time": "2022-06-29T09:31:02.777Z"
   },
   {
    "duration": 39,
    "start_time": "2022-06-29T09:31:02.799Z"
   },
   {
    "duration": 17,
    "start_time": "2022-06-29T09:31:02.840Z"
   },
   {
    "duration": 18,
    "start_time": "2022-06-29T09:31:02.858Z"
   },
   {
    "duration": 19,
    "start_time": "2022-06-29T09:31:02.877Z"
   },
   {
    "duration": 32,
    "start_time": "2022-06-29T09:31:02.898Z"
   },
   {
    "duration": 24,
    "start_time": "2022-06-29T09:31:02.931Z"
   },
   {
    "duration": 56,
    "start_time": "2022-06-29T09:31:02.956Z"
   },
   {
    "duration": 19,
    "start_time": "2022-06-29T09:31:03.014Z"
   },
   {
    "duration": 18,
    "start_time": "2022-06-29T09:31:03.034Z"
   },
   {
    "duration": 31,
    "start_time": "2022-06-29T09:31:03.054Z"
   },
   {
    "duration": 63,
    "start_time": "2022-06-29T09:31:03.086Z"
   },
   {
    "duration": 6,
    "start_time": "2022-06-29T09:31:03.150Z"
   },
   {
    "duration": 30,
    "start_time": "2022-06-29T09:31:03.157Z"
   },
   {
    "duration": 4,
    "start_time": "2022-06-29T09:31:03.189Z"
   },
   {
    "duration": 108,
    "start_time": "2022-06-29T09:31:03.194Z"
   },
   {
    "duration": 81,
    "start_time": "2022-06-29T09:31:03.304Z"
   },
   {
    "duration": 27,
    "start_time": "2022-06-29T09:31:03.387Z"
   },
   {
    "duration": 29,
    "start_time": "2022-06-29T09:31:03.416Z"
   },
   {
    "duration": 4,
    "start_time": "2022-06-29T09:31:03.446Z"
   },
   {
    "duration": 24,
    "start_time": "2022-06-29T09:31:03.451Z"
   },
   {
    "duration": 66,
    "start_time": "2022-06-29T09:31:03.477Z"
   },
   {
    "duration": 43,
    "start_time": "2022-06-29T09:31:03.544Z"
   },
   {
    "duration": 6,
    "start_time": "2022-06-29T09:31:03.589Z"
   },
   {
    "duration": 18,
    "start_time": "2022-06-29T09:31:03.596Z"
   },
   {
    "duration": 46,
    "start_time": "2022-06-29T09:31:03.616Z"
   },
   {
    "duration": 18,
    "start_time": "2022-06-29T09:31:03.664Z"
   },
   {
    "duration": 28,
    "start_time": "2022-06-29T09:31:03.684Z"
   },
   {
    "duration": 19,
    "start_time": "2022-06-29T09:31:03.714Z"
   },
   {
    "duration": 36,
    "start_time": "2022-06-29T09:31:03.734Z"
   },
   {
    "duration": 39,
    "start_time": "2022-06-29T09:31:03.771Z"
   },
   {
    "duration": 18,
    "start_time": "2022-06-29T09:31:03.812Z"
   },
   {
    "duration": 11,
    "start_time": "2022-06-29T09:31:03.831Z"
   },
   {
    "duration": 31,
    "start_time": "2022-06-29T09:31:03.844Z"
   },
   {
    "duration": 32,
    "start_time": "2022-06-29T09:31:03.876Z"
   },
   {
    "duration": 23,
    "start_time": "2022-06-29T09:31:03.909Z"
   },
   {
    "duration": 9,
    "start_time": "2022-06-29T09:31:03.933Z"
   },
   {
    "duration": 41,
    "start_time": "2022-06-29T09:31:03.943Z"
   },
   {
    "duration": 152,
    "start_time": "2022-06-29T09:31:03.985Z"
   },
   {
    "duration": 37,
    "start_time": "2022-06-29T09:31:04.139Z"
   },
   {
    "duration": 23,
    "start_time": "2022-06-29T09:31:04.178Z"
   },
   {
    "duration": 3,
    "start_time": "2022-06-29T09:31:04.203Z"
   },
   {
    "duration": 9,
    "start_time": "2022-06-29T09:31:04.229Z"
   },
   {
    "duration": 442,
    "start_time": "2022-06-29T09:31:04.239Z"
   },
   {
    "duration": 1148,
    "start_time": "2022-06-29T09:31:04.683Z"
   },
   {
    "duration": 108,
    "start_time": "2022-06-29T09:31:05.833Z"
   },
   {
    "duration": 0,
    "start_time": "2022-06-29T09:31:05.942Z"
   },
   {
    "duration": 0,
    "start_time": "2022-06-29T09:31:05.944Z"
   },
   {
    "duration": 0,
    "start_time": "2022-06-29T09:31:05.944Z"
   },
   {
    "duration": 0,
    "start_time": "2022-06-29T09:31:05.945Z"
   },
   {
    "duration": 0,
    "start_time": "2022-06-29T09:31:05.946Z"
   },
   {
    "duration": 0,
    "start_time": "2022-06-29T09:31:05.947Z"
   },
   {
    "duration": 0,
    "start_time": "2022-06-29T09:31:05.949Z"
   },
   {
    "duration": 1,
    "start_time": "2022-06-29T09:31:05.949Z"
   },
   {
    "duration": 0,
    "start_time": "2022-06-29T09:31:05.951Z"
   },
   {
    "duration": 0,
    "start_time": "2022-06-29T09:31:05.952Z"
   },
   {
    "duration": 47,
    "start_time": "2022-06-29T09:36:26.738Z"
   },
   {
    "duration": 418,
    "start_time": "2022-06-29T09:36:30.626Z"
   },
   {
    "duration": 16,
    "start_time": "2022-06-29T09:36:32.952Z"
   },
   {
    "duration": 4,
    "start_time": "2022-06-29T09:36:37.376Z"
   },
   {
    "duration": 8,
    "start_time": "2022-06-29T09:36:38.794Z"
   },
   {
    "duration": 38,
    "start_time": "2022-06-29T09:36:39.618Z"
   },
   {
    "duration": 4,
    "start_time": "2022-06-29T09:36:41.066Z"
   },
   {
    "duration": 14,
    "start_time": "2022-06-29T09:36:41.849Z"
   },
   {
    "duration": 75,
    "start_time": "2022-06-29T09:36:42.712Z"
   },
   {
    "duration": 14,
    "start_time": "2022-06-29T09:36:45.065Z"
   },
   {
    "duration": 14,
    "start_time": "2022-06-29T09:36:55.536Z"
   },
   {
    "duration": 1719,
    "start_time": "2022-06-29T13:42:12.836Z"
   },
   {
    "duration": 2862,
    "start_time": "2022-06-29T13:42:14.557Z"
   },
   {
    "duration": 18,
    "start_time": "2022-06-29T13:42:17.420Z"
   },
   {
    "duration": 3,
    "start_time": "2022-06-29T13:42:17.440Z"
   },
   {
    "duration": 5,
    "start_time": "2022-06-29T13:42:17.445Z"
   },
   {
    "duration": 53,
    "start_time": "2022-06-29T13:42:17.452Z"
   },
   {
    "duration": 130,
    "start_time": "2022-06-29T13:42:17.507Z"
   },
   {
    "duration": 99,
    "start_time": "2022-06-29T13:42:17.639Z"
   },
   {
    "duration": 74,
    "start_time": "2022-06-29T13:42:17.740Z"
   },
   {
    "duration": 449,
    "start_time": "2022-06-29T13:42:17.817Z"
   },
   {
    "duration": 570,
    "start_time": "2022-06-29T13:42:18.268Z"
   },
   {
    "duration": 425,
    "start_time": "2022-06-29T13:42:18.840Z"
   },
   {
    "duration": 101,
    "start_time": "2022-06-29T13:42:19.267Z"
   },
   {
    "duration": 121,
    "start_time": "2022-06-29T13:42:19.370Z"
   },
   {
    "duration": 36,
    "start_time": "2022-06-29T13:42:19.493Z"
   },
   {
    "duration": 27,
    "start_time": "2022-06-29T13:42:19.531Z"
   },
   {
    "duration": 20,
    "start_time": "2022-06-29T13:42:19.560Z"
   },
   {
    "duration": 18,
    "start_time": "2022-06-29T13:42:19.582Z"
   },
   {
    "duration": 79,
    "start_time": "2022-06-29T13:42:19.602Z"
   },
   {
    "duration": 21,
    "start_time": "2022-06-29T13:42:19.682Z"
   },
   {
    "duration": 7,
    "start_time": "2022-06-29T13:42:19.705Z"
   },
   {
    "duration": 75,
    "start_time": "2022-06-29T13:42:19.730Z"
   },
   {
    "duration": 62,
    "start_time": "2022-06-29T13:42:19.807Z"
   },
   {
    "duration": 10,
    "start_time": "2022-06-29T13:42:19.871Z"
   },
   {
    "duration": 4,
    "start_time": "2022-06-29T13:42:19.883Z"
   },
   {
    "duration": 41,
    "start_time": "2022-06-29T13:42:19.889Z"
   },
   {
    "duration": 16,
    "start_time": "2022-06-29T13:42:19.933Z"
   },
   {
    "duration": 20,
    "start_time": "2022-06-29T13:42:19.954Z"
   },
   {
    "duration": 19,
    "start_time": "2022-06-29T13:42:19.976Z"
   },
   {
    "duration": 44,
    "start_time": "2022-06-29T13:42:19.997Z"
   },
   {
    "duration": 18,
    "start_time": "2022-06-29T13:42:20.043Z"
   },
   {
    "duration": 12,
    "start_time": "2022-06-29T13:42:20.063Z"
   },
   {
    "duration": 25,
    "start_time": "2022-06-29T13:42:20.077Z"
   },
   {
    "duration": 78,
    "start_time": "2022-06-29T13:42:20.104Z"
   },
   {
    "duration": 6,
    "start_time": "2022-06-29T13:42:20.184Z"
   },
   {
    "duration": 17,
    "start_time": "2022-06-29T13:42:20.192Z"
   },
   {
    "duration": 51,
    "start_time": "2022-06-29T13:42:20.210Z"
   },
   {
    "duration": 46,
    "start_time": "2022-06-29T13:42:20.262Z"
   },
   {
    "duration": 20,
    "start_time": "2022-06-29T13:42:20.310Z"
   },
   {
    "duration": 28,
    "start_time": "2022-06-29T13:42:20.331Z"
   },
   {
    "duration": 3,
    "start_time": "2022-06-29T13:42:20.361Z"
   },
   {
    "duration": 97,
    "start_time": "2022-06-29T13:42:20.366Z"
   },
   {
    "duration": 80,
    "start_time": "2022-06-29T13:42:20.464Z"
   },
   {
    "duration": 15,
    "start_time": "2022-06-29T13:42:20.545Z"
   },
   {
    "duration": 28,
    "start_time": "2022-06-29T13:42:20.561Z"
   },
   {
    "duration": 4,
    "start_time": "2022-06-29T13:42:20.591Z"
   },
   {
    "duration": 39,
    "start_time": "2022-06-29T13:42:20.596Z"
   },
   {
    "duration": 43,
    "start_time": "2022-06-29T13:42:20.637Z"
   },
   {
    "duration": 57,
    "start_time": "2022-06-29T13:42:20.682Z"
   },
   {
    "duration": 6,
    "start_time": "2022-06-29T13:42:20.740Z"
   },
   {
    "duration": 6,
    "start_time": "2022-06-29T13:42:20.747Z"
   },
   {
    "duration": 43,
    "start_time": "2022-06-29T13:42:20.755Z"
   },
   {
    "duration": 37,
    "start_time": "2022-06-29T13:42:20.800Z"
   },
   {
    "duration": 24,
    "start_time": "2022-06-29T13:42:20.838Z"
   },
   {
    "duration": 9,
    "start_time": "2022-06-29T13:42:20.864Z"
   },
   {
    "duration": 58,
    "start_time": "2022-06-29T13:42:20.874Z"
   },
   {
    "duration": 44,
    "start_time": "2022-06-29T13:42:20.933Z"
   },
   {
    "duration": 4,
    "start_time": "2022-06-29T13:42:20.979Z"
   },
   {
    "duration": 15,
    "start_time": "2022-06-29T13:42:20.984Z"
   },
   {
    "duration": 33,
    "start_time": "2022-06-29T13:42:21.001Z"
   },
   {
    "duration": 29,
    "start_time": "2022-06-29T13:42:21.035Z"
   },
   {
    "duration": 12,
    "start_time": "2022-06-29T13:42:21.065Z"
   },
   {
    "duration": 9,
    "start_time": "2022-06-29T13:42:21.079Z"
   },
   {
    "duration": 65,
    "start_time": "2022-06-29T13:42:21.090Z"
   },
   {
    "duration": 162,
    "start_time": "2022-06-29T13:42:21.157Z"
   },
   {
    "duration": 53,
    "start_time": "2022-06-29T13:42:21.321Z"
   },
   {
    "duration": 26,
    "start_time": "2022-06-29T13:42:21.375Z"
   },
   {
    "duration": 4,
    "start_time": "2022-06-29T13:42:21.403Z"
   },
   {
    "duration": 10,
    "start_time": "2022-06-29T13:42:21.430Z"
   },
   {
    "duration": 500,
    "start_time": "2022-06-29T13:42:21.441Z"
   },
   {
    "duration": 1209,
    "start_time": "2022-06-29T13:42:21.942Z"
   },
   {
    "duration": 52,
    "start_time": "2022-06-29T13:42:23.153Z"
   },
   {
    "duration": 470,
    "start_time": "2022-06-29T13:42:23.207Z"
   },
   {
    "duration": 18,
    "start_time": "2022-06-29T13:42:23.679Z"
   },
   {
    "duration": 6,
    "start_time": "2022-06-29T13:42:23.699Z"
   },
   {
    "duration": 23,
    "start_time": "2022-06-29T13:42:23.707Z"
   },
   {
    "duration": 39,
    "start_time": "2022-06-29T13:42:23.732Z"
   },
   {
    "duration": 4,
    "start_time": "2022-06-29T13:42:23.772Z"
   },
   {
    "duration": 18,
    "start_time": "2022-06-29T13:42:23.777Z"
   },
   {
    "duration": 89,
    "start_time": "2022-06-29T13:42:23.796Z"
   },
   {
    "duration": 14,
    "start_time": "2022-06-29T13:42:23.887Z"
   },
   {
    "duration": 29,
    "start_time": "2022-06-29T13:42:23.904Z"
   },
   {
    "duration": 5,
    "start_time": "2022-06-29T13:42:23.935Z"
   },
   {
    "duration": 7,
    "start_time": "2022-06-29T13:42:23.942Z"
   },
   {
    "duration": 15,
    "start_time": "2022-06-29T13:42:23.950Z"
   },
   {
    "duration": 4,
    "start_time": "2022-06-29T13:42:23.967Z"
   },
   {
    "duration": 5,
    "start_time": "2022-06-29T13:42:23.973Z"
   },
   {
    "duration": 25024,
    "start_time": "2022-06-29T13:42:23.979Z"
   },
   {
    "duration": 104051,
    "start_time": "2022-06-29T13:42:49.005Z"
   },
   {
    "duration": 4,
    "start_time": "2022-06-29T13:44:33.058Z"
   },
   {
    "duration": 1681,
    "start_time": "2022-06-29T13:44:33.064Z"
   },
   {
    "duration": 114,
    "start_time": "2022-06-29T13:44:34.747Z"
   },
   {
    "duration": 0,
    "start_time": "2022-06-29T13:44:34.863Z"
   },
   {
    "duration": 0,
    "start_time": "2022-06-29T13:44:34.865Z"
   },
   {
    "duration": 0,
    "start_time": "2022-06-29T13:44:34.866Z"
   },
   {
    "duration": 13,
    "start_time": "2022-06-29T13:52:50.513Z"
   },
   {
    "duration": 8,
    "start_time": "2022-06-29T13:53:07.992Z"
   },
   {
    "duration": 7413,
    "start_time": "2022-06-29T13:53:21.424Z"
   },
   {
    "duration": 26030,
    "start_time": "2022-06-29T13:53:37.310Z"
   },
   {
    "duration": 3,
    "start_time": "2022-06-29T13:54:03.342Z"
   },
   {
    "duration": 596,
    "start_time": "2022-06-29T13:54:03.347Z"
   },
   {
    "duration": 23,
    "start_time": "2022-06-29T14:01:07.937Z"
   },
   {
    "duration": 4,
    "start_time": "2022-06-29T14:01:22.483Z"
   },
   {
    "duration": 6,
    "start_time": "2022-06-29T14:01:28.288Z"
   },
   {
    "duration": 747,
    "start_time": "2022-06-29T14:01:28.301Z"
   },
   {
    "duration": 12,
    "start_time": "2022-06-29T14:01:29.050Z"
   },
   {
    "duration": 6,
    "start_time": "2022-06-29T14:01:29.063Z"
   },
   {
    "duration": 10,
    "start_time": "2022-06-29T14:01:29.071Z"
   },
   {
    "duration": 34,
    "start_time": "2022-06-29T14:01:29.082Z"
   },
   {
    "duration": 118,
    "start_time": "2022-06-29T14:01:29.118Z"
   },
   {
    "duration": 94,
    "start_time": "2022-06-29T14:01:29.238Z"
   },
   {
    "duration": 69,
    "start_time": "2022-06-29T14:01:29.334Z"
   },
   {
    "duration": 384,
    "start_time": "2022-06-29T14:01:29.405Z"
   },
   {
    "duration": 475,
    "start_time": "2022-06-29T14:01:29.792Z"
   },
   {
    "duration": 376,
    "start_time": "2022-06-29T14:01:30.269Z"
   },
   {
    "duration": 109,
    "start_time": "2022-06-29T14:01:30.646Z"
   },
   {
    "duration": 104,
    "start_time": "2022-06-29T14:01:30.757Z"
   },
   {
    "duration": 18,
    "start_time": "2022-06-29T14:01:30.863Z"
   },
   {
    "duration": 23,
    "start_time": "2022-06-29T14:01:30.883Z"
   },
   {
    "duration": 35,
    "start_time": "2022-06-29T14:01:30.907Z"
   },
   {
    "duration": 17,
    "start_time": "2022-06-29T14:01:30.944Z"
   },
   {
    "duration": 67,
    "start_time": "2022-06-29T14:01:30.963Z"
   },
   {
    "duration": 17,
    "start_time": "2022-06-29T14:01:31.032Z"
   },
   {
    "duration": 12,
    "start_time": "2022-06-29T14:01:31.051Z"
   },
   {
    "duration": 79,
    "start_time": "2022-06-29T14:01:31.065Z"
   },
   {
    "duration": 62,
    "start_time": "2022-06-29T14:01:31.145Z"
   },
   {
    "duration": 21,
    "start_time": "2022-06-29T14:01:31.209Z"
   },
   {
    "duration": 4,
    "start_time": "2022-06-29T14:01:31.231Z"
   },
   {
    "duration": 24,
    "start_time": "2022-06-29T14:01:31.236Z"
   },
   {
    "duration": 19,
    "start_time": "2022-06-29T14:01:31.262Z"
   },
   {
    "duration": 26,
    "start_time": "2022-06-29T14:01:31.282Z"
   },
   {
    "duration": 28,
    "start_time": "2022-06-29T14:01:31.312Z"
   },
   {
    "duration": 21,
    "start_time": "2022-06-29T14:01:31.341Z"
   },
   {
    "duration": 20,
    "start_time": "2022-06-29T14:01:31.364Z"
   },
   {
    "duration": 8,
    "start_time": "2022-06-29T14:01:31.386Z"
   },
   {
    "duration": 45,
    "start_time": "2022-06-29T14:01:31.395Z"
   },
   {
    "duration": 2,
    "start_time": "2022-06-29T14:01:31.442Z"
   },
   {
    "duration": 22,
    "start_time": "2022-06-29T14:01:31.446Z"
   },
   {
    "duration": 53,
    "start_time": "2022-06-29T14:01:31.469Z"
   },
   {
    "duration": 17,
    "start_time": "2022-06-29T14:01:31.524Z"
   },
   {
    "duration": 36,
    "start_time": "2022-06-29T14:01:31.543Z"
   },
   {
    "duration": 64,
    "start_time": "2022-06-29T14:01:31.581Z"
   },
   {
    "duration": 6,
    "start_time": "2022-06-29T14:01:31.647Z"
   },
   {
    "duration": 29,
    "start_time": "2022-06-29T14:01:31.655Z"
   },
   {
    "duration": 3,
    "start_time": "2022-06-29T14:01:31.686Z"
   },
   {
    "duration": 98,
    "start_time": "2022-06-29T14:01:31.691Z"
   },
   {
    "duration": 97,
    "start_time": "2022-06-29T14:01:31.791Z"
   },
   {
    "duration": 14,
    "start_time": "2022-06-29T14:01:31.890Z"
   },
   {
    "duration": 41,
    "start_time": "2022-06-29T14:01:31.905Z"
   },
   {
    "duration": 4,
    "start_time": "2022-06-29T14:01:31.948Z"
   },
   {
    "duration": 16,
    "start_time": "2022-06-29T14:01:31.953Z"
   },
   {
    "duration": 60,
    "start_time": "2022-06-29T14:01:31.971Z"
   },
   {
    "duration": 45,
    "start_time": "2022-06-29T14:01:32.033Z"
   },
   {
    "duration": 6,
    "start_time": "2022-06-29T14:01:32.081Z"
   },
   {
    "duration": 7,
    "start_time": "2022-06-29T14:01:32.088Z"
   },
   {
    "duration": 51,
    "start_time": "2022-06-29T14:01:32.097Z"
   },
   {
    "duration": 17,
    "start_time": "2022-06-29T14:01:32.150Z"
   },
   {
    "duration": 24,
    "start_time": "2022-06-29T14:01:32.168Z"
   },
   {
    "duration": 9,
    "start_time": "2022-06-29T14:01:32.193Z"
   },
   {
    "duration": 52,
    "start_time": "2022-06-29T14:01:32.203Z"
   },
   {
    "duration": 36,
    "start_time": "2022-06-29T14:01:32.257Z"
   },
   {
    "duration": 4,
    "start_time": "2022-06-29T14:01:32.295Z"
   },
   {
    "duration": 30,
    "start_time": "2022-06-29T14:01:32.300Z"
   },
   {
    "duration": 16,
    "start_time": "2022-06-29T14:01:32.331Z"
   },
   {
    "duration": 30,
    "start_time": "2022-06-29T14:01:32.349Z"
   },
   {
    "duration": 13,
    "start_time": "2022-06-29T14:01:32.381Z"
   },
   {
    "duration": 35,
    "start_time": "2022-06-29T14:01:32.395Z"
   },
   {
    "duration": 37,
    "start_time": "2022-06-29T14:01:32.431Z"
   },
   {
    "duration": 147,
    "start_time": "2022-06-29T14:01:32.470Z"
   },
   {
    "duration": 43,
    "start_time": "2022-06-29T14:01:32.619Z"
   },
   {
    "duration": 24,
    "start_time": "2022-06-29T14:01:32.663Z"
   },
   {
    "duration": 4,
    "start_time": "2022-06-29T14:01:32.689Z"
   },
   {
    "duration": 12,
    "start_time": "2022-06-29T14:01:32.694Z"
   },
   {
    "duration": 445,
    "start_time": "2022-06-29T14:01:32.708Z"
   },
   {
    "duration": 1150,
    "start_time": "2022-06-29T14:01:33.155Z"
   },
   {
    "duration": 53,
    "start_time": "2022-06-29T14:01:34.307Z"
   },
   {
    "duration": 463,
    "start_time": "2022-06-29T14:01:34.361Z"
   },
   {
    "duration": 18,
    "start_time": "2022-06-29T14:01:34.825Z"
   },
   {
    "duration": 7,
    "start_time": "2022-06-29T14:01:34.845Z"
   },
   {
    "duration": 19,
    "start_time": "2022-06-29T14:01:34.853Z"
   },
   {
    "duration": 36,
    "start_time": "2022-06-29T14:01:34.874Z"
   },
   {
    "duration": 3,
    "start_time": "2022-06-29T14:01:34.912Z"
   },
   {
    "duration": 27,
    "start_time": "2022-06-29T14:01:34.916Z"
   },
   {
    "duration": 91,
    "start_time": "2022-06-29T14:01:34.944Z"
   },
   {
    "duration": 14,
    "start_time": "2022-06-29T14:01:35.037Z"
   },
   {
    "duration": 14,
    "start_time": "2022-06-29T14:01:35.057Z"
   },
   {
    "duration": 6,
    "start_time": "2022-06-29T14:01:35.072Z"
   },
   {
    "duration": 7,
    "start_time": "2022-06-29T14:01:35.080Z"
   },
   {
    "duration": 4,
    "start_time": "2022-06-29T14:01:35.089Z"
   },
   {
    "duration": 7,
    "start_time": "2022-06-29T14:01:35.095Z"
   },
   {
    "duration": 4,
    "start_time": "2022-06-29T14:01:35.104Z"
   },
   {
    "duration": 27025,
    "start_time": "2022-06-29T14:01:35.129Z"
   },
   {
    "duration": 108196,
    "start_time": "2022-06-29T14:02:02.155Z"
   },
   {
    "duration": 3,
    "start_time": "2022-06-29T14:03:50.352Z"
   },
   {
    "duration": 1039,
    "start_time": "2022-06-29T14:03:50.357Z"
   },
   {
    "duration": 6237,
    "start_time": "2022-06-29T14:03:51.397Z"
   },
   {
    "duration": 31404,
    "start_time": "2022-06-29T14:03:57.636Z"
   },
   {
    "duration": 3,
    "start_time": "2022-06-29T14:04:29.042Z"
   },
   {
    "duration": 589,
    "start_time": "2022-06-29T14:04:29.047Z"
   },
   {
    "duration": 91,
    "start_time": "2022-06-29T14:05:44.420Z"
   },
   {
    "duration": 109,
    "start_time": "2022-06-29T14:09:53.552Z"
   },
   {
    "duration": 86,
    "start_time": "2022-06-29T14:10:36.681Z"
   },
   {
    "duration": 5,
    "start_time": "2022-06-29T14:22:50.015Z"
   },
   {
    "duration": 742,
    "start_time": "2022-06-29T14:22:50.031Z"
   },
   {
    "duration": 12,
    "start_time": "2022-06-29T14:22:50.775Z"
   },
   {
    "duration": 6,
    "start_time": "2022-06-29T14:22:50.789Z"
   },
   {
    "duration": 6,
    "start_time": "2022-06-29T14:22:50.796Z"
   },
   {
    "duration": 42,
    "start_time": "2022-06-29T14:22:50.804Z"
   },
   {
    "duration": 122,
    "start_time": "2022-06-29T14:22:50.847Z"
   },
   {
    "duration": 108,
    "start_time": "2022-06-29T14:22:50.971Z"
   },
   {
    "duration": 83,
    "start_time": "2022-06-29T14:22:51.081Z"
   },
   {
    "duration": 396,
    "start_time": "2022-06-29T14:22:51.165Z"
   },
   {
    "duration": 466,
    "start_time": "2022-06-29T14:22:51.564Z"
   },
   {
    "duration": 357,
    "start_time": "2022-06-29T14:22:52.031Z"
   },
   {
    "duration": 109,
    "start_time": "2022-06-29T14:22:52.390Z"
   },
   {
    "duration": 103,
    "start_time": "2022-06-29T14:22:52.501Z"
   },
   {
    "duration": 27,
    "start_time": "2022-06-29T14:22:52.606Z"
   },
   {
    "duration": 17,
    "start_time": "2022-06-29T14:22:52.635Z"
   },
   {
    "duration": 17,
    "start_time": "2022-06-29T14:22:52.654Z"
   },
   {
    "duration": 17,
    "start_time": "2022-06-29T14:22:52.672Z"
   },
   {
    "duration": 76,
    "start_time": "2022-06-29T14:22:52.690Z"
   },
   {
    "duration": 18,
    "start_time": "2022-06-29T14:22:52.767Z"
   },
   {
    "duration": 7,
    "start_time": "2022-06-29T14:22:52.786Z"
   },
   {
    "duration": 88,
    "start_time": "2022-06-29T14:22:52.794Z"
   },
   {
    "duration": 59,
    "start_time": "2022-06-29T14:22:52.884Z"
   },
   {
    "duration": 9,
    "start_time": "2022-06-29T14:22:52.944Z"
   },
   {
    "duration": 3,
    "start_time": "2022-06-29T14:22:52.955Z"
   },
   {
    "duration": 22,
    "start_time": "2022-06-29T14:22:52.959Z"
   },
   {
    "duration": 19,
    "start_time": "2022-06-29T14:22:52.983Z"
   },
   {
    "duration": 37,
    "start_time": "2022-06-29T14:22:53.003Z"
   },
   {
    "duration": 25,
    "start_time": "2022-06-29T14:22:53.045Z"
   },
   {
    "duration": 25,
    "start_time": "2022-06-29T14:22:53.072Z"
   },
   {
    "duration": 18,
    "start_time": "2022-06-29T14:22:53.099Z"
   },
   {
    "duration": 5,
    "start_time": "2022-06-29T14:22:53.129Z"
   },
   {
    "duration": 31,
    "start_time": "2022-06-29T14:22:53.135Z"
   },
   {
    "duration": 1,
    "start_time": "2022-06-29T14:22:53.168Z"
   },
   {
    "duration": 9,
    "start_time": "2022-06-29T14:22:53.171Z"
   },
   {
    "duration": 52,
    "start_time": "2022-06-29T14:22:53.181Z"
   },
   {
    "duration": 18,
    "start_time": "2022-06-29T14:22:53.234Z"
   },
   {
    "duration": 50,
    "start_time": "2022-06-29T14:22:53.253Z"
   },
   {
    "duration": 67,
    "start_time": "2022-06-29T14:22:53.305Z"
   },
   {
    "duration": 7,
    "start_time": "2022-06-29T14:22:53.373Z"
   },
   {
    "duration": 29,
    "start_time": "2022-06-29T14:22:53.381Z"
   },
   {
    "duration": 4,
    "start_time": "2022-06-29T14:22:53.428Z"
   },
   {
    "duration": 81,
    "start_time": "2022-06-29T14:22:53.433Z"
   },
   {
    "duration": 85,
    "start_time": "2022-06-29T14:22:53.516Z"
   },
   {
    "duration": 31,
    "start_time": "2022-06-29T14:22:53.603Z"
   },
   {
    "duration": 28,
    "start_time": "2022-06-29T14:22:53.635Z"
   },
   {
    "duration": 4,
    "start_time": "2022-06-29T14:22:53.665Z"
   },
   {
    "duration": 17,
    "start_time": "2022-06-29T14:22:53.671Z"
   },
   {
    "duration": 65,
    "start_time": "2022-06-29T14:22:53.690Z"
   },
   {
    "duration": 45,
    "start_time": "2022-06-29T14:22:53.757Z"
   },
   {
    "duration": 5,
    "start_time": "2022-06-29T14:22:53.804Z"
   },
   {
    "duration": 23,
    "start_time": "2022-06-29T14:22:53.810Z"
   },
   {
    "duration": 33,
    "start_time": "2022-06-29T14:22:53.834Z"
   },
   {
    "duration": 19,
    "start_time": "2022-06-29T14:22:53.869Z"
   },
   {
    "duration": 41,
    "start_time": "2022-06-29T14:22:53.889Z"
   },
   {
    "duration": 10,
    "start_time": "2022-06-29T14:22:53.931Z"
   },
   {
    "duration": 35,
    "start_time": "2022-06-29T14:22:53.942Z"
   },
   {
    "duration": 52,
    "start_time": "2022-06-29T14:22:53.979Z"
   },
   {
    "duration": 4,
    "start_time": "2022-06-29T14:22:54.033Z"
   },
   {
    "duration": 13,
    "start_time": "2022-06-29T14:22:54.038Z"
   },
   {
    "duration": 23,
    "start_time": "2022-06-29T14:22:54.052Z"
   },
   {
    "duration": 32,
    "start_time": "2022-06-29T14:22:54.076Z"
   },
   {
    "duration": 13,
    "start_time": "2022-06-29T14:22:54.128Z"
   },
   {
    "duration": 11,
    "start_time": "2022-06-29T14:22:54.142Z"
   },
   {
    "duration": 37,
    "start_time": "2022-06-29T14:22:54.155Z"
   },
   {
    "duration": 156,
    "start_time": "2022-06-29T14:22:54.193Z"
   },
   {
    "duration": 36,
    "start_time": "2022-06-29T14:22:54.350Z"
   },
   {
    "duration": 24,
    "start_time": "2022-06-29T14:22:54.387Z"
   },
   {
    "duration": 17,
    "start_time": "2022-06-29T14:22:54.413Z"
   },
   {
    "duration": 11,
    "start_time": "2022-06-29T14:22:54.431Z"
   },
   {
    "duration": 425,
    "start_time": "2022-06-29T14:22:54.443Z"
   },
   {
    "duration": 1207,
    "start_time": "2022-06-29T14:22:54.869Z"
   },
   {
    "duration": 64,
    "start_time": "2022-06-29T14:22:56.078Z"
   },
   {
    "duration": 362,
    "start_time": "2022-06-29T14:22:56.144Z"
   },
   {
    "duration": 12,
    "start_time": "2022-06-29T14:22:56.508Z"
   },
   {
    "duration": 8,
    "start_time": "2022-06-29T14:22:56.521Z"
   },
   {
    "duration": 15,
    "start_time": "2022-06-29T14:22:56.531Z"
   },
   {
    "duration": 0,
    "start_time": "2022-06-29T14:22:56.548Z"
   },
   {
    "duration": 0,
    "start_time": "2022-06-29T14:22:56.549Z"
   },
   {
    "duration": 0,
    "start_time": "2022-06-29T14:22:56.549Z"
   },
   {
    "duration": 0,
    "start_time": "2022-06-29T14:22:56.551Z"
   },
   {
    "duration": 0,
    "start_time": "2022-06-29T14:22:56.551Z"
   },
   {
    "duration": 0,
    "start_time": "2022-06-29T14:22:56.553Z"
   },
   {
    "duration": 0,
    "start_time": "2022-06-29T14:22:56.554Z"
   },
   {
    "duration": 0,
    "start_time": "2022-06-29T14:22:56.555Z"
   },
   {
    "duration": 0,
    "start_time": "2022-06-29T14:22:56.556Z"
   },
   {
    "duration": 0,
    "start_time": "2022-06-29T14:22:56.557Z"
   },
   {
    "duration": 0,
    "start_time": "2022-06-29T14:22:56.558Z"
   },
   {
    "duration": 0,
    "start_time": "2022-06-29T14:22:56.559Z"
   },
   {
    "duration": 0,
    "start_time": "2022-06-29T14:22:56.560Z"
   },
   {
    "duration": 0,
    "start_time": "2022-06-29T14:22:56.561Z"
   },
   {
    "duration": 0,
    "start_time": "2022-06-29T14:22:56.562Z"
   },
   {
    "duration": 0,
    "start_time": "2022-06-29T14:22:56.563Z"
   },
   {
    "duration": 0,
    "start_time": "2022-06-29T14:22:56.564Z"
   },
   {
    "duration": 0,
    "start_time": "2022-06-29T14:22:56.566Z"
   },
   {
    "duration": 0,
    "start_time": "2022-06-29T14:22:56.567Z"
   },
   {
    "duration": 71,
    "start_time": "2022-06-29T14:25:19.621Z"
   },
   {
    "duration": 4,
    "start_time": "2022-06-29T14:26:15.625Z"
   },
   {
    "duration": 23,
    "start_time": "2022-06-29T14:26:37.394Z"
   },
   {
    "duration": 13,
    "start_time": "2022-06-29T14:27:49.397Z"
   },
   {
    "duration": 36,
    "start_time": "2022-06-29T14:27:53.449Z"
   },
   {
    "duration": 4,
    "start_time": "2022-06-29T14:27:57.411Z"
   },
   {
    "duration": 12,
    "start_time": "2022-06-29T14:28:03.941Z"
   },
   {
    "duration": 15,
    "start_time": "2022-06-29T14:28:25.803Z"
   },
   {
    "duration": 8,
    "start_time": "2022-06-29T14:28:57.145Z"
   },
   {
    "duration": 21,
    "start_time": "2022-06-29T14:28:58.254Z"
   },
   {
    "duration": 9,
    "start_time": "2022-06-29T14:29:12.591Z"
   },
   {
    "duration": 5,
    "start_time": "2022-06-29T14:29:18.846Z"
   },
   {
    "duration": 36,
    "start_time": "2022-06-29T14:29:47.968Z"
   },
   {
    "duration": 5,
    "start_time": "2022-06-29T14:29:53.872Z"
   },
   {
    "duration": 17,
    "start_time": "2022-06-29T14:29:59.978Z"
   },
   {
    "duration": 7,
    "start_time": "2022-06-29T14:30:26.052Z"
   },
   {
    "duration": 748,
    "start_time": "2022-06-29T14:30:26.071Z"
   },
   {
    "duration": 21,
    "start_time": "2022-06-29T14:30:26.821Z"
   },
   {
    "duration": 10,
    "start_time": "2022-06-29T14:30:26.844Z"
   },
   {
    "duration": 10,
    "start_time": "2022-06-29T14:30:26.856Z"
   },
   {
    "duration": 61,
    "start_time": "2022-06-29T14:30:26.868Z"
   },
   {
    "duration": 112,
    "start_time": "2022-06-29T14:30:26.931Z"
   },
   {
    "duration": 97,
    "start_time": "2022-06-29T14:30:27.045Z"
   },
   {
    "duration": 86,
    "start_time": "2022-06-29T14:30:27.143Z"
   },
   {
    "duration": 386,
    "start_time": "2022-06-29T14:30:27.231Z"
   },
   {
    "duration": 480,
    "start_time": "2022-06-29T14:30:27.628Z"
   },
   {
    "duration": 370,
    "start_time": "2022-06-29T14:30:28.110Z"
   },
   {
    "duration": 100,
    "start_time": "2022-06-29T14:30:28.481Z"
   },
   {
    "duration": 114,
    "start_time": "2022-06-29T14:30:28.583Z"
   },
   {
    "duration": 17,
    "start_time": "2022-06-29T14:30:28.699Z"
   },
   {
    "duration": 21,
    "start_time": "2022-06-29T14:30:28.728Z"
   },
   {
    "duration": 20,
    "start_time": "2022-06-29T14:30:28.751Z"
   },
   {
    "duration": 18,
    "start_time": "2022-06-29T14:30:28.772Z"
   },
   {
    "duration": 76,
    "start_time": "2022-06-29T14:30:28.791Z"
   },
   {
    "duration": 19,
    "start_time": "2022-06-29T14:30:28.868Z"
   },
   {
    "duration": 7,
    "start_time": "2022-06-29T14:30:28.888Z"
   },
   {
    "duration": 91,
    "start_time": "2022-06-29T14:30:28.896Z"
   },
   {
    "duration": 62,
    "start_time": "2022-06-29T14:30:28.989Z"
   },
   {
    "duration": 11,
    "start_time": "2022-06-29T14:30:29.053Z"
   },
   {
    "duration": 5,
    "start_time": "2022-06-29T14:30:29.065Z"
   },
   {
    "duration": 29,
    "start_time": "2022-06-29T14:30:29.071Z"
   },
   {
    "duration": 15,
    "start_time": "2022-06-29T14:30:29.101Z"
   },
   {
    "duration": 20,
    "start_time": "2022-06-29T14:30:29.128Z"
   },
   {
    "duration": 17,
    "start_time": "2022-06-29T14:30:29.151Z"
   },
   {
    "duration": 24,
    "start_time": "2022-06-29T14:30:29.170Z"
   },
   {
    "duration": 38,
    "start_time": "2022-06-29T14:30:29.196Z"
   },
   {
    "duration": 5,
    "start_time": "2022-06-29T14:30:29.236Z"
   },
   {
    "duration": 26,
    "start_time": "2022-06-29T14:30:29.243Z"
   },
   {
    "duration": 2,
    "start_time": "2022-06-29T14:30:29.270Z"
   },
   {
    "duration": 5,
    "start_time": "2022-06-29T14:30:29.274Z"
   },
   {
    "duration": 62,
    "start_time": "2022-06-29T14:30:29.281Z"
   },
   {
    "duration": 16,
    "start_time": "2022-06-29T14:30:29.344Z"
   },
   {
    "duration": 33,
    "start_time": "2022-06-29T14:30:29.362Z"
   },
   {
    "duration": 70,
    "start_time": "2022-06-29T14:30:29.397Z"
   },
   {
    "duration": 6,
    "start_time": "2022-06-29T14:30:29.468Z"
   },
   {
    "duration": 31,
    "start_time": "2022-06-29T14:30:29.476Z"
   },
   {
    "duration": 22,
    "start_time": "2022-06-29T14:30:29.509Z"
   },
   {
    "duration": 79,
    "start_time": "2022-06-29T14:30:29.533Z"
   },
   {
    "duration": 82,
    "start_time": "2022-06-29T14:30:29.613Z"
   },
   {
    "duration": 14,
    "start_time": "2022-06-29T14:30:29.697Z"
   },
   {
    "duration": 44,
    "start_time": "2022-06-29T14:30:29.712Z"
   },
   {
    "duration": 3,
    "start_time": "2022-06-29T14:30:29.758Z"
   },
   {
    "duration": 15,
    "start_time": "2022-06-29T14:30:29.762Z"
   },
   {
    "duration": 53,
    "start_time": "2022-06-29T14:30:29.778Z"
   },
   {
    "duration": 43,
    "start_time": "2022-06-29T14:30:29.833Z"
   },
   {
    "duration": 5,
    "start_time": "2022-06-29T14:30:29.877Z"
   },
   {
    "duration": 5,
    "start_time": "2022-06-29T14:30:29.883Z"
   },
   {
    "duration": 60,
    "start_time": "2022-06-29T14:30:29.889Z"
   },
   {
    "duration": 18,
    "start_time": "2022-06-29T14:30:29.951Z"
   },
   {
    "duration": 20,
    "start_time": "2022-06-29T14:30:29.971Z"
   },
   {
    "duration": 9,
    "start_time": "2022-06-29T14:30:29.993Z"
   },
   {
    "duration": 49,
    "start_time": "2022-06-29T14:30:30.003Z"
   },
   {
    "duration": 37,
    "start_time": "2022-06-29T14:30:30.053Z"
   },
   {
    "duration": 4,
    "start_time": "2022-06-29T14:30:30.091Z"
   },
   {
    "duration": 16,
    "start_time": "2022-06-29T14:30:30.096Z"
   },
   {
    "duration": 36,
    "start_time": "2022-06-29T14:30:30.113Z"
   },
   {
    "duration": 30,
    "start_time": "2022-06-29T14:30:30.150Z"
   },
   {
    "duration": 13,
    "start_time": "2022-06-29T14:30:30.181Z"
   },
   {
    "duration": 24,
    "start_time": "2022-06-29T14:30:30.196Z"
   },
   {
    "duration": 48,
    "start_time": "2022-06-29T14:30:30.221Z"
   },
   {
    "duration": 142,
    "start_time": "2022-06-29T14:30:30.271Z"
   },
   {
    "duration": 45,
    "start_time": "2022-06-29T14:30:30.415Z"
   },
   {
    "duration": 25,
    "start_time": "2022-06-29T14:30:30.462Z"
   },
   {
    "duration": 4,
    "start_time": "2022-06-29T14:30:30.488Z"
   },
   {
    "duration": 30,
    "start_time": "2022-06-29T14:30:30.494Z"
   },
   {
    "duration": 423,
    "start_time": "2022-06-29T14:30:30.525Z"
   },
   {
    "duration": 1122,
    "start_time": "2022-06-29T14:30:30.950Z"
   },
   {
    "duration": 56,
    "start_time": "2022-06-29T14:30:32.074Z"
   },
   {
    "duration": 331,
    "start_time": "2022-06-29T14:30:32.131Z"
   },
   {
    "duration": 11,
    "start_time": "2022-06-29T14:30:32.464Z"
   },
   {
    "duration": 80,
    "start_time": "2022-06-29T14:30:32.476Z"
   },
   {
    "duration": 3,
    "start_time": "2022-06-29T14:30:32.558Z"
   },
   {
    "duration": 32,
    "start_time": "2022-06-29T14:30:32.563Z"
   },
   {
    "duration": 4,
    "start_time": "2022-06-29T14:30:32.597Z"
   },
   {
    "duration": 47,
    "start_time": "2022-06-29T14:30:32.603Z"
   },
   {
    "duration": 4,
    "start_time": "2022-06-29T14:30:32.651Z"
   },
   {
    "duration": 20,
    "start_time": "2022-06-29T14:30:32.657Z"
   },
   {
    "duration": 89,
    "start_time": "2022-06-29T14:30:32.681Z"
   },
   {
    "duration": 12,
    "start_time": "2022-06-29T14:30:32.772Z"
   },
   {
    "duration": 15,
    "start_time": "2022-06-29T14:30:32.785Z"
   },
   {
    "duration": 6,
    "start_time": "2022-06-29T14:30:32.801Z"
   },
   {
    "duration": 4,
    "start_time": "2022-06-29T14:30:32.808Z"
   },
   {
    "duration": 3,
    "start_time": "2022-06-29T14:30:32.829Z"
   },
   {
    "duration": 16,
    "start_time": "2022-06-29T14:30:32.833Z"
   },
   {
    "duration": 5,
    "start_time": "2022-06-29T14:30:32.850Z"
   },
   {
    "duration": 35,
    "start_time": "2022-06-29T14:30:32.856Z"
   },
   {
    "duration": 0,
    "start_time": "2022-06-29T14:30:32.893Z"
   },
   {
    "duration": 0,
    "start_time": "2022-06-29T14:30:32.894Z"
   },
   {
    "duration": 0,
    "start_time": "2022-06-29T14:30:32.895Z"
   },
   {
    "duration": 0,
    "start_time": "2022-06-29T14:30:32.896Z"
   },
   {
    "duration": 0,
    "start_time": "2022-06-29T14:30:32.897Z"
   },
   {
    "duration": 0,
    "start_time": "2022-06-29T14:30:32.898Z"
   },
   {
    "duration": 0,
    "start_time": "2022-06-29T14:30:32.899Z"
   },
   {
    "duration": 5,
    "start_time": "2022-06-29T14:37:23.953Z"
   },
   {
    "duration": 689,
    "start_time": "2022-06-29T14:37:23.971Z"
   },
   {
    "duration": 13,
    "start_time": "2022-06-29T14:37:24.662Z"
   },
   {
    "duration": 6,
    "start_time": "2022-06-29T14:37:24.677Z"
   },
   {
    "duration": 7,
    "start_time": "2022-06-29T14:37:24.685Z"
   },
   {
    "duration": 41,
    "start_time": "2022-06-29T14:37:24.694Z"
   },
   {
    "duration": 108,
    "start_time": "2022-06-29T14:37:24.737Z"
   },
   {
    "duration": 97,
    "start_time": "2022-06-29T14:37:24.846Z"
   },
   {
    "duration": 64,
    "start_time": "2022-06-29T14:37:24.944Z"
   },
   {
    "duration": 404,
    "start_time": "2022-06-29T14:37:25.010Z"
   },
   {
    "duration": 460,
    "start_time": "2022-06-29T14:37:25.416Z"
   },
   {
    "duration": 419,
    "start_time": "2022-06-29T14:37:25.878Z"
   },
   {
    "duration": 104,
    "start_time": "2022-06-29T14:37:26.299Z"
   },
   {
    "duration": 110,
    "start_time": "2022-06-29T14:37:26.404Z"
   },
   {
    "duration": 19,
    "start_time": "2022-06-29T14:37:26.516Z"
   },
   {
    "duration": 19,
    "start_time": "2022-06-29T14:37:26.536Z"
   },
   {
    "duration": 19,
    "start_time": "2022-06-29T14:37:26.557Z"
   },
   {
    "duration": 17,
    "start_time": "2022-06-29T14:37:26.578Z"
   },
   {
    "duration": 76,
    "start_time": "2022-06-29T14:37:26.596Z"
   },
   {
    "duration": 17,
    "start_time": "2022-06-29T14:37:26.674Z"
   },
   {
    "duration": 8,
    "start_time": "2022-06-29T14:37:26.692Z"
   },
   {
    "duration": 77,
    "start_time": "2022-06-29T14:37:26.701Z"
   },
   {
    "duration": 55,
    "start_time": "2022-06-29T14:37:26.780Z"
   },
   {
    "duration": 12,
    "start_time": "2022-06-29T14:37:26.837Z"
   },
   {
    "duration": 4,
    "start_time": "2022-06-29T14:37:26.851Z"
   },
   {
    "duration": 19,
    "start_time": "2022-06-29T14:37:26.857Z"
   },
   {
    "duration": 23,
    "start_time": "2022-06-29T14:37:26.878Z"
   },
   {
    "duration": 37,
    "start_time": "2022-06-29T14:37:26.903Z"
   },
   {
    "duration": 17,
    "start_time": "2022-06-29T14:37:26.945Z"
   },
   {
    "duration": 18,
    "start_time": "2022-06-29T14:37:26.964Z"
   },
   {
    "duration": 16,
    "start_time": "2022-06-29T14:37:26.984Z"
   },
   {
    "duration": 28,
    "start_time": "2022-06-29T14:37:27.001Z"
   },
   {
    "duration": 27,
    "start_time": "2022-06-29T14:37:27.030Z"
   },
   {
    "duration": 3,
    "start_time": "2022-06-29T14:37:27.059Z"
   },
   {
    "duration": 4,
    "start_time": "2022-06-29T14:37:27.064Z"
   },
   {
    "duration": 60,
    "start_time": "2022-06-29T14:37:27.070Z"
   },
   {
    "duration": 16,
    "start_time": "2022-06-29T14:37:27.132Z"
   },
   {
    "duration": 37,
    "start_time": "2022-06-29T14:37:27.149Z"
   },
   {
    "duration": 65,
    "start_time": "2022-06-29T14:37:27.188Z"
   },
   {
    "duration": 6,
    "start_time": "2022-06-29T14:37:27.255Z"
   },
   {
    "duration": 33,
    "start_time": "2022-06-29T14:37:27.262Z"
   },
   {
    "duration": 3,
    "start_time": "2022-06-29T14:37:27.297Z"
   },
   {
    "duration": 95,
    "start_time": "2022-06-29T14:37:27.302Z"
   },
   {
    "duration": 77,
    "start_time": "2022-06-29T14:37:27.398Z"
   },
   {
    "duration": 14,
    "start_time": "2022-06-29T14:37:27.477Z"
   },
   {
    "duration": 44,
    "start_time": "2022-06-29T14:37:27.493Z"
   },
   {
    "duration": 3,
    "start_time": "2022-06-29T14:37:27.539Z"
   },
   {
    "duration": 13,
    "start_time": "2022-06-29T14:37:27.544Z"
   },
   {
    "duration": 46,
    "start_time": "2022-06-29T14:37:27.559Z"
   },
   {
    "duration": 55,
    "start_time": "2022-06-29T14:37:27.607Z"
   },
   {
    "duration": 4,
    "start_time": "2022-06-29T14:37:27.664Z"
   },
   {
    "duration": 5,
    "start_time": "2022-06-29T14:37:27.670Z"
   },
   {
    "duration": 33,
    "start_time": "2022-06-29T14:37:27.676Z"
   },
   {
    "duration": 18,
    "start_time": "2022-06-29T14:37:27.729Z"
   },
   {
    "duration": 21,
    "start_time": "2022-06-29T14:37:27.748Z"
   },
   {
    "duration": 9,
    "start_time": "2022-06-29T14:37:27.770Z"
   },
   {
    "duration": 53,
    "start_time": "2022-06-29T14:37:27.780Z"
   },
   {
    "duration": 36,
    "start_time": "2022-06-29T14:37:27.835Z"
   },
   {
    "duration": 3,
    "start_time": "2022-06-29T14:37:27.873Z"
   },
   {
    "duration": 14,
    "start_time": "2022-06-29T14:37:27.878Z"
   },
   {
    "duration": 37,
    "start_time": "2022-06-29T14:37:27.893Z"
   },
   {
    "duration": 28,
    "start_time": "2022-06-29T14:37:27.932Z"
   },
   {
    "duration": 13,
    "start_time": "2022-06-29T14:37:27.962Z"
   },
   {
    "duration": 10,
    "start_time": "2022-06-29T14:37:27.976Z"
   },
   {
    "duration": 54,
    "start_time": "2022-06-29T14:37:27.988Z"
   },
   {
    "duration": 135,
    "start_time": "2022-06-29T14:37:28.044Z"
   },
   {
    "duration": 35,
    "start_time": "2022-06-29T14:37:28.180Z"
   },
   {
    "duration": 31,
    "start_time": "2022-06-29T14:37:28.217Z"
   },
   {
    "duration": 3,
    "start_time": "2022-06-29T14:37:28.250Z"
   },
   {
    "duration": 11,
    "start_time": "2022-06-29T14:37:28.255Z"
   },
   {
    "duration": 466,
    "start_time": "2022-06-29T14:37:28.267Z"
   },
   {
    "duration": 1121,
    "start_time": "2022-06-29T14:37:28.734Z"
   },
   {
    "duration": 47,
    "start_time": "2022-06-29T14:37:29.856Z"
   },
   {
    "duration": 304,
    "start_time": "2022-06-29T14:37:29.904Z"
   },
   {
    "duration": 11,
    "start_time": "2022-06-29T14:37:30.209Z"
   },
   {
    "duration": 80,
    "start_time": "2022-06-29T14:37:30.221Z"
   },
   {
    "duration": 3,
    "start_time": "2022-06-29T14:37:30.303Z"
   },
   {
    "duration": 28,
    "start_time": "2022-06-29T14:37:30.308Z"
   },
   {
    "duration": 4,
    "start_time": "2022-06-29T14:37:30.338Z"
   },
   {
    "duration": 42,
    "start_time": "2022-06-29T14:37:30.343Z"
   },
   {
    "duration": 3,
    "start_time": "2022-06-29T14:37:30.387Z"
   },
   {
    "duration": 33,
    "start_time": "2022-06-29T14:37:30.392Z"
   },
   {
    "duration": 77,
    "start_time": "2022-06-29T14:37:30.430Z"
   },
   {
    "duration": 12,
    "start_time": "2022-06-29T14:37:30.508Z"
   },
   {
    "duration": 17,
    "start_time": "2022-06-29T14:37:30.522Z"
   },
   {
    "duration": 14,
    "start_time": "2022-06-29T14:37:30.540Z"
   },
   {
    "duration": 8,
    "start_time": "2022-06-29T14:37:30.555Z"
   },
   {
    "duration": 14,
    "start_time": "2022-06-29T14:37:30.564Z"
   },
   {
    "duration": 10,
    "start_time": "2022-06-29T14:37:30.580Z"
   },
   {
    "duration": 10,
    "start_time": "2022-06-29T14:37:30.592Z"
   },
   {
    "duration": 39,
    "start_time": "2022-06-29T14:37:30.603Z"
   },
   {
    "duration": 0,
    "start_time": "2022-06-29T14:37:30.644Z"
   },
   {
    "duration": 0,
    "start_time": "2022-06-29T14:37:30.645Z"
   },
   {
    "duration": 0,
    "start_time": "2022-06-29T14:37:30.646Z"
   },
   {
    "duration": 0,
    "start_time": "2022-06-29T14:37:30.647Z"
   },
   {
    "duration": 0,
    "start_time": "2022-06-29T14:37:30.648Z"
   },
   {
    "duration": 0,
    "start_time": "2022-06-29T14:37:30.649Z"
   },
   {
    "duration": 0,
    "start_time": "2022-06-29T14:37:30.650Z"
   },
   {
    "duration": 17,
    "start_time": "2022-06-29T14:37:58.189Z"
   },
   {
    "duration": 6,
    "start_time": "2022-06-29T14:38:05.417Z"
   },
   {
    "duration": 727,
    "start_time": "2022-06-29T14:38:05.426Z"
   },
   {
    "duration": 15,
    "start_time": "2022-06-29T14:38:06.156Z"
   },
   {
    "duration": 8,
    "start_time": "2022-06-29T14:38:06.173Z"
   },
   {
    "duration": 10,
    "start_time": "2022-06-29T14:38:06.184Z"
   },
   {
    "duration": 41,
    "start_time": "2022-06-29T14:38:06.196Z"
   },
   {
    "duration": 110,
    "start_time": "2022-06-29T14:38:06.238Z"
   },
   {
    "duration": 195,
    "start_time": "2022-06-29T14:38:06.350Z"
   },
   {
    "duration": 66,
    "start_time": "2022-06-29T14:38:06.546Z"
   },
   {
    "duration": 416,
    "start_time": "2022-06-29T14:38:06.614Z"
   },
   {
    "duration": 462,
    "start_time": "2022-06-29T14:38:07.032Z"
   },
   {
    "duration": 364,
    "start_time": "2022-06-29T14:38:07.496Z"
   },
   {
    "duration": 101,
    "start_time": "2022-06-29T14:38:07.861Z"
   },
   {
    "duration": 112,
    "start_time": "2022-06-29T14:38:07.964Z"
   },
   {
    "duration": 19,
    "start_time": "2022-06-29T14:38:08.078Z"
   },
   {
    "duration": 31,
    "start_time": "2022-06-29T14:38:08.099Z"
   },
   {
    "duration": 22,
    "start_time": "2022-06-29T14:38:08.132Z"
   },
   {
    "duration": 19,
    "start_time": "2022-06-29T14:38:08.156Z"
   },
   {
    "duration": 72,
    "start_time": "2022-06-29T14:38:08.177Z"
   },
   {
    "duration": 18,
    "start_time": "2022-06-29T14:38:08.251Z"
   },
   {
    "duration": 7,
    "start_time": "2022-06-29T14:38:08.270Z"
   },
   {
    "duration": 81,
    "start_time": "2022-06-29T14:38:08.278Z"
   },
   {
    "duration": 51,
    "start_time": "2022-06-29T14:38:08.361Z"
   },
   {
    "duration": 22,
    "start_time": "2022-06-29T14:38:08.413Z"
   },
   {
    "duration": 4,
    "start_time": "2022-06-29T14:38:08.436Z"
   },
   {
    "duration": 19,
    "start_time": "2022-06-29T14:38:08.441Z"
   },
   {
    "duration": 16,
    "start_time": "2022-06-29T14:38:08.461Z"
   },
   {
    "duration": 20,
    "start_time": "2022-06-29T14:38:08.478Z"
   },
   {
    "duration": 41,
    "start_time": "2022-06-29T14:38:08.502Z"
   },
   {
    "duration": 18,
    "start_time": "2022-06-29T14:38:08.544Z"
   },
   {
    "duration": 18,
    "start_time": "2022-06-29T14:38:08.564Z"
   },
   {
    "duration": 4,
    "start_time": "2022-06-29T14:38:08.584Z"
   },
   {
    "duration": 50,
    "start_time": "2022-06-29T14:38:08.590Z"
   },
   {
    "duration": 2,
    "start_time": "2022-06-29T14:38:08.641Z"
   },
   {
    "duration": 5,
    "start_time": "2022-06-29T14:38:08.645Z"
   },
   {
    "duration": 44,
    "start_time": "2022-06-29T14:38:08.651Z"
   },
   {
    "duration": 33,
    "start_time": "2022-06-29T14:38:08.696Z"
   },
   {
    "duration": 31,
    "start_time": "2022-06-29T14:38:08.731Z"
   },
   {
    "duration": 45,
    "start_time": "2022-06-29T14:38:08.763Z"
   },
   {
    "duration": 22,
    "start_time": "2022-06-29T14:38:08.810Z"
   },
   {
    "duration": 28,
    "start_time": "2022-06-29T14:38:08.833Z"
   },
   {
    "duration": 3,
    "start_time": "2022-06-29T14:38:08.863Z"
   },
   {
    "duration": 96,
    "start_time": "2022-06-29T14:38:08.868Z"
   },
   {
    "duration": 80,
    "start_time": "2022-06-29T14:38:08.965Z"
   },
   {
    "duration": 14,
    "start_time": "2022-06-29T14:38:09.047Z"
   },
   {
    "duration": 24,
    "start_time": "2022-06-29T14:38:09.062Z"
   },
   {
    "duration": 3,
    "start_time": "2022-06-29T14:38:09.088Z"
   },
   {
    "duration": 12,
    "start_time": "2022-06-29T14:38:09.093Z"
   },
   {
    "duration": 45,
    "start_time": "2022-06-29T14:38:09.129Z"
   },
   {
    "duration": 56,
    "start_time": "2022-06-29T14:38:09.176Z"
   },
   {
    "duration": 4,
    "start_time": "2022-06-29T14:38:09.233Z"
   },
   {
    "duration": 6,
    "start_time": "2022-06-29T14:38:09.239Z"
   },
   {
    "duration": 29,
    "start_time": "2022-06-29T14:38:09.247Z"
   },
   {
    "duration": 18,
    "start_time": "2022-06-29T14:38:09.278Z"
   },
   {
    "duration": 47,
    "start_time": "2022-06-29T14:38:09.298Z"
   },
   {
    "duration": 9,
    "start_time": "2022-06-29T14:38:09.346Z"
   },
   {
    "duration": 33,
    "start_time": "2022-06-29T14:38:09.357Z"
   },
   {
    "duration": 57,
    "start_time": "2022-06-29T14:38:09.391Z"
   },
   {
    "duration": 4,
    "start_time": "2022-06-29T14:38:09.449Z"
   },
   {
    "duration": 13,
    "start_time": "2022-06-29T14:38:09.455Z"
   },
   {
    "duration": 22,
    "start_time": "2022-06-29T14:38:09.469Z"
   },
   {
    "duration": 43,
    "start_time": "2022-06-29T14:38:09.492Z"
   },
   {
    "duration": 12,
    "start_time": "2022-06-29T14:38:09.537Z"
   },
   {
    "duration": 9,
    "start_time": "2022-06-29T14:38:09.551Z"
   },
   {
    "duration": 34,
    "start_time": "2022-06-29T14:38:09.561Z"
   },
   {
    "duration": 161,
    "start_time": "2022-06-29T14:38:09.597Z"
   },
   {
    "duration": 34,
    "start_time": "2022-06-29T14:38:09.759Z"
   },
   {
    "duration": 39,
    "start_time": "2022-06-29T14:38:09.795Z"
   },
   {
    "duration": 3,
    "start_time": "2022-06-29T14:38:09.835Z"
   },
   {
    "duration": 12,
    "start_time": "2022-06-29T14:38:09.840Z"
   },
   {
    "duration": 421,
    "start_time": "2022-06-29T14:38:09.854Z"
   },
   {
    "duration": 1077,
    "start_time": "2022-06-29T14:38:10.276Z"
   },
   {
    "duration": 48,
    "start_time": "2022-06-29T14:38:11.355Z"
   },
   {
    "duration": 325,
    "start_time": "2022-06-29T14:38:11.404Z"
   },
   {
    "duration": 12,
    "start_time": "2022-06-29T14:38:11.731Z"
   },
   {
    "duration": 85,
    "start_time": "2022-06-29T14:38:11.745Z"
   },
   {
    "duration": 4,
    "start_time": "2022-06-29T14:38:11.832Z"
   },
   {
    "duration": 27,
    "start_time": "2022-06-29T14:38:11.838Z"
   },
   {
    "duration": 5,
    "start_time": "2022-06-29T14:38:11.867Z"
   },
   {
    "duration": 63,
    "start_time": "2022-06-29T14:38:11.873Z"
   },
   {
    "duration": 4,
    "start_time": "2022-06-29T14:38:11.937Z"
   },
   {
    "duration": 21,
    "start_time": "2022-06-29T14:38:11.942Z"
   },
   {
    "duration": 91,
    "start_time": "2022-06-29T14:38:11.968Z"
   },
   {
    "duration": 13,
    "start_time": "2022-06-29T14:38:12.061Z"
   },
   {
    "duration": 16,
    "start_time": "2022-06-29T14:38:12.076Z"
   },
   {
    "duration": 6,
    "start_time": "2022-06-29T14:38:12.094Z"
   },
   {
    "duration": 6,
    "start_time": "2022-06-29T14:38:12.101Z"
   },
   {
    "duration": 4,
    "start_time": "2022-06-29T14:38:12.109Z"
   },
   {
    "duration": 2,
    "start_time": "2022-06-29T14:38:12.129Z"
   },
   {
    "duration": 4,
    "start_time": "2022-06-29T14:38:12.133Z"
   },
   {
    "duration": 24,
    "start_time": "2022-06-29T14:38:12.139Z"
   },
   {
    "duration": 0,
    "start_time": "2022-06-29T14:38:12.164Z"
   },
   {
    "duration": 0,
    "start_time": "2022-06-29T14:38:12.165Z"
   },
   {
    "duration": 0,
    "start_time": "2022-06-29T14:38:12.166Z"
   },
   {
    "duration": 0,
    "start_time": "2022-06-29T14:38:12.167Z"
   },
   {
    "duration": 0,
    "start_time": "2022-06-29T14:38:12.168Z"
   },
   {
    "duration": 0,
    "start_time": "2022-06-29T14:38:12.169Z"
   },
   {
    "duration": 0,
    "start_time": "2022-06-29T14:38:12.170Z"
   },
   {
    "duration": 21,
    "start_time": "2022-06-29T14:38:52.766Z"
   },
   {
    "duration": 9,
    "start_time": "2022-06-29T14:39:08.559Z"
   },
   {
    "duration": 4,
    "start_time": "2022-06-29T14:39:33.167Z"
   },
   {
    "duration": 12,
    "start_time": "2022-06-29T14:40:38.725Z"
   },
   {
    "duration": 9,
    "start_time": "2022-06-29T14:42:32.123Z"
   },
   {
    "duration": 10,
    "start_time": "2022-06-29T14:48:43.688Z"
   },
   {
    "duration": 3,
    "start_time": "2022-06-29T14:48:44.852Z"
   },
   {
    "duration": 37,
    "start_time": "2022-06-29T14:48:51.444Z"
   },
   {
    "duration": 4,
    "start_time": "2022-06-29T14:48:55.862Z"
   },
   {
    "duration": 15,
    "start_time": "2022-06-29T14:57:57.401Z"
   },
   {
    "duration": 10,
    "start_time": "2022-06-29T14:57:58.779Z"
   },
   {
    "duration": 8,
    "start_time": "2022-06-29T14:58:40.563Z"
   },
   {
    "duration": 19,
    "start_time": "2022-06-29T14:59:06.461Z"
   },
   {
    "duration": 41,
    "start_time": "2022-06-29T14:59:44.422Z"
   },
   {
    "duration": 4,
    "start_time": "2022-06-29T14:59:48.424Z"
   },
   {
    "duration": 22,
    "start_time": "2022-06-29T15:00:01.709Z"
   },
   {
    "duration": 6,
    "start_time": "2022-06-29T15:00:17.943Z"
   },
   {
    "duration": 80,
    "start_time": "2022-06-29T15:00:47.607Z"
   },
   {
    "duration": 13,
    "start_time": "2022-06-29T15:01:07.664Z"
   },
   {
    "duration": 12,
    "start_time": "2022-06-29T15:01:11.671Z"
   },
   {
    "duration": 5,
    "start_time": "2022-06-29T15:04:13.071Z"
   },
   {
    "duration": 729,
    "start_time": "2022-06-29T15:04:13.084Z"
   },
   {
    "duration": 20,
    "start_time": "2022-06-29T15:04:13.815Z"
   },
   {
    "duration": 18,
    "start_time": "2022-06-29T15:04:13.836Z"
   },
   {
    "duration": 17,
    "start_time": "2022-06-29T15:04:13.856Z"
   },
   {
    "duration": 65,
    "start_time": "2022-06-29T15:04:13.874Z"
   },
   {
    "duration": 105,
    "start_time": "2022-06-29T15:04:13.940Z"
   },
   {
    "duration": 92,
    "start_time": "2022-06-29T15:04:14.047Z"
   },
   {
    "duration": 68,
    "start_time": "2022-06-29T15:04:14.141Z"
   },
   {
    "duration": 382,
    "start_time": "2022-06-29T15:04:14.210Z"
   },
   {
    "duration": 488,
    "start_time": "2022-06-29T15:04:14.594Z"
   },
   {
    "duration": 387,
    "start_time": "2022-06-29T15:04:15.084Z"
   },
   {
    "duration": 108,
    "start_time": "2022-06-29T15:04:15.472Z"
   },
   {
    "duration": 100,
    "start_time": "2022-06-29T15:04:15.582Z"
   },
   {
    "duration": 20,
    "start_time": "2022-06-29T15:04:15.683Z"
   },
   {
    "duration": 31,
    "start_time": "2022-06-29T15:04:15.704Z"
   },
   {
    "duration": 19,
    "start_time": "2022-06-29T15:04:15.737Z"
   },
   {
    "duration": 16,
    "start_time": "2022-06-29T15:04:15.757Z"
   },
   {
    "duration": 75,
    "start_time": "2022-06-29T15:04:15.775Z"
   },
   {
    "duration": 16,
    "start_time": "2022-06-29T15:04:15.852Z"
   },
   {
    "duration": 6,
    "start_time": "2022-06-29T15:04:15.869Z"
   },
   {
    "duration": 81,
    "start_time": "2022-06-29T15:04:15.877Z"
   },
   {
    "duration": 50,
    "start_time": "2022-06-29T15:04:15.960Z"
   },
   {
    "duration": 22,
    "start_time": "2022-06-29T15:04:16.012Z"
   },
   {
    "duration": 5,
    "start_time": "2022-06-29T15:04:16.036Z"
   },
   {
    "duration": 37,
    "start_time": "2022-06-29T15:04:16.042Z"
   },
   {
    "duration": 29,
    "start_time": "2022-06-29T15:04:16.081Z"
   },
   {
    "duration": 26,
    "start_time": "2022-06-29T15:04:16.112Z"
   },
   {
    "duration": 20,
    "start_time": "2022-06-29T15:04:16.142Z"
   },
   {
    "duration": 19,
    "start_time": "2022-06-29T15:04:16.164Z"
   },
   {
    "duration": 23,
    "start_time": "2022-06-29T15:04:16.185Z"
   },
   {
    "duration": 20,
    "start_time": "2022-06-29T15:04:16.210Z"
   },
   {
    "duration": 25,
    "start_time": "2022-06-29T15:04:16.232Z"
   },
   {
    "duration": 2,
    "start_time": "2022-06-29T15:04:16.258Z"
   },
   {
    "duration": 5,
    "start_time": "2022-06-29T15:04:16.262Z"
   },
   {
    "duration": 61,
    "start_time": "2022-06-29T15:04:16.268Z"
   },
   {
    "duration": 21,
    "start_time": "2022-06-29T15:04:16.331Z"
   },
   {
    "duration": 35,
    "start_time": "2022-06-29T15:04:16.353Z"
   },
   {
    "duration": 64,
    "start_time": "2022-06-29T15:04:16.390Z"
   },
   {
    "duration": 5,
    "start_time": "2022-06-29T15:04:16.456Z"
   },
   {
    "duration": 30,
    "start_time": "2022-06-29T15:04:16.463Z"
   },
   {
    "duration": 4,
    "start_time": "2022-06-29T15:04:16.495Z"
   },
   {
    "duration": 96,
    "start_time": "2022-06-29T15:04:16.501Z"
   },
   {
    "duration": 81,
    "start_time": "2022-06-29T15:04:16.599Z"
   },
   {
    "duration": 14,
    "start_time": "2022-06-29T15:04:16.682Z"
   },
   {
    "duration": 43,
    "start_time": "2022-06-29T15:04:16.697Z"
   },
   {
    "duration": 4,
    "start_time": "2022-06-29T15:04:16.741Z"
   },
   {
    "duration": 14,
    "start_time": "2022-06-29T15:04:16.747Z"
   },
   {
    "duration": 41,
    "start_time": "2022-06-29T15:04:16.763Z"
   },
   {
    "duration": 61,
    "start_time": "2022-06-29T15:04:16.806Z"
   },
   {
    "duration": 6,
    "start_time": "2022-06-29T15:04:16.869Z"
   },
   {
    "duration": 15,
    "start_time": "2022-06-29T15:04:16.877Z"
   },
   {
    "duration": 46,
    "start_time": "2022-06-29T15:04:16.894Z"
   },
   {
    "duration": 18,
    "start_time": "2022-06-29T15:04:16.941Z"
   },
   {
    "duration": 21,
    "start_time": "2022-06-29T15:04:16.961Z"
   },
   {
    "duration": 9,
    "start_time": "2022-06-29T15:04:16.983Z"
   },
   {
    "duration": 49,
    "start_time": "2022-06-29T15:04:16.994Z"
   },
   {
    "duration": 32,
    "start_time": "2022-06-29T15:04:17.045Z"
   },
   {
    "duration": 3,
    "start_time": "2022-06-29T15:04:17.079Z"
   },
   {
    "duration": 13,
    "start_time": "2022-06-29T15:04:17.084Z"
   },
   {
    "duration": 42,
    "start_time": "2022-06-29T15:04:17.099Z"
   },
   {
    "duration": 29,
    "start_time": "2022-06-29T15:04:17.142Z"
   },
   {
    "duration": 13,
    "start_time": "2022-06-29T15:04:17.173Z"
   },
   {
    "duration": 12,
    "start_time": "2022-06-29T15:04:17.187Z"
   },
   {
    "duration": 60,
    "start_time": "2022-06-29T15:04:17.201Z"
   },
   {
    "duration": 135,
    "start_time": "2022-06-29T15:04:17.263Z"
   },
   {
    "duration": 43,
    "start_time": "2022-06-29T15:04:17.400Z"
   },
   {
    "duration": 25,
    "start_time": "2022-06-29T15:04:17.445Z"
   },
   {
    "duration": 4,
    "start_time": "2022-06-29T15:04:17.472Z"
   },
   {
    "duration": 10,
    "start_time": "2022-06-29T15:04:17.477Z"
   },
   {
    "duration": 449,
    "start_time": "2022-06-29T15:04:17.488Z"
   },
   {
    "duration": 1156,
    "start_time": "2022-06-29T15:04:17.939Z"
   },
   {
    "duration": 55,
    "start_time": "2022-06-29T15:04:19.097Z"
   },
   {
    "duration": 343,
    "start_time": "2022-06-29T15:04:19.153Z"
   },
   {
    "duration": 11,
    "start_time": "2022-06-29T15:04:19.498Z"
   },
   {
    "duration": 87,
    "start_time": "2022-06-29T15:04:19.510Z"
   },
   {
    "duration": 4,
    "start_time": "2022-06-29T15:04:19.598Z"
   },
   {
    "duration": 42,
    "start_time": "2022-06-29T15:04:19.603Z"
   },
   {
    "duration": 39,
    "start_time": "2022-06-29T15:04:19.646Z"
   },
   {
    "duration": 4,
    "start_time": "2022-06-29T15:04:19.687Z"
   },
   {
    "duration": 98,
    "start_time": "2022-06-29T15:04:19.692Z"
   },
   {
    "duration": 13,
    "start_time": "2022-06-29T15:04:19.792Z"
   },
   {
    "duration": 23,
    "start_time": "2022-06-29T15:04:19.810Z"
   },
   {
    "duration": 5,
    "start_time": "2022-06-29T15:04:19.835Z"
   },
   {
    "duration": 5,
    "start_time": "2022-06-29T15:04:19.841Z"
   },
   {
    "duration": 5,
    "start_time": "2022-06-29T15:04:19.848Z"
   },
   {
    "duration": 8,
    "start_time": "2022-06-29T15:04:19.855Z"
   },
   {
    "duration": 5,
    "start_time": "2022-06-29T15:04:19.864Z"
   },
   {
    "duration": 25,
    "start_time": "2022-06-29T15:04:19.870Z"
   },
   {
    "duration": 0,
    "start_time": "2022-06-29T15:04:19.897Z"
   },
   {
    "duration": 0,
    "start_time": "2022-06-29T15:04:19.898Z"
   },
   {
    "duration": 0,
    "start_time": "2022-06-29T15:04:19.900Z"
   },
   {
    "duration": 0,
    "start_time": "2022-06-29T15:04:19.901Z"
   },
   {
    "duration": 0,
    "start_time": "2022-06-29T15:04:19.928Z"
   },
   {
    "duration": 0,
    "start_time": "2022-06-29T15:04:19.930Z"
   },
   {
    "duration": 0,
    "start_time": "2022-06-29T15:04:19.931Z"
   },
   {
    "duration": 6,
    "start_time": "2022-06-29T15:07:06.991Z"
   },
   {
    "duration": 753,
    "start_time": "2022-06-29T15:07:07.003Z"
   },
   {
    "duration": 13,
    "start_time": "2022-06-29T15:07:07.758Z"
   },
   {
    "duration": 5,
    "start_time": "2022-06-29T15:07:07.772Z"
   },
   {
    "duration": 6,
    "start_time": "2022-06-29T15:07:07.779Z"
   },
   {
    "duration": 63,
    "start_time": "2022-06-29T15:07:07.787Z"
   },
   {
    "duration": 109,
    "start_time": "2022-06-29T15:07:07.851Z"
   },
   {
    "duration": 97,
    "start_time": "2022-06-29T15:07:07.961Z"
   },
   {
    "duration": 81,
    "start_time": "2022-06-29T15:07:08.059Z"
   },
   {
    "duration": 390,
    "start_time": "2022-06-29T15:07:08.141Z"
   },
   {
    "duration": 469,
    "start_time": "2022-06-29T15:07:08.533Z"
   },
   {
    "duration": 365,
    "start_time": "2022-06-29T15:07:09.004Z"
   },
   {
    "duration": 102,
    "start_time": "2022-06-29T15:07:09.370Z"
   },
   {
    "duration": 106,
    "start_time": "2022-06-29T15:07:09.474Z"
   },
   {
    "duration": 17,
    "start_time": "2022-06-29T15:07:09.581Z"
   },
   {
    "duration": 29,
    "start_time": "2022-06-29T15:07:09.600Z"
   },
   {
    "duration": 17,
    "start_time": "2022-06-29T15:07:09.631Z"
   },
   {
    "duration": 16,
    "start_time": "2022-06-29T15:07:09.649Z"
   },
   {
    "duration": 74,
    "start_time": "2022-06-29T15:07:09.667Z"
   },
   {
    "duration": 21,
    "start_time": "2022-06-29T15:07:09.743Z"
   },
   {
    "duration": 16,
    "start_time": "2022-06-29T15:07:09.766Z"
   },
   {
    "duration": 93,
    "start_time": "2022-06-29T15:07:09.784Z"
   },
   {
    "duration": 62,
    "start_time": "2022-06-29T15:07:09.879Z"
   },
   {
    "duration": 12,
    "start_time": "2022-06-29T15:07:09.943Z"
   },
   {
    "duration": 3,
    "start_time": "2022-06-29T15:07:09.957Z"
   },
   {
    "duration": 19,
    "start_time": "2022-06-29T15:07:09.961Z"
   },
   {
    "duration": 18,
    "start_time": "2022-06-29T15:07:09.981Z"
   },
   {
    "duration": 38,
    "start_time": "2022-06-29T15:07:10.000Z"
   },
   {
    "duration": 16,
    "start_time": "2022-06-29T15:07:10.043Z"
   },
   {
    "duration": 20,
    "start_time": "2022-06-29T15:07:10.061Z"
   },
   {
    "duration": 17,
    "start_time": "2022-06-29T15:07:10.083Z"
   },
   {
    "duration": 5,
    "start_time": "2022-06-29T15:07:10.101Z"
   },
   {
    "duration": 24,
    "start_time": "2022-06-29T15:07:10.129Z"
   },
   {
    "duration": 2,
    "start_time": "2022-06-29T15:07:10.155Z"
   },
   {
    "duration": 6,
    "start_time": "2022-06-29T15:07:10.158Z"
   },
   {
    "duration": 43,
    "start_time": "2022-06-29T15:07:10.165Z"
   },
   {
    "duration": 27,
    "start_time": "2022-06-29T15:07:10.210Z"
   },
   {
    "duration": 35,
    "start_time": "2022-06-29T15:07:10.239Z"
   },
   {
    "duration": 67,
    "start_time": "2022-06-29T15:07:10.275Z"
   },
   {
    "duration": 5,
    "start_time": "2022-06-29T15:07:10.343Z"
   },
   {
    "duration": 35,
    "start_time": "2022-06-29T15:07:10.349Z"
   },
   {
    "duration": 3,
    "start_time": "2022-06-29T15:07:10.386Z"
   },
   {
    "duration": 93,
    "start_time": "2022-06-29T15:07:10.391Z"
   },
   {
    "duration": 85,
    "start_time": "2022-06-29T15:07:10.485Z"
   },
   {
    "duration": 14,
    "start_time": "2022-06-29T15:07:10.572Z"
   },
   {
    "duration": 44,
    "start_time": "2022-06-29T15:07:10.588Z"
   },
   {
    "duration": 14,
    "start_time": "2022-06-29T15:07:10.634Z"
   },
   {
    "duration": 12,
    "start_time": "2022-06-29T15:07:10.649Z"
   },
   {
    "duration": 47,
    "start_time": "2022-06-29T15:07:10.663Z"
   },
   {
    "duration": 40,
    "start_time": "2022-06-29T15:07:10.712Z"
   },
   {
    "duration": 5,
    "start_time": "2022-06-29T15:07:10.754Z"
   },
   {
    "duration": 8,
    "start_time": "2022-06-29T15:07:10.760Z"
   },
   {
    "duration": 37,
    "start_time": "2022-06-29T15:07:10.769Z"
   },
   {
    "duration": 32,
    "start_time": "2022-06-29T15:07:10.808Z"
   },
   {
    "duration": 21,
    "start_time": "2022-06-29T15:07:10.842Z"
   },
   {
    "duration": 8,
    "start_time": "2022-06-29T15:07:10.865Z"
   },
   {
    "duration": 38,
    "start_time": "2022-06-29T15:07:10.875Z"
   },
   {
    "duration": 36,
    "start_time": "2022-06-29T15:07:10.929Z"
   },
   {
    "duration": 4,
    "start_time": "2022-06-29T15:07:10.966Z"
   },
   {
    "duration": 31,
    "start_time": "2022-06-29T15:07:10.971Z"
   },
   {
    "duration": 24,
    "start_time": "2022-06-29T15:07:11.003Z"
   },
   {
    "duration": 27,
    "start_time": "2022-06-29T15:07:11.028Z"
   },
   {
    "duration": 12,
    "start_time": "2022-06-29T15:07:11.057Z"
   },
   {
    "duration": 13,
    "start_time": "2022-06-29T15:07:11.070Z"
   },
   {
    "duration": 51,
    "start_time": "2022-06-29T15:07:11.084Z"
   },
   {
    "duration": 140,
    "start_time": "2022-06-29T15:07:11.137Z"
   },
   {
    "duration": 50,
    "start_time": "2022-06-29T15:07:11.279Z"
   },
   {
    "duration": 24,
    "start_time": "2022-06-29T15:07:11.331Z"
   },
   {
    "duration": 3,
    "start_time": "2022-06-29T15:07:11.357Z"
   },
   {
    "duration": 9,
    "start_time": "2022-06-29T15:07:11.362Z"
   },
   {
    "duration": 532,
    "start_time": "2022-06-29T15:07:11.372Z"
   },
   {
    "duration": 1045,
    "start_time": "2022-06-29T15:07:11.905Z"
   },
   {
    "duration": 50,
    "start_time": "2022-06-29T15:07:12.952Z"
   },
   {
    "duration": 333,
    "start_time": "2022-06-29T15:07:13.004Z"
   },
   {
    "duration": 12,
    "start_time": "2022-06-29T15:07:13.339Z"
   },
   {
    "duration": 90,
    "start_time": "2022-06-29T15:07:13.353Z"
   },
   {
    "duration": 4,
    "start_time": "2022-06-29T15:07:13.445Z"
   },
   {
    "duration": 24,
    "start_time": "2022-06-29T15:07:13.450Z"
   },
   {
    "duration": 53,
    "start_time": "2022-06-29T15:07:13.476Z"
   },
   {
    "duration": 4,
    "start_time": "2022-06-29T15:07:13.531Z"
   },
   {
    "duration": 62,
    "start_time": "2022-06-29T15:07:13.537Z"
   },
   {
    "duration": 0,
    "start_time": "2022-06-29T15:07:13.601Z"
   },
   {
    "duration": 0,
    "start_time": "2022-06-29T15:07:13.603Z"
   },
   {
    "duration": 0,
    "start_time": "2022-06-29T15:07:13.604Z"
   },
   {
    "duration": 0,
    "start_time": "2022-06-29T15:07:13.605Z"
   },
   {
    "duration": 0,
    "start_time": "2022-06-29T15:07:13.630Z"
   },
   {
    "duration": 0,
    "start_time": "2022-06-29T15:07:13.631Z"
   },
   {
    "duration": 0,
    "start_time": "2022-06-29T15:07:13.632Z"
   },
   {
    "duration": 0,
    "start_time": "2022-06-29T15:07:13.633Z"
   },
   {
    "duration": 0,
    "start_time": "2022-06-29T15:07:13.633Z"
   },
   {
    "duration": 0,
    "start_time": "2022-06-29T15:07:13.634Z"
   },
   {
    "duration": 0,
    "start_time": "2022-06-29T15:07:13.635Z"
   },
   {
    "duration": 0,
    "start_time": "2022-06-29T15:07:13.636Z"
   },
   {
    "duration": 0,
    "start_time": "2022-06-29T15:07:13.637Z"
   },
   {
    "duration": 0,
    "start_time": "2022-06-29T15:07:13.638Z"
   },
   {
    "duration": 0,
    "start_time": "2022-06-29T15:07:13.639Z"
   },
   {
    "duration": 16,
    "start_time": "2022-06-29T15:09:40.760Z"
   },
   {
    "duration": 39,
    "start_time": "2022-06-29T15:09:42.229Z"
   },
   {
    "duration": 3,
    "start_time": "2022-06-29T15:10:01.581Z"
   },
   {
    "duration": 5,
    "start_time": "2022-06-29T15:11:51.048Z"
   },
   {
    "duration": 672,
    "start_time": "2022-06-29T15:11:51.062Z"
   },
   {
    "duration": 12,
    "start_time": "2022-06-29T15:11:51.736Z"
   },
   {
    "duration": 6,
    "start_time": "2022-06-29T15:11:51.750Z"
   },
   {
    "duration": 5,
    "start_time": "2022-06-29T15:11:51.758Z"
   },
   {
    "duration": 70,
    "start_time": "2022-06-29T15:11:51.764Z"
   },
   {
    "duration": 108,
    "start_time": "2022-06-29T15:11:51.835Z"
   },
   {
    "duration": 98,
    "start_time": "2022-06-29T15:11:51.945Z"
   },
   {
    "duration": 84,
    "start_time": "2022-06-29T15:11:52.045Z"
   },
   {
    "duration": 366,
    "start_time": "2022-06-29T15:11:52.130Z"
   },
   {
    "duration": 453,
    "start_time": "2022-06-29T15:11:52.498Z"
   },
   {
    "duration": 364,
    "start_time": "2022-06-29T15:11:52.953Z"
   },
   {
    "duration": 99,
    "start_time": "2022-06-29T15:11:53.319Z"
   },
   {
    "duration": 102,
    "start_time": "2022-06-29T15:11:53.428Z"
   },
   {
    "duration": 17,
    "start_time": "2022-06-29T15:11:53.532Z"
   },
   {
    "duration": 29,
    "start_time": "2022-06-29T15:11:53.551Z"
   },
   {
    "duration": 23,
    "start_time": "2022-06-29T15:11:53.582Z"
   },
   {
    "duration": 29,
    "start_time": "2022-06-29T15:11:53.607Z"
   },
   {
    "duration": 65,
    "start_time": "2022-06-29T15:11:53.637Z"
   },
   {
    "duration": 26,
    "start_time": "2022-06-29T15:11:53.704Z"
   },
   {
    "duration": 7,
    "start_time": "2022-06-29T15:11:53.731Z"
   },
   {
    "duration": 92,
    "start_time": "2022-06-29T15:11:53.740Z"
   },
   {
    "duration": 50,
    "start_time": "2022-06-29T15:11:53.833Z"
   },
   {
    "duration": 10,
    "start_time": "2022-06-29T15:11:53.884Z"
   },
   {
    "duration": 4,
    "start_time": "2022-06-29T15:11:53.895Z"
   },
   {
    "duration": 43,
    "start_time": "2022-06-29T15:11:53.900Z"
   },
   {
    "duration": 17,
    "start_time": "2022-06-29T15:11:53.944Z"
   },
   {
    "duration": 30,
    "start_time": "2022-06-29T15:11:53.963Z"
   },
   {
    "duration": 16,
    "start_time": "2022-06-29T15:11:53.997Z"
   },
   {
    "duration": 26,
    "start_time": "2022-06-29T15:11:54.015Z"
   },
   {
    "duration": 16,
    "start_time": "2022-06-29T15:11:54.043Z"
   },
   {
    "duration": 4,
    "start_time": "2022-06-29T15:11:54.061Z"
   },
   {
    "duration": 24,
    "start_time": "2022-06-29T15:11:54.067Z"
   },
   {
    "duration": 2,
    "start_time": "2022-06-29T15:11:54.093Z"
   },
   {
    "duration": 5,
    "start_time": "2022-06-29T15:11:54.096Z"
   },
   {
    "duration": 62,
    "start_time": "2022-06-29T15:11:54.103Z"
   },
   {
    "duration": 16,
    "start_time": "2022-06-29T15:11:54.167Z"
   },
   {
    "duration": 32,
    "start_time": "2022-06-29T15:11:54.184Z"
   },
   {
    "duration": 46,
    "start_time": "2022-06-29T15:11:54.229Z"
   },
   {
    "duration": 4,
    "start_time": "2022-06-29T15:11:54.277Z"
   },
   {
    "duration": 46,
    "start_time": "2022-06-29T15:11:54.283Z"
   },
   {
    "duration": 4,
    "start_time": "2022-06-29T15:11:54.331Z"
   },
   {
    "duration": 93,
    "start_time": "2022-06-29T15:11:54.336Z"
   },
   {
    "duration": 71,
    "start_time": "2022-06-29T15:11:54.431Z"
   },
   {
    "duration": 26,
    "start_time": "2022-06-29T15:11:54.504Z"
   },
   {
    "duration": 25,
    "start_time": "2022-06-29T15:11:54.531Z"
   },
   {
    "duration": 4,
    "start_time": "2022-06-29T15:11:54.557Z"
   },
   {
    "duration": 12,
    "start_time": "2022-06-29T15:11:54.562Z"
   },
   {
    "duration": 62,
    "start_time": "2022-06-29T15:11:54.575Z"
   },
   {
    "duration": 42,
    "start_time": "2022-06-29T15:11:54.638Z"
   },
   {
    "duration": 5,
    "start_time": "2022-06-29T15:11:54.682Z"
   },
   {
    "duration": 6,
    "start_time": "2022-06-29T15:11:54.688Z"
   },
   {
    "duration": 54,
    "start_time": "2022-06-29T15:11:54.695Z"
   },
   {
    "duration": 19,
    "start_time": "2022-06-29T15:11:54.751Z"
   },
   {
    "duration": 23,
    "start_time": "2022-06-29T15:11:54.771Z"
   },
   {
    "duration": 9,
    "start_time": "2022-06-29T15:11:54.795Z"
   },
   {
    "duration": 54,
    "start_time": "2022-06-29T15:11:54.805Z"
   },
   {
    "duration": 40,
    "start_time": "2022-06-29T15:11:54.860Z"
   },
   {
    "duration": 4,
    "start_time": "2022-06-29T15:11:54.901Z"
   },
   {
    "duration": 28,
    "start_time": "2022-06-29T15:11:54.906Z"
   },
   {
    "duration": 19,
    "start_time": "2022-06-29T15:11:54.936Z"
   },
   {
    "duration": 30,
    "start_time": "2022-06-29T15:11:54.957Z"
   },
   {
    "duration": 44,
    "start_time": "2022-06-29T15:11:54.989Z"
   },
   {
    "duration": 11,
    "start_time": "2022-06-29T15:11:55.035Z"
   },
   {
    "duration": 42,
    "start_time": "2022-06-29T15:11:55.047Z"
   },
   {
    "duration": 154,
    "start_time": "2022-06-29T15:11:55.091Z"
   },
   {
    "duration": 35,
    "start_time": "2022-06-29T15:11:55.247Z"
   },
   {
    "duration": 27,
    "start_time": "2022-06-29T15:11:55.283Z"
   },
   {
    "duration": 18,
    "start_time": "2022-06-29T15:11:55.312Z"
   },
   {
    "duration": 10,
    "start_time": "2022-06-29T15:11:55.331Z"
   },
   {
    "duration": 450,
    "start_time": "2022-06-29T15:11:55.342Z"
   },
   {
    "duration": 1099,
    "start_time": "2022-06-29T15:11:55.794Z"
   },
   {
    "duration": 59,
    "start_time": "2022-06-29T15:11:56.895Z"
   },
   {
    "duration": 319,
    "start_time": "2022-06-29T15:11:56.955Z"
   },
   {
    "duration": 12,
    "start_time": "2022-06-29T15:11:57.276Z"
   },
   {
    "duration": 83,
    "start_time": "2022-06-29T15:12:03.715Z"
   },
   {
    "duration": 4,
    "start_time": "2022-06-29T15:12:11.000Z"
   },
   {
    "duration": 15,
    "start_time": "2022-06-29T15:12:14.911Z"
   },
   {
    "duration": 34,
    "start_time": "2022-06-29T15:12:17.870Z"
   },
   {
    "duration": 3,
    "start_time": "2022-06-29T15:12:21.162Z"
   },
   {
    "duration": 15,
    "start_time": "2022-06-29T15:12:41.891Z"
   },
   {
    "duration": 32,
    "start_time": "2022-06-29T15:14:45.372Z"
   },
   {
    "duration": 31,
    "start_time": "2022-06-29T15:15:52.489Z"
   },
   {
    "duration": 16,
    "start_time": "2022-06-29T15:16:02.251Z"
   },
   {
    "duration": 134,
    "start_time": "2022-06-29T15:17:50.330Z"
   },
   {
    "duration": 15,
    "start_time": "2022-06-29T15:18:28.045Z"
   },
   {
    "duration": 12,
    "start_time": "2022-06-29T15:26:40.652Z"
   },
   {
    "duration": 11,
    "start_time": "2022-06-29T15:27:41.426Z"
   },
   {
    "duration": 8,
    "start_time": "2022-06-29T15:31:02.575Z"
   },
   {
    "duration": 746,
    "start_time": "2022-06-29T15:31:02.603Z"
   },
   {
    "duration": 13,
    "start_time": "2022-06-29T15:31:03.351Z"
   },
   {
    "duration": 10,
    "start_time": "2022-06-29T15:31:03.365Z"
   },
   {
    "duration": 6,
    "start_time": "2022-06-29T15:31:03.377Z"
   },
   {
    "duration": 65,
    "start_time": "2022-06-29T15:31:03.385Z"
   },
   {
    "duration": 112,
    "start_time": "2022-06-29T15:31:03.451Z"
   },
   {
    "duration": 105,
    "start_time": "2022-06-29T15:31:03.564Z"
   },
   {
    "duration": 89,
    "start_time": "2022-06-29T15:31:03.671Z"
   },
   {
    "duration": 377,
    "start_time": "2022-06-29T15:31:03.762Z"
   },
   {
    "duration": 462,
    "start_time": "2022-06-29T15:31:04.142Z"
   },
   {
    "duration": 370,
    "start_time": "2022-06-29T15:31:04.606Z"
   },
   {
    "duration": 108,
    "start_time": "2022-06-29T15:31:04.978Z"
   },
   {
    "duration": 111,
    "start_time": "2022-06-29T15:31:05.088Z"
   },
   {
    "duration": 29,
    "start_time": "2022-06-29T15:31:05.201Z"
   },
   {
    "duration": 30,
    "start_time": "2022-06-29T15:31:05.232Z"
   },
   {
    "duration": 32,
    "start_time": "2022-06-29T15:31:05.263Z"
   },
   {
    "duration": 22,
    "start_time": "2022-06-29T15:31:05.297Z"
   },
   {
    "duration": 90,
    "start_time": "2022-06-29T15:31:05.322Z"
   },
   {
    "duration": 19,
    "start_time": "2022-06-29T15:31:05.414Z"
   },
   {
    "duration": 7,
    "start_time": "2022-06-29T15:31:05.434Z"
   },
   {
    "duration": 89,
    "start_time": "2022-06-29T15:31:05.442Z"
   },
   {
    "duration": 50,
    "start_time": "2022-06-29T15:31:05.533Z"
   },
   {
    "duration": 10,
    "start_time": "2022-06-29T15:31:05.584Z"
   },
   {
    "duration": 3,
    "start_time": "2022-06-29T15:31:05.596Z"
   },
   {
    "duration": 38,
    "start_time": "2022-06-29T15:31:05.600Z"
   },
   {
    "duration": 17,
    "start_time": "2022-06-29T15:31:05.639Z"
   },
   {
    "duration": 19,
    "start_time": "2022-06-29T15:31:05.658Z"
   },
   {
    "duration": 17,
    "start_time": "2022-06-29T15:31:05.681Z"
   },
   {
    "duration": 37,
    "start_time": "2022-06-29T15:31:05.699Z"
   },
   {
    "duration": 18,
    "start_time": "2022-06-29T15:31:05.737Z"
   },
   {
    "duration": 6,
    "start_time": "2022-06-29T15:31:05.757Z"
   },
   {
    "duration": 27,
    "start_time": "2022-06-29T15:31:05.764Z"
   },
   {
    "duration": 2,
    "start_time": "2022-06-29T15:31:05.793Z"
   },
   {
    "duration": 32,
    "start_time": "2022-06-29T15:31:05.797Z"
   },
   {
    "duration": 43,
    "start_time": "2022-06-29T15:31:05.831Z"
   },
   {
    "duration": 16,
    "start_time": "2022-06-29T15:31:05.876Z"
   },
   {
    "duration": 40,
    "start_time": "2022-06-29T15:31:05.894Z"
   },
   {
    "duration": 49,
    "start_time": "2022-06-29T15:31:05.935Z"
   },
   {
    "duration": 9,
    "start_time": "2022-06-29T15:31:05.986Z"
   },
   {
    "duration": 53,
    "start_time": "2022-06-29T15:31:05.996Z"
   },
   {
    "duration": 22,
    "start_time": "2022-06-29T15:31:06.052Z"
   },
   {
    "duration": 92,
    "start_time": "2022-06-29T15:31:06.076Z"
   },
   {
    "duration": 90,
    "start_time": "2022-06-29T15:31:06.170Z"
   },
   {
    "duration": 14,
    "start_time": "2022-06-29T15:31:06.262Z"
   },
   {
    "duration": 26,
    "start_time": "2022-06-29T15:31:06.277Z"
   },
   {
    "duration": 24,
    "start_time": "2022-06-29T15:31:06.305Z"
   },
   {
    "duration": 12,
    "start_time": "2022-06-29T15:31:06.330Z"
   },
   {
    "duration": 44,
    "start_time": "2022-06-29T15:31:06.343Z"
   },
   {
    "duration": 55,
    "start_time": "2022-06-29T15:31:06.389Z"
   },
   {
    "duration": 5,
    "start_time": "2022-06-29T15:31:06.446Z"
   },
   {
    "duration": 8,
    "start_time": "2022-06-29T15:31:06.452Z"
   },
   {
    "duration": 36,
    "start_time": "2022-06-29T15:31:06.461Z"
   },
   {
    "duration": 41,
    "start_time": "2022-06-29T15:31:06.499Z"
   },
   {
    "duration": 21,
    "start_time": "2022-06-29T15:31:06.542Z"
   },
   {
    "duration": 9,
    "start_time": "2022-06-29T15:31:06.564Z"
   },
   {
    "duration": 34,
    "start_time": "2022-06-29T15:31:06.574Z"
   },
   {
    "duration": 52,
    "start_time": "2022-06-29T15:31:06.610Z"
   },
   {
    "duration": 4,
    "start_time": "2022-06-29T15:31:06.664Z"
   },
   {
    "duration": 14,
    "start_time": "2022-06-29T15:31:06.669Z"
   },
   {
    "duration": 22,
    "start_time": "2022-06-29T15:31:06.685Z"
   },
   {
    "duration": 43,
    "start_time": "2022-06-29T15:31:06.708Z"
   },
   {
    "duration": 12,
    "start_time": "2022-06-29T15:31:06.753Z"
   },
   {
    "duration": 10,
    "start_time": "2022-06-29T15:31:06.767Z"
   },
   {
    "duration": 55,
    "start_time": "2022-06-29T15:31:06.778Z"
   },
   {
    "duration": 147,
    "start_time": "2022-06-29T15:31:06.834Z"
   },
   {
    "duration": 32,
    "start_time": "2022-06-29T15:31:06.983Z"
   },
   {
    "duration": 29,
    "start_time": "2022-06-29T15:31:07.017Z"
   },
   {
    "duration": 4,
    "start_time": "2022-06-29T15:31:07.048Z"
   },
   {
    "duration": 18,
    "start_time": "2022-06-29T15:31:07.054Z"
   },
   {
    "duration": 628,
    "start_time": "2022-06-29T15:31:07.074Z"
   },
   {
    "duration": 1100,
    "start_time": "2022-06-29T15:31:07.703Z"
   },
   {
    "duration": 56,
    "start_time": "2022-06-29T15:31:08.804Z"
   },
   {
    "duration": 12,
    "start_time": "2022-06-29T15:31:37.862Z"
   },
   {
    "duration": 627,
    "start_time": "2022-06-29T15:31:56.523Z"
   },
   {
    "duration": 13,
    "start_time": "2022-06-29T15:32:00.434Z"
   },
   {
    "duration": 11,
    "start_time": "2022-06-29T15:32:27.488Z"
   },
   {
    "duration": 5,
    "start_time": "2022-06-29T15:32:59.370Z"
   },
   {
    "duration": 658,
    "start_time": "2022-06-29T15:32:59.388Z"
   },
   {
    "duration": 12,
    "start_time": "2022-06-29T15:33:00.048Z"
   },
   {
    "duration": 7,
    "start_time": "2022-06-29T15:33:00.061Z"
   },
   {
    "duration": 9,
    "start_time": "2022-06-29T15:33:00.069Z"
   },
   {
    "duration": 57,
    "start_time": "2022-06-29T15:33:00.080Z"
   },
   {
    "duration": 107,
    "start_time": "2022-06-29T15:33:00.139Z"
   },
   {
    "duration": 102,
    "start_time": "2022-06-29T15:33:00.248Z"
   },
   {
    "duration": 81,
    "start_time": "2022-06-29T15:33:00.352Z"
   },
   {
    "duration": 379,
    "start_time": "2022-06-29T15:33:00.434Z"
   },
   {
    "duration": 503,
    "start_time": "2022-06-29T15:33:00.815Z"
   },
   {
    "duration": 393,
    "start_time": "2022-06-29T15:33:01.319Z"
   },
   {
    "duration": 103,
    "start_time": "2022-06-29T15:33:01.714Z"
   },
   {
    "duration": 109,
    "start_time": "2022-06-29T15:33:01.828Z"
   },
   {
    "duration": 28,
    "start_time": "2022-06-29T15:33:01.938Z"
   },
   {
    "duration": 20,
    "start_time": "2022-06-29T15:33:01.968Z"
   },
   {
    "duration": 24,
    "start_time": "2022-06-29T15:33:01.989Z"
   },
   {
    "duration": 26,
    "start_time": "2022-06-29T15:33:02.014Z"
   },
   {
    "duration": 58,
    "start_time": "2022-06-29T15:33:02.042Z"
   },
   {
    "duration": 36,
    "start_time": "2022-06-29T15:33:02.102Z"
   },
   {
    "duration": 9,
    "start_time": "2022-06-29T15:33:02.140Z"
   },
   {
    "duration": 89,
    "start_time": "2022-06-29T15:33:02.150Z"
   },
   {
    "duration": 51,
    "start_time": "2022-06-29T15:33:02.240Z"
   },
   {
    "duration": 11,
    "start_time": "2022-06-29T15:33:02.292Z"
   },
   {
    "duration": 26,
    "start_time": "2022-06-29T15:33:02.304Z"
   },
   {
    "duration": 20,
    "start_time": "2022-06-29T15:33:02.332Z"
   },
   {
    "duration": 20,
    "start_time": "2022-06-29T15:33:02.353Z"
   },
   {
    "duration": 21,
    "start_time": "2022-06-29T15:33:02.374Z"
   },
   {
    "duration": 49,
    "start_time": "2022-06-29T15:33:02.399Z"
   },
   {
    "duration": 18,
    "start_time": "2022-06-29T15:33:02.450Z"
   },
   {
    "duration": 32,
    "start_time": "2022-06-29T15:33:02.470Z"
   },
   {
    "duration": 11,
    "start_time": "2022-06-29T15:33:02.503Z"
   },
   {
    "duration": 29,
    "start_time": "2022-06-29T15:33:02.515Z"
   },
   {
    "duration": 2,
    "start_time": "2022-06-29T15:33:02.546Z"
   },
   {
    "duration": 18,
    "start_time": "2022-06-29T15:33:02.550Z"
   },
   {
    "duration": 64,
    "start_time": "2022-06-29T15:33:02.570Z"
   },
   {
    "duration": 17,
    "start_time": "2022-06-29T15:33:02.636Z"
   },
   {
    "duration": 34,
    "start_time": "2022-06-29T15:33:02.655Z"
   },
   {
    "duration": 62,
    "start_time": "2022-06-29T15:33:02.691Z"
   },
   {
    "duration": 6,
    "start_time": "2022-06-29T15:33:02.755Z"
   },
   {
    "duration": 29,
    "start_time": "2022-06-29T15:33:02.763Z"
   },
   {
    "duration": 5,
    "start_time": "2022-06-29T15:33:02.794Z"
   },
   {
    "duration": 105,
    "start_time": "2022-06-29T15:33:02.800Z"
   },
   {
    "duration": 85,
    "start_time": "2022-06-29T15:33:02.907Z"
   },
   {
    "duration": 14,
    "start_time": "2022-06-29T15:33:02.993Z"
   },
   {
    "duration": 39,
    "start_time": "2022-06-29T15:33:03.009Z"
   },
   {
    "duration": 4,
    "start_time": "2022-06-29T15:33:03.049Z"
   },
   {
    "duration": 15,
    "start_time": "2022-06-29T15:33:03.054Z"
   },
   {
    "duration": 58,
    "start_time": "2022-06-29T15:33:03.071Z"
   },
   {
    "duration": 45,
    "start_time": "2022-06-29T15:33:03.131Z"
   },
   {
    "duration": 5,
    "start_time": "2022-06-29T15:33:03.177Z"
   },
   {
    "duration": 7,
    "start_time": "2022-06-29T15:33:03.184Z"
   },
   {
    "duration": 56,
    "start_time": "2022-06-29T15:33:03.193Z"
   },
   {
    "duration": 18,
    "start_time": "2022-06-29T15:33:03.251Z"
   },
   {
    "duration": 22,
    "start_time": "2022-06-29T15:33:03.272Z"
   },
   {
    "duration": 9,
    "start_time": "2022-06-29T15:33:03.296Z"
   },
   {
    "duration": 54,
    "start_time": "2022-06-29T15:33:03.307Z"
   },
   {
    "duration": 38,
    "start_time": "2022-06-29T15:33:03.363Z"
   },
   {
    "duration": 3,
    "start_time": "2022-06-29T15:33:03.403Z"
   },
   {
    "duration": 28,
    "start_time": "2022-06-29T15:33:03.407Z"
   },
   {
    "duration": 19,
    "start_time": "2022-06-29T15:33:03.437Z"
   },
   {
    "duration": 32,
    "start_time": "2022-06-29T15:33:03.458Z"
   },
   {
    "duration": 37,
    "start_time": "2022-06-29T15:33:03.492Z"
   },
   {
    "duration": 11,
    "start_time": "2022-06-29T15:33:03.531Z"
   },
   {
    "duration": 41,
    "start_time": "2022-06-29T15:33:03.544Z"
   },
   {
    "duration": 164,
    "start_time": "2022-06-29T15:33:03.586Z"
   },
   {
    "duration": 35,
    "start_time": "2022-06-29T15:33:03.752Z"
   },
   {
    "duration": 41,
    "start_time": "2022-06-29T15:33:03.789Z"
   },
   {
    "duration": 3,
    "start_time": "2022-06-29T15:33:03.832Z"
   },
   {
    "duration": 10,
    "start_time": "2022-06-29T15:33:03.837Z"
   },
   {
    "duration": 449,
    "start_time": "2022-06-29T15:33:03.849Z"
   },
   {
    "duration": 1059,
    "start_time": "2022-06-29T15:33:04.300Z"
   },
   {
    "duration": 52,
    "start_time": "2022-06-29T15:33:05.361Z"
   },
   {
    "duration": 43,
    "start_time": "2022-06-29T15:33:33.274Z"
   },
   {
    "duration": 698,
    "start_time": "2022-06-29T15:33:45.861Z"
   },
   {
    "duration": 12,
    "start_time": "2022-06-29T15:33:52.443Z"
   },
   {
    "duration": 12,
    "start_time": "2022-06-29T15:33:55.738Z"
   },
   {
    "duration": 22,
    "start_time": "2022-06-29T15:34:34.336Z"
   },
   {
    "duration": 11,
    "start_time": "2022-06-29T15:34:41.847Z"
   },
   {
    "duration": 4,
    "start_time": "2022-06-29T15:34:45.810Z"
   },
   {
    "duration": 15,
    "start_time": "2022-06-29T15:34:51.815Z"
   },
   {
    "duration": 9,
    "start_time": "2022-06-29T15:34:54.927Z"
   },
   {
    "duration": 39,
    "start_time": "2022-06-29T15:35:02.628Z"
   },
   {
    "duration": 4,
    "start_time": "2022-06-29T15:35:06.137Z"
   },
   {
    "duration": 149,
    "start_time": "2022-06-29T15:35:11.159Z"
   },
   {
    "duration": 19,
    "start_time": "2022-06-29T15:35:17.023Z"
   },
   {
    "duration": 11,
    "start_time": "2022-06-29T15:35:42.706Z"
   },
   {
    "duration": 4,
    "start_time": "2022-06-29T15:37:43.845Z"
   },
   {
    "duration": 4,
    "start_time": "2022-06-29T15:58:27.955Z"
   },
   {
    "duration": 3,
    "start_time": "2022-06-29T15:59:52.475Z"
   },
   {
    "duration": 830916,
    "start_time": "2022-06-29T16:00:14.623Z"
   },
   {
    "duration": 4,
    "start_time": "2022-06-29T16:15:49.692Z"
   },
   {
    "duration": 4,
    "start_time": "2022-06-29T16:15:55.934Z"
   },
   {
    "duration": 1583,
    "start_time": "2022-06-29T16:17:33.716Z"
   },
   {
    "duration": 2767,
    "start_time": "2022-06-29T16:17:35.301Z"
   },
   {
    "duration": 16,
    "start_time": "2022-06-29T16:17:38.070Z"
   },
   {
    "duration": 11,
    "start_time": "2022-06-29T16:17:38.088Z"
   },
   {
    "duration": 8,
    "start_time": "2022-06-29T16:17:38.101Z"
   },
   {
    "duration": 56,
    "start_time": "2022-06-29T16:17:38.110Z"
   },
   {
    "duration": 105,
    "start_time": "2022-06-29T16:17:38.168Z"
   },
   {
    "duration": 93,
    "start_time": "2022-06-29T16:17:38.275Z"
   },
   {
    "duration": 84,
    "start_time": "2022-06-29T16:17:38.370Z"
   },
   {
    "duration": 443,
    "start_time": "2022-06-29T16:17:38.455Z"
   },
   {
    "duration": 536,
    "start_time": "2022-06-29T16:17:38.900Z"
   },
   {
    "duration": 415,
    "start_time": "2022-06-29T16:17:39.437Z"
   },
   {
    "duration": 106,
    "start_time": "2022-06-29T16:17:39.854Z"
   },
   {
    "duration": 113,
    "start_time": "2022-06-29T16:17:39.964Z"
   },
   {
    "duration": 19,
    "start_time": "2022-06-29T16:17:40.078Z"
   },
   {
    "duration": 31,
    "start_time": "2022-06-29T16:17:40.098Z"
   },
   {
    "duration": 36,
    "start_time": "2022-06-29T16:17:40.130Z"
   },
   {
    "duration": 17,
    "start_time": "2022-06-29T16:17:40.168Z"
   },
   {
    "duration": 93,
    "start_time": "2022-06-29T16:17:40.186Z"
   },
   {
    "duration": 18,
    "start_time": "2022-06-29T16:17:40.280Z"
   },
   {
    "duration": 19,
    "start_time": "2022-06-29T16:17:40.300Z"
   },
   {
    "duration": 88,
    "start_time": "2022-06-29T16:17:40.321Z"
   },
   {
    "duration": 52,
    "start_time": "2022-06-29T16:17:40.411Z"
   },
   {
    "duration": 10,
    "start_time": "2022-06-29T16:17:40.465Z"
   },
   {
    "duration": 24,
    "start_time": "2022-06-29T16:17:40.477Z"
   },
   {
    "duration": 32,
    "start_time": "2022-06-29T16:17:40.503Z"
   },
   {
    "duration": 49,
    "start_time": "2022-06-29T16:17:40.536Z"
   },
   {
    "duration": 29,
    "start_time": "2022-06-29T16:17:40.587Z"
   },
   {
    "duration": 19,
    "start_time": "2022-06-29T16:17:40.618Z"
   },
   {
    "duration": 29,
    "start_time": "2022-06-29T16:17:40.639Z"
   },
   {
    "duration": 25,
    "start_time": "2022-06-29T16:17:40.670Z"
   },
   {
    "duration": 14,
    "start_time": "2022-06-29T16:17:40.697Z"
   },
   {
    "duration": 39,
    "start_time": "2022-06-29T16:17:40.712Z"
   },
   {
    "duration": 2,
    "start_time": "2022-06-29T16:17:40.752Z"
   },
   {
    "duration": 15,
    "start_time": "2022-06-29T16:17:40.756Z"
   },
   {
    "duration": 56,
    "start_time": "2022-06-29T16:17:40.773Z"
   },
   {
    "duration": 17,
    "start_time": "2022-06-29T16:17:40.831Z"
   },
   {
    "duration": 46,
    "start_time": "2022-06-29T16:17:40.850Z"
   },
   {
    "duration": 61,
    "start_time": "2022-06-29T16:17:40.898Z"
   },
   {
    "duration": 5,
    "start_time": "2022-06-29T16:17:40.961Z"
   },
   {
    "duration": 32,
    "start_time": "2022-06-29T16:17:40.970Z"
   },
   {
    "duration": 4,
    "start_time": "2022-06-29T16:17:41.003Z"
   },
   {
    "duration": 82,
    "start_time": "2022-06-29T16:17:41.029Z"
   },
   {
    "duration": 84,
    "start_time": "2022-06-29T16:17:41.128Z"
   },
   {
    "duration": 28,
    "start_time": "2022-06-29T16:17:41.214Z"
   },
   {
    "duration": 32,
    "start_time": "2022-06-29T16:17:41.244Z"
   },
   {
    "duration": 4,
    "start_time": "2022-06-29T16:17:41.277Z"
   },
   {
    "duration": 25,
    "start_time": "2022-06-29T16:17:41.282Z"
   },
   {
    "duration": 75,
    "start_time": "2022-06-29T16:17:41.309Z"
   },
   {
    "duration": 48,
    "start_time": "2022-06-29T16:17:41.386Z"
   },
   {
    "duration": 6,
    "start_time": "2022-06-29T16:17:41.435Z"
   },
   {
    "duration": 19,
    "start_time": "2022-06-29T16:17:41.442Z"
   },
   {
    "duration": 59,
    "start_time": "2022-06-29T16:17:41.463Z"
   },
   {
    "duration": 19,
    "start_time": "2022-06-29T16:17:41.523Z"
   },
   {
    "duration": 22,
    "start_time": "2022-06-29T16:17:41.544Z"
   },
   {
    "duration": 8,
    "start_time": "2022-06-29T16:17:41.568Z"
   },
   {
    "duration": 65,
    "start_time": "2022-06-29T16:17:41.577Z"
   },
   {
    "duration": 42,
    "start_time": "2022-06-29T16:17:41.643Z"
   },
   {
    "duration": 3,
    "start_time": "2022-06-29T16:17:41.687Z"
   },
   {
    "duration": 34,
    "start_time": "2022-06-29T16:17:41.692Z"
   },
   {
    "duration": 28,
    "start_time": "2022-06-29T16:17:41.728Z"
   },
   {
    "duration": 35,
    "start_time": "2022-06-29T16:17:41.757Z"
   },
   {
    "duration": 15,
    "start_time": "2022-06-29T16:17:41.793Z"
   },
   {
    "duration": 37,
    "start_time": "2022-06-29T16:17:41.810Z"
   },
   {
    "duration": 42,
    "start_time": "2022-06-29T16:17:41.849Z"
   },
   {
    "duration": 162,
    "start_time": "2022-06-29T16:17:41.892Z"
   },
   {
    "duration": 44,
    "start_time": "2022-06-29T16:17:42.055Z"
   },
   {
    "duration": 41,
    "start_time": "2022-06-29T16:17:42.101Z"
   },
   {
    "duration": 4,
    "start_time": "2022-06-29T16:17:42.144Z"
   },
   {
    "duration": 23,
    "start_time": "2022-06-29T16:17:42.149Z"
   },
   {
    "duration": 501,
    "start_time": "2022-06-29T16:17:42.173Z"
   },
   {
    "duration": 1288,
    "start_time": "2022-06-29T16:17:42.676Z"
   },
   {
    "duration": 67,
    "start_time": "2022-06-29T16:17:43.966Z"
   },
   {
    "duration": 759,
    "start_time": "2022-06-29T16:17:44.035Z"
   },
   {
    "duration": 16,
    "start_time": "2022-06-29T16:17:44.796Z"
   },
   {
    "duration": 35,
    "start_time": "2022-06-29T16:17:44.813Z"
   },
   {
    "duration": 13,
    "start_time": "2022-06-29T16:17:44.849Z"
   },
   {
    "duration": 4,
    "start_time": "2022-06-29T16:17:44.863Z"
   },
   {
    "duration": 22,
    "start_time": "2022-06-29T16:17:44.869Z"
   },
   {
    "duration": 76,
    "start_time": "2022-06-29T16:17:44.893Z"
   },
   {
    "duration": 4,
    "start_time": "2022-06-29T16:17:44.971Z"
   },
   {
    "duration": 170,
    "start_time": "2022-06-29T16:17:44.976Z"
   },
   {
    "duration": 10,
    "start_time": "2022-06-29T16:17:45.148Z"
   },
   {
    "duration": 3,
    "start_time": "2022-06-29T16:17:45.160Z"
   },
   {
    "duration": 9,
    "start_time": "2022-06-29T16:17:45.165Z"
   },
   {
    "duration": 9,
    "start_time": "2022-06-29T16:17:45.175Z"
   },
   {
    "duration": 134,
    "start_time": "2022-06-29T16:17:45.186Z"
   },
   {
    "duration": 0,
    "start_time": "2022-06-29T16:17:45.322Z"
   },
   {
    "duration": 0,
    "start_time": "2022-06-29T16:17:45.323Z"
   },
   {
    "duration": 0,
    "start_time": "2022-06-29T16:17:45.324Z"
   },
   {
    "duration": 0,
    "start_time": "2022-06-29T16:17:45.324Z"
   },
   {
    "duration": 0,
    "start_time": "2022-06-29T16:17:45.325Z"
   },
   {
    "duration": 0,
    "start_time": "2022-06-29T16:17:45.329Z"
   },
   {
    "duration": 0,
    "start_time": "2022-06-29T16:17:45.330Z"
   },
   {
    "duration": 0,
    "start_time": "2022-06-29T16:17:45.331Z"
   },
   {
    "duration": 0,
    "start_time": "2022-06-29T16:17:45.332Z"
   },
   {
    "duration": 27885,
    "start_time": "2022-06-29T16:18:14.310Z"
   },
   {
    "duration": 113526,
    "start_time": "2022-06-29T16:18:48.536Z"
   },
   {
    "duration": 4,
    "start_time": "2022-06-29T16:21:11.345Z"
   },
   {
    "duration": 4,
    "start_time": "2022-06-29T16:21:38.988Z"
   },
   {
    "duration": 4,
    "start_time": "2022-06-29T16:21:47.493Z"
   },
   {
    "duration": 3,
    "start_time": "2022-06-29T16:22:08.482Z"
   },
   {
    "duration": 4,
    "start_time": "2022-06-29T16:22:27.686Z"
   },
   {
    "duration": 3,
    "start_time": "2022-06-29T16:22:34.580Z"
   },
   {
    "duration": 3,
    "start_time": "2022-06-29T16:22:37.055Z"
   },
   {
    "duration": 3,
    "start_time": "2022-06-29T16:22:56.376Z"
   },
   {
    "duration": 3,
    "start_time": "2022-06-29T16:23:02.371Z"
   },
   {
    "duration": 3,
    "start_time": "2022-06-29T16:23:10.508Z"
   },
   {
    "duration": 3,
    "start_time": "2022-06-29T16:23:48.843Z"
   },
   {
    "duration": 3,
    "start_time": "2022-06-29T16:23:58.590Z"
   },
   {
    "duration": 3,
    "start_time": "2022-06-29T16:24:08.081Z"
   },
   {
    "duration": 3,
    "start_time": "2022-06-29T16:24:32.289Z"
   },
   {
    "duration": 1517,
    "start_time": "2022-06-29T16:24:37.780Z"
   },
   {
    "duration": 344704,
    "start_time": "2022-06-29T16:26:20.128Z"
   },
   {
    "duration": 1401,
    "start_time": "2022-06-29T17:10:57.480Z"
   },
   {
    "duration": 761,
    "start_time": "2022-06-29T17:10:58.883Z"
   },
   {
    "duration": 17,
    "start_time": "2022-06-29T17:10:59.646Z"
   },
   {
    "duration": 2,
    "start_time": "2022-06-29T17:10:59.665Z"
   },
   {
    "duration": 7,
    "start_time": "2022-06-29T17:10:59.669Z"
   },
   {
    "duration": 66,
    "start_time": "2022-06-29T17:10:59.677Z"
   },
   {
    "duration": 112,
    "start_time": "2022-06-29T17:10:59.745Z"
   },
   {
    "duration": 101,
    "start_time": "2022-06-29T17:10:59.859Z"
   },
   {
    "duration": 78,
    "start_time": "2022-06-29T17:10:59.961Z"
   },
   {
    "duration": 457,
    "start_time": "2022-06-29T17:11:00.042Z"
   },
   {
    "duration": 569,
    "start_time": "2022-06-29T17:11:00.501Z"
   },
   {
    "duration": 434,
    "start_time": "2022-06-29T17:11:01.072Z"
   },
   {
    "duration": 113,
    "start_time": "2022-06-29T17:11:01.508Z"
   },
   {
    "duration": 116,
    "start_time": "2022-06-29T17:11:01.623Z"
   },
   {
    "duration": 18,
    "start_time": "2022-06-29T17:11:01.740Z"
   },
   {
    "duration": 23,
    "start_time": "2022-06-29T17:11:01.760Z"
   },
   {
    "duration": 26,
    "start_time": "2022-06-29T17:11:01.785Z"
   },
   {
    "duration": 33,
    "start_time": "2022-06-29T17:11:01.812Z"
   },
   {
    "duration": 71,
    "start_time": "2022-06-29T17:11:01.847Z"
   },
   {
    "duration": 22,
    "start_time": "2022-06-29T17:11:01.920Z"
   },
   {
    "duration": 19,
    "start_time": "2022-06-29T17:11:01.943Z"
   },
   {
    "duration": 84,
    "start_time": "2022-06-29T17:11:01.963Z"
   },
   {
    "duration": 58,
    "start_time": "2022-06-29T17:11:02.049Z"
   },
   {
    "duration": 21,
    "start_time": "2022-06-29T17:11:02.109Z"
   },
   {
    "duration": 4,
    "start_time": "2022-06-29T17:11:02.132Z"
   },
   {
    "duration": 23,
    "start_time": "2022-06-29T17:11:02.138Z"
   },
   {
    "duration": 31,
    "start_time": "2022-06-29T17:11:02.162Z"
   },
   {
    "duration": 37,
    "start_time": "2022-06-29T17:11:02.197Z"
   },
   {
    "duration": 19,
    "start_time": "2022-06-29T17:11:02.236Z"
   },
   {
    "duration": 21,
    "start_time": "2022-06-29T17:11:02.257Z"
   },
   {
    "duration": 20,
    "start_time": "2022-06-29T17:11:02.280Z"
   },
   {
    "duration": 28,
    "start_time": "2022-06-29T17:11:02.301Z"
   },
   {
    "duration": 30,
    "start_time": "2022-06-29T17:11:02.331Z"
   },
   {
    "duration": 3,
    "start_time": "2022-06-29T17:11:02.363Z"
   },
   {
    "duration": 7,
    "start_time": "2022-06-29T17:11:02.367Z"
   },
   {
    "duration": 63,
    "start_time": "2022-06-29T17:11:02.376Z"
   },
   {
    "duration": 18,
    "start_time": "2022-06-29T17:11:02.441Z"
   },
   {
    "duration": 36,
    "start_time": "2022-06-29T17:11:02.461Z"
   },
   {
    "duration": 71,
    "start_time": "2022-06-29T17:11:02.498Z"
   },
   {
    "duration": 6,
    "start_time": "2022-06-29T17:11:02.570Z"
   },
   {
    "duration": 35,
    "start_time": "2022-06-29T17:11:02.577Z"
   },
   {
    "duration": 16,
    "start_time": "2022-06-29T17:11:02.614Z"
   },
   {
    "duration": 97,
    "start_time": "2022-06-29T17:11:02.632Z"
   },
   {
    "duration": 80,
    "start_time": "2022-06-29T17:11:02.732Z"
   },
   {
    "duration": 17,
    "start_time": "2022-06-29T17:11:02.828Z"
   },
   {
    "duration": 27,
    "start_time": "2022-06-29T17:11:02.847Z"
   },
   {
    "duration": 5,
    "start_time": "2022-06-29T17:11:02.875Z"
   },
   {
    "duration": 19,
    "start_time": "2022-06-29T17:11:02.882Z"
   },
   {
    "duration": 62,
    "start_time": "2022-06-29T17:11:02.930Z"
   },
   {
    "duration": 54,
    "start_time": "2022-06-29T17:11:02.994Z"
   },
   {
    "duration": 6,
    "start_time": "2022-06-29T17:11:03.050Z"
   },
   {
    "duration": 8,
    "start_time": "2022-06-29T17:11:03.057Z"
   },
   {
    "duration": 32,
    "start_time": "2022-06-29T17:11:03.066Z"
   },
   {
    "duration": 41,
    "start_time": "2022-06-29T17:11:03.100Z"
   },
   {
    "duration": 24,
    "start_time": "2022-06-29T17:11:03.143Z"
   },
   {
    "duration": 12,
    "start_time": "2022-06-29T17:11:03.169Z"
   },
   {
    "duration": 71,
    "start_time": "2022-06-29T17:11:03.182Z"
   },
   {
    "duration": 43,
    "start_time": "2022-06-29T17:11:03.255Z"
   },
   {
    "duration": 4,
    "start_time": "2022-06-29T17:11:03.300Z"
   },
   {
    "duration": 30,
    "start_time": "2022-06-29T17:11:03.306Z"
   },
   {
    "duration": 20,
    "start_time": "2022-06-29T17:11:03.337Z"
   },
   {
    "duration": 33,
    "start_time": "2022-06-29T17:11:03.358Z"
   },
   {
    "duration": 14,
    "start_time": "2022-06-29T17:11:03.393Z"
   },
   {
    "duration": 13,
    "start_time": "2022-06-29T17:11:03.429Z"
   },
   {
    "duration": 47,
    "start_time": "2022-06-29T17:11:03.443Z"
   },
   {
    "duration": 184,
    "start_time": "2022-06-29T17:11:03.491Z"
   },
   {
    "duration": 41,
    "start_time": "2022-06-29T17:11:03.677Z"
   },
   {
    "duration": 26,
    "start_time": "2022-06-29T17:11:03.730Z"
   },
   {
    "duration": 4,
    "start_time": "2022-06-29T17:11:03.757Z"
   },
   {
    "duration": 13,
    "start_time": "2022-06-29T17:11:03.762Z"
   },
   {
    "duration": 480,
    "start_time": "2022-06-29T17:11:03.776Z"
   },
   {
    "duration": 1229,
    "start_time": "2022-06-29T17:11:04.258Z"
   },
   {
    "duration": 55,
    "start_time": "2022-06-29T17:11:05.489Z"
   },
   {
    "duration": 758,
    "start_time": "2022-06-29T17:11:05.546Z"
   },
   {
    "duration": 14,
    "start_time": "2022-06-29T17:11:06.306Z"
   },
   {
    "duration": 26,
    "start_time": "2022-06-29T17:11:06.328Z"
   },
   {
    "duration": 11,
    "start_time": "2022-06-29T17:11:06.356Z"
   },
   {
    "duration": 3,
    "start_time": "2022-06-29T17:11:06.368Z"
   },
   {
    "duration": 18,
    "start_time": "2022-06-29T17:11:06.373Z"
   },
   {
    "duration": 74,
    "start_time": "2022-06-29T17:11:06.393Z"
   },
   {
    "duration": 4,
    "start_time": "2022-06-29T17:11:06.469Z"
   },
   {
    "duration": 165,
    "start_time": "2022-06-29T17:11:06.478Z"
   },
   {
    "duration": 10,
    "start_time": "2022-06-29T17:11:06.645Z"
   },
   {
    "duration": 4,
    "start_time": "2022-06-29T17:11:06.656Z"
   },
   {
    "duration": 11,
    "start_time": "2022-06-29T17:11:06.661Z"
   },
   {
    "duration": 7,
    "start_time": "2022-06-29T17:11:06.674Z"
   },
   {
    "duration": 8,
    "start_time": "2022-06-29T17:11:06.682Z"
   },
   {
    "duration": 5,
    "start_time": "2022-06-29T17:11:06.691Z"
   },
   {
    "duration": 28275,
    "start_time": "2022-06-29T17:11:06.698Z"
   },
   {
    "duration": 118669,
    "start_time": "2022-06-29T17:11:34.974Z"
   },
   {
    "duration": 5,
    "start_time": "2022-06-29T17:13:33.646Z"
   },
   {
    "duration": 22,
    "start_time": "2022-06-29T17:13:33.662Z"
   },
   {
    "duration": 1697,
    "start_time": "2022-06-29T17:13:33.687Z"
   },
   {
    "duration": 199559,
    "start_time": "2022-06-29T17:13:35.386Z"
   },
   {
    "duration": 602302,
    "start_time": "2022-06-29T17:16:54.952Z"
   },
   {
    "duration": 4,
    "start_time": "2022-06-29T17:26:57.256Z"
   },
   {
    "duration": 585,
    "start_time": "2022-06-29T17:26:57.261Z"
   },
   {
    "duration": 46,
    "start_time": "2022-06-30T06:59:44.919Z"
   },
   {
    "duration": 1791,
    "start_time": "2022-06-30T06:59:57.437Z"
   },
   {
    "duration": 849,
    "start_time": "2022-06-30T06:59:59.230Z"
   },
   {
    "duration": 19,
    "start_time": "2022-06-30T07:00:00.081Z"
   },
   {
    "duration": 9,
    "start_time": "2022-06-30T07:00:00.102Z"
   },
   {
    "duration": 12,
    "start_time": "2022-06-30T07:00:00.112Z"
   },
   {
    "duration": 67,
    "start_time": "2022-06-30T07:00:00.126Z"
   },
   {
    "duration": 126,
    "start_time": "2022-06-30T07:00:00.195Z"
   },
   {
    "duration": 109,
    "start_time": "2022-06-30T07:00:00.323Z"
   },
   {
    "duration": 86,
    "start_time": "2022-06-30T07:00:00.433Z"
   },
   {
    "duration": 464,
    "start_time": "2022-06-30T07:00:00.522Z"
   },
   {
    "duration": 608,
    "start_time": "2022-06-30T07:00:00.988Z"
   },
   {
    "duration": 429,
    "start_time": "2022-06-30T07:00:01.598Z"
   },
   {
    "duration": 101,
    "start_time": "2022-06-30T07:00:02.029Z"
   },
   {
    "duration": 167,
    "start_time": "2022-06-30T07:00:02.132Z"
   },
   {
    "duration": 18,
    "start_time": "2022-06-30T07:00:02.301Z"
   },
   {
    "duration": 58,
    "start_time": "2022-06-30T07:00:02.321Z"
   },
   {
    "duration": 84,
    "start_time": "2022-06-30T07:00:02.381Z"
   },
   {
    "duration": 88,
    "start_time": "2022-06-30T07:00:02.466Z"
   },
   {
    "duration": 156,
    "start_time": "2022-06-30T07:00:02.555Z"
   },
   {
    "duration": 19,
    "start_time": "2022-06-30T07:00:02.713Z"
   },
   {
    "duration": 43,
    "start_time": "2022-06-30T07:00:02.734Z"
   },
   {
    "duration": 117,
    "start_time": "2022-06-30T07:00:02.779Z"
   },
   {
    "duration": 55,
    "start_time": "2022-06-30T07:00:02.897Z"
   },
   {
    "duration": 10,
    "start_time": "2022-06-30T07:00:02.954Z"
   },
   {
    "duration": 15,
    "start_time": "2022-06-30T07:00:02.966Z"
   },
   {
    "duration": 70,
    "start_time": "2022-06-30T07:00:02.982Z"
   },
   {
    "duration": 52,
    "start_time": "2022-06-30T07:00:03.054Z"
   },
   {
    "duration": 38,
    "start_time": "2022-06-30T07:00:03.110Z"
   },
   {
    "duration": 42,
    "start_time": "2022-06-30T07:00:03.150Z"
   },
   {
    "duration": 32,
    "start_time": "2022-06-30T07:00:03.194Z"
   },
   {
    "duration": 39,
    "start_time": "2022-06-30T07:00:03.228Z"
   },
   {
    "duration": 10,
    "start_time": "2022-06-30T07:00:03.269Z"
   },
   {
    "duration": 55,
    "start_time": "2022-06-30T07:00:03.281Z"
   },
   {
    "duration": 21,
    "start_time": "2022-06-30T07:00:03.338Z"
   },
   {
    "duration": 15,
    "start_time": "2022-06-30T07:00:03.360Z"
   },
   {
    "duration": 73,
    "start_time": "2022-06-30T07:00:03.376Z"
   },
   {
    "duration": 17,
    "start_time": "2022-06-30T07:00:03.451Z"
   },
   {
    "duration": 46,
    "start_time": "2022-06-30T07:00:03.470Z"
   },
   {
    "duration": 61,
    "start_time": "2022-06-30T07:00:03.517Z"
   },
   {
    "duration": 5,
    "start_time": "2022-06-30T07:00:03.580Z"
   },
   {
    "duration": 77,
    "start_time": "2022-06-30T07:00:03.586Z"
   },
   {
    "duration": 48,
    "start_time": "2022-06-30T07:00:03.664Z"
   },
   {
    "duration": 95,
    "start_time": "2022-06-30T07:00:03.714Z"
   },
   {
    "duration": 119,
    "start_time": "2022-06-30T07:00:03.811Z"
   },
   {
    "duration": 26,
    "start_time": "2022-06-30T07:00:03.931Z"
   },
   {
    "duration": 26,
    "start_time": "2022-06-30T07:00:03.958Z"
   },
   {
    "duration": 32,
    "start_time": "2022-06-30T07:00:03.986Z"
   },
   {
    "duration": 33,
    "start_time": "2022-06-30T07:00:04.019Z"
   },
   {
    "duration": 70,
    "start_time": "2022-06-30T07:00:04.053Z"
   },
   {
    "duration": 61,
    "start_time": "2022-06-30T07:00:04.125Z"
   },
   {
    "duration": 5,
    "start_time": "2022-06-30T07:00:04.187Z"
   },
   {
    "duration": 25,
    "start_time": "2022-06-30T07:00:04.193Z"
   },
   {
    "duration": 47,
    "start_time": "2022-06-30T07:00:04.220Z"
   },
   {
    "duration": 60,
    "start_time": "2022-06-30T07:00:04.269Z"
   },
   {
    "duration": 23,
    "start_time": "2022-06-30T07:00:04.331Z"
   },
   {
    "duration": 15,
    "start_time": "2022-06-30T07:00:04.356Z"
   },
   {
    "duration": 49,
    "start_time": "2022-06-30T07:00:04.372Z"
   },
   {
    "duration": 41,
    "start_time": "2022-06-30T07:00:04.423Z"
   },
   {
    "duration": 4,
    "start_time": "2022-06-30T07:00:04.466Z"
   },
   {
    "duration": 31,
    "start_time": "2022-06-30T07:00:04.472Z"
   },
   {
    "duration": 26,
    "start_time": "2022-06-30T07:00:04.505Z"
   },
   {
    "duration": 30,
    "start_time": "2022-06-30T07:00:04.532Z"
   },
   {
    "duration": 14,
    "start_time": "2022-06-30T07:00:04.564Z"
   },
   {
    "duration": 25,
    "start_time": "2022-06-30T07:00:04.579Z"
   },
   {
    "duration": 63,
    "start_time": "2022-06-30T07:00:04.605Z"
   },
   {
    "duration": 148,
    "start_time": "2022-06-30T07:00:04.670Z"
   },
   {
    "duration": 43,
    "start_time": "2022-06-30T07:00:04.819Z"
   },
   {
    "duration": 25,
    "start_time": "2022-06-30T07:00:04.864Z"
   },
   {
    "duration": 3,
    "start_time": "2022-06-30T07:00:04.891Z"
   },
   {
    "duration": 22,
    "start_time": "2022-06-30T07:00:04.896Z"
   },
   {
    "duration": 556,
    "start_time": "2022-06-30T07:00:04.920Z"
   },
   {
    "duration": 1222,
    "start_time": "2022-06-30T07:00:05.477Z"
   },
   {
    "duration": 56,
    "start_time": "2022-06-30T07:00:06.700Z"
   },
   {
    "duration": 734,
    "start_time": "2022-06-30T07:00:06.758Z"
   },
   {
    "duration": 14,
    "start_time": "2022-06-30T07:00:07.493Z"
   },
   {
    "duration": 40,
    "start_time": "2022-06-30T07:00:07.509Z"
   },
   {
    "duration": 10,
    "start_time": "2022-06-30T07:00:07.551Z"
   },
   {
    "duration": 22,
    "start_time": "2022-06-30T07:00:07.562Z"
   },
   {
    "duration": 36,
    "start_time": "2022-06-30T07:00:07.585Z"
   },
   {
    "duration": 51,
    "start_time": "2022-06-30T07:00:07.623Z"
   },
   {
    "duration": 4,
    "start_time": "2022-06-30T07:00:07.676Z"
   },
   {
    "duration": 169,
    "start_time": "2022-06-30T07:00:07.684Z"
   },
   {
    "duration": 9,
    "start_time": "2022-06-30T07:00:07.855Z"
   },
   {
    "duration": 16,
    "start_time": "2022-06-30T07:00:23.162Z"
   },
   {
    "duration": 3,
    "start_time": "2022-06-30T07:00:51.862Z"
   },
   {
    "duration": 60083,
    "start_time": "2022-06-30T07:03:09.052Z"
   },
   {
    "duration": 3,
    "start_time": "2022-06-30T07:04:23.466Z"
   },
   {
    "duration": 3,
    "start_time": "2022-06-30T07:04:24.222Z"
   },
   {
    "duration": 4,
    "start_time": "2022-06-30T07:04:44.151Z"
   },
   {
    "duration": 4,
    "start_time": "2022-06-30T07:05:31.675Z"
   },
   {
    "duration": 4,
    "start_time": "2022-06-30T07:06:04.902Z"
   },
   {
    "duration": 1664,
    "start_time": "2022-09-18T21:11:47.544Z"
   },
   {
    "duration": 1153,
    "start_time": "2022-09-18T21:11:49.211Z"
   },
   {
    "duration": 17,
    "start_time": "2022-09-18T21:11:50.366Z"
   },
   {
    "duration": 3,
    "start_time": "2022-09-18T21:11:50.385Z"
   },
   {
    "duration": 7,
    "start_time": "2022-09-18T21:11:50.389Z"
   },
   {
    "duration": 71,
    "start_time": "2022-09-18T21:11:50.397Z"
   },
   {
    "duration": 112,
    "start_time": "2022-09-18T21:11:50.469Z"
   },
   {
    "duration": 94,
    "start_time": "2022-09-18T21:11:50.583Z"
   },
   {
    "duration": 93,
    "start_time": "2022-09-18T21:11:50.679Z"
   },
   {
    "duration": 405,
    "start_time": "2022-09-18T21:11:50.774Z"
   },
   {
    "duration": 479,
    "start_time": "2022-09-18T21:11:51.181Z"
   },
   {
    "duration": 382,
    "start_time": "2022-09-18T21:11:51.662Z"
   },
   {
    "duration": 119,
    "start_time": "2022-09-18T21:11:52.045Z"
   },
   {
    "duration": 124,
    "start_time": "2022-09-18T21:11:52.167Z"
   },
   {
    "duration": 38,
    "start_time": "2022-09-18T21:11:52.292Z"
   },
   {
    "duration": 18,
    "start_time": "2022-09-18T21:11:52.331Z"
   },
   {
    "duration": 20,
    "start_time": "2022-09-18T21:11:52.351Z"
   },
   {
    "duration": 17,
    "start_time": "2022-09-18T21:11:52.373Z"
   },
   {
    "duration": 88,
    "start_time": "2022-09-18T21:11:52.391Z"
   },
   {
    "duration": 20,
    "start_time": "2022-09-18T21:11:52.480Z"
   },
   {
    "duration": 21,
    "start_time": "2022-09-18T21:11:52.509Z"
   },
   {
    "duration": 69,
    "start_time": "2022-09-18T21:11:52.531Z"
   },
   {
    "duration": 49,
    "start_time": "2022-09-18T21:11:52.602Z"
   },
   {
    "duration": 11,
    "start_time": "2022-09-18T21:11:52.653Z"
   },
   {
    "duration": 4,
    "start_time": "2022-09-18T21:11:52.665Z"
   },
   {
    "duration": 54,
    "start_time": "2022-09-18T21:11:52.672Z"
   },
   {
    "duration": 21,
    "start_time": "2022-09-18T21:11:52.728Z"
   },
   {
    "duration": 24,
    "start_time": "2022-09-18T21:11:52.751Z"
   },
   {
    "duration": 19,
    "start_time": "2022-09-18T21:11:52.776Z"
   },
   {
    "duration": 31,
    "start_time": "2022-09-18T21:11:52.797Z"
   },
   {
    "duration": 26,
    "start_time": "2022-09-18T21:11:52.829Z"
   },
   {
    "duration": 4,
    "start_time": "2022-09-18T21:11:52.857Z"
   },
   {
    "duration": 20,
    "start_time": "2022-09-18T21:11:52.863Z"
   },
   {
    "duration": 2,
    "start_time": "2022-09-18T21:11:52.885Z"
   },
   {
    "duration": 6,
    "start_time": "2022-09-18T21:11:52.889Z"
   },
   {
    "duration": 44,
    "start_time": "2022-09-18T21:11:52.911Z"
   },
   {
    "duration": 16,
    "start_time": "2022-09-18T21:11:52.957Z"
   },
   {
    "duration": 40,
    "start_time": "2022-09-18T21:11:52.975Z"
   },
   {
    "duration": 50,
    "start_time": "2022-09-18T21:11:53.016Z"
   },
   {
    "duration": 7,
    "start_time": "2022-09-18T21:11:53.068Z"
   },
   {
    "duration": 63,
    "start_time": "2022-09-18T21:11:53.080Z"
   },
   {
    "duration": 3,
    "start_time": "2022-09-18T21:11:53.145Z"
   },
   {
    "duration": 90,
    "start_time": "2022-09-18T21:11:53.150Z"
   },
   {
    "duration": 86,
    "start_time": "2022-09-18T21:11:53.241Z"
   },
   {
    "duration": 14,
    "start_time": "2022-09-18T21:11:53.328Z"
   },
   {
    "duration": 32,
    "start_time": "2022-09-18T21:11:53.344Z"
   },
   {
    "duration": 4,
    "start_time": "2022-09-18T21:11:53.378Z"
   },
   {
    "duration": 34,
    "start_time": "2022-09-18T21:11:53.383Z"
   },
   {
    "duration": 53,
    "start_time": "2022-09-18T21:11:53.418Z"
   },
   {
    "duration": 34,
    "start_time": "2022-09-18T21:11:53.472Z"
   },
   {
    "duration": 9,
    "start_time": "2022-09-18T21:11:53.515Z"
   },
   {
    "duration": 7,
    "start_time": "2022-09-18T21:11:53.526Z"
   },
   {
    "duration": 40,
    "start_time": "2022-09-18T21:11:53.534Z"
   },
   {
    "duration": 18,
    "start_time": "2022-09-18T21:11:53.575Z"
   },
   {
    "duration": 41,
    "start_time": "2022-09-18T21:11:53.594Z"
   },
   {
    "duration": 8,
    "start_time": "2022-09-18T21:11:53.636Z"
   },
   {
    "duration": 43,
    "start_time": "2022-09-18T21:11:53.645Z"
   },
   {
    "duration": 50,
    "start_time": "2022-09-18T21:11:53.689Z"
   },
   {
    "duration": 4,
    "start_time": "2022-09-18T21:11:53.740Z"
   },
   {
    "duration": 13,
    "start_time": "2022-09-18T21:11:53.745Z"
   },
   {
    "duration": 19,
    "start_time": "2022-09-18T21:11:53.759Z"
   },
   {
    "duration": 50,
    "start_time": "2022-09-18T21:11:53.779Z"
   },
   {
    "duration": 12,
    "start_time": "2022-09-18T21:11:53.830Z"
   },
   {
    "duration": 9,
    "start_time": "2022-09-18T21:11:53.844Z"
   },
   {
    "duration": 33,
    "start_time": "2022-09-18T21:11:53.854Z"
   },
   {
    "duration": 152,
    "start_time": "2022-09-18T21:11:53.909Z"
   },
   {
    "duration": 33,
    "start_time": "2022-09-18T21:11:54.063Z"
   },
   {
    "duration": 38,
    "start_time": "2022-09-18T21:11:54.098Z"
   },
   {
    "duration": 4,
    "start_time": "2022-09-18T21:11:54.137Z"
   },
   {
    "duration": 10,
    "start_time": "2022-09-18T21:11:54.142Z"
   },
   {
    "duration": 477,
    "start_time": "2022-09-18T21:11:54.153Z"
   },
   {
    "duration": 1226,
    "start_time": "2022-09-18T21:11:54.632Z"
   },
   {
    "duration": 67,
    "start_time": "2022-09-18T21:11:55.859Z"
   },
   {
    "duration": 632,
    "start_time": "2022-09-18T21:11:55.928Z"
   },
   {
    "duration": 14,
    "start_time": "2022-09-18T21:11:56.562Z"
   },
   {
    "duration": 37,
    "start_time": "2022-09-18T21:11:56.578Z"
   },
   {
    "duration": 11,
    "start_time": "2022-09-18T21:11:56.616Z"
   },
   {
    "duration": 5,
    "start_time": "2022-09-18T21:11:56.629Z"
   },
   {
    "duration": 17,
    "start_time": "2022-09-18T21:11:56.636Z"
   },
   {
    "duration": 33,
    "start_time": "2022-09-18T21:11:56.654Z"
   },
   {
    "duration": 32,
    "start_time": "2022-09-18T21:11:56.689Z"
   },
   {
    "duration": 147,
    "start_time": "2022-09-18T21:11:56.722Z"
   },
   {
    "duration": 9,
    "start_time": "2022-09-18T21:11:56.871Z"
   },
   {
    "duration": 6,
    "start_time": "2022-09-18T21:11:56.881Z"
   },
   {
    "duration": 5,
    "start_time": "2022-09-18T21:11:56.889Z"
   },
   {
    "duration": 7,
    "start_time": "2022-09-18T21:11:56.895Z"
   },
   {
    "duration": 23,
    "start_time": "2022-09-18T21:11:56.903Z"
   },
   {
    "duration": 4,
    "start_time": "2022-09-18T21:11:56.927Z"
   },
   {
    "duration": 5,
    "start_time": "2022-09-18T21:34:38.534Z"
   },
   {
    "duration": 768,
    "start_time": "2022-09-18T21:34:38.540Z"
   },
   {
    "duration": 19,
    "start_time": "2022-09-18T21:34:39.310Z"
   },
   {
    "duration": 2,
    "start_time": "2022-09-18T21:34:39.330Z"
   },
   {
    "duration": 6,
    "start_time": "2022-09-18T21:34:39.334Z"
   },
   {
    "duration": 22,
    "start_time": "2022-09-18T21:34:39.341Z"
   },
   {
    "duration": 117,
    "start_time": "2022-09-18T21:34:39.364Z"
   },
   {
    "duration": 97,
    "start_time": "2022-09-18T21:34:39.483Z"
   },
   {
    "duration": 81,
    "start_time": "2022-09-18T21:34:39.582Z"
   },
   {
    "duration": 360,
    "start_time": "2022-09-18T21:34:39.664Z"
   },
   {
    "duration": 470,
    "start_time": "2022-09-18T21:34:40.026Z"
   },
   {
    "duration": 354,
    "start_time": "2022-09-18T21:34:40.498Z"
   },
   {
    "duration": 108,
    "start_time": "2022-09-18T21:34:40.853Z"
   },
   {
    "duration": 115,
    "start_time": "2022-09-18T21:34:40.962Z"
   },
   {
    "duration": 19,
    "start_time": "2022-09-18T21:34:41.079Z"
   },
   {
    "duration": 22,
    "start_time": "2022-09-18T21:34:41.109Z"
   },
   {
    "duration": 21,
    "start_time": "2022-09-18T21:34:41.132Z"
   },
   {
    "duration": 17,
    "start_time": "2022-09-18T21:34:41.155Z"
   },
   {
    "duration": 86,
    "start_time": "2022-09-18T21:34:41.174Z"
   },
   {
    "duration": 24,
    "start_time": "2022-09-18T21:34:41.262Z"
   },
   {
    "duration": 10,
    "start_time": "2022-09-18T21:34:41.287Z"
   },
   {
    "duration": 61,
    "start_time": "2022-09-18T21:34:41.315Z"
   },
   {
    "duration": 57,
    "start_time": "2022-09-18T21:34:41.378Z"
   },
   {
    "duration": 10,
    "start_time": "2022-09-18T21:34:41.436Z"
   },
   {
    "duration": 3,
    "start_time": "2022-09-18T21:34:41.447Z"
   },
   {
    "duration": 19,
    "start_time": "2022-09-18T21:34:41.451Z"
   },
   {
    "duration": 16,
    "start_time": "2022-09-18T21:34:41.472Z"
   },
   {
    "duration": 46,
    "start_time": "2022-09-18T21:34:41.489Z"
   },
   {
    "duration": 17,
    "start_time": "2022-09-18T21:34:41.537Z"
   },
   {
    "duration": 20,
    "start_time": "2022-09-18T21:34:41.556Z"
   },
   {
    "duration": 45,
    "start_time": "2022-09-18T21:34:41.577Z"
   },
   {
    "duration": 6,
    "start_time": "2022-09-18T21:34:41.623Z"
   },
   {
    "duration": 32,
    "start_time": "2022-09-18T21:34:41.630Z"
   },
   {
    "duration": 2,
    "start_time": "2022-09-18T21:34:41.663Z"
   },
   {
    "duration": 4,
    "start_time": "2022-09-18T21:34:41.667Z"
   },
   {
    "duration": 56,
    "start_time": "2022-09-18T21:34:41.672Z"
   },
   {
    "duration": 16,
    "start_time": "2022-09-18T21:34:41.730Z"
   },
   {
    "duration": 33,
    "start_time": "2022-09-18T21:34:41.747Z"
   },
   {
    "duration": 58,
    "start_time": "2022-09-18T21:34:41.782Z"
   },
   {
    "duration": 5,
    "start_time": "2022-09-18T21:34:41.841Z"
   },
   {
    "duration": 29,
    "start_time": "2022-09-18T21:34:41.848Z"
   },
   {
    "duration": 3,
    "start_time": "2022-09-18T21:34:41.879Z"
   },
   {
    "duration": 106,
    "start_time": "2022-09-18T21:34:41.884Z"
   },
   {
    "duration": 129,
    "start_time": "2022-09-18T21:34:41.991Z"
   },
   {
    "duration": 19,
    "start_time": "2022-09-18T21:34:42.121Z"
   },
   {
    "duration": 33,
    "start_time": "2022-09-18T21:34:42.142Z"
   },
   {
    "duration": 11,
    "start_time": "2022-09-18T21:34:42.177Z"
   },
   {
    "duration": 32,
    "start_time": "2022-09-18T21:34:42.192Z"
   },
   {
    "duration": 52,
    "start_time": "2022-09-18T21:34:42.226Z"
   },
   {
    "duration": 22,
    "start_time": "2022-09-18T21:34:42.280Z"
   },
   {
    "duration": 16,
    "start_time": "2022-09-18T21:34:42.304Z"
   },
   {
    "duration": 7,
    "start_time": "2022-09-18T21:34:42.322Z"
   },
   {
    "duration": 32,
    "start_time": "2022-09-18T21:34:42.331Z"
   },
   {
    "duration": 18,
    "start_time": "2022-09-18T21:34:42.365Z"
   },
   {
    "duration": 38,
    "start_time": "2022-09-18T21:34:42.384Z"
   },
   {
    "duration": 9,
    "start_time": "2022-09-18T21:34:42.423Z"
   },
   {
    "duration": 33,
    "start_time": "2022-09-18T21:34:42.434Z"
   },
   {
    "duration": 50,
    "start_time": "2022-09-18T21:34:42.469Z"
   },
   {
    "duration": 4,
    "start_time": "2022-09-18T21:34:42.521Z"
   },
   {
    "duration": 11,
    "start_time": "2022-09-18T21:34:42.527Z"
   },
   {
    "duration": 16,
    "start_time": "2022-09-18T21:34:42.540Z"
   },
   {
    "duration": 31,
    "start_time": "2022-09-18T21:34:42.558Z"
   },
   {
    "duration": 37,
    "start_time": "2022-09-18T21:34:42.591Z"
   },
   {
    "duration": 8,
    "start_time": "2022-09-18T21:34:42.631Z"
   },
   {
    "duration": 39,
    "start_time": "2022-09-18T21:34:42.641Z"
   },
   {
    "duration": 147,
    "start_time": "2022-09-18T21:34:42.681Z"
   },
   {
    "duration": 32,
    "start_time": "2022-09-18T21:34:42.830Z"
   },
   {
    "duration": 24,
    "start_time": "2022-09-18T21:34:42.864Z"
   },
   {
    "duration": 32,
    "start_time": "2022-09-18T21:34:42.889Z"
   },
   {
    "duration": 15,
    "start_time": "2022-09-18T21:34:42.924Z"
   },
   {
    "duration": 424,
    "start_time": "2022-09-18T21:34:42.940Z"
   },
   {
    "duration": 1124,
    "start_time": "2022-09-18T21:34:43.366Z"
   },
   {
    "duration": 69,
    "start_time": "2022-09-18T21:34:44.492Z"
   },
   {
    "duration": 637,
    "start_time": "2022-09-18T21:34:44.563Z"
   },
   {
    "duration": 19,
    "start_time": "2022-09-18T21:34:45.202Z"
   },
   {
    "duration": 25,
    "start_time": "2022-09-18T21:34:45.223Z"
   },
   {
    "duration": 11,
    "start_time": "2022-09-18T21:34:45.249Z"
   },
   {
    "duration": 4,
    "start_time": "2022-09-18T21:34:45.262Z"
   },
   {
    "duration": 17,
    "start_time": "2022-09-18T21:34:45.267Z"
   },
   {
    "duration": 55,
    "start_time": "2022-09-18T21:34:45.286Z"
   },
   {
    "duration": 3,
    "start_time": "2022-09-18T21:34:45.343Z"
   },
   {
    "duration": 138,
    "start_time": "2022-09-18T21:34:45.348Z"
   },
   {
    "duration": 8,
    "start_time": "2022-09-18T21:34:45.488Z"
   },
   {
    "duration": 24,
    "start_time": "2022-09-18T21:34:45.497Z"
   },
   {
    "duration": 5,
    "start_time": "2022-09-18T21:34:45.523Z"
   }
  ],
  "colab": {
   "collapsed_sections": [],
   "name": "ml_auto.ipynb",
   "provenance": []
  },
  "kernelspec": {
   "display_name": "Python 3 (ipykernel)",
   "language": "python",
   "name": "python3"
  },
  "language_info": {
   "codemirror_mode": {
    "name": "ipython",
    "version": 3
   },
   "file_extension": ".py",
   "mimetype": "text/x-python",
   "name": "python",
   "nbconvert_exporter": "python",
   "pygments_lexer": "ipython3",
   "version": "3.9.12"
  },
  "toc": {
   "base_numbering": 1,
   "nav_menu": {},
   "number_sections": true,
   "sideBar": true,
   "skip_h1_title": true,
   "title_cell": "Table of Contents",
   "title_sidebar": "Contents",
   "toc_cell": false,
   "toc_position": {
    "height": "calc(100% - 180px)",
    "left": "10px",
    "top": "150px",
    "width": "165px"
   },
   "toc_section_display": true,
   "toc_window_display": false
  }
 },
 "nbformat": 4,
 "nbformat_minor": 1
}
